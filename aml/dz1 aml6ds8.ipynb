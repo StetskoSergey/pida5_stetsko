{
 "cells": [
  {
   "cell_type": "code",
   "execution_count": 1,
   "metadata": {},
   "outputs": [],
   "source": [
    "import pandas as pd\n",
    "import numpy as np\n",
    "import matplotlib.pyplot as plt\n",
    "\n",
    "from tqdm import tqdm_notebook"
   ]
  },
  {
   "cell_type": "code",
   "execution_count": 2,
   "metadata": {},
   "outputs": [],
   "source": [
    "links = pd.read_csv('links.csv')\n",
    "movies = pd.read_csv('movies.csv')\n",
    "ratings = pd.read_csv('ratings.csv')\n",
    "tags = pd.read_csv('tags.csv')"
   ]
  },
  {
   "cell_type": "code",
   "execution_count": 3,
   "metadata": {},
   "outputs": [
    {
     "data": {
      "text/html": [
       "<div>\n",
       "<style scoped>\n",
       "    .dataframe tbody tr th:only-of-type {\n",
       "        vertical-align: middle;\n",
       "    }\n",
       "\n",
       "    .dataframe tbody tr th {\n",
       "        vertical-align: top;\n",
       "    }\n",
       "\n",
       "    .dataframe thead th {\n",
       "        text-align: right;\n",
       "    }\n",
       "</style>\n",
       "<table border=\"1\" class=\"dataframe\">\n",
       "  <thead>\n",
       "    <tr style=\"text-align: right;\">\n",
       "      <th></th>\n",
       "      <th>movieId</th>\n",
       "      <th>imdbId</th>\n",
       "      <th>tmdbId</th>\n",
       "    </tr>\n",
       "  </thead>\n",
       "  <tbody>\n",
       "    <tr>\n",
       "      <th>0</th>\n",
       "      <td>1</td>\n",
       "      <td>114709</td>\n",
       "      <td>862.0</td>\n",
       "    </tr>\n",
       "    <tr>\n",
       "      <th>1</th>\n",
       "      <td>2</td>\n",
       "      <td>113497</td>\n",
       "      <td>8844.0</td>\n",
       "    </tr>\n",
       "    <tr>\n",
       "      <th>2</th>\n",
       "      <td>3</td>\n",
       "      <td>113228</td>\n",
       "      <td>15602.0</td>\n",
       "    </tr>\n",
       "    <tr>\n",
       "      <th>3</th>\n",
       "      <td>4</td>\n",
       "      <td>114885</td>\n",
       "      <td>31357.0</td>\n",
       "    </tr>\n",
       "    <tr>\n",
       "      <th>4</th>\n",
       "      <td>5</td>\n",
       "      <td>113041</td>\n",
       "      <td>11862.0</td>\n",
       "    </tr>\n",
       "  </tbody>\n",
       "</table>\n",
       "</div>"
      ],
      "text/plain": [
       "   movieId  imdbId   tmdbId\n",
       "0        1  114709    862.0\n",
       "1        2  113497   8844.0\n",
       "2        3  113228  15602.0\n",
       "3        4  114885  31357.0\n",
       "4        5  113041  11862.0"
      ]
     },
     "execution_count": 3,
     "metadata": {},
     "output_type": "execute_result"
    }
   ],
   "source": [
    "links.head()"
   ]
  },
  {
   "cell_type": "code",
   "execution_count": 4,
   "metadata": {},
   "outputs": [
    {
     "data": {
      "text/html": [
       "<div>\n",
       "<style scoped>\n",
       "    .dataframe tbody tr th:only-of-type {\n",
       "        vertical-align: middle;\n",
       "    }\n",
       "\n",
       "    .dataframe tbody tr th {\n",
       "        vertical-align: top;\n",
       "    }\n",
       "\n",
       "    .dataframe thead th {\n",
       "        text-align: right;\n",
       "    }\n",
       "</style>\n",
       "<table border=\"1\" class=\"dataframe\">\n",
       "  <thead>\n",
       "    <tr style=\"text-align: right;\">\n",
       "      <th></th>\n",
       "      <th>movieId</th>\n",
       "      <th>title</th>\n",
       "      <th>genres</th>\n",
       "    </tr>\n",
       "  </thead>\n",
       "  <tbody>\n",
       "    <tr>\n",
       "      <th>0</th>\n",
       "      <td>1</td>\n",
       "      <td>Toy Story (1995)</td>\n",
       "      <td>Adventure|Animation|Children|Comedy|Fantasy</td>\n",
       "    </tr>\n",
       "    <tr>\n",
       "      <th>1</th>\n",
       "      <td>2</td>\n",
       "      <td>Jumanji (1995)</td>\n",
       "      <td>Adventure|Children|Fantasy</td>\n",
       "    </tr>\n",
       "    <tr>\n",
       "      <th>2</th>\n",
       "      <td>3</td>\n",
       "      <td>Grumpier Old Men (1995)</td>\n",
       "      <td>Comedy|Romance</td>\n",
       "    </tr>\n",
       "    <tr>\n",
       "      <th>3</th>\n",
       "      <td>4</td>\n",
       "      <td>Waiting to Exhale (1995)</td>\n",
       "      <td>Comedy|Drama|Romance</td>\n",
       "    </tr>\n",
       "    <tr>\n",
       "      <th>4</th>\n",
       "      <td>5</td>\n",
       "      <td>Father of the Bride Part II (1995)</td>\n",
       "      <td>Comedy</td>\n",
       "    </tr>\n",
       "  </tbody>\n",
       "</table>\n",
       "</div>"
      ],
      "text/plain": [
       "   movieId                               title  \\\n",
       "0        1                    Toy Story (1995)   \n",
       "1        2                      Jumanji (1995)   \n",
       "2        3             Grumpier Old Men (1995)   \n",
       "3        4            Waiting to Exhale (1995)   \n",
       "4        5  Father of the Bride Part II (1995)   \n",
       "\n",
       "                                        genres  \n",
       "0  Adventure|Animation|Children|Comedy|Fantasy  \n",
       "1                   Adventure|Children|Fantasy  \n",
       "2                               Comedy|Romance  \n",
       "3                         Comedy|Drama|Romance  \n",
       "4                                       Comedy  "
      ]
     },
     "execution_count": 4,
     "metadata": {},
     "output_type": "execute_result"
    }
   ],
   "source": [
    "movies.head()"
   ]
  },
  {
   "cell_type": "code",
   "execution_count": 5,
   "metadata": {},
   "outputs": [
    {
     "data": {
      "text/html": [
       "<div>\n",
       "<style scoped>\n",
       "    .dataframe tbody tr th:only-of-type {\n",
       "        vertical-align: middle;\n",
       "    }\n",
       "\n",
       "    .dataframe tbody tr th {\n",
       "        vertical-align: top;\n",
       "    }\n",
       "\n",
       "    .dataframe thead th {\n",
       "        text-align: right;\n",
       "    }\n",
       "</style>\n",
       "<table border=\"1\" class=\"dataframe\">\n",
       "  <thead>\n",
       "    <tr style=\"text-align: right;\">\n",
       "      <th></th>\n",
       "      <th>userId</th>\n",
       "      <th>movieId</th>\n",
       "      <th>rating</th>\n",
       "      <th>timestamp</th>\n",
       "    </tr>\n",
       "  </thead>\n",
       "  <tbody>\n",
       "    <tr>\n",
       "      <th>0</th>\n",
       "      <td>1</td>\n",
       "      <td>1</td>\n",
       "      <td>4.0</td>\n",
       "      <td>964982703</td>\n",
       "    </tr>\n",
       "    <tr>\n",
       "      <th>1</th>\n",
       "      <td>1</td>\n",
       "      <td>3</td>\n",
       "      <td>4.0</td>\n",
       "      <td>964981247</td>\n",
       "    </tr>\n",
       "    <tr>\n",
       "      <th>2</th>\n",
       "      <td>1</td>\n",
       "      <td>6</td>\n",
       "      <td>4.0</td>\n",
       "      <td>964982224</td>\n",
       "    </tr>\n",
       "    <tr>\n",
       "      <th>3</th>\n",
       "      <td>1</td>\n",
       "      <td>47</td>\n",
       "      <td>5.0</td>\n",
       "      <td>964983815</td>\n",
       "    </tr>\n",
       "    <tr>\n",
       "      <th>4</th>\n",
       "      <td>1</td>\n",
       "      <td>50</td>\n",
       "      <td>5.0</td>\n",
       "      <td>964982931</td>\n",
       "    </tr>\n",
       "  </tbody>\n",
       "</table>\n",
       "</div>"
      ],
      "text/plain": [
       "   userId  movieId  rating  timestamp\n",
       "0       1        1     4.0  964982703\n",
       "1       1        3     4.0  964981247\n",
       "2       1        6     4.0  964982224\n",
       "3       1       47     5.0  964983815\n",
       "4       1       50     5.0  964982931"
      ]
     },
     "execution_count": 5,
     "metadata": {},
     "output_type": "execute_result"
    }
   ],
   "source": [
    "ratings.head()"
   ]
  },
  {
   "cell_type": "code",
   "execution_count": 6,
   "metadata": {},
   "outputs": [
    {
     "data": {
      "text/html": [
       "<div>\n",
       "<style scoped>\n",
       "    .dataframe tbody tr th:only-of-type {\n",
       "        vertical-align: middle;\n",
       "    }\n",
       "\n",
       "    .dataframe tbody tr th {\n",
       "        vertical-align: top;\n",
       "    }\n",
       "\n",
       "    .dataframe thead th {\n",
       "        text-align: right;\n",
       "    }\n",
       "</style>\n",
       "<table border=\"1\" class=\"dataframe\">\n",
       "  <thead>\n",
       "    <tr style=\"text-align: right;\">\n",
       "      <th></th>\n",
       "      <th>userId</th>\n",
       "      <th>movieId</th>\n",
       "      <th>tag</th>\n",
       "      <th>timestamp</th>\n",
       "    </tr>\n",
       "  </thead>\n",
       "  <tbody>\n",
       "    <tr>\n",
       "      <th>0</th>\n",
       "      <td>2</td>\n",
       "      <td>60756</td>\n",
       "      <td>funny</td>\n",
       "      <td>1445714994</td>\n",
       "    </tr>\n",
       "    <tr>\n",
       "      <th>1</th>\n",
       "      <td>2</td>\n",
       "      <td>60756</td>\n",
       "      <td>Highly quotable</td>\n",
       "      <td>1445714996</td>\n",
       "    </tr>\n",
       "    <tr>\n",
       "      <th>2</th>\n",
       "      <td>2</td>\n",
       "      <td>60756</td>\n",
       "      <td>will ferrell</td>\n",
       "      <td>1445714992</td>\n",
       "    </tr>\n",
       "    <tr>\n",
       "      <th>3</th>\n",
       "      <td>2</td>\n",
       "      <td>89774</td>\n",
       "      <td>Boxing story</td>\n",
       "      <td>1445715207</td>\n",
       "    </tr>\n",
       "    <tr>\n",
       "      <th>4</th>\n",
       "      <td>2</td>\n",
       "      <td>89774</td>\n",
       "      <td>MMA</td>\n",
       "      <td>1445715200</td>\n",
       "    </tr>\n",
       "  </tbody>\n",
       "</table>\n",
       "</div>"
      ],
      "text/plain": [
       "   userId  movieId              tag   timestamp\n",
       "0       2    60756            funny  1445714994\n",
       "1       2    60756  Highly quotable  1445714996\n",
       "2       2    60756     will ferrell  1445714992\n",
       "3       2    89774     Boxing story  1445715207\n",
       "4       2    89774              MMA  1445715200"
      ]
     },
     "execution_count": 6,
     "metadata": {},
     "output_type": "execute_result"
    }
   ],
   "source": [
    "tags.head()"
   ]
  },
  {
   "cell_type": "code",
   "execution_count": 44,
   "metadata": {},
   "outputs": [],
   "source": [
    "# Функци по формированию рейтинга фильмов, с выбором жанра\n",
    "# При параметре use_tag = True выводит рейтинг с учетом тэгов !!!\n",
    "\n",
    "def score(genre, use_tag = False):\n",
    "\n",
    "    movies_g = movies[movies['genres'].str.contains(genre, na=False)]\n",
    "    movies_g.set_index('movieId')\n",
    "    \n",
    "    # соединим таблицу с рейтингами и названиями фильмов\n",
    "    joined_ratings = movies_g.join(ratings.set_index('movieId'), on='movieId')\n",
    "    if use_tag:\n",
    "        joined_ratings = joined_ratings.join(tags.set_index('movieId'), on='movieId', lsuffix='_left', rsuffix='')\n",
    "    \n",
    "    # достанем по каждому фильму количество рейтингов\n",
    "    title_num_ratings = {}\n",
    "\n",
    "    for title, group in tqdm_notebook(joined_ratings.groupby('title')):\n",
    "        title_num_ratings[title] = group.userId.unique().shape[0]\n",
    "    \n",
    "    # считаем средний рейтинг на каждый фильм\n",
    "    title_mean_rating = {}\n",
    "\n",
    "    for title, group in tqdm_notebook(joined_ratings.groupby('title')):\n",
    "        title_mean_rating[title] = group.rating.mean()\n",
    "    \n",
    "    min_num_ratings = np.min([title_num_ratings[f] for f in title_num_ratings.keys()])\n",
    "    max_num_ratings = np.max([title_num_ratings[f] for f in title_num_ratings.keys()])\n",
    "    mean_num_ratings = np.mean([title_num_ratings[f] for f in title_num_ratings.keys()])\n",
    "    median_num_ratings = np.median([title_num_ratings[f] for f in title_num_ratings.keys()])\n",
    "    \n",
    "    film_with_our_mark = {}\n",
    "\n",
    "    # посчитаем нашу метрику для каждого фильма из датасета\n",
    "    for f in title_num_ratings.keys():\n",
    "        film_with_our_mark[f] = title_mean_rating[f] * (title_num_ratings[f] - min_num_ratings) / (max_num_ratings - min_num_ratings)\n",
    "    \n",
    "    film_with_our_mark_list = [(k,film_with_our_mark[k]) for k in film_with_our_mark.keys()]\n",
    "    \n",
    "    return list(sorted(film_with_our_mark_list, key=lambda x: x[1], reverse=True))[:20]\n",
    "\n",
    "    "
   ]
  },
  {
   "cell_type": "code",
   "execution_count": 45,
   "metadata": {},
   "outputs": [
    {
     "data": {
      "application/vnd.jupyter.widget-view+json": {
       "model_id": "7d44249e353b44bdb99f8f729a9bfcc2",
       "version_major": 2,
       "version_minor": 0
      },
      "text/plain": [
       "HBox(children=(IntProgress(value=0, max=3755), HTML(value='')))"
      ]
     },
     "metadata": {},
     "output_type": "display_data"
    },
    {
     "name": "stdout",
     "output_type": "stream",
     "text": [
      "\n"
     ]
    },
    {
     "data": {
      "application/vnd.jupyter.widget-view+json": {
       "model_id": "303f39ab79bb4662b2325f6f632a0a21",
       "version_major": 2,
       "version_minor": 0
      },
      "text/plain": [
       "HBox(children=(IntProgress(value=0, max=3755), HTML(value='')))"
      ]
     },
     "metadata": {},
     "output_type": "display_data"
    },
    {
     "name": "stdout",
     "output_type": "stream",
     "text": [
      "\n"
     ]
    },
    {
     "data": {
      "text/plain": [
       "[('Dr. Strangelove or: How I Learned to Stop Worrying and Love the Bomb (1964)',\n",
       "  4.268041237113402),\n",
       " ('Anchorman: The Legend of Ron Burgundy (2004)', 2.8289473684210527),\n",
       " ('Forrest Gump (1994)', 2.082066869300912),\n",
       " ('Toy Story (1995)', 1.9604651162790698),\n",
       " ('Step Brothers (2008)', 1.7767857142857142),\n",
       " ('Corpse Bride (2005)', 1.7670454545454546),\n",
       " ('Happy Gilmore (1996)', 1.7196969696969697),\n",
       " ('Monty Python and the Holy Grail (1975)', 1.0404411764705883),\n",
       " ('Life Is Beautiful (La Vita è bella) (1997)', 1.0369318181818181),\n",
       " ('Fargo (1996)', 1.0290055248618784),\n",
       " ('Kiss Kiss Bang Bang (2005)', 1.0178571428571428),\n",
       " ('Trainspotting (1996)', 1.0098039215686274),\n",
       " ('Lost in Translation (2003)', 1.008445945945946),\n",
       " ('Three Colors: White (Trzy kolory: Bialy) (1994)', 1.00625),\n",
       " ('This Is Spinal Tap (1984)', 1.003787878787879),\n",
       " ('Finding Nemo (2003)', 0.9902482269503546),\n",
       " ('Big Lebowski, The (1998)', 0.9811320754716981),\n",
       " ('Wolf of Wall Street, The (2013)', 0.9791666666666666),\n",
       " ('Toy Story 2 (1999)', 0.9652061855670103),\n",
       " ('Clerks (1994)', 0.9639423076923077)]"
      ]
     },
     "execution_count": 45,
     "metadata": {},
     "output_type": "execute_result"
    }
   ],
   "source": [
    "score('Comedy', True)"
   ]
  },
  {
   "cell_type": "code",
   "execution_count": 46,
   "metadata": {},
   "outputs": [
    {
     "data": {
      "application/vnd.jupyter.widget-view+json": {
       "model_id": "cbd24c8ec19948058d27961b6d271ea7",
       "version_major": 2,
       "version_minor": 0
      },
      "text/plain": [
       "HBox(children=(IntProgress(value=0, max=1827), HTML(value='')))"
      ]
     },
     "metadata": {},
     "output_type": "display_data"
    },
    {
     "name": "stdout",
     "output_type": "stream",
     "text": [
      "\n"
     ]
    },
    {
     "data": {
      "application/vnd.jupyter.widget-view+json": {
       "model_id": "dc2d7ff1bcc4433d90a9895ec1f82a6c",
       "version_major": 2,
       "version_minor": 0
      },
      "text/plain": [
       "HBox(children=(IntProgress(value=0, max=1827), HTML(value='')))"
      ]
     },
     "metadata": {},
     "output_type": "display_data"
    },
    {
     "name": "stdout",
     "output_type": "stream",
     "text": [
      "\n"
     ]
    },
    {
     "data": {
      "text/plain": [
       "[('Star Wars: Episode IV - A New Hope (1977)', 4.231075697211155),\n",
       " ('Fight Club (1999)', 1.4243119266055047),\n",
       " ('Blade Runner (1982)', 1.3669354838709675),\n",
       " ('Inception (2010)', 1.3554778554778555),\n",
       " ('Matrix, The (1999)', 0.9316546762589929),\n",
       " ('City of God (Cidade de Deus) (2002)', 0.9214814814814815),\n",
       " ('Léon: The Professional (a.k.a. The Professional) (Léon) (1994)',\n",
       "  0.8930659983291562),\n",
       " ('Terminator 2: Judgment Day (1991)', 0.8824404761904762),\n",
       " ('Dark Knight, The (2008)', 0.47091722595078295),\n",
       " ('Star Wars: Episode V - The Empire Strikes Back (1980)',\n",
       "  0.46840442338072674),\n",
       " ('Raiders of the Lost Ark (Indiana Jones and the Raiders of the Lost Ark) (1981)',\n",
       "  0.46749999999999997),\n",
       " ('North by Northwest (1959)', 0.4649122807017544),\n",
       " ('John Wick: Chapter Two (2017)', 0.46031746031746035),\n",
       " ('Lord of the Rings: The Return of the King, The (2003)',\n",
       "  0.45765765765765765),\n",
       " ('Braveheart (1995)', 0.4479606188466948),\n",
       " ('Avengers: Infinity War - Part I (2018)', 0.4444444444444444),\n",
       " ('28 Days Later (2002)', 0.44157088122605365),\n",
       " ('Aliens (1986)', 0.44047619047619047),\n",
       " ('Princess Mononoke (Mononoke-hime) (1997)', 0.4398148148148148),\n",
       " ('Django Unchained (2012)', 0.4381846635367762)]"
      ]
     },
     "execution_count": 46,
     "metadata": {},
     "output_type": "execute_result"
    }
   ],
   "source": [
    "score('Action', True)"
   ]
  },
  {
   "cell_type": "code",
   "execution_count": 47,
   "metadata": {},
   "outputs": [
    {
     "data": {
      "application/vnd.jupyter.widget-view+json": {
       "model_id": "7f1c74b21914478e85395362a38a7ee8",
       "version_major": 2,
       "version_minor": 0
      },
      "text/plain": [
       "HBox(children=(IntProgress(value=0, max=3755), HTML(value='')))"
      ]
     },
     "metadata": {},
     "output_type": "display_data"
    },
    {
     "name": "stdout",
     "output_type": "stream",
     "text": [
      "\n"
     ]
    },
    {
     "data": {
      "application/vnd.jupyter.widget-view+json": {
       "model_id": "142a775053064376b155d223d2a5314e",
       "version_major": 2,
       "version_minor": 0
      },
      "text/plain": [
       "HBox(children=(IntProgress(value=0, max=3755), HTML(value='')))"
      ]
     },
     "metadata": {},
     "output_type": "display_data"
    },
    {
     "name": "stdout",
     "output_type": "stream",
     "text": [
      "\n"
     ]
    },
    {
     "data": {
      "text/plain": [
       "[('Forrest Gump (1994)', 4.164133738601824),\n",
       " ('Aladdin (1992)', 2.104291616686659),\n",
       " ('Back to the Future (1985)', 2.0928719155612607),\n",
       " (\"Amelie (Fabuleux destin d'Amélie Poulain, Le) (2001)\", 1.5177337398373985),\n",
       " ('Ace Ventura: Pet Detective (1994)', 1.4831086199060748),\n",
       " ('Breakfast Club, The (1985)', 1.2903086552989425),\n",
       " ('Big Lebowski, The (1998)', 1.2563276576161988),\n",
       " ('Clerks (1994)', 1.2108055816135084),\n",
       " ('Batman Forever (1995)', 1.2090973829446323),\n",
       " ('Being John Malkovich (1999)', 1.1815410199556542),\n",
       " ('Austin Powers: The Spy Who Shagged Me (1999)', 1.1701269905261036),\n",
       " ('As Good as It Gets (1997)', 1.07104293699187),\n",
       " ('Austin Powers: International Man of Mystery (1997)', 1.0669664634146343),\n",
       " ('American Pie (1999)', 1.0506748756807955),\n",
       " (\"Bug's Life, A (1998)\", 0.9755600477200425),\n",
       " ('Blues Brothers, The (1980)', 0.9639953542392565),\n",
       " ('Blazing Saddles (1974)', 0.731904012588513),\n",
       " ('Bruce Almighty (2003)', 0.7078753005839917),\n",
       " (\"Bridget Jones's Diary (2001)\", 0.7069418386491557),\n",
       " ('Borat: Cultural Learnings of America for Make Benefit Glorious Nation of Kazakhstan (2006)',\n",
       "  0.6529080675422139)]"
      ]
     },
     "execution_count": 47,
     "metadata": {},
     "output_type": "execute_result"
    }
   ],
   "source": [
    "score('Comedy')"
   ]
  },
  {
   "cell_type": "code",
   "execution_count": 48,
   "metadata": {},
   "outputs": [
    {
     "data": {
      "application/vnd.jupyter.widget-view+json": {
       "model_id": "bbae18140b2245c791686db0d1bd77cb",
       "version_major": 2,
       "version_minor": 0
      },
      "text/plain": [
       "HBox(children=(IntProgress(value=0, max=1827), HTML(value='')))"
      ]
     },
     "metadata": {},
     "output_type": "display_data"
    },
    {
     "name": "stdout",
     "output_type": "stream",
     "text": [
      "\n"
     ]
    },
    {
     "data": {
      "application/vnd.jupyter.widget-view+json": {
       "model_id": "c5f89ea4fc7d4096851ad3c71e6d20bf",
       "version_major": 2,
       "version_minor": 0
      },
      "text/plain": [
       "HBox(children=(IntProgress(value=0, max=1827), HTML(value='')))"
      ]
     },
     "metadata": {},
     "output_type": "display_data"
    },
    {
     "name": "stdout",
     "output_type": "stream",
     "text": [
      "\n"
     ]
    },
    {
     "data": {
      "text/plain": [
       "[('Matrix, The (1999)', 4.192446043165468),\n",
       " ('Star Wars: Episode IV - A New Hope (1977)', 3.8186603765443636),\n",
       " ('Braveheart (1995)', 3.434903806607869),\n",
       " ('Fight Club (1999)', 3.3473901235385686),\n",
       " ('Jurassic Park (1993)', 3.2084837545126352),\n",
       " ('Terminator 2: Judgment Day (1991)', 3.19685566013409),\n",
       " ('Star Wars: Episode V - The Empire Strikes Back (1980)', 3.195972419456944),\n",
       " ('Raiders of the Lost Ark (Indiana Jones and the Raiders of the Lost Ark) (1981)',\n",
       "  3.0227166064981947),\n",
       " ('Star Wars: Episode VI - Return of the Jedi (1983)', 2.912860089884329),\n",
       " ('Saving Private Ryan (1998)', 2.7991109148168056),\n",
       " ('Lord of the Rings: The Return of the King, The (2003)', 2.736032783686213),\n",
       " ('Independence Day (a.k.a. ID4) (1996)', 2.5001965900561176),\n",
       " ('Gladiator (2000)', 2.4027500530898283),\n",
       " ('Batman (1989)', 2.3269726663228467),\n",
       " ('Dark Knight, The (2008)', 2.264482833813873),\n",
       " ('True Lies (1994)', 2.2346671804648524),\n",
       " ('Speed (1994)', 2.1659594232271413),\n",
       " ('Princess Bride, The (1987)', 2.154395688208674),\n",
       " ('Inception (2010)', 2.084597712756558),\n",
       " ('Men in Black (a.k.a. MIB) (1997)', 2.065025708347008)]"
      ]
     },
     "execution_count": 48,
     "metadata": {},
     "output_type": "execute_result"
    }
   ],
   "source": [
    "score('Action')"
   ]
  },
  {
   "cell_type": "code",
   "execution_count": null,
   "metadata": {},
   "outputs": [],
   "source": []
  }
 ],
 "metadata": {
  "kernelspec": {
   "display_name": "Python 3",
   "language": "python",
   "name": "python3"
  },
  "language_info": {
   "codemirror_mode": {
    "name": "ipython",
    "version": 3
   },
   "file_extension": ".py",
   "mimetype": "text/x-python",
   "name": "python",
   "nbconvert_exporter": "python",
   "pygments_lexer": "ipython3",
   "version": "3.7.3"
  }
 },
 "nbformat": 4,
 "nbformat_minor": 2
}
