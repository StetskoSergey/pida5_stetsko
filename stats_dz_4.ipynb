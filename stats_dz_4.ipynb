{
  "nbformat": 4,
  "nbformat_minor": 0,
  "metadata": {
    "colab": {
      "name": "dz_4.version2.ipynb",
      "provenance": [],
      "include_colab_link": true
    },
    "kernelspec": {
      "name": "python3",
      "display_name": "Python 3"
    }
  },
  "cells": [
    {
      "cell_type": "markdown",
      "metadata": {
        "id": "view-in-github",
        "colab_type": "text"
      },
      "source": [
        "<a href=\"https://colab.research.google.com/github/StetskoSergey/pida5_stetsko/blob/master/stats_dz_4.ipynb\" target=\"_parent\"><img src=\"https://colab.research.google.com/assets/colab-badge.svg\" alt=\"Open In Colab\"/></a>"
      ]
    },
    {
      "cell_type": "markdown",
      "metadata": {
        "id": "eY5OAxFSfZ9j",
        "colab_type": "text"
      },
      "source": [
        "# Домашняя работа №4"
      ]
    },
    {
      "cell_type": "markdown",
      "metadata": {
        "id": "bozSzxpJfgaR",
        "colab_type": "text"
      },
      "source": [
        "Для датасета kaggle, Credit Card Fraud Detection"
      ]
    },
    {
      "cell_type": "markdown",
      "metadata": {
        "id": "qvuEya_qflkG",
        "colab_type": "text"
      },
      "source": [
        "**1. Загрузить датасет**"
      ]
    },
    {
      "cell_type": "markdown",
      "metadata": {
        "id": "6gSTHiOJfqb2",
        "colab_type": "text"
      },
      "source": [
        "**2. Посмотреть отсутствующие значения (какое количество Nan элементов).**"
      ]
    },
    {
      "cell_type": "markdown",
      "metadata": {
        "id": "OFDGPbTpf7wn",
        "colab_type": "text"
      },
      "source": [
        "**3. Основное таргет значение: 1 - сделка была обманной, 0 - честной. Сделать график barplot для этих двух классов из колонки 'Class'. Посчитать количество элементов в классе 1 и в классе 2.**"
      ]
    },
    {
      "cell_type": "markdown",
      "metadata": {
        "id": "lSsrxdWNhEbt",
        "colab_type": "text"
      },
      "source": [
        "**4. Сколько денег было использовано в обманных операциях, а сколько - в нормальных операциях?** Сделать частотный график по колонке Amount для колонки Class по двум независимым выборкам: обманная операция, нормальная операция"
      ]
    },
    {
      "cell_type": "markdown",
      "metadata": {
        "id": "ZvLC_vQXiP0N",
        "colab_type": "text"
      },
      "source": [
        "**5. Построить графики histograms для всех значений**"
      ]
    },
    {
      "cell_type": "markdown",
      "metadata": {
        "id": "APD2wPSpi_eH",
        "colab_type": "text"
      },
      "source": [
        "**6. Построить матрицу корреляций для всех значений**"
      ]
    },
    {
      "cell_type": "markdown",
      "metadata": {
        "id": "gZwGybULjSUA",
        "colab_type": "text"
      },
      "source": [
        "**7. Выбрать несколько элементов исходя из матрицы корреляций для предсказания таргет значения Class. Построить модель линейной регрессии. Разделить датасет на 80% тренировочных данных и 20% тестовых данных. Для fit метода использовать тренировочные данные, проверить качество модели на тестовых данных. Почему модель дает такой результат?**\n",
        "\n",
        "Для разделения на тренировочный датасет и тестовый датасет можно использовать функцию  из sklearn:\n",
        "\n",
        "from sklearn.cross_validation import train_test_split\n",
        "\n",
        "X_train, X_test, y_train, y_test = train_test_split(X,y,test_size = 0.2, random_state = 0)"
      ]
    },
    {
      "cell_type": "markdown",
      "metadata": {
        "id": "xb79RahXkBlM",
        "colab_type": "text"
      },
      "source": [
        "**8. Чтобы уравновесить датасет по классу Class, выберем одинаковое количество элементов из датасета по классу.** Необходимо посчитать минимальное количество (N) элементов, посчитанное в задаче 3. Выбрать N элементов рандомно из класса, имеющего бОльшее количество элементов, и все элементы из класса имеющего меньшее количество. Таким образом, мы уравновесим датасет по количеству элементов. Смоделировать линейную регрессию на полученном датасете. Посчитать качество модели. Получилось ли улучшить модель? Если да, то засчет чего?"
      ]
    },
    {
      "cell_type": "markdown",
      "metadata": {
        "id": "cTJa7iw7nDh7",
        "colab_type": "text"
      },
      "source": [
        "**9. Построить boxplot графики для 4ех негативно коррелирующих элементов и 4 позитивно коррелирующих элементов для полученного в шаге 8 датасете.** Пример boxplot:\n",
        "\n",
        "sns.boxplot(x=\"Class\", y=\"V17\", data=new_df, palette=colors, ax=axes[0])"
      ]
    },
    {
      "cell_type": "markdown",
      "metadata": {
        "id": "svlba8m_oDDp",
        "colab_type": "text"
      },
      "source": [
        "**10. Из графиков, полученных на предыдущем шаге, убрать выбросы методом выборки элементов из интерквартильного интервала (взять только те элементы, которые находятся квартилем 0.25 и квартилем 0.75).** Посчитать качество модели и сравнить с предыдущим. Получилось ли улучшить модель? Почему?"
      ]
    },
    {
      "cell_type": "code",
      "metadata": {
        "id": "s6L7CnEhfZJ-",
        "colab_type": "code",
        "colab": {}
      },
      "source": [
        ""
      ],
      "execution_count": 0,
      "outputs": []
    }
  ]
}