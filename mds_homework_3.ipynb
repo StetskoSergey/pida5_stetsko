{
  "nbformat": 4,
  "nbformat_minor": 0,
  "metadata": {
    "kernelspec": {
      "display_name": "Python 3",
      "language": "python",
      "name": "python3"
    },
    "language_info": {
      "codemirror_mode": {
        "name": "ipython",
        "version": 3
      },
      "file_extension": ".py",
      "mimetype": "text/x-python",
      "name": "python",
      "nbconvert_exporter": "python",
      "pygments_lexer": "ipython3",
      "version": "3.7.5"
    },
    "colab": {
      "name": "Copy of homework-3.ipynb",
      "provenance": [],
      "collapsed_sections": [],
      "include_colab_link": true
    }
  },
  "cells": [
    {
      "cell_type": "markdown",
      "metadata": {
        "id": "view-in-github",
        "colab_type": "text"
      },
      "source": [
        "<a href=\"https://colab.research.google.com/github/StetskoSergey/pida5_stetsko/blob/master/mds_homework_3.ipynb\" target=\"_parent\"><img src=\"https://colab.research.google.com/assets/colab-badge.svg\" alt=\"Open In Colab\"/></a>"
      ]
    },
    {
      "cell_type": "code",
      "metadata": {
        "id": "Lhul6Ou4AFCx",
        "colab_type": "code",
        "colab": {}
      },
      "source": [
        "import numpy as np\n",
        "import pylab as pl\n",
        "import warnings\n",
        "\n",
        "from matplotlib import pyplot as plt\n",
        "from scipy import linalg\n",
        "from sklearn.datasets import load_digits\n",
        "from sklearn.decomposition import TruncatedSVD\n",
        "from sklearn.ensemble import RandomForestClassifier\n",
        "warnings.filterwarnings(\"ignore\")"
      ],
      "execution_count": 0,
      "outputs": []
    },
    {
      "cell_type": "markdown",
      "metadata": {
        "id": "-jfKUtNe_jNB",
        "colab_type": "text"
      },
      "source": [
        "### Задание 1:"
      ]
    },
    {
      "cell_type": "markdown",
      "metadata": {
        "id": "tL0sp5ME_jND",
        "colab_type": "text"
      },
      "source": [
        "Придумайте матрицы, которые обладают следующими свойствами:"
      ]
    },
    {
      "cell_type": "markdown",
      "metadata": {
        "id": "VmqnYKnv_jNE",
        "colab_type": "text"
      },
      "source": [
        "a) диагональная, ортогональная, но не единичная(!):\n",
        "\n",
        "b) верхнетреугольная, ортогональная:\n",
        "\n",
        "c) нижнетреугольная, ортогональная: \n",
        "\n",
        "d) матрица, у которой определитель = 1, и все элементы не равны 0:\n",
        "\n",
        "e) матрица (3x3), у которой определитель = 1:"
      ]
    },
    {
      "cell_type": "markdown",
      "metadata": {
        "id": "uOa0plJuDDVN",
        "colab_type": "text"
      },
      "source": [
        "Ортогона́льная ма́трица — квадратная матрица A с вещественными элементами, результат умножения которой на транспонированную матрицу A\n",
        " равен единичной матрице:\n",
        "\n",
        "AA^=A^A=E\n",
        "\n",
        "\n"
      ]
    },
    {
      "cell_type": "markdown",
      "metadata": {
        "id": "58goP5Qg_jNF",
        "colab_type": "text"
      },
      "source": [
        "P.S. Во всех пунктах ответом должна быть ненулевая матрица размерности не менее 2!"
      ]
    },
    {
      "cell_type": "code",
      "metadata": {
        "id": "EjoQMSirDZ7D",
        "colab_type": "code",
        "outputId": "8caabebe-2784-4605-98fb-d8224b1a25c2",
        "colab": {
          "base_uri": "https://localhost:8080/",
          "height": 67
        }
      },
      "source": [
        "A = np.diag([-1,-1,-1])\n",
        "np.dot(A, np.transpose(A))"
      ],
      "execution_count": 7,
      "outputs": [
        {
          "output_type": "execute_result",
          "data": {
            "text/plain": [
              "array([[1, 0, 0],\n",
              "       [0, 1, 0],\n",
              "       [0, 0, 1]])"
            ]
          },
          "metadata": {
            "tags": []
          },
          "execution_count": 7
        }
      ]
    },
    {
      "cell_type": "code",
      "metadata": {
        "id": "d2b7OwQvEPFv",
        "colab_type": "code",
        "outputId": "5ea7a66a-966d-412d-bb00-99c20509222c",
        "colab": {
          "base_uri": "https://localhost:8080/",
          "height": 118
        }
      },
      "source": [
        "A = np.triu([[1, -1, 0],[0,1, 1], [0, 0, 1]], 0)\n",
        "print(A)\n",
        "np.dot(A, np.transpose(A))"
      ],
      "execution_count": 2,
      "outputs": [
        {
          "output_type": "stream",
          "text": [
            "[[ 1 -1  0]\n",
            " [ 0  1  1]\n",
            " [ 0  0  1]]\n"
          ],
          "name": "stdout"
        },
        {
          "output_type": "execute_result",
          "data": {
            "text/plain": [
              "array([[ 2, -1,  0],\n",
              "       [-1,  2,  1],\n",
              "       [ 0,  1,  1]])"
            ]
          },
          "metadata": {
            "tags": []
          },
          "execution_count": 2
        }
      ]
    },
    {
      "cell_type": "markdown",
      "metadata": {
        "id": "ZmuGo_pbKNvH",
        "colab_type": "text"
      },
      "source": [
        "Верхне треугольной и Нижнетреугольной ортогональной матрицы построить нельзя, так как элементы не могут дать 0 на боковых гранях при умножении. Транспонированная верхнетреугольная матрица дает - нижнетреугольную матрицу."
      ]
    },
    {
      "cell_type": "code",
      "metadata": {
        "id": "LtUIXBtPFDmc",
        "colab_type": "code",
        "outputId": "dd7072c3-81ac-41bb-c49d-ed5c528d5f0d",
        "colab": {
          "base_uri": "https://localhost:8080/",
          "height": 84
        }
      },
      "source": [
        "m = np.array([[1, 2, 1], [1, 1, 4], [2, 3, 4]], dtype=np.float32)\n",
        "det = np.linalg.det(m)\n",
        "print(m)\n",
        "print(det)"
      ],
      "execution_count": 0,
      "outputs": [
        {
          "output_type": "stream",
          "text": [
            "[[1. 2. 1.]\n",
            " [1. 1. 4.]\n",
            " [2. 3. 4.]]\n",
            "1.0\n"
          ],
          "name": "stdout"
        }
      ]
    },
    {
      "cell_type": "markdown",
      "metadata": {
        "id": "CRO-C8Oz_jNG",
        "colab_type": "text"
      },
      "source": [
        "### Задание 2:"
      ]
    },
    {
      "cell_type": "markdown",
      "metadata": {
        "id": "cjr3rKyc_jNG",
        "colab_type": "text"
      },
      "source": [
        "Найдите собственные значения и собственные вектора матриц (необходимо решение на numpy и честное решение на бумаге:)"
      ]
    },
    {
      "cell_type": "code",
      "metadata": {
        "id": "snRnABbr_jNH",
        "colab_type": "code",
        "outputId": "9687f3f9-46b1-4b86-ca95-5c3c1106fe46",
        "colab": {
          "base_uri": "https://localhost:8080/",
          "height": 50
        }
      },
      "source": [
        "m = np.array([[2, 2],\n",
        "              [1, 3]])\n",
        "print(m)"
      ],
      "execution_count": 30,
      "outputs": [
        {
          "output_type": "stream",
          "text": [
            "[[2 2]\n",
            " [1 3]]\n"
          ],
          "name": "stdout"
        }
      ]
    },
    {
      "cell_type": "code",
      "metadata": {
        "id": "pZRksScDMudK",
        "colab_type": "code",
        "colab": {
          "base_uri": "https://localhost:8080/",
          "height": 84
        },
        "outputId": "4643a629-ea99-483b-d40f-50914c7f3576"
      },
      "source": [
        "w, v = np.linalg.eig(m)\n",
        "\n",
        "for i in range(len(w)):\n",
        "    print(\"Собственное значение \" + str(w[i]))\n",
        "    print(\"соответствующий ему собственный вектор \" + str(np.transpose(v)[i]))"
      ],
      "execution_count": 31,
      "outputs": [
        {
          "output_type": "stream",
          "text": [
            "Собственное значение 1.0\n",
            "соответствующий ему собственный вектор [-0.89442719  0.4472136 ]\n",
            "Собственное значение 4.0\n",
            "соответствующий ему собственный вектор [-0.70710678 -0.70710678]\n"
          ],
          "name": "stdout"
        }
      ]
    },
    {
      "cell_type": "markdown",
      "metadata": {
        "id": "xqfDhMYdM_Lv",
        "colab_type": "text"
      },
      "source": [
        "det ( 2-l, 2, 1, 3 - l) = 0\n",
        "\n",
        "(2-l)(3-l) - 2 = 0\n",
        "\n",
        "l^2 -5l + 4 = 0\n",
        "\n",
        "корни 1 и 4\n",
        "\n",
        "собственные вектора\n",
        "( x + 2y = 0 )\n",
        "( x - y  =0 ) \n",
        "\n",
        "( 2, -1) ( 1 1 )"
      ]
    },
    {
      "cell_type": "markdown",
      "metadata": {
        "id": "Z5XzeQl__jNL",
        "colab_type": "text"
      },
      "source": [
        "Для данного примера в честном решении можно \"угадать\" корни многочлена 3-ей степени, посмотрев на решение на numpy"
      ]
    },
    {
      "cell_type": "code",
      "metadata": {
        "id": "cgEAPbgs_jNL",
        "colab_type": "code",
        "outputId": "100d1cfd-c69d-4220-f370-bb5e1f91cb9b",
        "colab": {
          "base_uri": "https://localhost:8080/",
          "height": 67
        }
      },
      "source": [
        "m = np.array([[4, 1, -1],\n",
        "              [1, 4, -1],\n",
        "              [-1, -1, 4]])\n",
        "print(m)"
      ],
      "execution_count": 8,
      "outputs": [
        {
          "output_type": "stream",
          "text": [
            "[[ 4  1 -1]\n",
            " [ 1  4 -1]\n",
            " [-1 -1  4]]\n"
          ],
          "name": "stdout"
        }
      ]
    },
    {
      "cell_type": "code",
      "metadata": {
        "id": "WrVf-CE5Vdni",
        "colab_type": "code",
        "colab": {
          "base_uri": "https://localhost:8080/",
          "height": 118
        },
        "outputId": "91c5449d-2219-4def-d272-524c3cc439e6"
      },
      "source": [
        "w, v = np.linalg.eig(m)\n",
        "\n",
        "for i in range(len(w)):\n",
        "    print(\"Собственное значение \" + str(w[i]))\n",
        "    print(\"соответствующий ему собственный вектор \" + str(np.transpose(v)[i]))"
      ],
      "execution_count": 10,
      "outputs": [
        {
          "output_type": "stream",
          "text": [
            "Собственное значение 5.999999999999998\n",
            "соответствующий ему собственный вектор [-0.57735027 -0.57735027  0.57735027]\n",
            "Собственное значение 2.9999999999999982\n",
            "соответствующий ему собственный вектор [-0.81649658  0.40824829 -0.40824829]\n",
            "Собственное значение 2.9999999999999996\n",
            "соответствующий ему собственный вектор [0.15430335 0.6172134  0.77151675]\n"
          ],
          "name": "stdout"
        }
      ]
    },
    {
      "cell_type": "markdown",
      "metadata": {
        "id": "xa-vN-7YQ3oK",
        "colab_type": "text"
      },
      "source": [
        "4x + y -z = l x\n",
        "\n",
        "x +4y -z = l y\n",
        "\n",
        "-x - y +4 z = l z\n",
        "\n",
        "выражаем в первых двух уровнениях x через y\n",
        "\n",
        "(3 - l) x = (3- l) y\n",
        "\n",
        "(3 - l) y = (3 - l) z\n",
        "\n",
        "откуда собственный вектор x = y = z и l любая \n",
        "или l = 3 тогда x + y -z = 0 \n",
        "и собственные вектора ( -2  1 -1 ), ( 1 5.5 6.5 ) \n",
        "\n"
      ]
    },
    {
      "cell_type": "markdown",
      "metadata": {
        "id": "C74pezRV_jNO",
        "colab_type": "text"
      },
      "source": [
        "### Задание 3:"
      ]
    },
    {
      "cell_type": "markdown",
      "metadata": {
        "id": "QI7rfjFM_jNO",
        "colab_type": "text"
      },
      "source": [
        "Найдите спектральное разложение матрицы (честное решение на бумаге и на numpy)"
      ]
    },
    {
      "cell_type": "code",
      "metadata": {
        "id": "ITPgXR2W_jNP",
        "colab_type": "code",
        "outputId": "9f8eda27-bd5b-4817-9283-ecda1161767a",
        "colab": {
          "base_uri": "https://localhost:8080/",
          "height": 50
        }
      },
      "source": [
        "m = np.array([[1, 2],\n",
        "              [2,3]])\n",
        "print(m)"
      ],
      "execution_count": 14,
      "outputs": [
        {
          "output_type": "stream",
          "text": [
            "[[1 2]\n",
            " [2 3]]\n"
          ],
          "name": "stdout"
        }
      ]
    },
    {
      "cell_type": "code",
      "metadata": {
        "id": "8jed0ms8Wm0w",
        "colab_type": "code",
        "colab": {
          "base_uri": "https://localhost:8080/",
          "height": 134
        },
        "outputId": "ea131d9c-1dc9-4e9b-8db3-a327a06e1972"
      },
      "source": [
        "u, s, vh = np.linalg.svd(m, full_matrices=True)\n",
        "print('Eigenvalues:')\n",
        "print(np.diag(s))\n",
        "print('\\nEigenvectors:')\n",
        "print(u)"
      ],
      "execution_count": 22,
      "outputs": [
        {
          "output_type": "stream",
          "text": [
            "Eigenvalues:\n",
            "[[4.23606798 0.        ]\n",
            " [0.         0.23606798]]\n",
            "\n",
            "Eigenvectors:\n",
            "[[-0.52573111 -0.85065081]\n",
            " [-0.85065081  0.52573111]]\n"
          ],
          "name": "stdout"
        }
      ]
    },
    {
      "cell_type": "code",
      "metadata": {
        "id": "FL2v6_YbWwHn",
        "colab_type": "code",
        "colab": {
          "base_uri": "https://localhost:8080/",
          "height": 50
        },
        "outputId": "6e1f01a1-6a74-4e23-ed12-5b6f40fb129a"
      },
      "source": [
        "print(np.dot(u, np.dot(np.diag(s), vh)))"
      ],
      "execution_count": 26,
      "outputs": [
        {
          "output_type": "stream",
          "text": [
            "[[1. 2.]\n",
            " [2. 3.]]\n"
          ],
          "name": "stdout"
        }
      ]
    },
    {
      "cell_type": "markdown",
      "metadata": {
        "id": "C4vg_YK_adp4",
        "colab_type": "text"
      },
      "source": [
        "\n",
        "столбцы матрицы U являются собственными векторами матрицы AA^T\n",
        "\n",
        "матрица AA^T\n",
        "(5 8)\n",
        "\n",
        "(8 13)\n",
        "\n",
        "собственные вектора\n",
        "\n",
        "(5-l)x + 8y = 0\n",
        "8x + (13 - l) y = 0\n",
        "1- 18l +l^2 = 0\n",
        "\n",
        "l = 0,055 l = 17,94\n",
        "\n",
        "собственные вектора - (-0,52 -0,85), (-0,85 0,52 )\n",
        "\n",
        "квадраты сингулярных чисел являются ее собственными числами, значит берем корни от собсвенных числел, получаем диагональную матрицу\n",
        "\n",
        "(0,234 4,23)\n"
      ]
    },
    {
      "cell_type": "markdown",
      "metadata": {
        "id": "siY3IejW_jNR",
        "colab_type": "text"
      },
      "source": [
        "### Задание 4:"
      ]
    },
    {
      "cell_type": "markdown",
      "metadata": {
        "id": "qRQ5svOk_jNS",
        "colab_type": "text"
      },
      "source": [
        "Для примера из лекции постройте график зависимости oob_score RandomForestClassifier от количества компонент при сжатии с помощью SVD"
      ]
    },
    {
      "cell_type": "code",
      "metadata": {
        "id": "iMDFoKRw_jNS",
        "colab_type": "code",
        "colab": {}
      },
      "source": [
        "import numpy as np\n",
        "import pylab as pl\n",
        "import warnings\n",
        "\n",
        "from matplotlib import pyplot as plt\n",
        "from scipy import linalg\n",
        "from sklearn.datasets import load_digits\n",
        "from sklearn.decomposition import TruncatedSVD\n",
        "from sklearn.ensemble import RandomForestClassifier\n",
        "warnings.filterwarnings(\"ignore\")"
      ],
      "execution_count": 0,
      "outputs": []
    },
    {
      "cell_type": "code",
      "metadata": {
        "id": "YyAfIJt7_jNU",
        "colab_type": "code",
        "colab": {}
      },
      "source": [
        "float_formatter = lambda x: \"%.2f\" % x\n",
        "np.set_printoptions(formatter={'float_kind':float_formatter})"
      ],
      "execution_count": 0,
      "outputs": []
    },
    {
      "cell_type": "code",
      "metadata": {
        "id": "f-Aos03c_jNW",
        "colab_type": "code",
        "colab": {}
      },
      "source": [
        "X, y = load_digits(return_X_y=True)"
      ],
      "execution_count": 0,
      "outputs": []
    },
    {
      "cell_type": "code",
      "metadata": {
        "id": "U_62Bv4t_jNY",
        "colab_type": "code",
        "outputId": "3131397c-fed1-429b-f6c6-d1d776a0ca4e",
        "colab": {
          "base_uri": "https://localhost:8080/",
          "height": 50
        }
      },
      "source": [
        "print(X.shape)\n",
        "print(y.shape)"
      ],
      "execution_count": 35,
      "outputs": [
        {
          "output_type": "stream",
          "text": [
            "(1797, 64)\n",
            "(1797,)\n"
          ],
          "name": "stdout"
        }
      ]
    },
    {
      "cell_type": "code",
      "metadata": {
        "id": "punyOXbM_jNa",
        "colab_type": "code",
        "outputId": "b68f51b9-fd80-4a78-fd1e-fa825429369d",
        "colab": {
          "base_uri": "https://localhost:8080/",
          "height": 275
        }
      },
      "source": [
        "image = X[0]\n",
        "image = image.reshape((8, 8))\n",
        "plt.matshow(image, cmap = 'gray')\n",
        "plt.show()"
      ],
      "execution_count": 46,
      "outputs": [
        {
          "output_type": "display_data",
          "data": {
            "image/png": "[encoded data removed]",
            "text/plain": [
              "<Figure size 288x288 with 1 Axes>"
            ]
          },
          "metadata": {
            "tags": []
          }
        }
      ]
    },
    {
      "cell_type": "code",
      "metadata": {
        "id": "owe-FhXX_jNd",
        "colab_type": "code",
        "colab": {}
      },
      "source": [
        "def TruncClassifier(n_components=5):\n",
        "  svd = TruncatedSVD(n_components = n_components)\n",
        "  X_reduced = svd.fit_transform(X)\n",
        "  #svd.explained_variance_ratio_.sum()\n",
        "  rf_reduced = RandomForestClassifier(oob_score=True)\n",
        "  rf_reduced.fit(X_reduced, y)\n",
        "  return rf_reduced.oob_score_"
      ],
      "execution_count": 0,
      "outputs": []
    },
    {
      "cell_type": "code",
      "metadata": {
        "id": "edg4QnSp_jNf",
        "colab_type": "code",
        "outputId": "e80ea8e8-8288-4609-9d62-02f0f6471be6",
        "colab": {
          "base_uri": "https://localhost:8080/",
          "height": 34
        }
      },
      "source": [
        "TruncClassifier()"
      ],
      "execution_count": 50,
      "outputs": [
        {
          "output_type": "execute_result",
          "data": {
            "text/plain": [
              "0.8074568725653868"
            ]
          },
          "metadata": {
            "tags": []
          },
          "execution_count": 50
        }
      ]
    },
    {
      "cell_type": "code",
      "metadata": {
        "id": "FkZjDg6iiXNl",
        "colab_type": "code",
        "colab": {
          "base_uri": "https://localhost:8080/",
          "height": 265
        },
        "outputId": "ad9026e9-44ab-4708-a0e2-ab615ab6b4f8"
      },
      "source": [
        "plt.plot([TruncClassifier(n_components=i) for i in range(1,X.shape[1])])\n",
        "plt.show()"
      ],
      "execution_count": 61,
      "outputs": [
        {
          "output_type": "display_data",
          "data": {
            "image/png": "[encoded data removed]",
            "text/plain": [
              "<Figure size 432x288 with 1 Axes>"
            ]
          },
          "metadata": {
            "tags": []
          }
        }
      ]
    },
    {
      "cell_type": "markdown",
      "metadata": {
        "id": "SGqJbzn3ouu3",
        "colab_type": "text"
      },
      "source": [
        "оптимальное значние размера матрицы приближения - 10\n"
      ]
    },
    {
      "cell_type": "code",
      "metadata": {
        "id": "FT7ixh7j_jNh",
        "colab_type": "code",
        "colab": {}
      },
      "source": [
        ""
      ],
      "execution_count": 0,
      "outputs": []
    }
  ]
}