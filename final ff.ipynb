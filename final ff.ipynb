{
  "nbformat": 4,
  "nbformat_minor": 0,
  "metadata": {
    "colab": {
      "name": "Untitled7.ipynb",
      "provenance": [],
      "collapsed_sections": [],
      "toc_visible": true,
      "include_colab_link": true
    },
    "kernelspec": {
      "name": "python3",
      "display_name": "Python 3"
    }
  },
  "cells": [
    {
      "cell_type": "markdown",
      "metadata": {
        "id": "view-in-github",
        "colab_type": "text"
      },
      "source": [
        "<a href=\"https://colab.research.google.com/github/StetskoSergey/pida5_stetsko/blob/master/final%20ff.ipynb\" target=\"_parent\"><img src=\"https://colab.research.google.com/assets/colab-badge.svg\" alt=\"Open In Colab\"/></a>"
      ]
    },
    {
      "cell_type": "markdown",
      "metadata": {
        "id": "uXxU165USd57",
        "colab_type": "text"
      },
      "source": [
        "Итоговая работа\n",
        "=====================\n",
        "\n",
        "Поздравляю вас, теперь вы вооружены знаниями по предобработке данных, и пора применить их на интересном кейсе.\n",
        "\n",
        "Представлены данные такси, по которым мы должны предсказать возьмёт ли таксист заказ или нет(driver_response).\n",
        "\n",
        "Принципы вы знаете, чек-лист аналогичен лабораторной работе.\n",
        "\n",
        "Чек-лист:\n",
        "1. Загрузите датасет taxi.csv.\n",
        "2. Посмотрите на данные. Отобразите общую информацию по признакам (вспомните о describe и info). Напишите в markdown свои наблюдения.\n",
        "3. Выявите пропуски, а также возможные причины их возникновения. Решите, что следует сделать с ними. Напишите в markdown свои наблюдения.\n",
        "4. Оцените зависимости переменных между собой. Используйте корреляции. Будет хорошо, если воспользуетесь profile_report. Напишите в markdown свои наблюдения.\n",
        "5. Определите стратегию преобразования категориальных признаков (т.е. как их сделать адекватными для моделей).\n",
        "6. Найдите признаки, которые можно разделить на другие, или преобразовать в другой тип данных. Удалите лишние, при необходимости.\n",
        "7. Разделите выборку на обучаемую и тестовую.\n",
        "8. Обучите модель. Напишите в markdown свои наблюдения по полученным результатам. Хорошие результаты дают классификаторы RandomForest и XGBoost\n",
        "\n",
        "Если возникнут затруднения, то смотрите на материал практических занятий. Данного там должно хватить для выполнения всех пунктов. Желаю успеха!"
      ]
    },
    {
      "cell_type": "code",
      "metadata": {
        "id": "OKb3VHXySckq",
        "colab_type": "code",
        "colab": {}
      },
      "source": [
        "import pandas as pd\n",
        "import numpy as np\n",
        "import seaborn as sns\n",
        "import sys\n",
        "from math import sqrt\n",
        "from sklearn.metrics import mean_squared_error, mean_absolute_error, r2_score\n",
        "from sklearn.metrics import accuracy_score\n",
        "from sklearn.model_selection import train_test_split\n",
        "from sklearn.preprocessing import MinMaxScaler\n",
        "import pandas_profiling\n",
        "from sklearn import preprocessing\n",
        "\n",
        "from matplotlib import pyplot as plt"
      ],
      "execution_count": 0,
      "outputs": []
    },
    {
      "cell_type": "code",
      "metadata": {
        "id": "hga37xS1Stdf",
        "colab_type": "code",
        "colab": {
          "base_uri": "https://localhost:8080/",
          "height": 215
        },
        "outputId": "0ce57c5c-1243-4531-d0b1-d44bcc8d2e8c"
      },
      "source": [
        "data = pd.read_csv('taxi.csv')\n",
        "list_c = data.columns\n",
        "data.head()"
      ],
      "execution_count": 5,
      "outputs": [
        {
          "output_type": "execute_result",
          "data": {
            "text/html": [
              "<div>\n",
              "<style scoped>\n",
              "    .dataframe tbody tr th:only-of-type {\n",
              "        vertical-align: middle;\n",
              "    }\n",
              "\n",
              "    .dataframe tbody tr th {\n",
              "        vertical-align: top;\n",
              "    }\n",
              "\n",
              "    .dataframe thead th {\n",
              "        text-align: right;\n",
              "    }\n",
              "</style>\n",
              "<table border=\"1\" class=\"dataframe\">\n",
              "  <thead>\n",
              "    <tr style=\"text-align: right;\">\n",
              "      <th></th>\n",
              "      <th>offer_gk</th>\n",
              "      <th>weekday_key</th>\n",
              "      <th>hour_key</th>\n",
              "      <th>driver_gk</th>\n",
              "      <th>order_gk</th>\n",
              "      <th>driver_latitude</th>\n",
              "      <th>driver_longitude</th>\n",
              "      <th>origin_order_latitude</th>\n",
              "      <th>origin_order_longitude</th>\n",
              "      <th>distance_km</th>\n",
              "      <th>duration_min</th>\n",
              "      <th>offer_class_group</th>\n",
              "      <th>ride_type_desc</th>\n",
              "      <th>driver_response</th>\n",
              "    </tr>\n",
              "  </thead>\n",
              "  <tbody>\n",
              "    <tr>\n",
              "      <th>0</th>\n",
              "      <td>1105373</td>\n",
              "      <td>5</td>\n",
              "      <td>20</td>\n",
              "      <td>6080</td>\n",
              "      <td>174182</td>\n",
              "      <td>55.818842</td>\n",
              "      <td>37.334562</td>\n",
              "      <td>55.814567</td>\n",
              "      <td>37.355010</td>\n",
              "      <td>-1.000</td>\n",
              "      <td>-1.000</td>\n",
              "      <td>Economy</td>\n",
              "      <td>private</td>\n",
              "      <td>0</td>\n",
              "    </tr>\n",
              "    <tr>\n",
              "      <th>1</th>\n",
              "      <td>759733</td>\n",
              "      <td>5</td>\n",
              "      <td>14</td>\n",
              "      <td>6080</td>\n",
              "      <td>358774</td>\n",
              "      <td>55.805342</td>\n",
              "      <td>37.515023</td>\n",
              "      <td>55.819329</td>\n",
              "      <td>37.466398</td>\n",
              "      <td>18.802</td>\n",
              "      <td>25.217</td>\n",
              "      <td>Standard</td>\n",
              "      <td>private</td>\n",
              "      <td>1</td>\n",
              "    </tr>\n",
              "    <tr>\n",
              "      <th>2</th>\n",
              "      <td>416977</td>\n",
              "      <td>6</td>\n",
              "      <td>14</td>\n",
              "      <td>6080</td>\n",
              "      <td>866260</td>\n",
              "      <td>55.813978</td>\n",
              "      <td>37.347688</td>\n",
              "      <td>55.814827</td>\n",
              "      <td>37.354074</td>\n",
              "      <td>6.747</td>\n",
              "      <td>9.800</td>\n",
              "      <td>Economy</td>\n",
              "      <td>private</td>\n",
              "      <td>0</td>\n",
              "    </tr>\n",
              "    <tr>\n",
              "      <th>3</th>\n",
              "      <td>889660</td>\n",
              "      <td>2</td>\n",
              "      <td>6</td>\n",
              "      <td>6080</td>\n",
              "      <td>163522</td>\n",
              "      <td>55.745922</td>\n",
              "      <td>37.421748</td>\n",
              "      <td>55.743469</td>\n",
              "      <td>37.431130</td>\n",
              "      <td>-1.000</td>\n",
              "      <td>-1.000</td>\n",
              "      <td>Economy</td>\n",
              "      <td>private</td>\n",
              "      <td>1</td>\n",
              "    </tr>\n",
              "    <tr>\n",
              "      <th>4</th>\n",
              "      <td>1120055</td>\n",
              "      <td>4</td>\n",
              "      <td>16</td>\n",
              "      <td>6080</td>\n",
              "      <td>506710</td>\n",
              "      <td>55.803578</td>\n",
              "      <td>37.521602</td>\n",
              "      <td>55.812559</td>\n",
              "      <td>37.527407</td>\n",
              "      <td>12.383</td>\n",
              "      <td>19.250</td>\n",
              "      <td>Economy</td>\n",
              "      <td>private</td>\n",
              "      <td>1</td>\n",
              "    </tr>\n",
              "  </tbody>\n",
              "</table>\n",
              "</div>"
            ],
            "text/plain": [
              "   offer_gk  weekday_key  ...  ride_type_desc  driver_response\n",
              "0   1105373            5  ...         private                0\n",
              "1    759733            5  ...         private                1\n",
              "2    416977            6  ...         private                0\n",
              "3    889660            2  ...         private                1\n",
              "4   1120055            4  ...         private                1\n",
              "\n",
              "[5 rows x 14 columns]"
            ]
          },
          "metadata": {
            "tags": []
          },
          "execution_count": 5
        }
      ]
    },
    {
      "cell_type": "code",
      "metadata": {
        "id": "5jOJSXcHTXTA",
        "colab_type": "code",
        "colab": {
          "base_uri": "https://localhost:8080/",
          "height": 336
        },
        "outputId": "2c47a68b-7c7c-4fed-c0b9-abe8f9e67d6d"
      },
      "source": [
        "data.info()"
      ],
      "execution_count": 6,
      "outputs": [
        {
          "output_type": "stream",
          "text": [
            "<class 'pandas.core.frame.DataFrame'>\n",
            "RangeIndex: 100000 entries, 0 to 99999\n",
            "Data columns (total 14 columns):\n",
            "offer_gk                  100000 non-null int64\n",
            "weekday_key               100000 non-null int64\n",
            "hour_key                  100000 non-null int64\n",
            "driver_gk                 100000 non-null int64\n",
            "order_gk                  100000 non-null int64\n",
            "driver_latitude           100000 non-null float64\n",
            "driver_longitude          100000 non-null float64\n",
            "origin_order_latitude     100000 non-null float64\n",
            "origin_order_longitude    100000 non-null float64\n",
            "distance_km               100000 non-null float64\n",
            "duration_min              100000 non-null float64\n",
            "offer_class_group         100000 non-null object\n",
            "ride_type_desc            100000 non-null object\n",
            "driver_response           100000 non-null int64\n",
            "dtypes: float64(6), int64(6), object(2)\n",
            "memory usage: 10.7+ MB\n"
          ],
          "name": "stdout"
        }
      ]
    },
    {
      "cell_type": "code",
      "metadata": {
        "id": "dcDz1tlVUSDj",
        "colab_type": "code",
        "colab": {
          "base_uri": "https://localhost:8080/",
          "height": 304
        },
        "outputId": "59aeb2ae-4758-4a30-bd09-6c2ca14faeae"
      },
      "source": [
        "data.describe()"
      ],
      "execution_count": 35,
      "outputs": [
        {
          "output_type": "execute_result",
          "data": {
            "text/html": [
              "<div>\n",
              "<style scoped>\n",
              "    .dataframe tbody tr th:only-of-type {\n",
              "        vertical-align: middle;\n",
              "    }\n",
              "\n",
              "    .dataframe tbody tr th {\n",
              "        vertical-align: top;\n",
              "    }\n",
              "\n",
              "    .dataframe thead th {\n",
              "        text-align: right;\n",
              "    }\n",
              "</style>\n",
              "<table border=\"1\" class=\"dataframe\">\n",
              "  <thead>\n",
              "    <tr style=\"text-align: right;\">\n",
              "      <th></th>\n",
              "      <th>offer_gk</th>\n",
              "      <th>weekday_key</th>\n",
              "      <th>hour_key</th>\n",
              "      <th>driver_gk</th>\n",
              "      <th>order_gk</th>\n",
              "      <th>driver_latitude</th>\n",
              "      <th>driver_longitude</th>\n",
              "      <th>origin_order_latitude</th>\n",
              "      <th>origin_order_longitude</th>\n",
              "      <th>distance_km</th>\n",
              "      <th>duration_min</th>\n",
              "      <th>driver_response</th>\n",
              "    </tr>\n",
              "  </thead>\n",
              "  <tbody>\n",
              "    <tr>\n",
              "      <th>count</th>\n",
              "      <td>1.000000e+05</td>\n",
              "      <td>100000.000000</td>\n",
              "      <td>100000.000000</td>\n",
              "      <td>100000.000000</td>\n",
              "      <td>100000.00000</td>\n",
              "      <td>100000.000000</td>\n",
              "      <td>100000.000000</td>\n",
              "      <td>100000.000000</td>\n",
              "      <td>100000.000000</td>\n",
              "      <td>100000.000000</td>\n",
              "      <td>100000.000000</td>\n",
              "      <td>100000.000000</td>\n",
              "    </tr>\n",
              "    <tr>\n",
              "      <th>mean</th>\n",
              "      <td>5.662189e+05</td>\n",
              "      <td>3.159860</td>\n",
              "      <td>13.827790</td>\n",
              "      <td>3446.376360</td>\n",
              "      <td>460867.01291</td>\n",
              "      <td>55.700824</td>\n",
              "      <td>37.492292</td>\n",
              "      <td>55.772440</td>\n",
              "      <td>37.541637</td>\n",
              "      <td>18.393518</td>\n",
              "      <td>23.134841</td>\n",
              "      <td>0.492480</td>\n",
              "    </tr>\n",
              "    <tr>\n",
              "      <th>std</th>\n",
              "      <td>3.259360e+05</td>\n",
              "      <td>2.054222</td>\n",
              "      <td>7.306496</td>\n",
              "      <td>2038.738677</td>\n",
              "      <td>266064.98953</td>\n",
              "      <td>2.135903</td>\n",
              "      <td>1.454640</td>\n",
              "      <td>0.665985</td>\n",
              "      <td>0.467758</td>\n",
              "      <td>41.129296</td>\n",
              "      <td>33.890105</td>\n",
              "      <td>0.499946</td>\n",
              "    </tr>\n",
              "    <tr>\n",
              "      <th>min</th>\n",
              "      <td>4.000000e+00</td>\n",
              "      <td>0.000000</td>\n",
              "      <td>0.000000</td>\n",
              "      <td>14.000000</td>\n",
              "      <td>18.00000</td>\n",
              "      <td>-1.000000</td>\n",
              "      <td>-1.000000</td>\n",
              "      <td>-1.000000</td>\n",
              "      <td>-1.000000</td>\n",
              "      <td>-1.000000</td>\n",
              "      <td>-1.000000</td>\n",
              "      <td>0.000000</td>\n",
              "    </tr>\n",
              "    <tr>\n",
              "      <th>25%</th>\n",
              "      <td>2.855552e+05</td>\n",
              "      <td>1.000000</td>\n",
              "      <td>8.000000</td>\n",
              "      <td>1421.000000</td>\n",
              "      <td>229178.50000</td>\n",
              "      <td>55.708651</td>\n",
              "      <td>37.413497</td>\n",
              "      <td>55.708032</td>\n",
              "      <td>37.407117</td>\n",
              "      <td>-1.000000</td>\n",
              "      <td>-1.000000</td>\n",
              "      <td>0.000000</td>\n",
              "    </tr>\n",
              "    <tr>\n",
              "      <th>50%</th>\n",
              "      <td>5.656715e+05</td>\n",
              "      <td>3.000000</td>\n",
              "      <td>16.000000</td>\n",
              "      <td>3506.500000</td>\n",
              "      <td>462420.00000</td>\n",
              "      <td>55.772904</td>\n",
              "      <td>37.533664</td>\n",
              "      <td>55.772561</td>\n",
              "      <td>37.532537</td>\n",
              "      <td>10.411500</td>\n",
              "      <td>19.700000</td>\n",
              "      <td>0.000000</td>\n",
              "    </tr>\n",
              "    <tr>\n",
              "      <th>75%</th>\n",
              "      <td>8.487198e+05</td>\n",
              "      <td>5.000000</td>\n",
              "      <td>20.000000</td>\n",
              "      <td>5242.000000</td>\n",
              "      <td>690894.00000</td>\n",
              "      <td>55.960667</td>\n",
              "      <td>37.624113</td>\n",
              "      <td>55.962000</td>\n",
              "      <td>37.624358</td>\n",
              "      <td>30.665250</td>\n",
              "      <td>37.867000</td>\n",
              "      <td>1.000000</td>\n",
              "    </tr>\n",
              "    <tr>\n",
              "      <th>max</th>\n",
              "      <td>1.130355e+06</td>\n",
              "      <td>6.000000</td>\n",
              "      <td>23.000000</td>\n",
              "      <td>6806.000000</td>\n",
              "      <td>920344.00000</td>\n",
              "      <td>56.174097</td>\n",
              "      <td>38.280547</td>\n",
              "      <td>56.311121</td>\n",
              "      <td>38.243608</td>\n",
              "      <td>5234.283000</td>\n",
              "      <td>3958.283000</td>\n",
              "      <td>1.000000</td>\n",
              "    </tr>\n",
              "  </tbody>\n",
              "</table>\n",
              "</div>"
            ],
            "text/plain": [
              "           offer_gk    weekday_key  ...   duration_min  driver_response\n",
              "count  1.000000e+05  100000.000000  ...  100000.000000    100000.000000\n",
              "mean   5.662189e+05       3.159860  ...      23.134841         0.492480\n",
              "std    3.259360e+05       2.054222  ...      33.890105         0.499946\n",
              "min    4.000000e+00       0.000000  ...      -1.000000         0.000000\n",
              "25%    2.855552e+05       1.000000  ...      -1.000000         0.000000\n",
              "50%    5.656715e+05       3.000000  ...      19.700000         0.000000\n",
              "75%    8.487198e+05       5.000000  ...      37.867000         1.000000\n",
              "max    1.130355e+06       6.000000  ...    3958.283000         1.000000\n",
              "\n",
              "[8 rows x 12 columns]"
            ]
          },
          "metadata": {
            "tags": []
          },
          "execution_count": 35
        }
      ]
    },
    {
      "cell_type": "markdown",
      "metadata": {
        "id": "Kptbczoff0TA",
        "colab_type": "text"
      },
      "source": [
        "offer_gk\tdriver_gk order_gk -колонки которые решаем удалить, так как это ид заказа, водителя и заказчика уникальные"
      ]
    },
    {
      "cell_type": "code",
      "metadata": {
        "id": "4OJOHZGkgI9L",
        "colab_type": "code",
        "colab": {}
      },
      "source": [
        "data_t = data.drop(['offer_gk',\t'driver_gk', 'order_gk'], axis = 1)"
      ],
      "execution_count": 0,
      "outputs": []
    },
    {
      "cell_type": "code",
      "metadata": {
        "id": "u3tHrKqCbB5I",
        "colab_type": "code",
        "colab": {
          "base_uri": "https://localhost:8080/",
          "height": 34
        },
        "outputId": "c6164f05-1198-49e8-d882-ef421c3288f4"
      },
      "source": [
        "data['ride_type_desc'].unique()"
      ],
      "execution_count": 8,
      "outputs": [
        {
          "output_type": "execute_result",
          "data": {
            "text/plain": [
              "array(['private', 'business', 'affiliate', 'SMB'], dtype=object)"
            ]
          },
          "metadata": {
            "tags": []
          },
          "execution_count": 8
        }
      ]
    },
    {
      "cell_type": "code",
      "metadata": {
        "id": "fQ_aWFbVbZEz",
        "colab_type": "code",
        "colab": {
          "base_uri": "https://localhost:8080/",
          "height": 50
        },
        "outputId": "0c0af6eb-568e-4bcf-9aab-8b6464465a80"
      },
      "source": [
        "data['offer_class_group'].unique() "
      ],
      "execution_count": 9,
      "outputs": [
        {
          "output_type": "execute_result",
          "data": {
            "text/plain": [
              "array(['Economy', 'Standard', 'XL', 'Kids', 'Delivery', 'Test', 'Premium',\n",
              "       'VIP', 'VIP+'], dtype=object)"
            ]
          },
          "metadata": {
            "tags": []
          },
          "execution_count": 9
        }
      ]
    },
    {
      "cell_type": "markdown",
      "metadata": {
        "id": "S5b5kIrjggHf",
        "colab_type": "text"
      },
      "source": [
        "Это категориальные данные которые нужно кодировать"
      ]
    },
    {
      "cell_type": "code",
      "metadata": {
        "id": "63vs8NZhb9_t",
        "colab_type": "code",
        "colab": {
          "base_uri": "https://localhost:8080/",
          "height": 70
        },
        "outputId": "d52e2221-cc43-4f81-d9d5-e10c79d9b7c2"
      },
      "source": [
        "fig = plt.figure(figsize=(14, 14))\n",
        "ax = fig.gca()\n",
        "\n",
        "plt.hist(data['weekday_key'])\n",
        "plt.show()\n",
        "\n",
        "#data_t.hist()"
      ],
      "execution_count": 46,
      "outputs": [
        {
          "output_type": "stream",
          "text": [
            "/usr/local/lib/python3.6/dist-packages/ipykernel_launcher.py:1: RuntimeWarning: More than 20 figures have been opened. Figures created through the pyplot interface (`matplotlib.pyplot.figure`) are retained until explicitly closed and may consume too much memory. (To control this warning, see the rcParam `figure.max_open_warning`).\n",
            "  \"\"\"Entry point for launching an IPython kernel.\n"
          ],
          "name": "stderr"
        }
      ]
    }
  ]
}