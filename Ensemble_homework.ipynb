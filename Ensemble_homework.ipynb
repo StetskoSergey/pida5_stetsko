{
  "nbformat": 4,
  "nbformat_minor": 0,
  "metadata": {
    "colab": {
      "name": "Untitled14.ipynb",
      "provenance": [],
      "private_outputs": true,
      "collapsed_sections": [],
      "include_colab_link": true
    },
    "kernelspec": {
      "name": "python3",
      "display_name": "Python 3"
    }
  },
  "cells": [
    {
      "cell_type": "markdown",
      "metadata": {
        "id": "view-in-github",
        "colab_type": "text"
      },
      "source": [
        "<a href=\"https://colab.research.google.com/github/StetskoSergey/pida5_stetsko/blob/master/Ensemble_homework.ipynb\" target=\"_parent\"><img src=\"https://colab.research.google.com/assets/colab-badge.svg\" alt=\"Open In Colab\"/></a>"
      ]
    },
    {
      "cell_type": "markdown",
      "metadata": {
        "id": "x_qWoRcMPCtR",
        "colab_type": "text"
      },
      "source": [
        "###Теперь решаем задачу регрессии - предскажем цены на недвижимость. Использовать датасет https://www.kaggle.com/c/house-prices-advanced-regression-techniques/data (train.csv)\n",
        "*Данных немного, поэтому необходимо использовать 10-fold кросс-валидацию для оценки качества моделей\n",
        "Построить случайный лес, вывести важность признаков\n",
        "Обучить стекинг как минимум 3х моделей, использовать хотя бы 1 линейную модель и 1 нелинейную\n",
        "Для валидации модели 2-го уровня использовать отдельный hold-out датасет, как на занятии\n",
        "Показать, что использование ансамблей моделей действительно улучшает качество (стекинг vs другие модели сравнивать на hold-out)\n",
        "В качестве решения: Jupyter notebook с кодом, комментариями и графиками, ссылка на гитхаб*"
      ]
    },
    {
      "cell_type": "code",
      "metadata": {
        "id": "B9_33lsK29VP",
        "colab_type": "code",
        "colab": {}
      },
      "source": [
        "import matplotlib.pyplot as plt\n",
        "import pandas as pd\n",
        "import numpy as np\n",
        "from jupyterthemes import jtplot\n",
        "from sklearn.metrics import auc, roc_curve, roc_auc_score\n",
        "%matplotlib inline\n",
        "jtplot.style()"
      ],
      "execution_count": 0,
      "outputs": []
    },
    {
      "cell_type": "code",
      "metadata": {
        "id": "gNQkAaMcPA0Z",
        "colab_type": "code",
        "colab": {}
      },
      "source": [
        "def get_meta_features(clf, X_train, y_train, X_test, stack_cv):\n",
        "    meta_train = np.zeros_like(y_train, dtype=float)\n",
        "    meta_test = np.zeros_like(y_test, dtype=float)\n",
        "    \n",
        "    for i, (train_ind, test_ind) in enumerate(stack_cv.split(X_train, y_train)):\n",
        "        \n",
        "        clf.fit(X_train.iloc[train_ind], y_train.iloc[train_ind])\n",
        "        meta_train[test_ind] = clf.predict_proba(X_train.iloc[test_ind])[:, 1]\n",
        "        meta_test += clf.predict_proba(X_test)[:, 1]\n",
        "    \n",
        "    return meta_train, meta_test / stack_cv.n_splits"
      ],
      "execution_count": 0,
      "outputs": []
    },
    {
      "cell_type": "code",
      "metadata": {
        "id": "0WByx4jD2y3m",
        "colab_type": "code",
        "colab": {}
      },
      "source": [
        "from sklearn.model_selection import StratifiedKFold\n",
        "\n",
        "stack_cv = StratifiedKFold(n_splits=10, random_state=555)\n",
        "\n",
        "meta_train = []\n",
        "meta_test = []\n",
        "col_names = []\n",
        "\n",
        "print('LR features...')\n",
        "meta_tr, meta_te = get_meta_features(clf_lr, X_train_lin, y_train, X_test_lin, stack_cv)\n",
        "\n",
        "meta_train.append(meta_tr)\n",
        "meta_test.append(meta_te)\n",
        "col_names.append('lr_pred')\n",
        "\n",
        "print('RF features...')\n",
        "meta_tr, meta_te = get_meta_features(clf_rf, X_train, y_train, X_test, stack_cv)\n",
        "\n",
        "meta_train.append(meta_tr)\n",
        "meta_test.append(meta_te)\n",
        "col_names.append('rf_pred')"
      ],
      "execution_count": 0,
      "outputs": []
    }
  ]
}