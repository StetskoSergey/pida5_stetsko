{
  "nbformat": 4,
  "nbformat_minor": 0,
  "metadata": {
    "colab": {
      "name": "Untitled14.ipynb",
      "provenance": [],
      "private_outputs": true,
      "collapsed_sections": [],
      "toc_visible": true,
      "include_colab_link": true
    },
    "kernelspec": {
      "name": "python3",
      "display_name": "Python 3"
    }
  },
  "cells": [
    {
      "cell_type": "markdown",
      "metadata": {
        "id": "view-in-github",
        "colab_type": "text"
      },
      "source": [
        "<a href=\"https://colab.research.google.com/github/StetskoSergey/pida5_stetsko/blob/master/Ensemble_homework.ipynb\" target=\"_parent\"><img src=\"https://colab.research.google.com/assets/colab-badge.svg\" alt=\"Open In Colab\"/></a>"
      ]
    },
    {
      "cell_type": "markdown",
      "metadata": {
        "id": "x_qWoRcMPCtR",
        "colab_type": "text"
      },
      "source": [
        "###Теперь решаем задачу регрессии - предскажем цены на недвижимость. Использовать датасет https://www.kaggle.com/c/house-prices-advanced-regression-techniques/data (train.csv)\n",
        "*Данных немного, поэтому необходимо использовать 10-fold кросс-валидацию для оценки качества моделей\n",
        "Построить случайный лес, вывести важность признаков\n",
        "Обучить стекинг как минимум 3х моделей, использовать хотя бы 1 линейную модель и 1 нелинейную\n",
        "Для валидации модели 2-го уровня использовать отдельный hold-out датасет, как на занятии\n",
        "Показать, что использование ансамблей моделей действительно улучшает качество (стекинг vs другие модели сравнивать на hold-out)\n",
        "В качестве решения: Jupyter notebook с кодом, комментариями и графиками, ссылка на гитхаб*"
      ]
    },
    {
      "cell_type": "code",
      "metadata": {
        "id": "B9_33lsK29VP",
        "colab_type": "code",
        "colab": {}
      },
      "source": [
        "import matplotlib.pyplot as plt\n",
        "import pandas as pd\n",
        "import numpy as np\n",
        "from jupyterthemes import jtplot\n",
        "from sklearn.metrics import auc, roc_curve, roc_auc_score, mean_squared_error\n",
        "from sklearn.model_selection import cross_val_score, KFold\n",
        "\n",
        "%matplotlib inline\n",
        "jtplot.style()\n",
        "\n",
        "import warnings\n",
        "warnings.filterwarnings('ignore')"
      ],
      "execution_count": 0,
      "outputs": []
    },
    {
      "cell_type": "code",
      "metadata": {
        "id": "JMG0BRT86a97",
        "colab_type": "code",
        "colab": {}
      },
      "source": [
        "data = pd.read_csv('train.csv')\n",
        "print(data.shape)\n",
        "data.head()"
      ],
      "execution_count": 0,
      "outputs": []
    },
    {
      "cell_type": "code",
      "metadata": {
        "id": "UYkyGgwe7FoF",
        "colab_type": "code",
        "colab": {}
      },
      "source": [
        "#Находим категориальные признаки\n",
        "cat_feat = list(data.dtypes[data.dtypes == object].index)\n",
        "print('Категориальные признаки \\n',cat_feat)\n",
        "\n",
        "#закодируем пропущенные значений строкой, факт пропущенного значения тоже может нести в себе информацию\n",
        "data[cat_feat] = data[cat_feat].fillna('nan')\n",
        "\n",
        "#отфильтруем непрерывные признаки\n",
        "num_feat = [f for f in data if f not in (cat_feat + ['Id', 'SalePrice'])]\n",
        "print('Непрерывные признаки \\n', num_feat)\n",
        "\n",
        "# Смотрим сколько у нас значений по каждому категориальному признаку\n",
        "cat_nunique = data[cat_feat].nunique()\n",
        "print(cat_nunique)\n",
        "\n",
        "#Чтобы в разы не увеличивать число признаков при построении dummy,\n",
        "#будем использовать категориальные признаки с < 30 уникальных значений\n",
        "cat_feat = list(cat_nunique[cat_nunique < 30].index)"
      ],
      "execution_count": 0,
      "outputs": []
    },
    {
      "cell_type": "code",
      "metadata": {
        "id": "VJg9kYEW8_Zf",
        "colab_type": "code",
        "colab": {}
      },
      "source": [
        "# Создаем дамми-переменные для категорий\n",
        "dummy_train = pd.get_dummies(data[cat_feat], columns=cat_feat)\n",
        "\n",
        "dummy_cols = list(set(dummy_train))\n",
        "\n",
        "dummy_train = dummy_train[dummy_cols]\n",
        "\n",
        "# Заменяем пропуски на специальное значение -999, чтобы деревья могли их отличить\n",
        "X = pd.concat([data[num_feat].fillna(-999),\n",
        "                     dummy_train], axis=1)\n",
        "\n",
        "# Подготовим отдельные данные для линейной и логистической регрессии\n",
        "from sklearn.preprocessing import StandardScaler\n",
        "\n",
        "train_median = data[num_feat].median()\n",
        "\n",
        "X_lin = pd.concat([data[num_feat].fillna(train_median),\n",
        "                     data[num_feat + cat_feat].isnull().astype(np.int8).add_suffix('_NaN'),\n",
        "                     dummy_train], axis=1)\n",
        "\n",
        "scaler = StandardScaler()\n",
        "scaler.fit(X_lin[num_feat])\n",
        "\n",
        "X_lin[num_feat] = scaler.transform(X_lin[num_feat])\n",
        "\n",
        "y = data['SalePrice']\n",
        "print(X.shape)\n",
        "X.head()"
      ],
      "execution_count": 0,
      "outputs": []
    },
    {
      "cell_type": "code",
      "metadata": {
        "id": "ALDQsQ1OEVfO",
        "colab_type": "code",
        "colab": {}
      },
      "source": [
        "print(X_lin.shape)\n",
        "X_lin.head()"
      ],
      "execution_count": 0,
      "outputs": []
    },
    {
      "cell_type": "markdown",
      "metadata": {
        "id": "6hbjCHqAEi57",
        "colab_type": "text"
      },
      "source": [
        "### Выделим из дата сета 20% для теста"
      ]
    },
    {
      "cell_type": "code",
      "metadata": {
        "id": "2gEe_Bi-EtNP",
        "colab_type": "code",
        "colab": {}
      },
      "source": [
        "from sklearn.model_selection import StratifiedShuffleSplit\n",
        "# Разбиваем на train/test\n",
        "splitter = StratifiedShuffleSplit(n_splits=1, test_size=0.2, random_state=777)\n",
        "\n",
        "for train_index, test_index in splitter.split(X, np.zeros(X.shape[0])):\n",
        "    X_train = X.iloc[train_index]\n",
        "    X_test = X.iloc[test_index]\n",
        "    X_lin_train = X_lin.iloc[train_index]\n",
        "    X_lin_test = X_lin.iloc[test_index]\n",
        "    \n",
        "    \n",
        "    y_train = y.iloc[train_index]\n",
        "    y_test = y.iloc[test_index]\n"
      ],
      "execution_count": 0,
      "outputs": []
    },
    {
      "cell_type": "markdown",
      "metadata": {
        "id": "DtsKSuD6PMtI",
        "colab_type": "text"
      },
      "source": [
        "### Функция для кросс валидации"
      ]
    },
    {
      "cell_type": "code",
      "metadata": {
        "id": "a2g4-nYaNxX7",
        "colab_type": "code",
        "colab": {}
      },
      "source": [
        "def crossValidation(model, X, y, N = 10):\n",
        "  kf = KFold(n_splits=N, shuffle=True)\n",
        "  print(cross_val_score(model, X, y, cv=kf).mean())"
      ],
      "execution_count": 0,
      "outputs": []
    },
    {
      "cell_type": "markdown",
      "metadata": {
        "id": "Sc3d96K6ANVn",
        "colab_type": "text"
      },
      "source": [
        "### Обучим случайный лес И выведем важность признаков"
      ]
    },
    {
      "cell_type": "code",
      "metadata": {
        "id": "gDAiUrQJ9395",
        "colab_type": "code",
        "colab": {}
      },
      "source": [
        "from sklearn.ensemble import RandomForestClassifier\n",
        "\n",
        "clf_rf = RandomForestClassifier(n_estimators=10, max_depth=5, min_samples_leaf=20, max_features=0.5, n_jobs=-1)\n",
        "clf_rf.fit(X_train, y_train)\n",
        "crossValidation(clf_rf, X_train, y_train) "
      ],
      "execution_count": 0,
      "outputs": []
    },
    {
      "cell_type": "code",
      "metadata": {
        "id": "N4Rc33tJ_QI5",
        "colab_type": "code",
        "colab": {}
      },
      "source": [
        "imp = pd.Series(clf_rf.feature_importances_)\n",
        "imp.sort_values(ascending=False)"
      ],
      "execution_count": 0,
      "outputs": []
    },
    {
      "cell_type": "markdown",
      "metadata": {
        "id": "FsubEhtkPail",
        "colab_type": "text"
      },
      "source": [
        "### Обучим логистическую регрессию"
      ]
    },
    {
      "cell_type": "code",
      "metadata": {
        "id": "ivE3U3XnPodB",
        "colab_type": "code",
        "colab": {}
      },
      "source": [
        "from sklearn.linear_model import LogisticRegression\n",
        "clf_lr = LogisticRegression()\n",
        "clf_lr.fit(X_lin_train, y_train)\n",
        "crossValidation(clf_lr, X_lin_train, y_train)"
      ],
      "execution_count": 0,
      "outputs": []
    },
    {
      "cell_type": "code",
      "metadata": {
        "id": "DeeENLnyZ6vX",
        "colab_type": "code",
        "colab": {}
      },
      "source": [
        "clf_lr.predict_proba(X_lin_train)[:,3]"
      ],
      "execution_count": 0,
      "outputs": []
    },
    {
      "cell_type": "markdown",
      "metadata": {
        "id": "G_TZ9xSfS-eH",
        "colab_type": "text"
      },
      "source": [
        "### Обучим линейную регрессию RidgeCV"
      ]
    },
    {
      "cell_type": "code",
      "metadata": {
        "id": "aX6TSkaZTELu",
        "colab_type": "code",
        "colab": {}
      },
      "source": [
        "from sklearn.linear_model import RidgeCV\n",
        "clf_ll = RidgeCV()\n",
        "clf_ll.fit(X_lin_train, y_train)\n",
        "crossValidation(clf_ll, X_lin_train, y_train)\n"
      ],
      "execution_count": 0,
      "outputs": []
    },
    {
      "cell_type": "markdown",
      "metadata": {
        "id": "eMO9Zr20W0lR",
        "colab_type": "text"
      },
      "source": [
        "### Функции стекинга и графика ROC"
      ]
    },
    {
      "cell_type": "code",
      "metadata": {
        "id": "ilXjscC55jQU",
        "colab_type": "code",
        "colab": {}
      },
      "source": [
        "def show_auc(y, y_pred, plot_label='', prin=True):    \n",
        "    auc_val = 1 - mean_squared_error(y, y_pred, squared=False)/ np.mean(y)\n",
        "    print('Процент точности предсказания по средней квадратичной ошибке в моделе {0:} : {1:.4f}'.format(plot_label,auc_val))\n",
        "    "
      ],
      "execution_count": 0,
      "outputs": []
    },
    {
      "cell_type": "code",
      "metadata": {
        "id": "gNQkAaMcPA0Z",
        "colab_type": "code",
        "colab": {}
      },
      "source": [
        "def get_meta_features(clf, X_train, y_train, X_test, stack_cv):\n",
        "    meta_train = np.zeros_like(y_train, dtype=float)\n",
        "    meta_test = np.zeros_like(y_test, dtype=float)\n",
        "    \n",
        "    for i, (train_ind, test_ind) in enumerate(stack_cv.split(X_train, y_train)):\n",
        "        \n",
        "        clf.fit(X_train.iloc[train_ind], y_train.iloc[train_ind])\n",
        "        meta_train[test_ind] = clf.predict(X_train.iloc[test_ind])\n",
        "        meta_test += clf.predict(X_test)\n",
        "    \n",
        "    return meta_train, meta_test / stack_cv.n_splits"
      ],
      "execution_count": 0,
      "outputs": []
    },
    {
      "cell_type": "markdown",
      "metadata": {
        "id": "CXxKntxcW_Cb",
        "colab_type": "text"
      },
      "source": [
        "### Стекинг"
      ]
    },
    {
      "cell_type": "code",
      "metadata": {
        "id": "0WByx4jD2y3m",
        "colab_type": "code",
        "colab": {}
      },
      "source": [
        "from sklearn.model_selection import StratifiedKFold\n",
        "\n",
        "stack_cv = StratifiedKFold(n_splits=10, random_state=555)\n",
        "\n",
        "meta_train = []\n",
        "meta_test = []\n",
        "col_names = []\n",
        "\n",
        "print('LR features...')\n",
        "meta_tr, meta_te = get_meta_features(clf_lr, X_lin_train, y_train, X_lin_test, stack_cv)\n",
        "\n",
        "meta_train.append(meta_tr)\n",
        "meta_test.append(meta_te)\n",
        "col_names.append('lr_pred')\n",
        "\n",
        "print('LL features...')\n",
        "meta_tr, meta_te = get_meta_features(clf_ll, X_lin_train, y_train, X_lin_test, stack_cv)\n",
        "\n",
        "meta_train.append(meta_tr)\n",
        "meta_test.append(meta_te)\n",
        "col_names.append('ll_pred')\n",
        "\n",
        "print('RF features...')\n",
        "meta_tr, meta_te = get_meta_features(clf_rf, X_train, y_train, X_test, stack_cv)\n",
        "\n",
        "meta_train.append(meta_tr)\n",
        "meta_test.append(meta_te)\n",
        "col_names.append('rf_pred')"
      ],
      "execution_count": 0,
      "outputs": []
    },
    {
      "cell_type": "code",
      "metadata": {
        "id": "uXjlFeAj5SOR",
        "colab_type": "code",
        "colab": {}
      },
      "source": [
        "X_meta_train = pd.DataFrame(np.stack(meta_train, axis=1), columns=col_names)\n",
        "X_meta_test = pd.DataFrame(np.stack(meta_test, axis=1), columns=col_names)\n",
        "\n",
        "clf_lr_meta = LinearRegression()\n",
        "clf_lr_meta.fit(X_meta_train, y_train)\n",
        "y_pred_meta_test = clf_lr_meta.predict(X_meta_test)\n",
        "\n",
        "show_auc(y_test, y_pred_meta_test, 'stack')\n"
      ],
      "execution_count": 0,
      "outputs": []
    },
    {
      "cell_type": "markdown",
      "metadata": {
        "id": "yG2EOO8hjZ57",
        "colab_type": "text"
      },
      "source": [
        "### Сравним точность предсказания Stack модели и каждой модели по отдельности - все предсказания получились менее точными"
      ]
    },
    {
      "cell_type": "code",
      "metadata": {
        "id": "hPsTp7HrJ6kz",
        "colab_type": "code",
        "colab": {}
      },
      "source": [
        "y_pred = clf_ll.predict(X_lin_test)\n",
        "show_auc(y_test, y_pred, 'RidgeCV')"
      ],
      "execution_count": 0,
      "outputs": []
    },
    {
      "cell_type": "code",
      "metadata": {
        "id": "FGcSww3ki9o7",
        "colab_type": "code",
        "colab": {}
      },
      "source": [
        "y_pred = clf_lr.predict(X_lin_test)\n",
        "show_auc(y_test, y_pred, 'LogisticRegression')"
      ],
      "execution_count": 0,
      "outputs": []
    },
    {
      "cell_type": "code",
      "metadata": {
        "id": "-xODFm6_jJKo",
        "colab_type": "code",
        "colab": {}
      },
      "source": [
        "y_pred = clf_rf.predict(X_test)\n",
        "show_auc(y_test, y_pred, 'RandomForest')"
      ],
      "execution_count": 0,
      "outputs": []
    },
    {
      "cell_type": "markdown",
      "metadata": {
        "id": "q3I-FMGuq5St",
        "colab_type": "text"
      },
      "source": [
        "### посмотрим вклад каждой модели в Стеке\n",
        "самый большой вклад дает RidgeCV"
      ]
    },
    {
      "cell_type": "code",
      "metadata": {
        "id": "jZU6l3oknNPn",
        "colab_type": "code",
        "colab": {}
      },
      "source": [
        "pd.Series(clf_lr_meta.coef_.flatten(), index=X_meta_train.columns).plot(kind='barh')"
      ],
      "execution_count": 0,
      "outputs": []
    }
  ]
}