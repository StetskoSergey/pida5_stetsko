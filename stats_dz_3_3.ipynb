{
  "nbformat": 4,
  "nbformat_minor": 0,
  "metadata": {
    "colab": {
      "name": "stats_dz_3_2.ipynb",
      "provenance": [],
      "collapsed_sections": [],
      "toc_visible": true,
      "include_colab_link": true
    },
    "kernelspec": {
      "name": "python3",
      "display_name": "Python 3"
    }
  },
  "cells": [
    {
      "cell_type": "markdown",
      "metadata": {
        "id": "view-in-github",
        "colab_type": "text"
      },
      "source": [
        "<a href=\"https://colab.research.google.com/github/StetskoSergey/pida5_stetsko/blob/master/stats_dz_3_3.ipynb\" target=\"_parent\"><img src=\"https://colab.research.google.com/assets/colab-badge.svg\" alt=\"Open In Colab\"/></a>"
      ]
    },
    {
      "cell_type": "markdown",
      "metadata": {
        "id": "9wqpiQR2AbtX",
        "colab_type": "text"
      },
      "source": [
        "# Домашнее задание №3"
      ]
    },
    {
      "cell_type": "code",
      "metadata": {
        "id": "Zo_j9HCKCPgi",
        "colab_type": "code",
        "colab": {}
      },
      "source": [
        "import numpy as np\n",
        "from scipy.stats import t\n",
        "from scipy.stats import norm\n",
        "import matplotlib.pyplot as plt\n",
        "from scipy import stats\n",
        "import pandas as pd\n",
        "import io\n",
        "import requests\n",
        "import seaborn as sns\n",
        "\n",
        "%matplotlib inline"
      ],
      "execution_count": 0,
      "outputs": []
    },
    {
      "cell_type": "markdown",
      "metadata": {
        "id": "LrhPyaIACZsb",
        "colab_type": "text"
      },
      "source": [
        "Таблица Indian liver pations records."
      ]
    },
    {
      "cell_type": "code",
      "metadata": {
        "id": "LQWcltRn-vZc",
        "colab_type": "code",
        "outputId": "09f7ffc4-13b8-44d7-b212-311479c6e1bc",
        "colab": {
          "base_uri": "https://localhost:8080/",
          "height": 215
        }
      },
      "source": [
        "url=\"http://yustiks.ru/dataset/indian_liver_patient.csv\"\n",
        "data=pd.read_csv(url)\n",
        "data.head()"
      ],
      "execution_count": 0,
      "outputs": [
        {
          "output_type": "execute_result",
          "data": {
            "text/html": [
              "<div>\n",
              "<style scoped>\n",
              "    .dataframe tbody tr th:only-of-type {\n",
              "        vertical-align: middle;\n",
              "    }\n",
              "\n",
              "    .dataframe tbody tr th {\n",
              "        vertical-align: top;\n",
              "    }\n",
              "\n",
              "    .dataframe thead th {\n",
              "        text-align: right;\n",
              "    }\n",
              "</style>\n",
              "<table border=\"1\" class=\"dataframe\">\n",
              "  <thead>\n",
              "    <tr style=\"text-align: right;\">\n",
              "      <th></th>\n",
              "      <th>Age</th>\n",
              "      <th>Gender</th>\n",
              "      <th>Total_Bilirubin</th>\n",
              "      <th>Direct_Bilirubin</th>\n",
              "      <th>Alkaline_Phosphotase</th>\n",
              "      <th>Alamine_Aminotransferase</th>\n",
              "      <th>Aspartate_Aminotransferase</th>\n",
              "      <th>Total_Protiens</th>\n",
              "      <th>Albumin</th>\n",
              "      <th>Albumin_and_Globulin_Ratio</th>\n",
              "      <th>Dataset</th>\n",
              "    </tr>\n",
              "  </thead>\n",
              "  <tbody>\n",
              "    <tr>\n",
              "      <th>0</th>\n",
              "      <td>65</td>\n",
              "      <td>Female</td>\n",
              "      <td>0.7</td>\n",
              "      <td>0.1</td>\n",
              "      <td>187</td>\n",
              "      <td>16</td>\n",
              "      <td>18</td>\n",
              "      <td>6.8</td>\n",
              "      <td>3.3</td>\n",
              "      <td>0.90</td>\n",
              "      <td>1</td>\n",
              "    </tr>\n",
              "    <tr>\n",
              "      <th>1</th>\n",
              "      <td>62</td>\n",
              "      <td>Male</td>\n",
              "      <td>10.9</td>\n",
              "      <td>5.5</td>\n",
              "      <td>699</td>\n",
              "      <td>64</td>\n",
              "      <td>100</td>\n",
              "      <td>7.5</td>\n",
              "      <td>3.2</td>\n",
              "      <td>0.74</td>\n",
              "      <td>1</td>\n",
              "    </tr>\n",
              "    <tr>\n",
              "      <th>2</th>\n",
              "      <td>62</td>\n",
              "      <td>Male</td>\n",
              "      <td>7.3</td>\n",
              "      <td>4.1</td>\n",
              "      <td>490</td>\n",
              "      <td>60</td>\n",
              "      <td>68</td>\n",
              "      <td>7.0</td>\n",
              "      <td>3.3</td>\n",
              "      <td>0.89</td>\n",
              "      <td>1</td>\n",
              "    </tr>\n",
              "    <tr>\n",
              "      <th>3</th>\n",
              "      <td>58</td>\n",
              "      <td>Male</td>\n",
              "      <td>1.0</td>\n",
              "      <td>0.4</td>\n",
              "      <td>182</td>\n",
              "      <td>14</td>\n",
              "      <td>20</td>\n",
              "      <td>6.8</td>\n",
              "      <td>3.4</td>\n",
              "      <td>1.00</td>\n",
              "      <td>1</td>\n",
              "    </tr>\n",
              "    <tr>\n",
              "      <th>4</th>\n",
              "      <td>72</td>\n",
              "      <td>Male</td>\n",
              "      <td>3.9</td>\n",
              "      <td>2.0</td>\n",
              "      <td>195</td>\n",
              "      <td>27</td>\n",
              "      <td>59</td>\n",
              "      <td>7.3</td>\n",
              "      <td>2.4</td>\n",
              "      <td>0.40</td>\n",
              "      <td>1</td>\n",
              "    </tr>\n",
              "  </tbody>\n",
              "</table>\n",
              "</div>"
            ],
            "text/plain": [
              "   Age  Gender  Total_Bilirubin  ...  Albumin  Albumin_and_Globulin_Ratio  Dataset\n",
              "0   65  Female              0.7  ...      3.3                        0.90        1\n",
              "1   62    Male             10.9  ...      3.2                        0.74        1\n",
              "2   62    Male              7.3  ...      3.3                        0.89        1\n",
              "3   58    Male              1.0  ...      3.4                        1.00        1\n",
              "4   72    Male              3.9  ...      2.4                        0.40        1\n",
              "\n",
              "[5 rows x 11 columns]"
            ]
          },
          "metadata": {
            "tags": []
          },
          "execution_count": 63
        }
      ]
    },
    {
      "cell_type": "markdown",
      "metadata": {
        "id": "XyNNmtvIDDy3",
        "colab_type": "text"
      },
      "source": [
        "Columns:\n",
        "\n",
        "*  Age of the patient\n",
        "*  Gender of the patient\n",
        "*  Total Bilirubin\n",
        "*  Direct Bilirubin\n",
        "*  Alkaline Phosphotase\n",
        "*  Alamine Aminotransferase\n",
        "*  Aspartate Aminotransferase\n",
        "*  Total Protiens\n",
        "*  Albumin\n",
        "*  Albumin and Globulin Ratio\n",
        "*  Dataset: field used to split the data into two sets (patient with liver disease, or no disease)\n"
      ]
    },
    {
      "cell_type": "markdown",
      "metadata": {
        "id": "3v0ZWcBVSOXK",
        "colab_type": "text"
      },
      "source": [
        "Построить одномерную линейную регрессию Direct_Bilirubin и Total_Bilirubin. Построить график. Строим прямую с помощью уравнения которое мы посчитали. Предсказать несколько элементов из таблицы с помощью метода predict() и сравнить с результатом табличным."
      ]
    },
    {
      "cell_type": "code",
      "metadata": {
        "id": "lzZU3iCh9aEo",
        "colab_type": "code",
        "colab": {}
      },
      "source": [
        "data = data.dropna(subset = ['Direct_Bilirubin', 'Albumin_and_Globulin_Ratio','Dataset'])"
      ],
      "execution_count": 0,
      "outputs": []
    },
    {
      "cell_type": "code",
      "metadata": {
        "id": "SHWEz-XU2lSa",
        "colab_type": "code",
        "outputId": "5792d49b-3069-4cf0-ce50-8797b3474483",
        "colab": {
          "base_uri": "https://localhost:8080/",
          "height": 50
        }
      },
      "source": [
        "from sklearn.linear_model import LinearRegression\n",
        "Direct_Bilirubin = data['Direct_Bilirubin']\n",
        "Total_Bilirubin = data['Total_Bilirubin']\n",
        "model = LinearRegression()\n",
        "result = model.fit(np.array(Total_Bilirubin).reshape(-1,1), Direct_Bilirubin)\n",
        "\n",
        "print('intercept:', model.intercept_)\n",
        "\n",
        "print('slope:', model.coef_)"
      ],
      "execution_count": 0,
      "outputs": [
        {
          "output_type": "stream",
          "text": [
            "intercept: 0.18116743679724934\n",
            "slope: [0.39557996]\n"
          ],
          "name": "stdout"
        }
      ]
    },
    {
      "cell_type": "code",
      "metadata": {
        "id": "jveGCzrm3eCx",
        "colab_type": "code",
        "outputId": "c59d1e19-8e9e-41ca-f6a2-b71b6427a565",
        "colab": {
          "base_uri": "https://localhost:8080/",
          "height": 296
        }
      },
      "source": [
        "plt.xlabel('Direct_Bilirubin')\n",
        "plt.ylabel('Total_Bilirubin')\n",
        "plt.title('Линейная регрессия')\n",
        "x = np.linspace(min(Total_Bilirubin), max(Total_Bilirubin), 100)\n",
        "y = model.coef_*x + model.intercept_\n",
        "plt.plot(x,y)\n",
        "plt.plot(Total_Bilirubin, Direct_Bilirubin, 'r.')\n",
        "plt.show()"
      ],
      "execution_count": 0,
      "outputs": [
        {
          "output_type": "display_data",
          "data": {
            "image/png": "[encoded data removed]",
            "text/plain": [
              "<Figure size 432x288 with 1 Axes>"
            ]
          },
          "metadata": {
            "tags": []
          }
        }
      ]
    },
    {
      "cell_type": "code",
      "metadata": {
        "id": "ESQ6rtMz3wxy",
        "colab_type": "code",
        "outputId": "6a9fbb69-1cb8-4823-dabd-fb0667032661",
        "colab": {
          "base_uri": "https://localhost:8080/",
          "height": 84
        }
      },
      "source": [
        "print(model.predict([[5.5]]))\n",
        "print(model.predict([[0.1]]))\n",
        "print(model.predict([[0.4]]))\n",
        "print(model.predict([[10]]))"
      ],
      "execution_count": 0,
      "outputs": [
        {
          "output_type": "stream",
          "text": [
            "[2.35685723]\n",
            "[0.22072543]\n",
            "[0.33939942]\n",
            "[4.13696706]\n"
          ],
          "name": "stdout"
        }
      ]
    },
    {
      "cell_type": "markdown",
      "metadata": {
        "id": "bv5rdcvPSi_O",
        "colab_type": "text"
      },
      "source": [
        "Построить многомерную линейную регрессию для предсказания болезни (Dataset) от двух параметров. Параметры подобрать с помощью матрицы корреляций. Предсказать несколько значений из таблицы и сравнить результат модели от табличного значения."
      ]
    },
    {
      "cell_type": "code",
      "metadata": {
        "id": "Mx-CM2r_4mlk",
        "colab_type": "code",
        "outputId": "5d1d6bae-2737-477c-a6e9-156ade6fe459",
        "colab": {
          "base_uri": "https://localhost:8080/",
          "height": 837
        }
      },
      "source": [
        "sns.heatmap(data.corr(),annot=True,cmap='RdYlGn',linewidths=0.2) #data.corr()-->correlation matrix\n",
        "fig=plt.gcf()\n",
        "fig.set_size_inches(12,12)\n",
        "plt.show()"
      ],
      "execution_count": 0,
      "outputs": [
        {
          "output_type": "display_data",
          "data": {
            "image/png": "[encoded data removed]",
            "text/plain": [
              "<Figure size 864x864 with 2 Axes>"
            ]
          },
          "metadata": {
            "tags": []
          }
        }
      ]
    },
    {
      "cell_type": "code",
      "metadata": {
        "id": "tE7RLkKV4-wP",
        "colab_type": "code",
        "colab": {}
      },
      "source": [
        "выбираем параметры Direct_Bilirubin, Albumin_and_Globulin_Ratio\t- так как они имеют самую высокую коррелляцию"
      ],
      "execution_count": 0,
      "outputs": []
    },
    {
      "cell_type": "code",
      "metadata": {
        "id": "beuhwIGl5bEB",
        "colab_type": "code",
        "outputId": "0fc120aa-ff9f-497e-ab77-287a1fe6fbb1",
        "colab": {
          "base_uri": "https://localhost:8080/",
          "height": 84
        }
      },
      "source": [
        "Direct_Bilirubin = data['Direct_Bilirubin']\n",
        "Albumin_and_Globulin_Ratio = data['Albumin_and_Globulin_Ratio']\n",
        "\n",
        "Dataset = data['Dataset']\n",
        "x = np.vstack([np.array(Direct_Bilirubin), np.array(Albumin_and_Globulin_Ratio)]).T\n",
        "\n",
        "print('x - это двумерная матрица, где колонки - это Direct_Bilirubin и Albumin_and_Globulin_Ratio : ')\n",
        "print(x[:3])\n",
        "y = np.array(Dataset)\n",
        "model = LinearRegression().fit(x, y)"
      ],
      "execution_count": 0,
      "outputs": [
        {
          "output_type": "stream",
          "text": [
            "x - это двумерная матрица, где колонки - это Direct_Bilirubin и Albumin_and_Globulin_Ratio : \n",
            "[[0.1  0.9 ]\n",
            " [5.5  0.74]\n",
            " [4.1  0.89]]\n"
          ],
          "name": "stdout"
        }
      ]
    },
    {
      "cell_type": "code",
      "metadata": {
        "id": "tW_KMP_eEtFK",
        "colab_type": "code",
        "outputId": "f50d1fac-8cdb-4004-d8c9-7ccc45499ee2",
        "colab": {
          "base_uri": "https://localhost:8080/",
          "height": 185
        }
      },
      "source": [
        "def srav(row):\n",
        "  tt = data.loc[row, ['Direct_Bilirubin', 'Albumin_and_Globulin_Ratio']].values\n",
        "  print(tt) \n",
        "  otv = model.predict([tt])\n",
        "  real = data.loc[row, ['Dataset']].values\n",
        "  print(f'Предсказание - {otv} при реальном значении {real} ')\n",
        "  \n",
        "srav(50)\n",
        "srav(100)\n",
        "srav(150)\n",
        "srav(200)\n",
        "srav(250)"
      ],
      "execution_count": 0,
      "outputs": [
        {
          "output_type": "stream",
          "text": [
            "[0.2 0.7]\n",
            "Предсказание - [1.28974988] при реальном значении [1] \n",
            "[0.2 0.76]\n",
            "Предсказание - [1.29980908] при реальном значении [2] \n",
            "[0.5 1.2]\n",
            "Предсказание - [1.36286737] при реальном значении [2] \n",
            "[0.1 0.9]\n",
            "Предсказание - [1.32685028] при реальном значении [1] \n",
            "[1.3 0.8]\n",
            "Предсказание - [1.26724818] при реальном значении [1] \n"
          ],
          "name": "stdout"
        }
      ]
    },
    {
      "cell_type": "markdown",
      "metadata": {
        "id": "ZWc_9uF3PQIo",
        "colab_type": "text"
      },
      "source": [
        "Посчитать квартили для всех колонок. "
      ]
    },
    {
      "cell_type": "code",
      "metadata": {
        "id": "6rMdm1P8LeZ4",
        "colab_type": "code",
        "outputId": "25cd3460-2c13-4023-9381-37d1435bb94a",
        "colab": {
          "base_uri": "https://localhost:8080/",
          "height": 295
        }
      },
      "source": [
        "age = data['Age']\n",
        "sns.distplot(age)\n",
        "plt.title('Плотность вероятности распределения age')\n",
        "plt.show()"
      ],
      "execution_count": 0,
      "outputs": [
        {
          "output_type": "display_data",
          "data": {
            "image/png": "[encoded data removed]",
            "text/plain": [
              "<Figure size 432x288 with 1 Axes>"
            ]
          },
          "metadata": {
            "tags": []
          }
        }
      ]
    },
    {
      "cell_type": "code",
      "metadata": {
        "id": "u6N6JLxnLx1U",
        "colab_type": "code",
        "outputId": "fe1e0c6c-aa28-4bfb-81c1-8abd8ce5518a",
        "colab": {
          "base_uri": "https://localhost:8080/",
          "height": 101
        }
      },
      "source": [
        "print(\"age : \", len(age))  \n",
        "print(\"Q2 квантиль ряда : \", np.quantile(age, .50)) \n",
        "print(\"Q1 квантиль ряда : \", np.quantile(age, .25)) \n",
        "print(\"Q3 квантиль ряда : \", np.quantile(age, .75)) \n",
        "print(\"10 квантиль ряда : \", np.quantile(age, .1)) "
      ],
      "execution_count": 0,
      "outputs": [
        {
          "output_type": "stream",
          "text": [
            "age :  579\n",
            "Q2 квантиль ряда :  45.0\n",
            "Q1 квантиль ряда :  33.0\n",
            "Q3 квантиль ряда :  58.0\n",
            "10 квантиль ряда :  23.0\n"
          ],
          "name": "stdout"
        }
      ]
    },
    {
      "cell_type": "code",
      "metadata": {
        "id": "JicjaGjPL_7-",
        "colab_type": "code",
        "outputId": "2100ca11-152c-4e37-e16c-80c73a29e550",
        "colab": {
          "base_uri": "https://localhost:8080/",
          "height": 202
        }
      },
      "source": [
        "data.quantile(0.20, axis = 0)"
      ],
      "execution_count": 0,
      "outputs": [
        {
          "output_type": "execute_result",
          "data": {
            "text/plain": [
              "Age                            31.0\n",
              "Total_Bilirubin                 0.7\n",
              "Direct_Bilirubin                0.2\n",
              "Alkaline_Phosphotase          167.6\n",
              "Alamine_Aminotransferase       21.0\n",
              "Aspartate_Aminotransferase     23.0\n",
              "Total_Protiens                  5.6\n",
              "Albumin                         2.5\n",
              "Albumin_and_Globulin_Ratio      0.7\n",
              "Dataset                         1.0\n",
              "Name: 0.2, dtype: float64"
            ]
          },
          "metadata": {
            "tags": []
          },
          "execution_count": 100
        }
      ]
    },
    {
      "cell_type": "code",
      "metadata": {
        "id": "hNBkHpsBMJf0",
        "colab_type": "code",
        "outputId": "d63fad73-a7bb-409d-da5c-f32ac0e6c180",
        "colab": {
          "base_uri": "https://localhost:8080/",
          "height": 186
        }
      },
      "source": [
        "data.quantile([.10, .25, .50, .75], axis = 0) "
      ],
      "execution_count": 0,
      "outputs": [
        {
          "output_type": "execute_result",
          "data": {
            "text/html": [
              "<div>\n",
              "<style scoped>\n",
              "    .dataframe tbody tr th:only-of-type {\n",
              "        vertical-align: middle;\n",
              "    }\n",
              "\n",
              "    .dataframe tbody tr th {\n",
              "        vertical-align: top;\n",
              "    }\n",
              "\n",
              "    .dataframe thead th {\n",
              "        text-align: right;\n",
              "    }\n",
              "</style>\n",
              "<table border=\"1\" class=\"dataframe\">\n",
              "  <thead>\n",
              "    <tr style=\"text-align: right;\">\n",
              "      <th></th>\n",
              "      <th>Age</th>\n",
              "      <th>Total_Bilirubin</th>\n",
              "      <th>Direct_Bilirubin</th>\n",
              "      <th>Alkaline_Phosphotase</th>\n",
              "      <th>Alamine_Aminotransferase</th>\n",
              "      <th>Aspartate_Aminotransferase</th>\n",
              "      <th>Total_Protiens</th>\n",
              "      <th>Albumin</th>\n",
              "      <th>Albumin_and_Globulin_Ratio</th>\n",
              "      <th>Dataset</th>\n",
              "    </tr>\n",
              "  </thead>\n",
              "  <tbody>\n",
              "    <tr>\n",
              "      <th>0.10</th>\n",
              "      <td>23.0</td>\n",
              "      <td>0.7</td>\n",
              "      <td>0.1</td>\n",
              "      <td>150.0</td>\n",
              "      <td>18.0</td>\n",
              "      <td>19.0</td>\n",
              "      <td>5.1</td>\n",
              "      <td>2.0</td>\n",
              "      <td>0.546</td>\n",
              "      <td>1.0</td>\n",
              "    </tr>\n",
              "    <tr>\n",
              "      <th>0.25</th>\n",
              "      <td>33.0</td>\n",
              "      <td>0.8</td>\n",
              "      <td>0.2</td>\n",
              "      <td>175.5</td>\n",
              "      <td>23.0</td>\n",
              "      <td>25.0</td>\n",
              "      <td>5.8</td>\n",
              "      <td>2.6</td>\n",
              "      <td>0.700</td>\n",
              "      <td>1.0</td>\n",
              "    </tr>\n",
              "    <tr>\n",
              "      <th>0.50</th>\n",
              "      <td>45.0</td>\n",
              "      <td>1.0</td>\n",
              "      <td>0.3</td>\n",
              "      <td>208.0</td>\n",
              "      <td>35.0</td>\n",
              "      <td>42.0</td>\n",
              "      <td>6.6</td>\n",
              "      <td>3.1</td>\n",
              "      <td>0.930</td>\n",
              "      <td>1.0</td>\n",
              "    </tr>\n",
              "    <tr>\n",
              "      <th>0.75</th>\n",
              "      <td>58.0</td>\n",
              "      <td>2.6</td>\n",
              "      <td>1.3</td>\n",
              "      <td>298.0</td>\n",
              "      <td>61.0</td>\n",
              "      <td>87.0</td>\n",
              "      <td>7.2</td>\n",
              "      <td>3.8</td>\n",
              "      <td>1.100</td>\n",
              "      <td>2.0</td>\n",
              "    </tr>\n",
              "  </tbody>\n",
              "</table>\n",
              "</div>"
            ],
            "text/plain": [
              "       Age  Total_Bilirubin  ...  Albumin_and_Globulin_Ratio  Dataset\n",
              "0.10  23.0              0.7  ...                       0.546      1.0\n",
              "0.25  33.0              0.8  ...                       0.700      1.0\n",
              "0.50  45.0              1.0  ...                       0.930      1.0\n",
              "0.75  58.0              2.6  ...                       1.100      2.0\n",
              "\n",
              "[4 rows x 10 columns]"
            ]
          },
          "metadata": {
            "tags": []
          },
          "execution_count": 101
        }
      ]
    },
    {
      "cell_type": "markdown",
      "metadata": {
        "id": "7kwq4rqzOoz1",
        "colab_type": "text"
      },
      "source": [
        "Построить график histogram двух выборок по наличию или отсутствию болезни: люди, возрастом до 50 лет, и люди после 50 лет. Посчитать среднее значение и квартиль 0.5 в данных выборках. Чем они отличаются?"
      ]
    },
    {
      "cell_type": "code",
      "metadata": {
        "id": "M3x2vCMrMRw6",
        "colab_type": "code",
        "outputId": "1547aedb-bcfd-4055-e88f-232f82dcb3f6",
        "colab": {
          "base_uri": "https://localhost:8080/",
          "height": 286
        }
      },
      "source": [
        "\n",
        "age1 = data.loc[data['Age'] <= 50] ['Dataset'] \n",
        "age2 = data.loc[data['Age'] > 50] ['Dataset']\n",
        "\n",
        "age1.hist()\n"
      ],
      "execution_count": 0,
      "outputs": [
        {
          "output_type": "execute_result",
          "data": {
            "text/plain": [
              "<matplotlib.axes._subplots.AxesSubplot at 0x7f1b35b2c4a8>"
            ]
          },
          "metadata": {
            "tags": []
          },
          "execution_count": 138
        },
        {
          "output_type": "display_data",
          "data": {
            "image/png": "[encoded data removed]",
            "text/plain": [
              "<Figure size 432x288 with 1 Axes>"
            ]
          },
          "metadata": {
            "tags": []
          }
        }
      ]
    },
    {
      "cell_type": "code",
      "metadata": {
        "id": "2uMNmok2d6Nc",
        "colab_type": "code",
        "outputId": "681c5712-4792-40d1-fb3d-9e6eab9709c3",
        "colab": {
          "base_uri": "https://localhost:8080/",
          "height": 286
        }
      },
      "source": [
        "age2.hist()"
      ],
      "execution_count": 0,
      "outputs": [
        {
          "output_type": "execute_result",
          "data": {
            "text/plain": [
              "<matplotlib.axes._subplots.AxesSubplot at 0x7f1b35b2c780>"
            ]
          },
          "metadata": {
            "tags": []
          },
          "execution_count": 139
        },
        {
          "output_type": "display_data",
          "data": {
            "image/png": "[encoded data removed]",
            "text/plain": [
              "<Figure size 432x288 with 1 Axes>"
            ]
          },
          "metadata": {
            "tags": []
          }
        }
      ]
    },
    {
      "cell_type": "code",
      "metadata": {
        "id": "clprt-UXNfsz",
        "colab_type": "code",
        "outputId": "9328ce77-38ea-4c61-cf3d-9e51e1fa7724",
        "colab": {
          "base_uri": "https://localhost:8080/",
          "height": 84
        }
      },
      "source": [
        "print('среднее значение больных с возвратом до 50 лет - ',age1.mean())\n",
        "print('среднее значение больных с возвратом после 50 лет - ',age2.mean())\n",
        "print(\"Q2 квантиль ряда до 50 лет : \", np.quantile(age1, .50))\n",
        "print(\"Q2 квантиль ряда  после 50 лет : \", np.quantile(age2, .50))"
      ],
      "execution_count": 0,
      "outputs": [
        {
          "output_type": "stream",
          "text": [
            "среднее значение больных с возвратом до 50 лет -  1.3109919571045576\n",
            "среднее значение больных с возвратом после 50 лет -  1.2378640776699028\n",
            "Q2 квантиль ряда до 50 лет :  1.0\n",
            "Q2 квантиль ряда  после 50 лет :  1.0\n"
          ],
          "name": "stdout"
        }
      ]
    },
    {
      "cell_type": "markdown",
      "metadata": {
        "id": "WkxgJYcOfgK4",
        "colab_type": "text"
      },
      "source": [
        "**среднее значение больных в возрасте более 50 лет больше, как я понял Dataset = 1 значит человек не болен.\n",
        "и квантили одинаковые, так как 50% данных в обоих выборках имеют значение**"
      ]
    },
    {
      "cell_type": "markdown",
      "metadata": {
        "id": "QZVd-KyDQq38",
        "colab_type": "text"
      },
      "source": [
        "\n",
        "Посчитать критерий одновыборочный t-критерий для выборки по критерию Total_Bilirubin у больных людей. Как показатель помогает понять, что выборки не похожа на генеральную совокупность?"
      ]
    },
    {
      "cell_type": "code",
      "metadata": {
        "id": "H_nHQj10gHj9",
        "colab_type": "code",
        "outputId": "a5d5b798-5c3b-49f2-ea6d-341fa93c9706",
        "colab": {
          "base_uri": "https://localhost:8080/",
          "height": 34
        }
      },
      "source": [
        "Total_Bilirubin_bolnih = data[data['Dataset']==1]['Total_Bilirubin']\n",
        "stats.ttest_1samp(Total_Bilirubin_bolnih, data['Total_Bilirubin'].mean())"
      ],
      "execution_count": 0,
      "outputs": [
        {
          "output_type": "execute_result",
          "data": {
            "text/plain": [
              "Ttest_1sampResult(statistic=2.4588588880494733, pvalue=0.014347239706774866)"
            ]
          },
          "metadata": {
            "tags": []
          },
          "execution_count": 160
        }
      ]
    },
    {
      "cell_type": "markdown",
      "metadata": {
        "id": "YGdm8TK_oOn5",
        "colab_type": "text"
      },
      "source": [
        "T-значение 2.4, и в одновыборочном критерии мы оцениваем p-value.\n",
        "\n",
        "p-value равно 0.014, что меньше стандартной альфа ошибки 0.05, поэтому мы отвергаем нулевую гипотезу и можем сказать, что имеется статистическое различие между Total_Bilirubin у больных людей и генеральной совокупности в целом."
      ]
    },
    {
      "cell_type": "code",
      "metadata": {
        "id": "1IrpsTLEtv0-",
        "colab_type": "code",
        "outputId": "efdfa35a-5870-4e6b-a13e-6158ea070863",
        "colab": {
          "base_uri": "https://localhost:8080/",
          "height": 296
        }
      },
      "source": [
        "sns.distplot(Total_Bilirubin_bolnih)\n",
        "sns.distplot(data['Total_Bilirubin'])\n",
        "plt.title('Плотность вероятности распределения Total_Bilirubin')\n",
        "plt.legend(['больные', 'все'])\n",
        "plt.show()"
      ],
      "execution_count": 0,
      "outputs": [
        {
          "output_type": "display_data",
          "data": {
            "image/png": "[encoded data removed]",
            "text/plain": [
              "<Figure size 432x288 with 1 Axes>"
            ]
          },
          "metadata": {
            "tags": []
          }
        }
      ]
    },
    {
      "cell_type": "markdown",
      "metadata": {
        "id": "dI901FRqRC8A",
        "colab_type": "text"
      },
      "source": [
        "Посчитать критерий t для двух выборок: больные и здоровые (по критерию Total_Bilirubin). Имеют ли данные группы схожесть?"
      ]
    },
    {
      "cell_type": "code",
      "metadata": {
        "id": "EXl4wpIXtqUb",
        "colab_type": "code",
        "outputId": "fd7287c8-1709-46b8-ecbf-93297889d375",
        "colab": {
          "base_uri": "https://localhost:8080/",
          "height": 34
        }
      },
      "source": [
        "bolnie = data[data['Dataset']==1]['Total_Bilirubin']\n",
        "\n",
        "zdorovie = data[data['Dataset']==2]['Total_Bilirubin']\n",
        "\n",
        "stats.ttest_ind(bolnie, zdorovie)"
      ],
      "execution_count": 0,
      "outputs": [
        {
          "output_type": "execute_result",
          "data": {
            "text/plain": [
              "Ttest_indResult(statistic=5.422946004172417, pvalue=8.632557516910643e-08)"
            ]
          },
          "metadata": {
            "tags": []
          },
          "execution_count": 159
        }
      ]
    },
    {
      "cell_type": "markdown",
      "metadata": {
        "id": "T9KG0n3RxpJQ",
        "colab_type": "text"
      },
      "source": [
        "Высокий показатель t-value=5.4 и низкий показатель p-value=0 говорит о том, что группы статистически значимы."
      ]
    },
    {
      "cell_type": "markdown",
      "metadata": {
        "id": "2e0YHsEqAnvv",
        "colab_type": "text"
      },
      "source": [
        "Посчитать статистическую значимость для трех выборок (по возрасту) - 1ая группа от 1 до 30 лет, 2ая группа от 30 лет до 55, 3я группа более 55 по выборке Dataset. Сравнить с реальностью (они логично что будут отличаться)."
      ]
    },
    {
      "cell_type": "code",
      "metadata": {
        "id": "-lk8N9sUxtdp",
        "colab_type": "code",
        "outputId": "814a885d-b454-4003-e311-8e90a9613bd6",
        "colab": {
          "base_uri": "https://localhost:8080/",
          "height": 87
        }
      },
      "source": [
        "restecg_0 = data[data['Age']<30]['Dataset']\n",
        "\n",
        "restecg_1 = data[data['Age']>=30][data['Age']<=55]['Dataset']\n",
        "\n",
        "restecg_2 = data[data['Age']>55]['Dataset']\n",
        "\n",
        "stats.f_oneway(restecg_0, restecg_1, restecg_2)"
      ],
      "execution_count": 0,
      "outputs": [
        {
          "output_type": "stream",
          "text": [
            "/usr/local/lib/python3.6/dist-packages/ipykernel_launcher.py:3: UserWarning: Boolean Series key will be reindexed to match DataFrame index.\n",
            "  This is separate from the ipykernel package so we can avoid doing imports until\n"
          ],
          "name": "stderr"
        },
        {
          "output_type": "execute_result",
          "data": {
            "text/plain": [
              "F_onewayResult(statistic=8.966878570923486, pvalue=0.00014626095691240386)"
            ]
          },
          "metadata": {
            "tags": []
          },
          "execution_count": 163
        }
      ]
    },
    {
      "cell_type": "markdown",
      "metadata": {
        "id": "zrLVRiFvyks9",
        "colab_type": "text"
      },
      "source": [
        "Так как результат p-value меньше 0.05, то мы отвергаем нулевую гипотезу о том, что нет различий между больными и здоровыми группами с разным возврастом"
      ]
    },
    {
      "cell_type": "markdown",
      "metadata": {
        "id": "Jm1ESbSRRPOP",
        "colab_type": "text"
      },
      "source": [
        "Вопросы задавать на почту yustiks@gmail.com"
      ]
    }
  ]
}