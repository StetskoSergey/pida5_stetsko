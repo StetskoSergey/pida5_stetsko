{
  "nbformat": 4,
  "nbformat_minor": 0,
  "metadata": {
    "colab": {
      "name": "Untitled16.ipynb",
      "provenance": [],
      "collapsed_sections": [],
      "authorship_tag": "ABX9TyNgi6+zA9OshUFOWryRekty",
      "include_colab_link": true
    },
    "kernelspec": {
      "name": "python3",
      "display_name": "Python 3"
    }
  },
  "cells": [
    {
      "cell_type": "markdown",
      "metadata": {
        "id": "view-in-github",
        "colab_type": "text"
      },
      "source": [
        "<a href=\"https://colab.research.google.com/github/StetskoSergey/pida5_stetsko/blob/master/6_Loss_functions.ipynb\" target=\"_parent\"><img src=\"https://colab.research.google.com/assets/colab-badge.svg\" alt=\"Open In Colab\"/></a>"
      ]
    },
    {
      "cell_type": "markdown",
      "metadata": {
        "id": "fRMhthOfn3-4",
        "colab_type": "text"
      },
      "source": [
        "###Домашнее задание\n",
        "Прочитать про методы оптимизации для нейронных сетей https://habr.com/post/318970/\n",
        "Реализовать самостоятельно логистическую регрессию\n",
        "Обучить ее методом градиентного спуска\n",
        "Методом nesterov momentum\n",
        "Методом rmsprop\n",
        "В качестве dataset'а взять Iris, оставив 2 класса:\n",
        "Iris Versicolor\n",
        "Iris Virginic"
      ]
    },
    {
      "cell_type": "code",
      "metadata": {
        "id": "Mnh_LAZ1n0_Y",
        "colab_type": "code",
        "colab": {}
      },
      "source": [
        "import pandas as pd\n",
        "import numpy as np\n",
        "from sklearn.datasets import make_blobs\n",
        "from sklearn.model_selection import train_test_split\n",
        "from sklearn.metrics import accuracy_score\n",
        "import matplotlib.pyplot as plt\n",
        "%matplotlib inline\n",
        "\n"
      ],
      "execution_count": 0,
      "outputs": []
    },
    {
      "cell_type": "code",
      "metadata": {
        "id": "z8kICmexoPGf",
        "colab_type": "code",
        "colab": {}
      },
      "source": [
        "# загружаем датасет и убираем первые 50 строк, оставляя только последние два класса\n",
        "from sklearn.datasets import load_iris\n",
        "\n",
        "data = load_iris()\n",
        "X = pd.DataFrame(data.data, columns = data.feature_names)[50:]\n",
        "y =  data.target[50:]"
      ],
      "execution_count": 0,
      "outputs": []
    },
    {
      "cell_type": "code",
      "metadata": {
        "id": "qHEgJZNW6LAH",
        "colab_type": "code",
        "colab": {}
      },
      "source": [
        "# делаем нормализацию данных\n",
        "from sklearn.preprocessing import StandardScaler\n",
        "scaler = StandardScaler()\n",
        "X_scale = scaler.fit_transform(X)"
      ],
      "execution_count": 0,
      "outputs": []
    },
    {
      "cell_type": "markdown",
      "metadata": {
        "id": "Ui3EQ9F-813m",
        "colab_type": "text"
      },
      "source": [
        "*** Реализация Логистической регрессии как отдельный Класс  LogisticRegressionMy с функциями fit, predict. \n",
        "\n",
        "Чтобы использовать матричное умножение numpy к данным добавляется вначале столбец 1\n",
        "\n",
        "Функции градиентных спусков реализованы внутри класса, в зависимости от передаваемого метода в функцию fit***"
      ]
    },
    {
      "cell_type": "code",
      "metadata": {
        "id": "QDhlYpCttQuE",
        "colab_type": "code",
        "colab": {}
      },
      "source": [
        "class LogisticRegressionMy():\n",
        "\n",
        "  params = None\n",
        "  N_class = None\n",
        "  preds = []\n",
        "  costs = []\n",
        "  accurate = None\n",
        "  _predG = 0\n",
        "  _predG2 = 0\n",
        "  _yG = 0\n",
        "  _eps = 0 \n",
        "\n",
        "  def fit(self, X, y, method = 'base', iter = 500):\n",
        "    X_ = self.addCol(X)\n",
        "    self.N_class = np.unique(y)\n",
        "    self.params =np.ones((len(self.N_class), X_.shape[0]))\n",
        "    result = np.array([[ 1.0*(j == y[i]) for j in self.N_class] for i in range(len(y))]).T\n",
        "    self.costs = []\n",
        "    self.preds = []\n",
        "    _predG = 0\n",
        "    _predG2 = 0\n",
        "    _eps = 0\n",
        "\n",
        "    for _ in range( 1, iter):\n",
        "      predictions = np.dot(self.params, X_)\n",
        "      self.preds.append(predictions)\n",
        "\n",
        "      delta = predictions - result\n",
        "      cost = np.sum(np.square(np.dot(delta.T,delta)))/( 2*predictions.shape[1])\n",
        "      self.costs.append(cost)\n",
        "\n",
        "      i = np.random.choice(X_.shape[1])\n",
        "      delta = np.dot(self.params, X_[:,i]) - result[:,i]\n",
        "      self.params = self.params - self.spusk(delta, X_[:,i], method)\n",
        "  \n",
        "  def addCol(self, X):\n",
        "    return np.column_stack((np.ones(X.shape[0]), X)).T\n",
        "\n",
        "  def predict(self, X):\n",
        "    X_ = self.addCol(X) \n",
        "    return np.dot(self.params, X_)\n",
        "     \n",
        "  \n",
        "  def score(self, X_test, y_test):\n",
        "    y = self.predict(X_test)\n",
        "    self.accurate = np.sum([(self.N_class[np.argmax(y[:,i])] == y_test[i])*1 for i in range(X_test.shape[0])])/len(y_test)\n",
        "    return self.accurate\n",
        "\n",
        "  def spusk(self, delta, x, method, learning_rate = 0.05):\n",
        "    if method == 'base':\n",
        "      return self.spusk_base(delta, x, learning_rate)\n",
        "    elif method == 'nesterov':\n",
        "      return self.spusk_nesterov(delta, x, learning_rate)\n",
        "    elif method == 'rmsprop':\n",
        "      return self.spusk_rmsprop(delta, x, learning_rate) \n",
        "\n",
        "  def spusk_base(self, delta, x, learning_rate):\n",
        "    return learning_rate* np.outer(delta, x)\n",
        "    \n",
        "  def spusk_nesterov(self, delta, x, learning_rate):\n",
        "    if self._yG == 0: \n",
        "      self._yG = 0.5  \n",
        "    self._predG = self._yG * self._predG + learning_rate* np.outer(delta, x) \n",
        "    return self._predG\n",
        "\n",
        "  def spusk_rmsprop(self, delta, x, learning_rate):\n",
        "    if self._yG == 0: \n",
        "      self._yG = 0.5\n",
        "    if self._eps == 0: \n",
        "      self._eps = 0.005  \n",
        "    self._predG = np.outer(delta, x)  \n",
        "    self._predG2 = self._yG * self._predG2 + ( 1 - self._yG) * self._predG**2\n",
        "    self._predG = learning_rate * self._predG / np.sqrt(self._predG2 + self._eps)\n",
        "    return self._predG       \n"
      ],
      "execution_count": 0,
      "outputs": []
    },
    {
      "cell_type": "code",
      "metadata": {
        "id": "JEHqDgyXTFTA",
        "colab_type": "code",
        "colab": {
          "base_uri": "https://localhost:8080/",
          "height": 282
        },
        "outputId": "fef04dca-f4d3-48f7-93ea-055f9e5e9910"
      },
      "source": [
        "lrm = LogisticRegressionMy()\n",
        "lrm.fit(X_scale, y, 'base', 10)\n",
        "print('Точность предсказания класса ', lrm.score(X_scale, y))\n",
        "plt.plot( range(len(lrm.costs)), lrm.costs)\n",
        "plt.show()"
      ],
      "execution_count": 101,
      "outputs": [
        {
          "output_type": "stream",
          "text": [
            "Точность предсказания класса  0.92\n"
          ],
          "name": "stdout"
        },
        {
          "output_type": "display_data",
          "data": {
            "image/png": "[encoded data removed]",
            "text/plain": [
              "<Figure size 432x288 with 1 Axes>"
            ]
          },
          "metadata": {
            "tags": []
          }
        }
      ]
    },
    {
      "cell_type": "code",
      "metadata": {
        "id": "oY5yyiPc0GSs",
        "colab_type": "code",
        "colab": {
          "base_uri": "https://localhost:8080/",
          "height": 282
        },
        "outputId": "7f20a2f2-ea19-42dd-c1f3-a4f0273b04b6"
      },
      "source": [
        "lrm = LogisticRegressionMy()\n",
        "lrm._yG = 0.9\n",
        "lrm.fit(X_scale, y, 'nesterov', 20)\n",
        "print('Точность предсказания класса ', lrm.score(X_scale, y))\n",
        "plt.plot( range(len(lrm.costs)), lrm.costs)\n",
        "plt.show()"
      ],
      "execution_count": 115,
      "outputs": [
        {
          "output_type": "stream",
          "text": [
            "Точность предсказания класса  0.95\n"
          ],
          "name": "stdout"
        },
        {
          "output_type": "display_data",
          "data": {
            "image/png": "[encoded data removed]",
            "text/plain": [
              "<Figure size 432x288 with 1 Axes>"
            ]
          },
          "metadata": {
            "tags": []
          }
        }
      ]
    },
    {
      "cell_type": "code",
      "metadata": {
        "id": "D0hpQRUL98jy",
        "colab_type": "code",
        "colab": {
          "base_uri": "https://localhost:8080/",
          "height": 282
        },
        "outputId": "5431f69e-d138-4077-a96b-a1447479dd12"
      },
      "source": [
        "lrm = LogisticRegressionMy()\n",
        "lrm._yG = 0.9\n",
        "lrm.fit(X_scale, y, 'rmsprop', 20)\n",
        "print('Точность предсказания класса ', lrm.score(X_scale, y))\n",
        "plt.plot( range(len(lrm.costs)), lrm.costs)\n",
        "plt.show()"
      ],
      "execution_count": 137,
      "outputs": [
        {
          "output_type": "stream",
          "text": [
            "Точность предсказания класса  0.9\n"
          ],
          "name": "stdout"
        },
        {
          "output_type": "display_data",
          "data": {
            "image/png": "[encoded data removed]",
            "text/plain": [
              "<Figure size 432x288 with 1 Axes>"
            ]
          },
          "metadata": {
            "tags": []
          }
        }
      ]
    }
  ]
}