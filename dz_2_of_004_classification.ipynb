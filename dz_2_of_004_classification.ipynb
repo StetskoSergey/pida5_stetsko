{
  "nbformat": 4,
  "nbformat_minor": 0,
  "metadata": {
    "kernelspec": {
      "name": "python3",
      "display_name": "Python 3"
    },
    "language_info": {
      "codemirror_mode": {
        "name": "ipython",
        "version": 3
      },
      "file_extension": ".py",
      "mimetype": "text/x-python",
      "name": "python",
      "nbconvert_exporter": "python",
      "pygments_lexer": "ipython3",
      "version": "3.6.4"
    },
    "colab": {
      "name": "Copy of 004-classification.ipynb",
      "provenance": [],
      "collapsed_sections": [],
      "machine_shape": "hm",
      "include_colab_link": true
    },
    "accelerator": "TPU"
  },
  "cells": [
    {
      "cell_type": "markdown",
      "metadata": {
        "id": "view-in-github",
        "colab_type": "text"
      },
      "source": [
        "<a href=\"https://colab.research.google.com/github/StetskoSergey/pida5_stetsko/blob/master/dz_2_of_004_classification.ipynb\" target=\"_parent\"><img src=\"https://colab.research.google.com/assets/colab-badge.svg\" alt=\"Open In Colab\"/></a>"
      ]
    },
    {
      "cell_type": "markdown",
      "metadata": {
        "id": "kTHKrkeZqErN",
        "colab_type": "text"
      },
      "source": [
        "# Реализация логистической регрессии в TensorFlow"
      ]
    },
    {
      "cell_type": "code",
      "metadata": {
        "id": "Ut3OZziYqErP",
        "colab_type": "code",
        "colab": {}
      },
      "source": [
        "import numpy as np\n",
        "import tensorflow as tf"
      ],
      "execution_count": 0,
      "outputs": []
    },
    {
      "cell_type": "code",
      "metadata": {
        "id": "0GmHHMcSqErV",
        "colab_type": "code",
        "colab": {}
      },
      "source": [
        "%matplotlib inline\n",
        "from matplotlib import pyplot as plt"
      ],
      "execution_count": 0,
      "outputs": []
    },
    {
      "cell_type": "markdown",
      "metadata": {
        "id": "huH7L57WqErZ",
        "colab_type": "text"
      },
      "source": [
        "## Генерируем данные для задачи регрессии"
      ]
    },
    {
      "cell_type": "code",
      "metadata": {
        "id": "y2sqtdVEqEra",
        "colab_type": "code",
        "colab": {}
      },
      "source": [
        "NUM_FEATURES = 2\n",
        "NUM_SAMPLES = 1000"
      ],
      "execution_count": 0,
      "outputs": []
    },
    {
      "cell_type": "code",
      "metadata": {
        "id": "FexS1rp2qEre",
        "colab_type": "code",
        "colab": {
          "base_uri": "https://localhost:8080/",
          "height": 279
        },
        "outputId": "1cb80287-1da4-4fc2-e429-785abfe52271"
      },
      "source": [
        "from sklearn.datasets import make_classification\n",
        "\n",
        "X, y = make_classification(n_samples = NUM_SAMPLES,\n",
        "                           n_features = NUM_FEATURES,\n",
        "                           n_informative = NUM_FEATURES,\n",
        "                           n_redundant = 0,\n",
        "                           n_classes = 2,\n",
        "                           n_clusters_per_class = 1,\n",
        "                           class_sep = 0.75,\n",
        "                           random_state = 54312)\n",
        "\n",
        "y = y.reshape(-1, 1)\n",
        "\n",
        "ones = np.where(y == 1)   # индексы объектов класса '1'\n",
        "zeros = np.where(y == 0)  # индексы объектов класса '0'\n",
        "\n",
        "plt.xlabel('x')\n",
        "plt.ylabel('y')\n",
        "plt.plot(X[ones, 0], X[ones, 1], 'ob',\n",
        "         X[zeros, 0], X[zeros, 1], 'or');"
      ],
      "execution_count": 5,
      "outputs": [
        {
          "output_type": "display_data",
          "data": {
            "image/png": "[encoded data removed]",
            "text/plain": [
              "<Figure size 432x288 with 1 Axes>"
            ]
          },
          "metadata": {
            "tags": []
          }
        }
      ]
    },
    {
      "cell_type": "markdown",
      "metadata": {
        "id": "jkBio1iBqEri",
        "colab_type": "text"
      },
      "source": [
        "## Вспомогательная функция для создания операций"
      ]
    },
    {
      "cell_type": "code",
      "metadata": {
        "id": "WOk_XuffqEri",
        "colab_type": "code",
        "colab": {}
      },
      "source": [
        "import string\n",
        "\n",
        "# Define custom py_func which takes also a grad op as argument:\n",
        "def py_func_correct(func, inp, Tout, stateful=True, name=None, grad=None, graph = None):\n",
        "    \n",
        "    # Need to generate a unique name to avoid duplicates:\n",
        "    rnd_name = 'PyFuncGrad' + str(np.random.randint(0, 1E+8))\n",
        "    \n",
        "    tf.RegisterGradient(rnd_name)(grad)  # see _MySquareGrad for grad example\n",
        "    g = graph or tf.get_default_graph()\n",
        "    with g.gradient_override_map({\"PyFunc\": rnd_name}):\n",
        "        return tf.py_function(func, inp, Tout, name=name)\n",
        "\n",
        "def py_func_with_grad(func, inp, Tout, grad, name = None, stateful = False, graph = None):\n",
        "    \n",
        "    name_prefix = ''.join(np.random.choice(list(string.ascii_letters), size = 10))\n",
        "    \n",
        "    name = '%s_%s' % (name_prefix, name or '')\n",
        "    grad_func_name = '%s_grad' % name\n",
        "\n",
        "    tf.RegisterGradient(grad_func_name)(grad)\n",
        "\n",
        "    g = graph or tf.get_default_graph()\n",
        "    with g.gradient_override_map({'PyFunc': grad_func_name, \n",
        "                                  'PyFuncStateless': grad_func_name}):\n",
        "        with tf.name_scope(name, 'PyFuncOp', inp):\n",
        "            return tf.py_function(func, inp, Tout, name = name)"
      ],
      "execution_count": 0,
      "outputs": []
    },
    {
      "cell_type": "markdown",
      "metadata": {
        "id": "YNOskXJDqErm",
        "colab_type": "text"
      },
      "source": [
        "## Реализация линейной опреаций"
      ]
    },
    {
      "cell_type": "code",
      "metadata": {
        "id": "ytxRuowaqErn",
        "colab_type": "code",
        "colab": {}
      },
      "source": [
        "def linear_op_forward(X, W):\n",
        "    ''' Реализация линейной операции '''\n",
        "    return tf.tensordot(X, tf.transpose(W), 1)  # аргументы являются numpy-массивами\n",
        "\n",
        "def linear_op_backward(op, grads):\n",
        "    ''' Реализация вычисления градиента линейной операции '''\n",
        "    X = op.inputs[0]  # тензор входных данных\n",
        "    W = op.inputs[1]  # тензор параметров модели\n",
        "    dX = tf.multiply(grads, W)\n",
        "    dW = tf.reduce_sum(tf.multiply(X, grads),\n",
        "                       axis = 0,\n",
        "                       keep_dims = True)\n",
        "    return dX, dW\n",
        "\n",
        "def sigmoid_op_forward(X):\n",
        "    # TODO: реализовать операцию sigmoid\n",
        "    return tf.math.sigmoid(X)\n",
        "    \n",
        "def sigmoid_op_backward(op, grads):\n",
        "    # TODO: реализовать вычисление градиента для sigmoid\n",
        "    return tf.raw_ops.SigmoidGrad(op, grads) "
      ],
      "execution_count": 0,
      "outputs": []
    },
    {
      "cell_type": "markdown",
      "metadata": {
        "id": "3H_GwnCUqErr",
        "colab_type": "text"
      },
      "source": [
        "## Создание графа вычислений и обучение модели"
      ]
    },
    {
      "cell_type": "code",
      "metadata": {
        "scrolled": false,
        "id": "fCJ-DkKqqErt",
        "colab_type": "code",
        "colab": {
          "base_uri": "https://localhost:8080/",
          "height": 185
        },
        "outputId": "a4b34e06-549d-48c6-e50e-38b7aae1e614"
      },
      "source": [
        "BATCH_SIZE = NUM_SAMPLES // 10\n",
        "\n",
        "weights = None  # в этой переменной мы сохраним результат обучения модели\n",
        "learning_curve = []  # значения ошибки на каждой итерации обучения\n",
        "\n",
        "with tf.compat.v1.Session(graph = tf.Graph()) as sess:  # инициализируем сессию вычислений\n",
        "    \n",
        "    # создаем placeholdr'ы, через них мы будем\n",
        "    # передавать внешние данные в граф вычислений\n",
        "    plh_X = tf.compat.v1.placeholder(dtype = tf.float32, shape = [None, NUM_FEATURES])\n",
        "    plh_labels = tf.compat.v1.placeholder(dtype = tf.float32, shape = [None, 1])\n",
        "\n",
        "    # создаем переменную для хранения весов модели\n",
        "    # эти веса будут изменяться в процессе обучения\n",
        "    var_W = tf.Variable(tf.random.uniform(shape = [1, NUM_FEATURES],\n",
        "                                          dtype = tf.float32,\n",
        "                                          seed = 54321))\n",
        "    \n",
        "    # создаем переменную для результата предсказания модели\n",
        "    var_Pred = py_func_correct(linear_op_forward,         # функция предсказания модели \n",
        "                                 [plh_X, var_W],            # аргументы функции\n",
        "                                 [tf.float32],              # тип выходных значений\n",
        "                                 name = 'linear_op',        # имя операции \n",
        "                                 grad = linear_op_backward, # функция для вычисления градиента\n",
        "                                 graph = sess.graph)        # объект графа вчислений\n",
        "    \n",
        "    # создаем переменную для результата операции sigmoid\n",
        "    var_Sigmoid = py_func_correct(sigmoid_op_forward,\n",
        "                                    [var_Pred],\n",
        "                                    [tf.float32],\n",
        "                                    name = 'sigmoid_op',\n",
        "                                    grad = sigmoid_op_backward,\n",
        "                                    graph = sess.graph)\n",
        "    \n",
        "    # кроссэнтропийная функция потерь для бмнарной классификации\n",
        "    cost = tf.compat.v1.losses.sigmoid_cross_entropy(plh_labels, var_Sigmoid)\n",
        "    \n",
        "    # инициализируем оптимизатор и указываем скорость обучения\n",
        "    optimizer = tf.compat.v1.train.GradientDescentOptimizer(learning_rate = 0.9).minimize(cost)\n",
        "\n",
        "    # инициализируем placeholder'ы и переменные\n",
        "    sess.run(tf.compat.v1.global_variables_initializer())\n",
        "    \n",
        "    indices = np.arange(len(X))  # массив индексов объектов\n",
        "    \n",
        "    # выполняем итерации по 10-ти эпохам\n",
        "    for epoch in range(10):\n",
        "        \n",
        "        # вначале каждой эпохи перемешиваем индексы\n",
        "        np.random.shuffle(indices)\n",
        "        \n",
        "        # внутри каждой эпохи данные разбиваются на батчи\n",
        "        for batch in range(len(X) // BATCH_SIZE):\n",
        "            \n",
        "            # выбираем индексы очередного батча\n",
        "            batch_indices = indices[batch * BATCH_SIZE:(batch + 1) * BATCH_SIZE]\n",
        "           \n",
        "            # выполняем шаг обучения: вычисляем ошибку и обновляем веса\n",
        "            loss, _ = sess.run([cost, optimizer],  # указываем, какие операции необходимо выполнить\n",
        "                               feed_dict = {plh_X: X[batch_indices],  # передаем входные данные для вычисления\n",
        "                                            plh_labels: y[batch_indices]})\n",
        "            \n",
        "            # сохраняем занчения ошибки для построения кривой обучения\n",
        "            learning_curve.append(loss)\n",
        "            \n",
        "            # выводим текущее значение ошибки для каждого 10го шага\n",
        "            steps = len(learning_curve) - 1\n",
        "            if steps % 10 == 0:\n",
        "                print('[%03d] loss=%.3f weights=%s' % (steps, loss, var_W.eval()))\n",
        "    \n",
        "    # сохраняем обученные веса\n",
        "    weights = var_W.eval()"
      ],
      "execution_count": 55,
      "outputs": [
        {
          "output_type": "stream",
          "text": [
            "[000] loss=0.707 weights=[[0.42405125 0.19169305]]\n",
            "[010] loss=0.665 weights=[[ 0.17555895 -0.586449  ]]\n",
            "[020] loss=0.626 weights=[[ 0.04001968 -1.1913989 ]]\n",
            "[030] loss=0.635 weights=[[ 0.02680796 -1.612358  ]]\n",
            "[040] loss=0.631 weights=[[ 0.03688418 -1.9423085 ]]\n",
            "[050] loss=0.646 weights=[[ 0.06366799 -2.2092729 ]]\n",
            "[060] loss=0.606 weights=[[ 0.09650204 -2.4348302 ]]\n",
            "[070] loss=0.578 weights=[[ 0.11893661 -2.6349735 ]]\n",
            "[080] loss=0.567 weights=[[ 0.14646795 -2.8056219 ]]\n",
            "[090] loss=0.576 weights=[[ 0.16374448 -2.961269  ]]\n"
          ],
          "name": "stdout"
        }
      ]
    },
    {
      "cell_type": "markdown",
      "metadata": {
        "id": "_wd2woHwqErw",
        "colab_type": "text"
      },
      "source": [
        "## Визуализируем кривую обучения"
      ]
    },
    {
      "cell_type": "code",
      "metadata": {
        "id": "lghuoXypqEr0",
        "colab_type": "code",
        "colab": {
          "base_uri": "https://localhost:8080/",
          "height": 295
        },
        "outputId": "3302a239-d0a2-4c15-b0c3-0cade9be1453"
      },
      "source": [
        "plt.xlabel('step')\n",
        "plt.ylabel('loss')\n",
        "plt.title('Learning curve')\n",
        "plt.plot(learning_curve);"
      ],
      "execution_count": 56,
      "outputs": [
        {
          "output_type": "display_data",
          "data": {
            "image/png": "[encoded data removed]",
            "text/plain": [
              "<Figure size 432x288 with 1 Axes>"
            ]
          },
          "metadata": {
            "tags": []
          }
        }
      ]
    },
    {
      "cell_type": "markdown",
      "metadata": {
        "id": "f-dvzoF4qEr3",
        "colab_type": "text"
      },
      "source": [
        "## Визуализируем разделяющую гиперплоскость"
      ]
    },
    {
      "cell_type": "code",
      "metadata": {
        "id": "Pb_jeDY2qEr4",
        "colab_type": "code",
        "colab": {
          "base_uri": "https://localhost:8080/",
          "height": 279
        },
        "outputId": "ba175920-0278-47ca-b6c6-0f04b58ef52a"
      },
      "source": [
        "y_pred = - X[:, 0] * weights[0, 0] / weights[0, 1]\n",
        "\n",
        "order = np.argsort(X[:, 0])\n",
        "\n",
        "plt.xlabel('x')\n",
        "plt.ylabel('y')\n",
        "plt.plot(X[ones, 0], X[ones, 1], 'ob',\n",
        "         X[zeros, 0], X[zeros, 1], 'or',\n",
        "         X[order, 0], y_pred[order], '-g');"
      ],
      "execution_count": 57,
      "outputs": [
        {
          "output_type": "display_data",
          "data": {
            "image/png": "[encoded data removed]",
            "text/plain": [
              "<Figure size 432x288 with 1 Axes>"
            ]
          },
          "metadata": {
            "tags": []
          }
        }
      ]
    },
    {
      "cell_type": "code",
      "metadata": {
        "id": "hdMek0uvqEr7",
        "colab_type": "code",
        "colab": {}
      },
      "source": [
        ""
      ],
      "execution_count": 0,
      "outputs": []
    }
  ]
}