{
  "nbformat": 4,
  "nbformat_minor": 0,
  "metadata": {
    "colab": {
      "name": "Copy of Untitled2.ipynb",
      "provenance": [],
      "include_colab_link": true
    },
    "kernelspec": {
      "name": "python3",
      "display_name": "Python 3"
    }
  },
  "cells": [
    {
      "cell_type": "markdown",
      "metadata": {
        "id": "view-in-github",
        "colab_type": "text"
      },
      "source": [
        "<a href=\"https://colab.research.google.com/github/StetskoSergey/pida5_stetsko/blob/master/mds%20dz%202.ipynb\" target=\"_parent\"><img src=\"https://colab.research.google.com/assets/colab-badge.svg\" alt=\"Open In Colab\"/></a>"
      ]
    },
    {
      "cell_type": "markdown",
      "metadata": {
        "id": "hTHl3kyDWIGO",
        "colab_type": "text"
      },
      "source": [
        "# Математики для data science.\n",
        "# Домашнее задание 2."
      ]
    },
    {
      "cell_type": "markdown",
      "metadata": {
        "id": "OAJG6826Pnft",
        "colab_type": "text"
      },
      "source": [
        "**Задание на отображение множеств.**"
      ]
    },
    {
      "cell_type": "markdown",
      "metadata": {
        "id": "lHtJSvE3Pt9i",
        "colab_type": "text"
      },
      "source": [
        "**Задание 1.**"
      ]
    },
    {
      "cell_type": "markdown",
      "metadata": {
        "id": "pRTF1ROCPxoR",
        "colab_type": "text"
      },
      "source": [
        "Написать функцию отображения элементов одного множества в другое. Первое множество - художники, второе множество - картины художников.\n",
        "Множество художников - Серов, Левитан, Репин, Васнецов, Шишкин. \n",
        "Множество картин - \"Утро в сосновом бору\", \"Богатыри\", \"Золотая осень\", \"Девочка с персиками\", \"Запорожцы\", \"Буралки на Волге\", \"Март\", \"Алёнушка\". \n"
      ]
    },
    {
      "cell_type": "code",
      "metadata": {
        "id": "m1UuNwfT5gXz",
        "colab_type": "code",
        "outputId": "aab5d646-ecca-43f1-ff9e-856a4393ca5b",
        "colab": {
          "base_uri": "https://localhost:8080/",
          "height": 34
        }
      },
      "source": [
        "def trans(ss):\n",
        "  list = {'Серов':['Девочка с персиками'], 'Левитан':['Золотая осень', 'Март'], 'Репин':['Буралки на Волге', 'Запорожцы'], 'Васнецов':['Богатыри', 'Алёнушка'], 'Шишкин':[\"Утро в сосновом бору\"]} \n",
        "  return list[ss]\n",
        "\n",
        "trans('Репин')  "
      ],
      "execution_count": 0,
      "outputs": [
        {
          "output_type": "execute_result",
          "data": {
            "text/plain": [
              "['Буралки на Волге', 'Запорожцы']"
            ]
          },
          "metadata": {
            "tags": []
          },
          "execution_count": 6
        }
      ]
    },
    {
      "cell_type": "markdown",
      "metadata": {
        "id": "4QwS5m7CWXY3",
        "colab_type": "text"
      },
      "source": [
        "**Полиномиальные функции.**"
      ]
    },
    {
      "cell_type": "markdown",
      "metadata": {
        "id": "thQjcSL7WbIY",
        "colab_type": "text"
      },
      "source": [
        "**Задание 2**. Найти из следующих функций те, которые являются полиномиальной функцией."
      ]
    },
    {
      "cell_type": "markdown",
      "metadata": {
        "id": "GbDQjj-pWjqm",
        "colab_type": "text"
      },
      "source": [
        "*  $$f(x)=\\frac{1}{2}x^{6}-1\\frac{5}{6}x+\\frac{1}{3}$$\n",
        "*  $$f(x)=\\frac{3x^{6}-11x+2}{6}$$\n",
        "*  $$f(x)=\\frac{3x^{6}-11x+2}{6x}$$\n",
        "*  $$f(x)=x^{5}-3x^{2}+7x^{-2}$$\n",
        "*  $$f(x)=(5x^{2}-2)^3-\\frac{1}{2}x^{3}$$\n",
        "*  $$f(x)=(1+\\sqrt{x})^{3}-5(1+\\sqrt{x})$$\n",
        "*  $$f(x)=\\pi $$\n",
        "\n"
      ]
    },
    {
      "cell_type": "markdown",
      "metadata": {
        "id": "NzVzaWQK8XG5",
        "colab_type": "text"
      },
      "source": [
        "1, 2, 4, 5, 7\n",
        "\n",
        "3, 6 - не являются так как степени Х не целые или отрицательные"
      ]
    },
    {
      "cell_type": "markdown",
      "metadata": {
        "id": "2SOZDLZQW9vK",
        "colab_type": "text"
      },
      "source": [
        "**Задание 3**. Раскрыть скобки для следующего полинома $$(2x+1)^{2}(x-1)-x(4x^{2}-1)-x(4x^{2}-1)=ax^3+bx^2+cx+d$$ найти коэффициенты для a, b, c, d."
      ]
    },
    {
      "cell_type": "markdown",
      "metadata": {
        "id": "Ojgqt5dr885u",
        "colab_type": "text"
      },
      "source": [
        "(4x2 + 4x + 1) (x - 1) -4x3 +x - 4x3 +x = 4x3 + 4x2 +x -4x2 -4x -1 -8x3 + 2x = -4x3 - x -1\n",
        "\n",
        "a = -4\n",
        "\n",
        "b = 0\n",
        "\n",
        "c = -1\n",
        "\n",
        "d = -1"
      ]
    },
    {
      "cell_type": "markdown",
      "metadata": {
        "id": "FW0p4xjzIdRZ",
        "colab_type": "text"
      },
      "source": [
        "Для данного задания полезно использовать следующие формулы сокращенного умножения:\n",
        "![alt text](https://sun9-38.userapi.com/c851232/v851232044/19c5b0/7Yy6qz-MUHA.jpg)"
      ]
    },
    {
      "cell_type": "markdown",
      "metadata": {
        "id": "hETFA0bzXYdw",
        "colab_type": "text"
      },
      "source": [
        "Чему равна степень полинома?"
      ]
    },
    {
      "cell_type": "markdown",
      "metadata": {
        "id": "cK9DcGS7CZnr",
        "colab_type": "text"
      },
      "source": [
        "степень полинома равна старшей ( максимальной )степени функции входящей в многочлен"
      ]
    },
    {
      "cell_type": "markdown",
      "metadata": {
        "id": "EH8FFbsvt64f",
        "colab_type": "text"
      },
      "source": [
        "Нарисовать график для полинома."
      ]
    },
    {
      "cell_type": "code",
      "metadata": {
        "id": "J3pTGB6qDjlg",
        "colab_type": "code",
        "colab": {}
      },
      "source": [
        "import numpy as np\n",
        "import matplotlib.pyplot as plt"
      ],
      "execution_count": 0,
      "outputs": []
    },
    {
      "cell_type": "code",
      "metadata": {
        "id": "wk89rocGSoYC",
        "colab_type": "code",
        "outputId": "6433dfcf-172e-4ef7-8337-0de1d0e4f24b",
        "colab": {
          "base_uri": "https://localhost:8080/",
          "height": 295
        }
      },
      "source": [
        "def func(x):\n",
        "  return pow(x, 3) + 2*pow(x, 2) + x + 3\n",
        "  \n",
        "# создаем вектор x\n",
        "x1 = np.linspace(-3.0, 3.0, 100)\n",
        "# на основе вектора x строим значения для вектора y\n",
        "y1 = [func(x1[i]) for i in range(len(x1))]\n",
        "\n",
        "plt.plot(x1, y1)\n",
        "plt.title('График функции')\n",
        "plt.ylabel('y')\n",
        "plt.xlabel('x')\n",
        "\n",
        "plt.show()"
      ],
      "execution_count": 0,
      "outputs": [
        {
          "output_type": "display_data",
          "data": {
            "image/png": "[encoded data removed]",
            "text/plain": [
              "<Figure size 432x288 with 1 Axes>"
            ]
          },
          "metadata": {
            "tags": []
          }
        }
      ]
    },
    {
      "cell_type": "markdown",
      "metadata": {
        "id": "YnGld7mvZNUB",
        "colab_type": "text"
      },
      "source": [
        "**Задание 3**.\n",
        "Для заданных функций найти подходящий график (не все функции имеют график):\n",
        "$\\frac{3}{4}x-1$,  $\\frac{3}{4}x+2$, $2-2x$, $2+2x$, $\\frac{1}{4}(x+1)^{2}-2 $, $\\frac{1}{4}(x-1)^2-2$, $(x-1)(x-3)$, $(x+1)(x+3)$, $2-x^2$, $2-\\frac{1}{4}x^2$"
      ]
    },
    {
      "cell_type": "markdown",
      "metadata": {
        "id": "8TCnR4urZX_A",
        "colab_type": "text"
      },
      "source": [
        "![alt text](https://pp.userapi.com/c855532/v855532908/aadd4/uWjIZGDfw0s.jpg)"
      ]
    },
    {
      "cell_type": "markdown",
      "metadata": {
        "id": "L5FcLkv6FptN",
        "colab_type": "text"
      },
      "source": [
        "1 - 2-2x\n",
        "\n",
        "2 - 2 - 1/4 x2\n",
        "\n",
        "3 - 2 - 2x2\n",
        "\n",
        "4 - 1/4(x+1)2 -2\n",
        "\n",
        "5 - 3/4x - 1\n",
        "\n",
        "6 - (x-1)(x-3)"
      ]
    },
    {
      "cell_type": "markdown",
      "metadata": {
        "id": "v4PsJSrlbGni",
        "colab_type": "text"
      },
      "source": [
        "**Задание 4.** Найти минимальную степень следующего полинома:\n",
        "\n",
        "![alt text](https://pp.userapi.com/c855532/v855532908/aadcd/PZdPYTQT02A.jpg)"
      ]
    },
    {
      "cell_type": "markdown",
      "metadata": {
        "id": "JmQ_UfyfIGNl",
        "colab_type": "text"
      },
      "source": [
        "5 - так как степень полинома не может быть меньше количества пересечений оси у"
      ]
    },
    {
      "cell_type": "markdown",
      "metadata": {
        "id": "In-LISkBGJ1u",
        "colab_type": "text"
      },
      "source": [
        "**Задания повышенного уровня**"
      ]
    },
    {
      "cell_type": "markdown",
      "metadata": {
        "id": "FGmhJtvceZO6",
        "colab_type": "text"
      },
      "source": [
        "Почему следующие функции не являются полиномиальными?\n",
        "$$y=5x^{-2}+1$$\n",
        "$$y=3x^{1/2}+2$$\n",
        "$$y=(5x+1)/(3x)$$"
      ]
    },
    {
      "cell_type": "markdown",
      "metadata": {
        "id": "_5hGOc8JIcIy",
        "colab_type": "text"
      },
      "source": [
        "1 - отрицательная степень\n",
        "\n",
        "2 - не целая степень\n",
        "\n",
        "3  отрицательная степень\n"
      ]
    },
    {
      "cell_type": "markdown",
      "metadata": {
        "id": "XyzbTtgEezLl",
        "colab_type": "text"
      },
      "source": [
        "Найдите наибольшее и наименьшее значение функции $y = x^3 + 2x^2 + x + 3 $ на отрезке [-4;-1]. "
      ]
    },
    {
      "cell_type": "markdown",
      "metadata": {
        "id": "K3f5PisOIleR",
        "colab_type": "text"
      },
      "source": [
        "производная функции - 3х2 + 4х + 1\n",
        "\n",
        "на отрезке от -4 до -1 \n",
        "сначала положительная - значит график полинома растет,\n",
        "далее в точке -1 производная становится нулем и меняет знак,\n",
        "значит максимум полинома на этом интервале в точке -1,\n",
        "корни уровнения производной -1, -0,33\n",
        "\n",
        "значит полином растет от минимума -33 до максимума равного  3"
      ]
    },
    {
      "cell_type": "markdown",
      "metadata": {
        "id": "zZwKoyIwf4SV",
        "colab_type": "text"
      },
      "source": [
        "Пример линейной регрессии - это применение полиномов на практике. В следующем примере дан датасет x, y, сгенерированный рандомно. Мы можем использовать линейную регрессию, чтобы предсказать значение переменной y от x. "
      ]
    },
    {
      "cell_type": "code",
      "metadata": {
        "id": "wyWYYrGnWHVk",
        "colab_type": "code",
        "outputId": "eaaf59a8-2935-4b87-fadb-7875202b897b",
        "colab": {
          "base_uri": "https://localhost:8080/",
          "height": 295
        }
      },
      "source": [
        "import numpy as np\n",
        "import matplotlib.pyplot as plt\n",
        "\n",
        "from sklearn.linear_model import LinearRegression\n",
        "\n",
        "np.random.seed(0)\n",
        "x = 2 - 3 * np.random.normal(0, 1, 20)\n",
        "y = x - 2 * (x ** 2) + 0.5 * (x ** 3) + np.random.normal(-3, 3, 20)\n",
        "\n",
        "# transforming the data to include another axis\n",
        "x = x[:, np.newaxis]\n",
        "y = y[:, np.newaxis]\n",
        "\n",
        "model = LinearRegression()\n",
        "model.fit(x, y)\n",
        "\n",
        "predicted = model.predict(x)\n",
        "\n",
        "plt.scatter(x, y, marker='o')\n",
        "plt.plot(x, predicted, marker='o', color = 'r')\n",
        "plt.title('График функции')\n",
        "plt.ylabel('y')\n",
        "plt.xlabel('x')\n",
        "\n",
        "plt.show()\n",
        "# написать линейную регрессию"
      ],
      "execution_count": 0,
      "outputs": [
        {
          "output_type": "display_data",
          "data": {
            "image/png": "[encoded data removed]",
            "text/plain": [
              "<Figure size 432x288 with 1 Axes>"
            ]
          },
          "metadata": {
            "tags": []
          }
        }
      ]
    },
    {
      "cell_type": "markdown",
      "metadata": {
        "id": "_jdDSF1KhGCA",
        "colab_type": "text"
      },
      "source": [
        "В данном примере найден полином первой степени. Как можно улучшить данную модель? Написать пример. "
      ]
    },
    {
      "cell_type": "markdown",
      "metadata": {
        "id": "cj7TcDKlR4ah",
        "colab_type": "text"
      },
      "source": [
        "Приблизим  данные полиномом  3 степени, это даст максимальное приближение"
      ]
    },
    {
      "cell_type": "code",
      "metadata": {
        "id": "7Dbhc6UOQEIu",
        "colab_type": "code",
        "outputId": "e0120b36-f84f-458a-e7aa-a314b8e3d0b2",
        "colab": {
          "base_uri": "https://localhost:8080/",
          "height": 295
        }
      },
      "source": [
        "import operator\n",
        "import numpy as np\n",
        "import matplotlib.pyplot as plt\n",
        "\n",
        "from sklearn.linear_model import LinearRegression\n",
        "from sklearn.preprocessing import PolynomialFeatures\n",
        "\n",
        "np.random.seed(0)\n",
        "x = 2 - 3 * np.random.normal(0, 1, 20)\n",
        "y = x - 2 * (x ** 2) + 0.5 * (x ** 3) + np.random.normal(-3, 3, 20)\n",
        "\n",
        "# transforming the data to include another axis\n",
        "x = x[:, np.newaxis]\n",
        "y = y[:, np.newaxis]\n",
        "\n",
        "polynomial_features= PolynomialFeatures(degree=3)\n",
        "x_poly = polynomial_features.fit_transform(x)\n",
        "\n",
        "model = LinearRegression()\n",
        "model.fit(x_poly, y)\n",
        "\n",
        "predicted = model.predict(x_poly)\n",
        "\n",
        "plt.scatter(x, y, marker='o')\n",
        "\n",
        "sort_axis = operator.itemgetter(0)\n",
        "sorted_zip = sorted(zip(x,predicted), key=sort_axis)\n",
        "x, predicted = zip(*sorted_zip)\n",
        "plt.plot(x, predicted, color='m')\n",
        "\n",
        "plt.title('График функции')\n",
        "plt.ylabel('y')\n",
        "plt.xlabel('x')\n",
        "\n",
        "plt.show()\n",
        "# написать линейную регрессию"
      ],
      "execution_count": 0,
      "outputs": [
        {
          "output_type": "display_data",
          "data": {
            "image/png": "[encoded data removed]",
            "text/plain": [
              "<Figure size 432x288 with 1 Axes>"
            ]
          },
          "metadata": {
            "tags": []
          }
        }
      ]
    }
  ]
}