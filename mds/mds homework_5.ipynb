{
  "nbformat": 4,
  "nbformat_minor": 0,
  "metadata": {
    "kernelspec": {
      "display_name": "Python 3",
      "language": "python",
      "name": "python3"
    },
    "language_info": {
      "codemirror_mode": {
        "name": "ipython",
        "version": 3
      },
      "file_extension": ".py",
      "mimetype": "text/x-python",
      "name": "python",
      "nbconvert_exporter": "python",
      "pygments_lexer": "ipython3",
      "version": "3.7.5"
    },
    "colab": {
      "name": "homework-5.ipynb",
      "provenance": [],
      "include_colab_link": true
    }
  },
  "cells": [
    {
      "cell_type": "markdown",
      "metadata": {
        "id": "view-in-github",
        "colab_type": "text"
      },
      "source": [
        "<a href=\"https://colab.research.google.com/github/StetskoSergey/pida5_stetsko/blob/master/mds%20homework_5.ipynb\" target=\"_parent\"><img src=\"https://colab.research.google.com/assets/colab-badge.svg\" alt=\"Open In Colab\"/></a>"
      ]
    },
    {
      "cell_type": "code",
      "metadata": {
        "id": "s4JYGuG39MZD",
        "colab_type": "code",
        "colab": {}
      },
      "source": [
        "import matplotlib.pyplot as plt\n",
        "import numpy as np\n",
        "\n",
        "from mpl_toolkits.mplot3d import Axes3D\n",
        "from matplotlib import cm\n",
        "from matplotlib.ticker import LinearLocator, FormatStrFormatter\n",
        "from scipy.optimize import minimize\n",
        "from scipy.optimize import approx_fprime\n",
        "from scipy.misc import derivative\n",
        "\n",
        "%matplotlib inline"
      ],
      "execution_count": 0,
      "outputs": []
    },
    {
      "cell_type": "markdown",
      "metadata": {
        "id": "zjk1Xp3l9MZI",
        "colab_type": "text"
      },
      "source": [
        "### Задание 1: \n",
        "Посчитайте частные производные функций в точках\n",
        "(как обычно, необходимо решение на бумажке или в LaTeX и на numpy):"
      ]
    },
    {
      "cell_type": "markdown",
      "metadata": {
        "id": "fjYL8evw9MZI",
        "colab_type": "text"
      },
      "source": [
        "1) $f(x,y)=2x^2y^3 + 1/x + y^2x + 7$ в точке $(1,2)$\n",
        "\n",
        "2) $f(x,y)=x^2y - sin(xy) + cos(x^2) + 6y$"
      ]
    },
    {
      "cell_type": "markdown",
      "metadata": {
        "id": "GtqSzAayEptz",
        "colab_type": "text"
      },
      "source": [
        "$4xy^3 - 1/x^2 +y^2$ :: 32 + 4 - 1 = 35\n",
        "\n",
        "$6x^2y^2 +2yx$ ::  24 + 4 = 28\n",
        "\n",
        "$2xy - y*cos(xy) + 2x*sin(x^2)$ :: 3,14\n",
        "\n",
        "$x^2 -xcos(xy) +6$ :: 7,41"
      ]
    },
    {
      "cell_type": "code",
      "metadata": {
        "id": "FX62PXRZ9hyQ",
        "colab_type": "code",
        "colab": {}
      },
      "source": [
        "def f1(x, y):\n",
        "    return 2*x**2*y**3 + 1/x +y**2*x +7\n",
        "def f2(x, y):\n",
        "    return x**2*y - np.sin(x*y) +np.cos(x**2) +6*y\n",
        " "
      ],
      "execution_count": 0,
      "outputs": []
    },
    {
      "cell_type": "code",
      "metadata": {
        "id": "WWu1WoeLAkOZ",
        "colab_type": "code",
        "outputId": "2e8ad6c2-4336-4d66-c969-b526efcf0db5",
        "colab": {
          "base_uri": "https://localhost:8080/",
          "height": 84
        }
      },
      "source": [
        "print('Частная производная f1 в точке 1, 2 по X : ',derivative(lambda x: f1(x,2), 1.0, dx=1e-6))\n",
        "print('Частная производная f1 в точке 1, 2 по Y : ',derivative(lambda x: f1(1,x), 2.0, dx=1e-6))\n",
        "print('Частная производная f2 в точке 1, 2 по X : ',derivative(lambda x: f2(x,2), 1.0, dx=1e-6))\n",
        "print('Частная производная f2 в точке 1, 2 по Y : ',derivative(lambda x: f2(1,x), 2.0, dx=1e-6))"
      ],
      "execution_count": 0,
      "outputs": [
        {
          "output_type": "stream",
          "text": [
            "Частная производная f1 в точке 1, 2 по X :  35.00000000045134\n",
            "Частная производная f1 в точке 1, 2 по Y :  28.00000000036107\n",
            "Частная производная f2 в точке 1, 2 по X :  3.1493517038683194\n",
            "Частная производная f2 в точке 1, 2 по Y :  7.416146836192183\n"
          ],
          "name": "stdout"
        }
      ]
    },
    {
      "cell_type": "markdown",
      "metadata": {
        "id": "HkR0z1c49MZJ",
        "colab_type": "text"
      },
      "source": [
        "### Задание 2:\n",
        "\n",
        "Градиентный спуск своими руками"
      ]
    },
    {
      "cell_type": "code",
      "metadata": {
        "id": "6CHtRVyM9MZK",
        "colab_type": "code",
        "colab": {}
      },
      "source": [
        "def f(x):\n",
        "    return (x[0]**2) + (x[1]**2) "
      ],
      "execution_count": 0,
      "outputs": []
    },
    {
      "cell_type": "code",
      "metadata": {
        "id": "TWQMJBEj9MZM",
        "colab_type": "code",
        "colab": {}
      },
      "source": [
        "x = np.array([100, 200])\n",
        "lr = 0.1"
      ],
      "execution_count": 0,
      "outputs": []
    },
    {
      "cell_type": "code",
      "metadata": {
        "id": "RvAGjyrG9MZO",
        "colab_type": "code",
        "colab": {}
      },
      "source": [
        "for i in range(100):\n",
        "    # Calculate gradient\n",
        "    eps = np.sqrt(np.finfo(float).eps)\n",
        "    grad = approx_fprime(x, f, [eps, eps])  # Your code here (функция для вычисления градиента есть в лекционном ноутбуке)\n",
        "    \n",
        "    # Update x with gradient\n",
        "    x = x - lr* grad # Your code here (смотри слайд презентации про градиентный спуск)"
      ],
      "execution_count": 0,
      "outputs": []
    },
    {
      "cell_type": "code",
      "metadata": {
        "id": "qScpdiRB9MZQ",
        "colab_type": "code",
        "outputId": "9175562b-34c1-4a99-e6d6-cb5731756998",
        "colab": {
          "base_uri": "https://localhost:8080/",
          "height": 50
        }
      },
      "source": [
        "print(\"Минимум достигается в: \", x)\n",
        "print(\"Значение функции в минимуме: \", f(x))"
      ],
      "execution_count": 0,
      "outputs": [
        {
          "output_type": "stream",
          "text": [
            "Минимум достигается в:  [1.29197811e-08 3.32901401e-08]\n",
            "Значение функции в минимуме:  1.2751541739575636e-15\n"
          ],
          "name": "stdout"
        }
      ]
    },
    {
      "cell_type": "markdown",
      "metadata": {
        "id": "uoxiCUNV9MZS",
        "colab_type": "text"
      },
      "source": [
        "Проверка с помощью встроенной функции numpy: "
      ]
    },
    {
      "cell_type": "code",
      "metadata": {
        "id": "sigdfNic9MZS",
        "colab_type": "code",
        "outputId": "23cf49cd-e22f-4056-a8cd-94161a858e80",
        "colab": {
          "base_uri": "https://localhost:8080/",
          "height": 84
        }
      },
      "source": [
        "res = minimize(f, x, method='nelder-mead', options={'xtol': 1e-8, 'disp': True})"
      ],
      "execution_count": 0,
      "outputs": [
        {
          "output_type": "stream",
          "text": [
            "Optimization terminated successfully.\n",
            "         Current function value: 0.000000\n",
            "         Iterations: 85\n",
            "         Function evaluations: 164\n"
          ],
          "name": "stdout"
        }
      ]
    }
  ]
}