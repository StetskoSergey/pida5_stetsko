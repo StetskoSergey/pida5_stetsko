{
  "nbformat": 4,
  "nbformat_minor": 0,
  "metadata": {
    "kernelspec": {
      "display_name": "Python 3",
      "language": "python",
      "name": "python3"
    },
    "language_info": {
      "codemirror_mode": {
        "name": "ipython",
        "version": 3
      },
      "file_extension": ".py",
      "mimetype": "text/x-python",
      "name": "python",
      "nbconvert_exporter": "python",
      "pygments_lexer": "ipython3",
      "version": "3.7.5"
    },
    "colab": {
      "name": "homework-6.ipynb",
      "provenance": [],
      "include_colab_link": true
    }
  },
  "cells": [
    {
      "cell_type": "markdown",
      "metadata": {
        "id": "view-in-github",
        "colab_type": "text"
      },
      "source": [
        "<a href=\"https://colab.research.google.com/github/StetskoSergey/pida5_stetsko/blob/master/mds%20homework_6.ipynb\" target=\"_parent\"><img src=\"https://colab.research.google.com/assets/colab-badge.svg\" alt=\"Open In Colab\"/></a>"
      ]
    },
    {
      "cell_type": "markdown",
      "metadata": {
        "id": "BDCjYqllJMtl",
        "colab_type": "text"
      },
      "source": [
        "### Задание\n",
        "\n",
        "При фиксированном seed=42 поразбирайтесь и поэкспериментируйте с параметрами алгоритма:\n",
        "strategy, maxiter, popsize, tol, mutation, recombination и updating.\n",
        "\n",
        "Постройте графики количества итераций оптимизации функции ackley от значения параметра.\n",
        "\n",
        "#### Допзадание\n",
        "\n",
        "Найти множество параметров (strategy=..., maxiter=..., ..., updating=...), которые требуют минимального количества итераций."
      ]
    },
    {
      "cell_type": "code",
      "metadata": {
        "id": "LxvDTRzHJMto",
        "colab_type": "code",
        "colab": {}
      },
      "source": [
        "import numpy as np\n",
        "import matplotlib.pyplot as plt\n",
        "import pandas as pd\n",
        "\n",
        "from scipy.optimize import dual_annealing\n",
        "from scipy.optimize import differential_evolution\n",
        "from scipy.optimize import basinhopping\n",
        "\n",
        "%matplotlib inline"
      ],
      "execution_count": 0,
      "outputs": []
    },
    {
      "cell_type": "code",
      "metadata": {
        "id": "xeth3EOoOSgz",
        "colab_type": "code",
        "colab": {}
      },
      "source": [
        "strategy = ['strategy',['best1bin','best1exp','rand1exp','randtobest1exp','currenttobest1exp','best2exp','rand2exp','randtobest1bin','currenttobest1bin','best2bin','rand2bin','rand1bin']]\n",
        "maxiter = ['maxiter',np.linspace(10, 100, num=10, dtype = int)] # максимальное число циклов, пока все население эволюционирует\n",
        "popsize = ['popsize',np.linspace(1, 100, num=10, dtype = int)] # Множитель для установки общей численности населения.\n",
        "tol = ['tol',np.linspace(0.01, 0.5, num=10)] # float Относительный допуск на сходимость\n",
        "mutation = ['mutation',np.linspace(0.0, 1.9, num=10)] # float Постоянная мутация. В литературе это также известно как дифференциальный вес, обозначаемый F. Если он указан как поплавок, он должен быть в диапазоне [0, 2].\n",
        "recombination = ['recombination',np.linspace(0.0, 1.0, num=10)] # float Константа рекомбинации должна находиться в диапазоне [0, 1]. В литературе это также известно как вероятность кроссовера, обозначаемая CR. Увеличение этого значения позволяет большему числу мутантов прогрессировать в следующее поколение, но с риском стабильности популяции.\n",
        "updating = ['updating',['immediate', 'deferred']]  # {‘immediate’, ‘deferred’} Если \"немедленно\", то вектор наилучшего решения непрерывно обновляется в течение одного поколения [4]. Это может привести к более быстрой конвергенции, поскольку пробные векторы могут использовать преимущества непрерывного улучшения лучшего решения. С \"отложенным\", лучший вектор решения обновляется один раз в поколение \n",
        "\n"
      ],
      "execution_count": 0,
      "outputs": []
    },
    {
      "cell_type": "code",
      "metadata": {
        "id": "c2--6t6VJMtq",
        "colab_type": "code",
        "outputId": "37b6223b-9c20-47de-95f9-1f1e4a95e44d",
        "colab": {
          "base_uri": "https://localhost:8080/",
          "height": 118
        }
      },
      "source": [
        "def ackley(x):\n",
        "    arg1 = -0.2 * np.sqrt(0.5 * (x[0] ** 2 + x[1] ** 2))\n",
        "    arg2 = 0.5 * (np.cos(2. * np.pi * x[0]) + np.cos(2. * np.pi * x[1]))\n",
        "    return -20. * np.exp(arg1) - np.exp(arg2) + 20. + np.e\n",
        "\n",
        "bounds = [(-10, 10), (-10, 10)]\n",
        "result = differential_evolution(ackley, bounds, seed=42)\n",
        "result"
      ],
      "execution_count": 0,
      "outputs": [
        {
          "output_type": "execute_result",
          "data": {
            "text/plain": [
              "     fun: 4.440892098500626e-16\n",
              " message: 'Optimization terminated successfully.'\n",
              "    nfev: 2763\n",
              "     nit: 89\n",
              " success: True\n",
              "       x: array([0., 0.])"
            ]
          },
          "metadata": {
            "tags": []
          },
          "execution_count": 93
        }
      ]
    },
    {
      "cell_type": "code",
      "metadata": {
        "id": "aXi7EpvkaYDO",
        "colab_type": "code",
        "colab": {}
      },
      "source": [
        "def result_arr(**kwargs):\n",
        "  res = differential_evolution(ackley, bounds, **kwargs, seed=42)\n",
        "  return {'nit':res['nit'],'x':res['x']}\n",
        "\n"
      ],
      "execution_count": 0,
      "outputs": []
    },
    {
      "cell_type": "code",
      "metadata": {
        "id": "hg-DOrbRdmkD",
        "colab_type": "code",
        "outputId": "71e1d6ef-9e62-4192-a5a1-eb48848361b0",
        "colab": {
          "base_uri": "https://localhost:8080/",
          "height": 265
        }
      },
      "source": [
        "plt.plot(strategy,[result_arr(strategy=i) for i in strategy])\n",
        "plt.show() "
      ],
      "execution_count": 0,
      "outputs": [
        {
          "output_type": "display_data",
          "data": {
            "image/png": "[encoded data removed]",
            "text/plain": [
              "<Figure size 432x288 with 1 Axes>"
            ]
          },
          "metadata": {
            "tags": []
          }
        }
      ]
    },
    {
      "cell_type": "code",
      "metadata": {
        "id": "i3hjFb4HfVpT",
        "colab_type": "code",
        "outputId": "e758c373-db3f-4e65-a8e9-080a7047cab4",
        "colab": {
          "base_uri": "https://localhost:8080/",
          "height": 54
        }
      },
      "source": [
        "sp = [result_arr(strategy=i) for i in strategy[1]]\n",
        "print(list(zip(strategy[1],sp)))"
      ],
      "execution_count": 0,
      "outputs": [
        {
          "output_type": "stream",
          "text": [
            "[('best1bin', {'nit': 89, 'x': array([0., 0.])}), ('best1exp', {'nit': 143, 'x': array([0., 0.])}), ('rand1exp', {'nit': 246, 'x': array([0., 0.])}), ('randtobest1exp', {'nit': 158, 'x': array([0., 0.])}), ('currenttobest1exp', {'nit': 1000, 'x': array([0., 0.])}), ('best2exp', {'nit': 246, 'x': array([0., 0.])}), ('rand2exp', {'nit': 363, 'x': array([0., 0.])}), ('randtobest1bin', {'nit': 105, 'x': array([0., 0.])}), ('currenttobest1bin', {'nit': 1000, 'x': array([0., 0.])}), ('best2bin', {'nit': 166, 'x': array([0., 0.])}), ('rand2bin', {'nit': 231, 'x': array([0., 0.])}), ('rand1bin', {'nit': 165, 'x': array([0., 0.])})]\n"
          ],
          "name": "stdout"
        }
      ]
    },
    {
      "cell_type": "markdown",
      "metadata": {
        "id": "2l0FqIvphZQo",
        "colab_type": "text"
      },
      "source": [
        "Лучшая стратегия - ('best1bin', 89)"
      ]
    },
    {
      "cell_type": "code",
      "metadata": {
        "id": "E9mX_2KrhgWJ",
        "colab_type": "code",
        "outputId": "ce527683-98c7-4a03-ad1a-adf30adb1b5d",
        "colab": {
          "base_uri": "https://localhost:8080/",
          "height": 302
        }
      },
      "source": [
        "sp = [result_arr(maxiter=i) for i in maxiter]\n",
        "print(list(zip(maxiter,sp)))\n",
        "plt.plot(maxiter,[i[0] for i in sp])\n",
        "plt.show()"
      ],
      "execution_count": 0,
      "outputs": [
        {
          "output_type": "stream",
          "text": [
            "[(10, (10, array([-4.68011705e-09, -3.37908951e-10]))), (20, (20, array([-2.89997015e-09, -2.81305071e-09]))), (30, (30, array([-3.16442503e-09, -5.16887952e-09]))), (40, (40, array([-8.26714866e-10, -4.71251506e-09]))), (50, (50, array([-8.79020190e-10, -1.27768907e-10]))), (60, (60, array([1.53677071e-11, 3.64153152e-12]))), (70, (70, array([-1.46549439e-13,  2.73114864e-13]))), (80, (80, array([2.22044605e-15, 0.00000000e+00]))), (90, (89, array([0., 0.]))), (100, (89, array([0., 0.])))]\n"
          ],
          "name": "stdout"
        },
        {
          "output_type": "display_data",
          "data": {
            "image/png": "[encoded data removed]",
            "text/plain": [
              "<Figure size 432x288 with 1 Axes>"
            ]
          },
          "metadata": {
            "tags": []
          }
        }
      ]
    },
    {
      "cell_type": "code",
      "metadata": {
        "id": "mtGdxn1vhv74",
        "colab_type": "code",
        "outputId": "23b18e5d-7d62-471d-aecf-fc7eacb82a9b",
        "colab": {
          "base_uri": "https://localhost:8080/",
          "height": 302
        }
      },
      "source": [
        "sp = [result_arr(popsize=i) for i in popsize]\n",
        "print(list(zip(popsize,sp)))\n",
        "plt.plot(popsize,[i[0] for i in sp])\n",
        "plt.show()\n"
      ],
      "execution_count": 0,
      "outputs": [
        {
          "output_type": "stream",
          "text": [
            "[(1, (7, array([-2.86743508e-08,  9.52166523e-01]))), (12, (97, array([0., 0.]))), (23, (93, array([0., 0.]))), (34, (98, array([0., 0.]))), (45, (96, array([0., 0.]))), (56, (103, array([0., 0.]))), (67, (100, array([0., 0.]))), (78, (97, array([0., 0.]))), (89, (98, array([0., 0.]))), (100, (101, array([0., 0.])))]\n"
          ],
          "name": "stdout"
        },
        {
          "output_type": "display_data",
          "data": {
            "image/png": "[encoded data removed]",
            "text/plain": [
              "<Figure size 432x288 with 1 Axes>"
            ]
          },
          "metadata": {
            "tags": []
          }
        }
      ]
    },
    {
      "cell_type": "code",
      "metadata": {
        "id": "bdPFVJQ1iKsY",
        "colab_type": "code",
        "outputId": "60e68300-c853-4f26-dd9d-dc1f88e50b19",
        "colab": {
          "base_uri": "https://localhost:8080/",
          "height": 302
        }
      },
      "source": [
        "sp = [result_arr(tol=i) for i in tol]\n",
        "print(list(zip(tol,sp)))\n",
        "plt.plot(tol,[i[0] for i in sp])\n",
        "plt.show()\n"
      ],
      "execution_count": 0,
      "outputs": [
        {
          "output_type": "stream",
          "text": [
            "[(0.01, (89, array([0., 0.]))), (0.06444444444444444, (89, array([0., 0.]))), (0.11888888888888888, (89, array([0., 0.]))), (0.17333333333333334, (89, array([0., 0.]))), (0.22777777777777777, (89, array([0., 0.]))), (0.2822222222222222, (89, array([0., 0.]))), (0.33666666666666667, (1, array([2.46886987e-08, 9.52166534e-01]))), (0.3911111111111111, (1, array([2.46886987e-08, 9.52166534e-01]))), (0.44555555555555554, (1, array([2.46886987e-08, 9.52166534e-01]))), (0.5, (1, array([2.46886987e-08, 9.52166534e-01])))]\n"
          ],
          "name": "stdout"
        },
        {
          "output_type": "display_data",
          "data": {
            "image/png": "[encoded data removed]",
            "text/plain": [
              "<Figure size 432x288 with 1 Axes>"
            ]
          },
          "metadata": {
            "tags": []
          }
        }
      ]
    },
    {
      "cell_type": "code",
      "metadata": {
        "id": "NJTJSd5HimRd",
        "colab_type": "code",
        "outputId": "d953cb6f-6441-46ec-b2e3-9fec33f9deb4",
        "colab": {
          "base_uri": "https://localhost:8080/",
          "height": 302
        }
      },
      "source": [
        "sp = [result_arr(mutation=i) for i in mutation]\n",
        "print(list(zip(mutation,sp)))\n",
        "plt.plot(mutation,[i[0] for i in sp])\n",
        "plt.show()\n"
      ],
      "execution_count": 0,
      "outputs": [
        {
          "output_type": "stream",
          "text": [
            "[(0.0, (3, array([ 0.96847764, -0.96847758]))), (0.2111111111111111, (29, array([2.22044605e-15, 2.22044605e-15]))), (0.4222222222222222, (50, array([0., 0.]))), (0.6333333333333333, (82, array([0., 0.]))), (0.8444444444444444, (120, array([0., 0.]))), (1.0555555555555556, (162, array([0., 0.]))), (1.2666666666666666, (239, array([0., 0.]))), (1.4777777777777779, (294, array([0., 0.]))), (1.6888888888888889, (101, array([-3.67855733e-09, -4.07172313e-09]))), (1.9, (246, array([-6.64750477e-10, -2.23598917e-12])))]\n"
          ],
          "name": "stdout"
        },
        {
          "output_type": "display_data",
          "data": {
            "image/png": "[encoded data removed]",
            "text/plain": [
              "<Figure size 432x288 with 1 Axes>"
            ]
          },
          "metadata": {
            "tags": []
          }
        }
      ]
    },
    {
      "cell_type": "code",
      "metadata": {
        "id": "c57b9oePjErS",
        "colab_type": "code",
        "outputId": "1dceb9f5-34b8-484b-92b8-2b7ec830b87c",
        "colab": {
          "base_uri": "https://localhost:8080/",
          "height": 302
        }
      },
      "source": [
        "sp = [result_arr(recombination=i) for i in recombination]\n",
        "print(list(zip(recombination,sp)))\n",
        "plt.plot(recombination,[i[0] for i in sp])\n",
        "plt.show()\n"
      ],
      "execution_count": 0,
      "outputs": [
        {
          "output_type": "stream",
          "text": [
            "[(0.0, (1000, array([0., 0.]))), (0.1111111111111111, (125, array([0., 0.]))), (0.2222222222222222, (151, array([0., 0.]))), (0.3333333333333333, (107, array([0., 0.]))), (0.4444444444444444, (108, array([0., 0.]))), (0.5555555555555556, (105, array([0., 0.]))), (0.6666666666666666, (95, array([0., 0.]))), (0.7777777777777777, (88, array([0., 0.]))), (0.8888888888888888, (89, array([0., 0.]))), (1.0, (81, array([0., 0.])))]\n"
          ],
          "name": "stdout"
        },
        {
          "output_type": "display_data",
          "data": {
            "image/png": "[encoded data removed]",
            "text/plain": [
              "<Figure size 432x288 with 1 Axes>"
            ]
          },
          "metadata": {
            "tags": []
          }
        }
      ]
    },
    {
      "cell_type": "code",
      "metadata": {
        "id": "o_9OMe5bjGuP",
        "colab_type": "code",
        "outputId": "3142ae48-40a3-48f6-af6f-e2d15091d85d",
        "colab": {
          "base_uri": "https://localhost:8080/",
          "height": 282
        }
      },
      "source": [
        "sp = [result_arr(updating=i) for i in updating]\n",
        "print(list(zip(updating,sp)))\n",
        "plt.plot(updating,[i[0] for i in sp])\n",
        "plt.show()\n"
      ],
      "execution_count": 0,
      "outputs": [
        {
          "output_type": "stream",
          "text": [
            "[('immediate', (89, array([0., 0.]))), ('deferred', (125, array([0., 0.])))]\n"
          ],
          "name": "stdout"
        },
        {
          "output_type": "display_data",
          "data": {
            "image/png": "[encoded data removed]",
            "text/plain": [
              "<Figure size 432x288 with 1 Axes>"
            ]
          },
          "metadata": {
            "tags": []
          }
        }
      ]
    },
    {
      "cell_type": "markdown",
      "metadata": {
        "id": "yQcnZ5C41Rk-",
        "colab_type": "text"
      },
      "source": [
        "Выведем значения функции при разных комбинация трех параметров"
      ]
    },
    {
      "cell_type": "code",
      "metadata": {
        "id": "0g9E3c2FkC8J",
        "colab_type": "code",
        "outputId": "77df0b6f-3c3e-4c83-df43-cb93051eddf7",
        "colab": {
          "base_uri": "https://localhost:8080/",
          "height": 1000
        }
      },
      "source": [
        "[ (i,j,k, result_arr(maxiter=i,strategy=j,updating=k)) for i in maxiter for j in strategy for k in updating]"
      ],
      "execution_count": 0,
      "outputs": [
        {
          "output_type": "execute_result",
          "data": {
            "text/plain": [
              "[(10,\n",
              "  'best1bin',\n",
              "  'immediate',\n",
              "  (10, array([-4.68011705e-09, -3.37908951e-10]))),\n",
              " (10, 'best1bin', 'deferred', (10, array([-2.96373879e-09,  1.64291350e-10]))),\n",
              " (10,\n",
              "  'best1exp',\n",
              "  'immediate',\n",
              "  (10, array([ 2.88791058e-12, -1.78279059e-09]))),\n",
              " (10, 'best1exp', 'deferred', (10, array([-6.61430531e-10, -7.02789925e-11]))),\n",
              " (10,\n",
              "  'rand1exp',\n",
              "  'immediate',\n",
              "  (10, array([-4.01603847e-09, -4.45596607e-09]))),\n",
              " (10, 'rand1exp', 'deferred', (10, array([ 2.15273406e-09, -3.17602766e-09]))),\n",
              " (10,\n",
              "  'randtobest1exp',\n",
              "  'immediate',\n",
              "  (10, array([-1.34818201e-09,  1.51584027e-09]))),\n",
              " (10,\n",
              "  'randtobest1exp',\n",
              "  'deferred',\n",
              "  (10, array([-1.87805951e-09, -5.26832834e-09]))),\n",
              " (10,\n",
              "  'currenttobest1exp',\n",
              "  'immediate',\n",
              "  (10, array([-6.66865518e-10, -3.12886157e-09]))),\n",
              " (10,\n",
              "  'currenttobest1exp',\n",
              "  'deferred',\n",
              "  (10, array([-5.24002663e-09, -1.74655964e-09]))),\n",
              " (10,\n",
              "  'best2exp',\n",
              "  'immediate',\n",
              "  (10, array([-4.29336960e-09, -2.53608049e-09]))),\n",
              " (10, 'best2exp', 'deferred', (10, array([-1.48369310e-09,  2.07177863e-09]))),\n",
              " (10,\n",
              "  'rand2exp',\n",
              "  'immediate',\n",
              "  (10, array([ 1.64794841e-09, -8.65326292e-10]))),\n",
              " (10, 'rand2exp', 'deferred', (10, array([ 6.19444248e-10, -4.26894195e-09]))),\n",
              " (10,\n",
              "  'randtobest1bin',\n",
              "  'immediate',\n",
              "  (10, array([-2.94966164e-09, -5.25310345e-09]))),\n",
              " (10,\n",
              "  'randtobest1bin',\n",
              "  'deferred',\n",
              "  (10, array([-4.61746190e-09, -4.77443595e-09]))),\n",
              " (10,\n",
              "  'currenttobest1bin',\n",
              "  'immediate',\n",
              "  (10, array([-6.76373445e-10,  4.46388415e-10]))),\n",
              " (10,\n",
              "  'currenttobest1bin',\n",
              "  'deferred',\n",
              "  (10, array([-2.72913360e-09, -4.02588759e-09]))),\n",
              " (10,\n",
              "  'best2bin',\n",
              "  'immediate',\n",
              "  (10, array([-2.10715450e-09,  2.41994394e-10]))),\n",
              " (10, 'best2bin', 'deferred', (10, array([-4.49448555e-09, -2.71522826e-09]))),\n",
              " (10,\n",
              "  'rand2bin',\n",
              "  'immediate',\n",
              "  (10, array([ 1.33701892e-09, -3.39212332e-09]))),\n",
              " (10, 'rand2bin', 'deferred', (10, array([-1.73306036e-09, -4.71259321e-09]))),\n",
              " (10,\n",
              "  'rand1bin',\n",
              "  'immediate',\n",
              "  (10, array([-5.32080900e-09, -1.12626809e-09]))),\n",
              " (10, 'rand1bin', 'deferred', (10, array([-1.25174267e-09,  2.05570365e-09]))),\n",
              " (20,\n",
              "  'best1bin',\n",
              "  'immediate',\n",
              "  (20, array([-2.89997015e-09, -2.81305071e-09]))),\n",
              " (20, 'best1bin', 'deferred', (20, array([-2.71639293e-09, -6.23936567e-10]))),\n",
              " (20,\n",
              "  'best1exp',\n",
              "  'immediate',\n",
              "  (20, array([-4.81165240e-09, -4.02594907e-09]))),\n",
              " (20, 'best1exp', 'deferred', (20, array([-5.00975058e-09, -5.12355649e-09]))),\n",
              " (20,\n",
              "  'rand1exp',\n",
              "  'immediate',\n",
              "  (20, array([-4.01603847e-09, -4.45596607e-09]))),\n",
              " (20, 'rand1exp', 'deferred', (20, array([-7.11488701e-10,  4.25411431e-10]))),\n",
              " (20,\n",
              "  'randtobest1exp',\n",
              "  'immediate',\n",
              "  (20, array([-8.71031263e-10, -3.71824416e-09]))),\n",
              " (20,\n",
              "  'randtobest1exp',\n",
              "  'deferred',\n",
              "  (20, array([-4.57771592e-09, -4.78193047e-09]))),\n",
              " (20,\n",
              "  'currenttobest1exp',\n",
              "  'immediate',\n",
              "  (20, array([ 2.29219440e-09, -2.14253098e-09]))),\n",
              " (20,\n",
              "  'currenttobest1exp',\n",
              "  'deferred',\n",
              "  (20, array([-4.99113729e-09, -4.88320582e-09]))),\n",
              " (20,\n",
              "  'best2exp',\n",
              "  'immediate',\n",
              "  (20, array([ 5.75809099e-09, -8.53577039e-09]))),\n",
              " (20, 'best2exp', 'deferred', (20, array([-2.14473240e-09, -4.12122929e-09]))),\n",
              " (20,\n",
              "  'rand2exp',\n",
              "  'immediate',\n",
              "  (20, array([-1.56319800e-09, -7.58485294e-12]))),\n",
              " (20, 'rand2exp', 'deferred', (20, array([ 6.19444248e-10, -4.26894195e-09]))),\n",
              " (20,\n",
              "  'randtobest1bin',\n",
              "  'immediate',\n",
              "  (20, array([-1.18069812e-08, -1.07525517e-08]))),\n",
              " (20,\n",
              "  'randtobest1bin',\n",
              "  'deferred',\n",
              "  (20, array([-4.91802589e-09, -4.64737112e-09]))),\n",
              " (20,\n",
              "  'currenttobest1bin',\n",
              "  'immediate',\n",
              "  (20, array([-1.32218634e-10, -1.68099092e-09]))),\n",
              " (20,\n",
              "  'currenttobest1bin',\n",
              "  'deferred',\n",
              "  (20, array([-7.33342301e-10, -4.11862603e-11]))),\n",
              " (20,\n",
              "  'best2bin',\n",
              "  'immediate',\n",
              "  (20, array([-3.19025384e-09, -5.40054660e-09]))),\n",
              " (20, 'best2bin', 'deferred', (20, array([-4.90537556e-09, -3.84601867e-09]))),\n",
              " (20,\n",
              "  'rand2bin',\n",
              "  'immediate',\n",
              "  (20, array([-2.86982977e-09, -3.05390111e-09]))),\n",
              " (20, 'rand2bin', 'deferred', (20, array([-1.42359267e-08,  5.43493950e-09]))),\n",
              " (20,\n",
              "  'rand1bin',\n",
              "  'immediate',\n",
              "  (20, array([-5.15977360e-09, -2.74864054e-09]))),\n",
              " (20, 'rand1bin', 'deferred', (20, array([-5.73925849e-09, -4.01185824e-09]))),\n",
              " (30,\n",
              "  'best1bin',\n",
              "  'immediate',\n",
              "  (30, array([-3.16442503e-09, -5.16887952e-09]))),\n",
              " (30, 'best1bin', 'deferred', (30, array([-5.13919977e-09, -5.95180227e-09]))),\n",
              " (30,\n",
              "  'best1exp',\n",
              "  'immediate',\n",
              "  (30, array([-4.56659502e-09, -2.96134825e-09]))),\n",
              " (30, 'best1exp', 'deferred', (30, array([-4.73454269e-09, -4.96543460e-09]))),\n",
              " (30,\n",
              "  'rand1exp',\n",
              "  'immediate',\n",
              "  (30, array([-4.12269733e-09, -4.87573076e-09]))),\n",
              " (30, 'rand1exp', 'deferred', (30, array([-3.36358994e-09, -4.97199205e-10]))),\n",
              " (30,\n",
              "  'randtobest1exp',\n",
              "  'immediate',\n",
              "  (30, array([-4.38628611e-09, -4.67791040e-09]))),\n",
              " (30,\n",
              "  'randtobest1exp',\n",
              "  'deferred',\n",
              "  (30, array([-2.29646757e-09, -1.81034935e-09]))),\n",
              " (30,\n",
              "  'currenttobest1exp',\n",
              "  'immediate',\n",
              "  (30, array([ 3.57894443e-09, -6.48270009e-09]))),\n",
              " (30,\n",
              "  'currenttobest1exp',\n",
              "  'deferred',\n",
              "  (30, array([-5.09219784e-09, -4.67692316e-09]))),\n",
              " (30,\n",
              "  'best2exp',\n",
              "  'immediate',\n",
              "  (30, array([-2.70486895e-09,  4.02845992e-12]))),\n",
              " (30, 'best2exp', 'deferred', (30, array([-4.10731668e-09,  1.61724269e-09]))),\n",
              " (30,\n",
              "  'rand2exp',\n",
              "  'immediate',\n",
              "  (30, array([-1.98128280e-08,  9.58809542e-09]))),\n",
              " (30, 'rand2exp', 'deferred', (30, array([ 1.22584985e-09, -5.67206609e-09]))),\n",
              " (30,\n",
              "  'randtobest1bin',\n",
              "  'immediate',\n",
              "  (30, array([-6.17710016e-10, -4.81045885e-09]))),\n",
              " (30,\n",
              "  'randtobest1bin',\n",
              "  'deferred',\n",
              "  (30, array([-3.20547914e-09, -2.48245028e-09]))),\n",
              " (30,\n",
              "  'currenttobest1bin',\n",
              "  'immediate',\n",
              "  (30, array([-2.93903544e-09, -4.05525034e-09]))),\n",
              " (30,\n",
              "  'currenttobest1bin',\n",
              "  'deferred',\n",
              "  (30, array([-3.04836923e-09, -2.65156304e-09]))),\n",
              " (30,\n",
              "  'best2bin',\n",
              "  'immediate',\n",
              "  (30, array([-4.63093464e-09, -5.02201404e-09]))),\n",
              " (30, 'best2bin', 'deferred', (30, array([-1.03782710e-09, -5.79631399e-09]))),\n",
              " (30,\n",
              "  'rand2bin',\n",
              "  'immediate',\n",
              "  (30, array([-2.86982977e-09, -3.05390111e-09]))),\n",
              " (30, 'rand2bin', 'deferred', (30, array([-5.39562399e-09, -4.97247208e-09]))),\n",
              " (30,\n",
              "  'rand1bin',\n",
              "  'immediate',\n",
              "  (30, array([-4.50175705e-09, -2.21410365e-09]))),\n",
              " (30, 'rand1bin', 'deferred', (30, array([ 9.66613197e-10, -1.55356863e-09]))),\n",
              " (40,\n",
              "  'best1bin',\n",
              "  'immediate',\n",
              "  (40, array([-8.26714866e-10, -4.71251506e-09]))),\n",
              " (40, 'best1bin', 'deferred', (40, array([-4.86891679e-09, -4.83730958e-09]))),\n",
              " (40,\n",
              "  'best1exp',\n",
              "  'immediate',\n",
              "  (40, array([-1.21086080e-09, -4.27799378e-09]))),\n",
              " (40, 'best1exp', 'deferred', (40, array([-4.97813888e-09, -4.99126331e-09]))),\n",
              " (40,\n",
              "  'rand1exp',\n",
              "  'immediate',\n",
              "  (40, array([-2.43173004e-09, -4.12884476e-09]))),\n",
              " (40, 'rand1exp', 'deferred', (40, array([-1.88739571e-09, -4.39957451e-09]))),\n",
              " (40,\n",
              "  'randtobest1exp',\n",
              "  'immediate',\n",
              "  (40, array([-4.70600317e-09, -4.90671483e-09]))),\n",
              " (40,\n",
              "  'randtobest1exp',\n",
              "  'deferred',\n",
              "  (40, array([-4.06522420e-09, -7.55633288e-10]))),\n",
              " (40,\n",
              "  'currenttobest1exp',\n",
              "  'immediate',\n",
              "  (40, array([-4.84016537e-09, -5.08989600e-09]))),\n",
              " (40,\n",
              "  'currenttobest1exp',\n",
              "  'deferred',\n",
              "  (40, array([-5.06956253e-09, -5.03178813e-09]))),\n",
              " (40,\n",
              "  'best2exp',\n",
              "  'immediate',\n",
              "  (40, array([-3.19132399e-09, -3.69835301e-09]))),\n",
              " (40, 'best2exp', 'deferred', (40, array([-3.09657730e-09, -3.95976686e-09]))),\n",
              " (40,\n",
              "  'rand2exp',\n",
              "  'immediate',\n",
              "  (40, array([-2.06991254e-09, -3.09898745e-09]))),\n",
              " (40, 'rand2exp', 'deferred', (40, array([-1.33485382e-09, -4.30690866e-09]))),\n",
              " (40,\n",
              "  'randtobest1bin',\n",
              "  'immediate',\n",
              "  (40, array([-5.03255029e-10, -3.71930493e-09]))),\n",
              " (40,\n",
              "  'randtobest1bin',\n",
              "  'deferred',\n",
              "  (40, array([-1.56199127e-09, -5.03139592e-09]))),\n",
              " (40,\n",
              "  'currenttobest1bin',\n",
              "  'immediate',\n",
              "  (40, array([-4.87602028e-09, -1.99702345e-09]))),\n",
              " (40,\n",
              "  'currenttobest1bin',\n",
              "  'deferred',\n",
              "  (40, array([-3.00266328e-09, -5.57915975e-09]))),\n",
              " (40,\n",
              "  'best2bin',\n",
              "  'immediate',\n",
              "  (40, array([-3.32653712e-09, -5.69108868e-09]))),\n",
              " (40, 'best2bin', 'deferred', (40, array([-5.20514039e-09, -4.94148294e-09]))),\n",
              " (40,\n",
              "  'rand2bin',\n",
              "  'immediate',\n",
              "  (40, array([-2.86982977e-09, -3.05390111e-09]))),\n",
              " (40, 'rand2bin', 'deferred', (40, array([-4.79511583e-09, -4.13480916e-09]))),\n",
              " (40,\n",
              "  'rand1bin',\n",
              "  'immediate',\n",
              "  (40, array([-5.34570748e-09,  3.15539807e-10]))),\n",
              " (40, 'rand1bin', 'deferred', (40, array([-5.36183831e-09, -2.93505297e-09]))),\n",
              " (50,\n",
              "  'best1bin',\n",
              "  'immediate',\n",
              "  (50, array([-8.79020190e-10, -1.27768907e-10]))),\n",
              " (50, 'best1bin', 'deferred', (50, array([-5.08383532e-09, -5.04129910e-09]))),\n",
              " (50,\n",
              "  'best1exp',\n",
              "  'immediate',\n",
              "  (50, array([-4.46656171e-09, -2.89894504e-09]))),\n",
              " (50, 'best1exp', 'deferred', (50, array([-4.69503487e-09, -9.75836205e-10]))),\n",
              " (50,\n",
              "  'rand1exp',\n",
              "  'immediate',\n",
              "  (50, array([-2.19457652e-09, -4.92769730e-09]))),\n",
              " (50, 'rand1exp', 'deferred', (50, array([-4.73661504e-09, -4.75983374e-09]))),\n",
              " (50,\n",
              "  'randtobest1exp',\n",
              "  'immediate',\n",
              "  (50, array([-3.71313293e-09,  7.92612783e-11]))),\n",
              " (50,\n",
              "  'randtobest1exp',\n",
              "  'deferred',\n",
              "  (50, array([-4.45204657e-09, -1.63963650e-09]))),\n",
              " (50,\n",
              "  'currenttobest1exp',\n",
              "  'immediate',\n",
              "  (50, array([-4.41775899e-09, -4.76751200e-09]))),\n",
              " (50,\n",
              "  'currenttobest1exp',\n",
              "  'deferred',\n",
              "  (50, array([-1.85721540e-09, -5.05621085e-09]))),\n",
              " (50,\n",
              "  'best2exp',\n",
              "  'immediate',\n",
              "  (50, array([-2.47981138e-09, -3.49182332e-09]))),\n",
              " (50, 'best2exp', 'deferred', (50, array([-4.30418717e-09, -5.10914037e-09]))),\n",
              " (50,\n",
              "  'rand2exp',\n",
              "  'immediate',\n",
              "  (50, array([-3.42226549e-09, -2.48589793e-09]))),\n",
              " (50, 'rand2exp', 'deferred', (50, array([-4.89919192e-09, -4.50850638e-09]))),\n",
              " (50,\n",
              "  'randtobest1bin',\n",
              "  'immediate',\n",
              "  (50, array([-5.23882814e-09, -1.07379658e-09]))),\n",
              " (50,\n",
              "  'randtobest1bin',\n",
              "  'deferred',\n",
              "  (50, array([-2.91603784e-09, -2.57495360e-09]))),\n",
              " (50,\n",
              "  'currenttobest1bin',\n",
              "  'immediate',\n",
              "  (50, array([-4.95815030e-09, -4.88871504e-09]))),\n",
              " (50,\n",
              "  'currenttobest1bin',\n",
              "  'deferred',\n",
              "  (50, array([-1.08268369e-09, -4.39019753e-09]))),\n",
              " (50,\n",
              "  'best2bin',\n",
              "  'immediate',\n",
              "  (50, array([-5.51229982e-09, -4.21654746e-09]))),\n",
              " (50, 'best2bin', 'deferred', (50, array([-1.20097644e-09, -1.37140354e-09]))),\n",
              " (50,\n",
              "  'rand2bin',\n",
              "  'immediate',\n",
              "  (50, array([-3.08465620e-09,  6.96110129e-10]))),\n",
              " (50, 'rand2bin', 'deferred', (50, array([-4.62248886e-09, -1.42075080e-09]))),\n",
              " (50,\n",
              "  'rand1bin',\n",
              "  'immediate',\n",
              "  (50, array([-2.47644933e-09, -5.13446611e-09]))),\n",
              " (50, 'rand1bin', 'deferred', (50, array([-3.22269292e-09, -7.20819657e-10]))),\n",
              " (60, 'best1bin', 'immediate', (60, array([1.53677071e-11, 3.64153152e-12]))),\n",
              " (60, 'best1bin', 'deferred', (60, array([ 5.18349826e-10, -4.33096783e-09]))),\n",
              " (60,\n",
              "  'best1exp',\n",
              "  'immediate',\n",
              "  (60, array([-5.02546431e-09, -4.91026930e-09]))),\n",
              " (60, 'best1exp', 'deferred', (60, array([-3.19408169e-09, -4.63394981e-09]))),\n",
              " (60,\n",
              "  'rand1exp',\n",
              "  'immediate',\n",
              "  (60, array([ 3.82823582e-10, -4.46462934e-09]))),\n",
              " (60, 'rand1exp', 'deferred', (60, array([-4.85130885e-09, -3.32377420e-10]))),\n",
              " (60,\n",
              "  'randtobest1exp',\n",
              "  'immediate',\n",
              "  (60, array([-5.46678699e-10, -4.63032970e-09]))),\n",
              " (60,\n",
              "  'randtobest1exp',\n",
              "  'deferred',\n",
              "  (60, array([-5.45650044e-09, -4.25103443e-09]))),\n",
              " (60,\n",
              "  'currenttobest1exp',\n",
              "  'immediate',\n",
              "  (60, array([-3.39412712e-09, -4.02628518e-09]))),\n",
              " (60,\n",
              "  'currenttobest1exp',\n",
              "  'deferred',\n",
              "  (60, array([-6.98384501e-09, -6.33688290e-09]))),\n",
              " (60,\n",
              "  'best2exp',\n",
              "  'immediate',\n",
              "  (60, array([-3.74520882e-09, -4.08119849e-09]))),\n",
              " (60, 'best2exp', 'deferred', (60, array([-5.14978859e-09, -5.23697749e-09]))),\n",
              " (60,\n",
              "  'rand2exp',\n",
              "  'immediate',\n",
              "  (60, array([-3.33149833e-09, -2.83805357e-09]))),\n",
              " (60, 'rand2exp', 'deferred', (60, array([-2.21687054e-09, -2.84654823e-09]))),\n",
              " (60,\n",
              "  'randtobest1bin',\n",
              "  'immediate',\n",
              "  (60, array([-4.28512781e-10, -2.62583288e-10]))),\n",
              " (60,\n",
              "  'randtobest1bin',\n",
              "  'deferred',\n",
              "  (60, array([-4.14212639e-09, -4.51071755e-09]))),\n",
              " (60,\n",
              "  'currenttobest1bin',\n",
              "  'immediate',\n",
              "  (60, array([-1.41086230e-09, -1.59337955e-09]))),\n",
              " (60,\n",
              "  'currenttobest1bin',\n",
              "  'deferred',\n",
              "  (60, array([-4.93173045e-09, -1.68922800e-09]))),\n",
              " (60,\n",
              "  'best2bin',\n",
              "  'immediate',\n",
              "  (60, array([-6.01091389e-09, -4.44283044e-10]))),\n",
              " (60, 'best2bin', 'deferred', (60, array([-1.20097644e-09, -1.37140354e-09]))),\n",
              " (60,\n",
              "  'rand2bin',\n",
              "  'immediate',\n",
              "  (60, array([-1.46637179e-09, -1.11559252e-10]))),\n",
              " (60, 'rand2bin', 'deferred', (60, array([-5.67133329e-09, -2.70951689e-09]))),\n",
              " (60,\n",
              "  'rand1bin',\n",
              "  'immediate',\n",
              "  (60, array([-3.63974567e-09,  4.84153896e-10]))),\n",
              " (60, 'rand1bin', 'deferred', (60, array([-3.22269292e-09, -7.20819657e-10]))),\n",
              " (70,\n",
              "  'best1bin',\n",
              "  'immediate',\n",
              "  (70, array([-1.46549439e-13,  2.73114864e-13]))),\n",
              " (70, 'best1bin', 'deferred', (70, array([ 1.56659130e-10, -1.23612898e-09]))),\n",
              " (70,\n",
              "  'best1exp',\n",
              "  'immediate',\n",
              "  (70, array([-7.66641964e-09, -1.24654520e-08]))),\n",
              " (70, 'best1exp', 'deferred', (70, array([-4.97345843e-09, -4.70970215e-09]))),\n",
              " (70,\n",
              "  'rand1exp',\n",
              "  'immediate',\n",
              "  (70, array([-5.18428585e-09, -4.51449809e-09]))),\n",
              " (70, 'rand1exp', 'deferred', (70, array([-5.00076896e-09, -3.49381069e-09]))),\n",
              " (70,\n",
              "  'randtobest1exp',\n",
              "  'immediate',\n",
              "  (70, array([-4.90051013e-09, -4.96523782e-09]))),\n",
              " (70,\n",
              "  'randtobest1exp',\n",
              "  'deferred',\n",
              "  (70, array([-4.84350874e-09, -4.91713701e-09]))),\n",
              " (70,\n",
              "  'currenttobest1exp',\n",
              "  'immediate',\n",
              "  (70, array([-2.36663579e-10, -5.00948610e-09]))),\n",
              " (70,\n",
              "  'currenttobest1exp',\n",
              "  'deferred',\n",
              "  (70, array([-5.03307569e-09, -4.99267035e-09]))),\n",
              " (70,\n",
              "  'best2exp',\n",
              "  'immediate',\n",
              "  (70, array([-1.58307577e-09,  4.19616649e-10]))),\n",
              " (70, 'best2exp', 'deferred', (70, array([-5.26785807e-09, -3.16019120e-09]))),\n",
              " (70, 'rand2exp', 'immediate', (70, array([-2.6620371e-09, -4.4436679e-09]))),\n",
              " (70, 'rand2exp', 'deferred', (70, array([-4.26774251e-09, -1.76314108e-10]))),\n",
              " (70,\n",
              "  'randtobest1bin',\n",
              "  'immediate',\n",
              "  (70, array([-3.45241395e-12,  3.12615090e-12]))),\n",
              " (70,\n",
              "  'randtobest1bin',\n",
              "  'deferred',\n",
              "  (70, array([-1.85867919e-09, -5.31130398e-09]))),\n",
              " (70,\n",
              "  'currenttobest1bin',\n",
              "  'immediate',\n",
              "  (70, array([-1.36366474e-10,  9.05386877e-11]))),\n",
              " (70,\n",
              "  'currenttobest1bin',\n",
              "  'deferred',\n",
              "  (70, array([-5.00717929e-09, -6.90259695e-10]))),\n",
              " (70,\n",
              "  'best2bin',\n",
              "  'immediate',\n",
              "  (70, array([-3.35193233e-09, -3.60229672e-09]))),\n",
              " (70, 'best2bin', 'deferred', (70, array([-2.16882675e-09, -4.12551545e-09]))),\n",
              " (70,\n",
              "  'rand2bin',\n",
              "  'immediate',\n",
              "  (70, array([-5.06894652e-09, -2.39640973e-09]))),\n",
              " (70, 'rand2bin', 'deferred', (70, array([-4.75534544e-09, -4.94236644e-09]))),\n",
              " (70,\n",
              "  'rand1bin',\n",
              "  'immediate',\n",
              "  (70, array([-5.49245433e-09, -4.99213716e-09]))),\n",
              " (70, 'rand1bin', 'deferred', (70, array([-3.72870177e-09, -5.42823811e-09]))),\n",
              " (80, 'best1bin', 'immediate', (80, array([2.22044605e-15, 0.00000000e+00]))),\n",
              " (80, 'best1bin', 'deferred', (80, array([1.98729921e-11, 3.52162743e-12]))),\n",
              " (80,\n",
              "  'best1exp',\n",
              "  'immediate',\n",
              "  (80, array([-2.13843923e-10, -1.78341183e-11]))),\n",
              " (80, 'best1exp', 'deferred', (80, array([-5.17577388e-09, -4.32848264e-09]))),\n",
              " (80,\n",
              "  'rand1exp',\n",
              "  'immediate',\n",
              "  (80, array([-5.18428585e-09, -4.51449809e-09]))),\n",
              " (80, 'rand1exp', 'deferred', (80, array([-2.83727089e-09, -1.88948424e-09]))),\n",
              " (80,\n",
              "  'randtobest1exp',\n",
              "  'immediate',\n",
              "  (80, array([ 4.98090050e-10, -1.98987804e-09]))),\n",
              " (80,\n",
              "  'randtobest1exp',\n",
              "  'deferred',\n",
              "  (80, array([ 2.41482705e-10, -3.14918673e-09]))),\n",
              " (80,\n",
              "  'currenttobest1exp',\n",
              "  'immediate',\n",
              "  (80, array([-5.32177749e-09, -4.36948704e-09]))),\n",
              " (80,\n",
              "  'currenttobest1exp',\n",
              "  'deferred',\n",
              "  (80, array([-3.78418896e-09, -1.56452611e-09]))),\n",
              " (80,\n",
              "  'best2exp',\n",
              "  'immediate',\n",
              "  (80, array([-4.54682601e-09, -2.91444639e-10]))),\n",
              " (80, 'best2exp', 'deferred', (80, array([-4.87840349e-09, -5.77056649e-10]))),\n",
              " (80, 'rand2exp', 'immediate', (80, array([-2.6620371e-09, -4.4436679e-09]))),\n",
              " (80, 'rand2exp', 'deferred', (80, array([-7.10520785e-09, -2.16396464e-08]))),\n",
              " (80,\n",
              "  'randtobest1bin',\n",
              "  'immediate',\n",
              "  (80, array([9.32587341e-14, 1.82076576e-13]))),\n",
              " (80,\n",
              "  'randtobest1bin',\n",
              "  'deferred',\n",
              "  (80, array([ 1.37632292e-10, -2.43212341e-10]))),\n",
              " (80,\n",
              "  'currenttobest1bin',\n",
              "  'immediate',\n",
              "  (80, array([ 5.59108315e-12, -5.83644244e-12]))),\n",
              " (80,\n",
              "  'currenttobest1bin',\n",
              "  'deferred',\n",
              "  (80, array([-6.77857770e-11, -1.81196169e-10]))),\n",
              " (80,\n",
              "  'best2bin',\n",
              "  'immediate',\n",
              "  (80, array([-3.83219991e-09, -2.67281871e-09]))),\n",
              " (80, 'best2bin', 'deferred', (80, array([-1.49788199e-09, -4.92776645e-09]))),\n",
              " (80,\n",
              "  'rand2bin',\n",
              "  'immediate',\n",
              "  (80, array([-1.08337156e-09, -5.04090320e-09]))),\n",
              " (80, 'rand2bin', 'deferred', (80, array([ 7.96855682e-10, -4.75436936e-09]))),\n",
              " (80,\n",
              "  'rand1bin',\n",
              "  'immediate',\n",
              "  (80, array([-3.11568670e-09, -5.09584934e-09]))),\n",
              " (80, 'rand1bin', 'deferred', (80, array([-3.09601490e-09, -3.47748554e-09]))),\n",
              " (90, 'best1bin', 'immediate', (89, array([0., 0.]))),\n",
              " (90, 'best1bin', 'deferred', (90, array([-5.87307980e-13,  2.22044605e-13]))),\n",
              " (90,\n",
              "  'best1exp',\n",
              "  'immediate',\n",
              "  (90, array([ 3.32578409e-11, -4.26980673e-11]))),\n",
              " (90, 'best1exp', 'deferred', (90, array([-6.88156199e-10, -1.46068602e-09]))),\n",
              " (90,\n",
              "  'rand1exp',\n",
              "  'immediate',\n",
              "  (90, array([-1.42897083e-09, -3.83640625e-09]))),\n",
              " (90, 'rand1exp', 'deferred', (90, array([-4.95026497e-09, -5.00997183e-09]))),\n",
              " (90,\n",
              "  'randtobest1exp',\n",
              "  'immediate',\n",
              "  (90, array([-4.74859505e-12, -1.05391773e-10]))),\n",
              " (90,\n",
              "  'randtobest1exp',\n",
              "  'deferred',\n",
              "  (90, array([-1.03429242e-09, -8.14143296e-10]))),\n",
              " (90,\n",
              "  'currenttobest1exp',\n",
              "  'immediate',\n",
              "  (90, array([-1.05101974e-09, -5.19354252e-09]))),\n",
              " (90,\n",
              "  'currenttobest1exp',\n",
              "  'deferred',\n",
              "  (90, array([-4.45443329e-09, -3.44328821e-09]))),\n",
              " (90,\n",
              "  'best2exp',\n",
              "  'immediate',\n",
              "  (90, array([-4.26127184e-09, -4.47906609e-09]))),\n",
              " (90, 'best2exp', 'deferred', (90, array([-2.99536180e-09, -2.81482884e-09]))),\n",
              " (90,\n",
              "  'rand2exp',\n",
              "  'immediate',\n",
              "  (90, array([-3.17486607e-09, -4.01858752e-09]))),\n",
              " (90, 'rand2exp', 'deferred', (90, array([-4.57592344e-10, -1.06436611e-09]))),\n",
              " (90,\n",
              "  'randtobest1bin',\n",
              "  'immediate',\n",
              "  (90, array([-3.33066907e-15,  0.00000000e+00]))),\n",
              " (90,\n",
              "  'randtobest1bin',\n",
              "  'deferred',\n",
              "  (90, array([-1.46531121e-12,  1.89277388e-12]))),\n",
              " (90,\n",
              "  'currenttobest1bin',\n",
              "  'immediate',\n",
              "  (90, array([2.88657986e-14, 4.21884749e-14]))),\n",
              " (90,\n",
              "  'currenttobest1bin',\n",
              "  'deferred',\n",
              "  (90, array([-1.17569930e-11,  1.54659629e-11]))),\n",
              " (90,\n",
              "  'best2bin',\n",
              "  'immediate',\n",
              "  (90, array([-1.09144508e-10,  4.43686155e-11]))),\n",
              " (90, 'best2bin', 'deferred', (90, array([-4.99687725e-09, -4.95950895e-09]))),\n",
              " (90,\n",
              "  'rand2bin',\n",
              "  'immediate',\n",
              "  (90, array([-2.25830419e-09, -5.34183112e-09]))),\n",
              " (90, 'rand2bin', 'deferred', (90, array([-4.3731295e-09, -1.1208858e-09]))),\n",
              " (90,\n",
              "  'rand1bin',\n",
              "  'immediate',\n",
              "  (90, array([-7.20195015e-10,  3.63173935e-10]))),\n",
              " (90, 'rand1bin', 'deferred', (90, array([-4.16731769e-09, -6.07165565e-10]))),\n",
              " (100, 'best1bin', 'immediate', (89, array([0., 0.]))),\n",
              " (100,\n",
              "  'best1bin',\n",
              "  'deferred',\n",
              "  (100, array([-3.10862447e-14, -2.66453526e-14]))),\n",
              " (100,\n",
              "  'best1exp',\n",
              "  'immediate',\n",
              "  (100, array([-1.12465592e-12,  3.64597241e-12]))),\n",
              " (100,\n",
              "  'best1exp',\n",
              "  'deferred',\n",
              "  (100, array([ 8.12661050e-11, -1.12293286e-09]))),\n",
              " (100,\n",
              "  'rand1exp',\n",
              "  'immediate',\n",
              "  (100, array([-5.00999342e-09, -5.06360422e-09]))),\n",
              " (100,\n",
              "  'rand1exp',\n",
              "  'deferred',\n",
              "  (100, array([-5.32939783e-09, -1.38392439e-09]))),\n",
              " (100,\n",
              "  'randtobest1exp',\n",
              "  'immediate',\n",
              "  (100, array([ 1.28630440e-11, -3.94628774e-11]))),\n",
              " (100,\n",
              "  'randtobest1exp',\n",
              "  'deferred',\n",
              "  (100, array([ 3.39557271e-10, -1.68128844e-10]))),\n",
              " (100,\n",
              "  'currenttobest1exp',\n",
              "  'immediate',\n",
              "  (100, array([-5.57867086e-10,  2.40270026e-10]))),\n",
              " (100,\n",
              "  'currenttobest1exp',\n",
              "  'deferred',\n",
              "  (100, array([-3.75977603e-10,  3.26668204e-10]))),\n",
              " (100,\n",
              "  'best2exp',\n",
              "  'immediate',\n",
              "  (100, array([-4.63613536e-09, -4.78472905e-09]))),\n",
              " (100,\n",
              "  'best2exp',\n",
              "  'deferred',\n",
              "  (100, array([-5.42394173e-10, -2.91264583e-09]))),\n",
              " (100,\n",
              "  'rand2exp',\n",
              "  'immediate',\n",
              "  (100, array([-4.85156265e-09, -4.96762159e-09]))),\n",
              " (100,\n",
              "  'rand2exp',\n",
              "  'deferred',\n",
              "  (100, array([-3.01454304e-10, -5.28520416e-09]))),\n",
              " (100, 'randtobest1bin', 'immediate', (100, array([0., 0.]))),\n",
              " (100,\n",
              "  'randtobest1bin',\n",
              "  'deferred',\n",
              "  (100, array([6.66133815e-14, 1.28785871e-13]))),\n",
              " (100,\n",
              "  'currenttobest1bin',\n",
              "  'immediate',\n",
              "  (100, array([-5.55111512e-15, -1.11022302e-15]))),\n",
              " (100,\n",
              "  'currenttobest1bin',\n",
              "  'deferred',\n",
              "  (100, array([-2.47468712e-12,  1.29452005e-12]))),\n",
              " (100,\n",
              "  'best2bin',\n",
              "  'immediate',\n",
              "  (100, array([ 2.83062462e-11, -1.63746794e-11]))),\n",
              " (100,\n",
              "  'best2bin',\n",
              "  'deferred',\n",
              "  (100, array([ 1.31789098e-09, -2.42735301e-09]))),\n",
              " (100,\n",
              "  'rand2bin',\n",
              "  'immediate',\n",
              "  (100, array([-4.96194931e-09, -4.77078372e-09]))),\n",
              " (100,\n",
              "  'rand2bin',\n",
              "  'deferred',\n",
              "  (100, array([-2.77209500e-10, -4.41062751e-09]))),\n",
              " (100,\n",
              "  'rand1bin',\n",
              "  'immediate',\n",
              "  (100, array([ 8.73789929e-11, -3.67347264e-10]))),\n",
              " (100,\n",
              "  'rand1bin',\n",
              "  'deferred',\n",
              "  (100, array([-4.99104491e-09, -4.98752128e-09])))]"
            ]
          },
          "metadata": {
            "tags": []
          },
          "execution_count": 76
        }
      ]
    },
    {
      "cell_type": "markdown",
      "metadata": {
        "id": "zLMqmh6x0jN3",
        "colab_type": "text"
      },
      "source": [
        "Лучшая стратегия - best1bin\n",
        "\n",
        "Лучший updating - immediate\n",
        "\n",
        "maxiter - я так и не понял, при меньших 80 он заканчивается, просто не успевает дойти до минимума, я могу ограничить итерации хоть 5 циклами или даже 1. Не понятно как его оптимизировать ? возможно нужно просто следить, чтобы maxiter был не меньше требуемого количества циклов."
      ]
    }
  ]
}