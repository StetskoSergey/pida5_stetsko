{
  "nbformat": 4,
  "nbformat_minor": 0,
  "metadata": {
    "colab": {
      "name": "Untitled25.ipynb",
      "provenance": [],
      "collapsed_sections": [],
      "machine_shape": "hm",
      "authorship_tag": "ABX9TyPoPAfyvkQdZziKJswwFn3B",
      "include_colab_link": true
    },
    "kernelspec": {
      "name": "python3",
      "display_name": "Python 3"
    }
  },
  "cells": [
    {
      "cell_type": "markdown",
      "metadata": {
        "id": "view-in-github",
        "colab_type": "text"
      },
      "source": [
        "<a href=\"https://colab.research.google.com/github/StetskoSergey/pida5_stetsko/blob/master/aml%5Caml%20dz%205.ipynb\" target=\"_parent\"><img src=\"https://colab.research.google.com/assets/colab-badge.svg\" alt=\"Open In Colab\"/></a>"
      ]
    },
    {
      "cell_type": "markdown",
      "metadata": {
        "id": "MiegxMG5zwDX",
        "colab_type": "text"
      },
      "source": [
        "Что делать?\n",
        "1.Датасет ml-latest\n",
        "2.Вспомнить подходы, которые мы разбирали\n",
        "3.Выбрать понравившийся подход к гибридным системам\n",
        "4.Написать свою\n",
        "Материалы здесь"
      ]
    },
    {
      "cell_type": "markdown",
      "metadata": {
        "id": "cPpe8mi7MWZQ",
        "colab_type": "text"
      },
      "source": [
        "***Сделаем Стэкинг : ***\n",
        "\n",
        "---\n",
        "\n",
        "\n",
        "Сначала по жанрам сделаем KNNWithMeans\n",
        "Сделаем SVD\n",
        "\n",
        "И Сделаем Ансамбль RandomForestRegressor\n"
      ]
    },
    {
      "cell_type": "code",
      "metadata": {
        "id": "_eVksHOtU2cv",
        "colab_type": "code",
        "outputId": "cb01fb30-8bab-4c70-d3bc-4a5f05e3236e",
        "colab": {
          "base_uri": "https://localhost:8080/",
          "height": 286
        }
      },
      "source": [
        "pip install surprise"
      ],
      "execution_count": 1,
      "outputs": [
        {
          "output_type": "stream",
          "text": [
            "Collecting surprise\n",
            "  Downloading https://files.pythonhosted.org/packages/61/de/e5cba8682201fcf9c3719a6fdda95693468ed061945493dea2dd37c5618b/surprise-0.1-py2.py3-none-any.whl\n",
            "Collecting scikit-surprise\n",
            "\u001b[?25l  Downloading https://files.pythonhosted.org/packages/f5/da/b5700d96495fb4f092be497f02492768a3d96a3f4fa2ae7dea46d4081cfa/scikit-surprise-1.1.0.tar.gz (6.4MB)\n",
            "\u001b[K     |████████████████████████████████| 6.5MB 3.0MB/s \n",
            "\u001b[?25hRequirement already satisfied: joblib>=0.11 in /usr/local/lib/python3.6/dist-packages (from scikit-surprise->surprise) (0.14.1)\n",
            "Requirement already satisfied: numpy>=1.11.2 in /usr/local/lib/python3.6/dist-packages (from scikit-surprise->surprise) (1.17.5)\n",
            "Requirement already satisfied: scipy>=1.0.0 in /usr/local/lib/python3.6/dist-packages (from scikit-surprise->surprise) (1.4.1)\n",
            "Requirement already satisfied: six>=1.10.0 in /usr/local/lib/python3.6/dist-packages (from scikit-surprise->surprise) (1.12.0)\n",
            "Building wheels for collected packages: scikit-surprise\n",
            "  Building wheel for scikit-surprise (setup.py) ... \u001b[?25l\u001b[?25hdone\n",
            "  Created wheel for scikit-surprise: filename=scikit_surprise-1.1.0-cp36-cp36m-linux_x86_64.whl size=1678239 sha256=545443143d5b55cec1b1e030be4266e81269ab0db1359018905f9613ab2cdae6\n",
            "  Stored in directory: /root/.cache/pip/wheels/cc/fa/8c/16c93fccce688ae1bde7d979ff102f7bee980d9cfeb8641bcf\n",
            "Successfully built scikit-surprise\n",
            "Installing collected packages: scikit-surprise, surprise\n",
            "Successfully installed scikit-surprise-1.1.0 surprise-0.1\n"
          ],
          "name": "stdout"
        }
      ]
    },
    {
      "cell_type": "code",
      "metadata": {
        "id": "ZyfS9_kpFMTc",
        "colab_type": "code",
        "colab": {}
      },
      "source": [
        "import numpy as np\n",
        "import pandas as pd\n",
        "\n",
        "from datetime import datetime\n",
        "\n",
        "from tqdm import tqdm_notebook\n",
        "\n",
        "import matplotlib.pyplot as plt\n",
        "from surprise import Dataset, Reader, KNNBaseline, KNNBasic, KNNWithMeans, KNNWithZScore\n",
        "from surprise.model_selection import train_test_split, KFold\n",
        "from sklearn.model_selection import train_test_split as lr_train_test_split\n",
        "from sklearn.linear_model import LinearRegression\n",
        "from sklearn.feature_extraction.text import TfidfVectorizer\n",
        "from surprise import SVD, SVDpp\n",
        "from surprise import accuracy\n",
        "from sklearn.metrics import mean_squared_error\n",
        "\n",
        "import warnings\n",
        "warnings.filterwarnings('ignore')\n",
        "%matplotlib inline"
      ],
      "execution_count": 0,
      "outputs": []
    },
    {
      "cell_type": "code",
      "metadata": {
        "id": "bWPXe3RKO-A9",
        "colab_type": "code",
        "colab": {}
      },
      "source": [
        "movies = pd.read_csv('movies.csv')\n",
        "ratings = pd.read_csv('ratings.csv')"
      ],
      "execution_count": 0,
      "outputs": []
    },
    {
      "cell_type": "code",
      "metadata": {
        "id": "H5U5r62LP6nH",
        "colab_type": "code",
        "colab": {}
      },
      "source": [
        "movies_with_ratings = movies.join(ratings.set_index('movieId'), on='movieId').reset_index(drop=True)\n",
        "movies_with_ratings.dropna(inplace=True)"
      ],
      "execution_count": 0,
      "outputs": []
    },
    {
      "cell_type": "code",
      "metadata": {
        "id": "Nc1ITAbNWRHD",
        "colab_type": "code",
        "colab": {}
      },
      "source": [
        "# формируем tfidf по жанрам\n",
        "def change_string(s):\n",
        "    return ' '.join(s.replace(' ', '').replace('-', '').split('|'))\n",
        "\n",
        "movie_genres = [change_string(g) for g in movies_with_ratings.genres.values]\n",
        "\n",
        "tfidf_vectorizer_genre = TfidfVectorizer()\n",
        "X_train_tfidf_genre = tfidf_vectorizer_genre.fit_transform(movie_genres)"
      ],
      "execution_count": 0,
      "outputs": []
    },
    {
      "cell_type": "code",
      "metadata": {
        "id": "IotDCmLzXzfG",
        "colab_type": "code",
        "colab": {}
      },
      "source": [
        "# Все сливаем в одну матрицу\n",
        "genre = X_train_tfidf_genre.toarray()\n",
        "\n",
        "for x in range(genre.shape[1]):\n",
        "    col_name = 'g{}'.format(x)\n",
        "    movies_with_ratings[col_name] = pd.Series(genre[:, x])\n"
      ],
      "execution_count": 0,
      "outputs": []
    },
    {
      "cell_type": "code",
      "metadata": {
        "id": "Tyj6KmOdSIyK",
        "colab_type": "code",
        "colab": {}
      },
      "source": [
        "dataset = movies_with_ratings.drop(['title','genres','timestamp'], axis = 1)\n",
        "dataset.dropna(inplace=True)"
      ],
      "execution_count": 0,
      "outputs": []
    },
    {
      "cell_type": "code",
      "metadata": {
        "id": "TeyEq75ltn4y",
        "colab_type": "code",
        "colab": {
          "base_uri": "https://localhost:8080/",
          "height": 34
        },
        "outputId": "b5eda243-be48-4d8e-95d6-d6afbb7707f1"
      },
      "source": [
        "dataset.shape"
      ],
      "execution_count": 42,
      "outputs": [
        {
          "output_type": "execute_result",
          "data": {
            "text/plain": [
              "(237418, 23)"
            ]
          },
          "metadata": {
            "tags": []
          },
          "execution_count": 42
        }
      ]
    },
    {
      "cell_type": "code",
      "metadata": {
        "id": "Y896750yrrxk",
        "colab_type": "code",
        "colab": {}
      },
      "source": [
        "reader = Reader(rating_scale=(0.5, 5))\n",
        "data = Dataset.load_from_df(dataset[['movieId','userId','rating']], reader)\n",
        "trainset, testset = train_test_split(data, test_size=0.2)"
      ],
      "execution_count": 0,
      "outputs": []
    },
    {
      "cell_type": "code",
      "metadata": {
        "id": "mcgVj9PpTn9U",
        "colab_type": "code",
        "colab": {}
      },
      "source": [
        "# обучаем модель SVD\n",
        "algoSVD = SVD(n_factors=20, n_epochs=20)\n"
      ],
      "execution_count": 0,
      "outputs": []
    },
    {
      "cell_type": "code",
      "metadata": {
        "id": "Wc4CedHfxQ0b",
        "colab_type": "code",
        "colab": {}
      },
      "source": [
        "algoKNNWithMeans = KNNWithMeans(k=25, sim_options={'name':'pearson_baseline', 'user_based':False, 'shrinkage':250})\n"
      ],
      "execution_count": 0,
      "outputs": []
    },
    {
      "cell_type": "code",
      "metadata": {
        "id": "ZMJvXcB9yav8",
        "colab_type": "code",
        "colab": {}
      },
      "source": [
        "\n",
        "train, test = lr_train_test_split(dataset, test_size =0.2)\n",
        "x_train = train.drop(['rating','movieId'], axis = 1)\n",
        "y_train = train['rating']\n",
        "x_test = test.drop(['rating','movieId'], axis = 1)\n",
        "y_test = test['rating']\n",
        "\n",
        "algoLR = LinearRegression()\n"
      ],
      "execution_count": 0,
      "outputs": []
    },
    {
      "cell_type": "code",
      "metadata": {
        "id": "8h3xzz6kjv9q",
        "colab_type": "code",
        "colab": {
          "base_uri": "https://localhost:8080/",
          "height": 195
        },
        "outputId": "9395b3d3-d7ef-4933-b90a-947b4b6a4458"
      },
      "source": [
        "x_test.head()"
      ],
      "execution_count": 74,
      "outputs": [
        {
          "output_type": "execute_result",
          "data": {
            "text/html": [
              "<div>\n",
              "<style scoped>\n",
              "    .dataframe tbody tr th:only-of-type {\n",
              "        vertical-align: middle;\n",
              "    }\n",
              "\n",
              "    .dataframe tbody tr th {\n",
              "        vertical-align: top;\n",
              "    }\n",
              "\n",
              "    .dataframe thead th {\n",
              "        text-align: right;\n",
              "    }\n",
              "</style>\n",
              "<table border=\"1\" class=\"dataframe\">\n",
              "  <thead>\n",
              "    <tr style=\"text-align: right;\">\n",
              "      <th></th>\n",
              "      <th>userId</th>\n",
              "      <th>g0</th>\n",
              "      <th>g1</th>\n",
              "      <th>g2</th>\n",
              "      <th>g3</th>\n",
              "      <th>g4</th>\n",
              "      <th>g5</th>\n",
              "      <th>g6</th>\n",
              "      <th>g7</th>\n",
              "      <th>g8</th>\n",
              "      <th>g9</th>\n",
              "      <th>g10</th>\n",
              "      <th>g11</th>\n",
              "      <th>g12</th>\n",
              "      <th>g13</th>\n",
              "      <th>g14</th>\n",
              "      <th>g15</th>\n",
              "      <th>g16</th>\n",
              "      <th>g17</th>\n",
              "      <th>g18</th>\n",
              "      <th>g19</th>\n",
              "    </tr>\n",
              "  </thead>\n",
              "  <tbody>\n",
              "    <tr>\n",
              "      <th>18303</th>\n",
              "      <td>1041.0</td>\n",
              "      <td>0.514465</td>\n",
              "      <td>0.574429</td>\n",
              "      <td>0.0</td>\n",
              "      <td>0.0</td>\n",
              "      <td>0.000000</td>\n",
              "      <td>0.0</td>\n",
              "      <td>0.0</td>\n",
              "      <td>0.000000</td>\n",
              "      <td>0.000000</td>\n",
              "      <td>0.0</td>\n",
              "      <td>0.000000</td>\n",
              "      <td>0.0</td>\n",
              "      <td>0.0</td>\n",
              "      <td>0.000000</td>\n",
              "      <td>0.0</td>\n",
              "      <td>0.00000</td>\n",
              "      <td>0.636676</td>\n",
              "      <td>0.0</td>\n",
              "      <td>0.0</td>\n",
              "      <td>0.0</td>\n",
              "    </tr>\n",
              "    <tr>\n",
              "      <th>233082</th>\n",
              "      <td>1117.0</td>\n",
              "      <td>0.000000</td>\n",
              "      <td>0.000000</td>\n",
              "      <td>0.0</td>\n",
              "      <td>0.0</td>\n",
              "      <td>0.496655</td>\n",
              "      <td>0.0</td>\n",
              "      <td>0.0</td>\n",
              "      <td>0.000000</td>\n",
              "      <td>0.000000</td>\n",
              "      <td>0.0</td>\n",
              "      <td>0.867948</td>\n",
              "      <td>0.0</td>\n",
              "      <td>0.0</td>\n",
              "      <td>0.000000</td>\n",
              "      <td>0.0</td>\n",
              "      <td>0.00000</td>\n",
              "      <td>0.000000</td>\n",
              "      <td>0.0</td>\n",
              "      <td>0.0</td>\n",
              "      <td>0.0</td>\n",
              "    </tr>\n",
              "    <tr>\n",
              "      <th>181069</th>\n",
              "      <td>48.0</td>\n",
              "      <td>0.000000</td>\n",
              "      <td>0.000000</td>\n",
              "      <td>0.0</td>\n",
              "      <td>0.0</td>\n",
              "      <td>0.000000</td>\n",
              "      <td>0.0</td>\n",
              "      <td>0.0</td>\n",
              "      <td>1.000000</td>\n",
              "      <td>0.000000</td>\n",
              "      <td>0.0</td>\n",
              "      <td>0.000000</td>\n",
              "      <td>0.0</td>\n",
              "      <td>0.0</td>\n",
              "      <td>0.000000</td>\n",
              "      <td>0.0</td>\n",
              "      <td>0.00000</td>\n",
              "      <td>0.000000</td>\n",
              "      <td>0.0</td>\n",
              "      <td>0.0</td>\n",
              "      <td>0.0</td>\n",
              "    </tr>\n",
              "    <tr>\n",
              "      <th>69217</th>\n",
              "      <td>2037.0</td>\n",
              "      <td>0.000000</td>\n",
              "      <td>0.000000</td>\n",
              "      <td>0.0</td>\n",
              "      <td>0.0</td>\n",
              "      <td>0.000000</td>\n",
              "      <td>0.0</td>\n",
              "      <td>0.0</td>\n",
              "      <td>0.391014</td>\n",
              "      <td>0.707031</td>\n",
              "      <td>0.0</td>\n",
              "      <td>0.000000</td>\n",
              "      <td>0.0</td>\n",
              "      <td>0.0</td>\n",
              "      <td>0.000000</td>\n",
              "      <td>0.0</td>\n",
              "      <td>0.58925</td>\n",
              "      <td>0.000000</td>\n",
              "      <td>0.0</td>\n",
              "      <td>0.0</td>\n",
              "      <td>0.0</td>\n",
              "    </tr>\n",
              "    <tr>\n",
              "      <th>135973</th>\n",
              "      <td>880.0</td>\n",
              "      <td>0.000000</td>\n",
              "      <td>0.000000</td>\n",
              "      <td>0.0</td>\n",
              "      <td>0.0</td>\n",
              "      <td>0.000000</td>\n",
              "      <td>0.0</td>\n",
              "      <td>0.0</td>\n",
              "      <td>0.454517</td>\n",
              "      <td>0.000000</td>\n",
              "      <td>0.0</td>\n",
              "      <td>0.000000</td>\n",
              "      <td>0.0</td>\n",
              "      <td>0.0</td>\n",
              "      <td>0.890738</td>\n",
              "      <td>0.0</td>\n",
              "      <td>0.00000</td>\n",
              "      <td>0.000000</td>\n",
              "      <td>0.0</td>\n",
              "      <td>0.0</td>\n",
              "      <td>0.0</td>\n",
              "    </tr>\n",
              "  </tbody>\n",
              "</table>\n",
              "</div>"
            ],
            "text/plain": [
              "        userId        g0        g1   g2   g3  ...      g15       g16  g17  g18  g19\n",
              "18303   1041.0  0.514465  0.574429  0.0  0.0  ...  0.00000  0.636676  0.0  0.0  0.0\n",
              "233082  1117.0  0.000000  0.000000  0.0  0.0  ...  0.00000  0.000000  0.0  0.0  0.0\n",
              "181069    48.0  0.000000  0.000000  0.0  0.0  ...  0.00000  0.000000  0.0  0.0  0.0\n",
              "69217   2037.0  0.000000  0.000000  0.0  0.0  ...  0.58925  0.000000  0.0  0.0  0.0\n",
              "135973   880.0  0.000000  0.000000  0.0  0.0  ...  0.00000  0.000000  0.0  0.0  0.0\n",
              "\n",
              "[5 rows x 21 columns]"
            ]
          },
          "metadata": {
            "tags": []
          },
          "execution_count": 74
        }
      ]
    },
    {
      "cell_type": "code",
      "metadata": {
        "id": "ixvmmI51cITX",
        "colab_type": "code",
        "colab": {
          "base_uri": "https://localhost:8080/",
          "height": 34
        },
        "outputId": "13eff988-93f0-43ac-b529-e36b9ae59b84"
      },
      "source": [
        "dataset.shape"
      ],
      "execution_count": 47,
      "outputs": [
        {
          "output_type": "execute_result",
          "data": {
            "text/plain": [
              "(237418, 23)"
            ]
          },
          "metadata": {
            "tags": []
          },
          "execution_count": 47
        }
      ]
    },
    {
      "cell_type": "code",
      "metadata": {
        "id": "bPD7VGA-OR-7",
        "colab_type": "code",
        "colab": {}
      },
      "source": [
        "def show_auc(y, y_pred, plot_label='', prin=True):    \n",
        "    auc_val = 1 - mean_squared_error(y, y_pred, squared=False)/ np.mean(y)\n",
        "    print('Процент точности предсказания по средней квадратичной ошибке в моделе {0:} : {1:.4f}'.format(plot_label,auc_val))"
      ],
      "execution_count": 0,
      "outputs": []
    },
    {
      "cell_type": "code",
      "metadata": {
        "id": "QTpwpjTMOSsU",
        "colab_type": "code",
        "colab": {}
      },
      "source": [
        "def get_meta_features(clf, X_train, y_train, X_test):\n",
        "    #meta_train = np.zeros_like(y_train, dtype=float)\n",
        "    #meta_test = np.zeros_like(y_test, dtype=float)\n",
        "\n",
        "    if y_train is None:      \n",
        "      clf.fit(X_train)\n",
        "      meta_train = np.array([i.est for i in clf.test(trainset.build_testset())])\n",
        "      meta_test = np.array([i.est for i in clf.test(X_test)])\n",
        "    else:\n",
        "      clf.fit(X_train, y_train)  \n",
        "      meta_train = np.array(clf.predict(X_train))\n",
        "      meta_test = np.array(clf.predict(X_test))\n",
        "    \n",
        "    return meta_train, meta_test"
      ],
      "execution_count": 0,
      "outputs": []
    },
    {
      "cell_type": "code",
      "metadata": {
        "id": "tbwtflpBOVhN",
        "colab_type": "code",
        "colab": {
          "base_uri": "https://localhost:8080/",
          "height": 118
        },
        "outputId": "46fdd864-a209-4c74-b334-1074ba92c724"
      },
      "source": [
        "meta_train = []\n",
        "meta_test = []\n",
        "col_names = []\n",
        "\n",
        "print('algoLR features...')\n",
        "meta_tr, meta_te = get_meta_features(algoLR, x_train, y_train, x_test)\n",
        "\n",
        "meta_train.append(meta_tr)\n",
        "meta_test.append(meta_te)\n",
        "col_names.append('algoLR_pred')\n",
        "\n",
        "print('SVD features...')\n",
        "meta_tr, meta_te = get_meta_features(algoSVD, trainset, None ,testset)\n",
        "\n",
        "meta_train.append(meta_tr)\n",
        "meta_test.append(meta_te)\n",
        "col_names.append('algoSVD_pred')\n",
        "\n",
        "print('algoKNNWithMeans features...')\n",
        "meta_tr, meta_te = get_meta_features(algoKNNWithMeans, trainset, None, testset)\n",
        "\n",
        "meta_train.append(meta_tr)\n",
        "meta_test.append(meta_te)\n",
        "col_names.append('algoKNNWithMeans_pred')"
      ],
      "execution_count": 60,
      "outputs": [
        {
          "output_type": "stream",
          "text": [
            "algoLR features...\n",
            "SVD features...\n",
            "algoKNNWithMeans features...\n",
            "Estimating biases using als...\n",
            "Computing the pearson_baseline similarity matrix...\n",
            "Done computing similarity matrix.\n"
          ],
          "name": "stdout"
        }
      ]
    },
    {
      "cell_type": "code",
      "metadata": {
        "id": "JQjH7fTZgrM6",
        "colab_type": "code",
        "colab": {
          "base_uri": "https://localhost:8080/",
          "height": 195
        },
        "outputId": "de535e14-6f35-4080-f2a0-aa74fb74dc95"
      },
      "source": [
        "movies_with_genres.head()"
      ],
      "execution_count": 69,
      "outputs": [
        {
          "output_type": "execute_result",
          "data": {
            "text/html": [
              "<div>\n",
              "<style scoped>\n",
              "    .dataframe tbody tr th:only-of-type {\n",
              "        vertical-align: middle;\n",
              "    }\n",
              "\n",
              "    .dataframe tbody tr th {\n",
              "        vertical-align: top;\n",
              "    }\n",
              "\n",
              "    .dataframe thead th {\n",
              "        text-align: right;\n",
              "    }\n",
              "</style>\n",
              "<table border=\"1\" class=\"dataframe\">\n",
              "  <thead>\n",
              "    <tr style=\"text-align: right;\">\n",
              "      <th></th>\n",
              "      <th>movieId</th>\n",
              "      <th>g0</th>\n",
              "      <th>g1</th>\n",
              "      <th>g2</th>\n",
              "      <th>g3</th>\n",
              "      <th>g4</th>\n",
              "      <th>g5</th>\n",
              "      <th>g6</th>\n",
              "      <th>g7</th>\n",
              "      <th>g8</th>\n",
              "      <th>g9</th>\n",
              "      <th>g10</th>\n",
              "      <th>g11</th>\n",
              "      <th>g12</th>\n",
              "      <th>g13</th>\n",
              "      <th>g14</th>\n",
              "      <th>g15</th>\n",
              "      <th>g16</th>\n",
              "      <th>g17</th>\n",
              "      <th>g18</th>\n",
              "      <th>g19</th>\n",
              "    </tr>\n",
              "  </thead>\n",
              "  <tbody>\n",
              "    <tr>\n",
              "      <th>0</th>\n",
              "      <td>1</td>\n",
              "      <td>0.0</td>\n",
              "      <td>0.362479</td>\n",
              "      <td>0.549991</td>\n",
              "      <td>0.509808</td>\n",
              "      <td>0.293471</td>\n",
              "      <td>0.0</td>\n",
              "      <td>0.0</td>\n",
              "      <td>0.000000</td>\n",
              "      <td>0.469136</td>\n",
              "      <td>0.0</td>\n",
              "      <td>0.0</td>\n",
              "      <td>0.0</td>\n",
              "      <td>0.0</td>\n",
              "      <td>0.0</td>\n",
              "      <td>0.0</td>\n",
              "      <td>0.000000</td>\n",
              "      <td>0.0</td>\n",
              "      <td>0.0</td>\n",
              "      <td>0.0</td>\n",
              "      <td>0.0</td>\n",
              "    </tr>\n",
              "    <tr>\n",
              "      <th>1</th>\n",
              "      <td>2</td>\n",
              "      <td>0.0</td>\n",
              "      <td>0.463581</td>\n",
              "      <td>0.000000</td>\n",
              "      <td>0.652003</td>\n",
              "      <td>0.000000</td>\n",
              "      <td>0.0</td>\n",
              "      <td>0.0</td>\n",
              "      <td>0.000000</td>\n",
              "      <td>0.599987</td>\n",
              "      <td>0.0</td>\n",
              "      <td>0.0</td>\n",
              "      <td>0.0</td>\n",
              "      <td>0.0</td>\n",
              "      <td>0.0</td>\n",
              "      <td>0.0</td>\n",
              "      <td>0.000000</td>\n",
              "      <td>0.0</td>\n",
              "      <td>0.0</td>\n",
              "      <td>0.0</td>\n",
              "      <td>0.0</td>\n",
              "    </tr>\n",
              "    <tr>\n",
              "      <th>2</th>\n",
              "      <td>3</td>\n",
              "      <td>0.0</td>\n",
              "      <td>0.000000</td>\n",
              "      <td>0.000000</td>\n",
              "      <td>0.000000</td>\n",
              "      <td>0.600305</td>\n",
              "      <td>0.0</td>\n",
              "      <td>0.0</td>\n",
              "      <td>0.000000</td>\n",
              "      <td>0.000000</td>\n",
              "      <td>0.0</td>\n",
              "      <td>0.0</td>\n",
              "      <td>0.0</td>\n",
              "      <td>0.0</td>\n",
              "      <td>0.0</td>\n",
              "      <td>0.0</td>\n",
              "      <td>0.799771</td>\n",
              "      <td>0.0</td>\n",
              "      <td>0.0</td>\n",
              "      <td>0.0</td>\n",
              "      <td>0.0</td>\n",
              "    </tr>\n",
              "    <tr>\n",
              "      <th>3</th>\n",
              "      <td>4</td>\n",
              "      <td>0.0</td>\n",
              "      <td>0.000000</td>\n",
              "      <td>0.000000</td>\n",
              "      <td>0.000000</td>\n",
              "      <td>0.530257</td>\n",
              "      <td>0.0</td>\n",
              "      <td>0.0</td>\n",
              "      <td>0.468784</td>\n",
              "      <td>0.000000</td>\n",
              "      <td>0.0</td>\n",
              "      <td>0.0</td>\n",
              "      <td>0.0</td>\n",
              "      <td>0.0</td>\n",
              "      <td>0.0</td>\n",
              "      <td>0.0</td>\n",
              "      <td>0.706448</td>\n",
              "      <td>0.0</td>\n",
              "      <td>0.0</td>\n",
              "      <td>0.0</td>\n",
              "      <td>0.0</td>\n",
              "    </tr>\n",
              "    <tr>\n",
              "      <th>4</th>\n",
              "      <td>5</td>\n",
              "      <td>0.0</td>\n",
              "      <td>0.000000</td>\n",
              "      <td>0.000000</td>\n",
              "      <td>0.000000</td>\n",
              "      <td>1.000000</td>\n",
              "      <td>0.0</td>\n",
              "      <td>0.0</td>\n",
              "      <td>0.000000</td>\n",
              "      <td>0.000000</td>\n",
              "      <td>0.0</td>\n",
              "      <td>0.0</td>\n",
              "      <td>0.0</td>\n",
              "      <td>0.0</td>\n",
              "      <td>0.0</td>\n",
              "      <td>0.0</td>\n",
              "      <td>0.000000</td>\n",
              "      <td>0.0</td>\n",
              "      <td>0.0</td>\n",
              "      <td>0.0</td>\n",
              "      <td>0.0</td>\n",
              "    </tr>\n",
              "  </tbody>\n",
              "</table>\n",
              "</div>"
            ],
            "text/plain": [
              "   movieId   g0        g1        g2        g3  ...       g15  g16  g17  g18  g19\n",
              "0        1  0.0  0.362479  0.549991  0.509808  ...  0.000000  0.0  0.0  0.0  0.0\n",
              "1        2  0.0  0.463581  0.000000  0.652003  ...  0.000000  0.0  0.0  0.0  0.0\n",
              "2        3  0.0  0.000000  0.000000  0.000000  ...  0.799771  0.0  0.0  0.0  0.0\n",
              "3        4  0.0  0.000000  0.000000  0.000000  ...  0.706448  0.0  0.0  0.0  0.0\n",
              "4        5  0.0  0.000000  0.000000  0.000000  ...  0.000000  0.0  0.0  0.0  0.0\n",
              "\n",
              "[5 rows x 21 columns]"
            ]
          },
          "metadata": {
            "tags": []
          },
          "execution_count": 69
        }
      ]
    },
    {
      "cell_type": "code",
      "metadata": {
        "id": "_pjxtd_5OeBw",
        "colab_type": "code",
        "colab": {
          "base_uri": "https://localhost:8080/",
          "height": 34
        },
        "outputId": "889f49a3-6160-49cc-cf43-7bd406663196"
      },
      "source": [
        "X_meta_train = pd.DataFrame(np.stack(meta_train, axis=1), columns=col_names)\n",
        "X_meta_test = pd.DataFrame(np.stack(meta_test, axis=1), columns=col_names)\n",
        "from sklearn.ensemble import RandomForestRegressor\n",
        "\n",
        "clf_lr_meta = RandomForestRegressor()\n",
        "clf_lr_meta.fit(X_meta_train, y_train)\n",
        "y_pred_meta_test = clf_lr_meta.predict(X_meta_test)\n",
        "show_auc(y_test, y_pred_meta_test, 'stack')"
      ],
      "execution_count": 63,
      "outputs": [
        {
          "output_type": "stream",
          "text": [
            "Процент точности предсказания по средней квадратичной ошибке в моделе stack : 0.6888\n"
          ],
          "name": "stdout"
        }
      ]
    },
    {
      "cell_type": "code",
      "metadata": {
        "id": "tWdaiRt-f0AD",
        "colab_type": "code",
        "colab": {}
      },
      "source": [
        "movies_with_genres = movies.drop(['title','genres'],  axis = 1)\n",
        "movie_genres = [change_string(g) for g in movies.genres.values]\n",
        "genre = tfidf_vectorizer_genre.transform(movie_genres).toarray()\n",
        "\n",
        "for x in range(genre.shape[1]):\n",
        "    col_name = 'g{}'.format(x)\n",
        "    movies_with_genres[col_name] = pd.Series(genre[:, x])"
      ],
      "execution_count": 0,
      "outputs": []
    },
    {
      "cell_type": "code",
      "metadata": {
        "id": "9YghpvvmVTfi",
        "colab_type": "code",
        "colab": {}
      },
      "source": [
        "def recommend_for_user(user_id):\n",
        "    current_user_id = user_id\n",
        "    movies_with_genres['userId'] = current_user_id\n",
        "    movies_LR = movies_with_genres.drop('movieId', axis = 1)\n",
        "        \n",
        "    meta_ = []\n",
        "    #titles = []\n",
        "    LR_predict = algoLR.predict(movies_LR)\n",
        "    SVD_predict = np.array([algoSVD.predict(uid=current_user_id, iid=i).est for i in movies_with_genres.movieId.values])\n",
        "    KNNWithMeans_predict = np.array([algoKNNWithMeans.predict(uid=current_user_id, iid=i).est for i in movies_with_genres.movieId.values])\n",
        "    meta_.append(LR_predict)\n",
        "    meta_.append(SVD_predict)\n",
        "    meta_.append(KNNWithMeans_predict)\n",
        "    \n",
        "    scores = clf_lr_meta.predict(pd.DataFrame(np.stack(meta_, axis=1), columns=col_names))\n",
        "   \n",
        "    \n",
        "    best_indexes = np.argsort(scores)[-10:]\n",
        "    for i in reversed(best_indexes):\n",
        "        print(movies.iloc[[i]].title.values, scores[i])"
      ],
      "execution_count": 0,
      "outputs": []
    },
    {
      "cell_type": "code",
      "metadata": {
        "id": "SXv__e2Fjjso",
        "colab_type": "code",
        "colab": {
          "base_uri": "https://localhost:8080/",
          "height": 185
        },
        "outputId": "0035e282-b0e7-4d03-d2bf-8b1345331dc9"
      },
      "source": [
        "recommend_for_user(50)"
      ],
      "execution_count": 98,
      "outputs": [
        {
          "output_type": "stream",
          "text": [
            "['Children of the Revolution (1996)'] 4.09\n",
            "['Scream 2 (1997)'] 4.045\n",
            "['Faces (1968)'] 4.02\n",
            "['Pompatus of Love, The (1996)'] 4.02\n",
            "['Everest (1998)'] 4.02\n",
            "['Tales from the Darkside: The Movie (1990)'] 4.02\n",
            "['Spice World (1997)'] 4.02\n",
            "['Girls Town (1996)'] 4.02\n",
            "['Apt Pupil (1998)'] 4.02\n",
            "['Metropolis (1927)'] 4.02\n"
          ],
          "name": "stdout"
        }
      ]
    }
  ]
}