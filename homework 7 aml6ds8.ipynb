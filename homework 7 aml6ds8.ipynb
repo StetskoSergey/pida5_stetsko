{
  "nbformat": 4,
  "nbformat_minor": 0,
  "metadata": {
    "colab": {
      "name": "Untitled19.ipynb",
      "provenance": [],
      "collapsed_sections": [],
      "authorship_tag": "ABX9TyNoNmGuE8XuwLAGAdZOAAGn",
      "include_colab_link": true
    },
    "kernelspec": {
      "name": "python3",
      "display_name": "Python 3"
    }
  },
  "cells": [
    {
      "cell_type": "markdown",
      "metadata": {
        "id": "view-in-github",
        "colab_type": "text"
      },
      "source": [
        "<a href=\"https://colab.research.google.com/github/StetskoSergey/pida5_stetsko/blob/master/homework%207%20aml6ds8.ipynb\" target=\"_parent\"><img src=\"https://colab.research.google.com/assets/colab-badge.svg\" alt=\"Open In Colab\"/></a>"
      ]
    },
    {
      "cell_type": "markdown",
      "metadata": {
        "id": "sO5dRyYocJDQ",
        "colab_type": "text"
      },
      "source": [
        "Домашняя работа\n",
        "Взять boston house-prices datase (sklearn.datasets.load_boston) и сделать тоже самое для задачи регрессии (попробовать разные алгоритмы, поподбирать параметры, вывести итоговое качество)"
      ]
    },
    {
      "cell_type": "code",
      "metadata": {
        "id": "30uxnaMNcKph",
        "colab_type": "code",
        "colab": {}
      },
      "source": [
        "from sklearn.datasets import load_boston\n",
        "from sklearn.model_selection import train_test_split\n",
        "from sklearn.neighbors import KNeighborsClassifier\n",
        "from sklearn import metrics\n",
        "import matplotlib.pyplot as plt\n",
        "%matplotlib inline\n",
        "import warnings\n",
        "warnings.filterwarnings('ignore')"
      ],
      "execution_count": 0,
      "outputs": []
    },
    {
      "cell_type": "code",
      "metadata": {
        "id": "bBj6LEbzcN8x",
        "colab_type": "code",
        "colab": {}
      },
      "source": [
        "# read in the iris data\n",
        "boston = load_boston()\n",
        "\n",
        "# create X (features) and y (response)\n",
        "X, y = boston['data'], boston['target']\n",
        "X_train, X_valid, y_train, y_valid = train_test_split(X, y, test_size=0.2)"
      ],
      "execution_count": 0,
      "outputs": []
    },
    {
      "cell_type": "code",
      "metadata": {
        "id": "2GGbwDugc_7K",
        "colab_type": "code",
        "colab": {}
      },
      "source": [
        "from sklearn.preprocessing import StandardScaler\n",
        "sc = StandardScaler()\n",
        "X_train = sc.fit_transform(X_train)\n",
        "X_valid = sc.transform(X_valid)"
      ],
      "execution_count": 0,
      "outputs": []
    },
    {
      "cell_type": "code",
      "metadata": {
        "id": "86jEhLwAdJC1",
        "colab_type": "code",
        "colab": {}
      },
      "source": [
        "from sklearn.model_selection import GridSearchCV\n",
        "from sklearn.linear_model import LinearRegression, Ridge, SGDRegressor, ElasticNet, Lars, Lasso, LassoLars\n",
        "\n",
        "classifiers = [LinearRegression(), Ridge(), SGDRegressor(), ElasticNet(), Lars(), Lasso(), LassoLars()]\n",
        "param_grid = []\n",
        "param_grid.append({'fit_intercept':[True,False], 'normalize':[True,False], 'copy_X':[True, False]})\n",
        "param_grid.append(dict(alpha=[0.0, 1.0, 5.0, 10.0, 100.0], max_iter = [10,100, 1000], tol = [0.1, 0.01, 0.001]))\n",
        "param_grid.append(dict(penalty =['l1', 'l2', 'elasticnet'], tol = [1.0, 0.1, 0.01, 0.001]))\n",
        "param_grid.append(dict(alpha=[0, 1, 5, 10, 100], tol = [1.0, 0.1, 0.01, 0.001]))\n",
        "param_grid.append(dict(n_nonzero_coefs=[100, 1000, 5000, 10000], eps = [1.0, 0.1, 0.01, 0.001]))\n",
        "param_grid.append(dict(alpha=[0, 1, 5, 10, 100], tol = [1.0, 0.1, 0.01, 0.001]))\n",
        "param_grid.append(dict(alpha=[0, 1, 5, 10, 100], eps = [10, 1, 0.1, 0.01, 0.001]))\n",
        "result = []\n",
        "\n",
        "for i in range(len(classifiers)):\n",
        "  grid = GridSearchCV(classifiers[i], param_grid[i], cv=10)\n",
        "  grid.fit(X_train,y_train)\n",
        "  result.append(dict(score=grid.best_score_, params=grid.best_params_, estimator=grid.best_estimator_))\n"
      ],
      "execution_count": 0,
      "outputs": []
    },
    {
      "cell_type": "code",
      "metadata": {
        "id": "kf8gS76A6Nt_",
        "colab_type": "code",
        "colab": {}
      },
      "source": [
        "result.sort(key = lambda x: x['score'], reverse= True)"
      ],
      "execution_count": 0,
      "outputs": []
    },
    {
      "cell_type": "code",
      "metadata": {
        "id": "T5L_MceJ7tz5",
        "colab_type": "code",
        "colab": {
          "base_uri": "https://localhost:8080/",
          "height": 588
        },
        "outputId": "7a4ec0c1-c889-4f77-e805-2808a376224b"
      },
      "source": [
        "# лучшее качество вроде как дает Ridge \n",
        "result"
      ],
      "execution_count": 26,
      "outputs": [
        {
          "output_type": "execute_result",
          "data": {
            "text/plain": [
              "[{'estimator': Ridge(alpha=10.0, copy_X=True, fit_intercept=True, max_iter=10, normalize=False,\n",
              "        random_state=None, solver='auto', tol=0.1),\n",
              "  'params': {'alpha': 10.0, 'max_iter': 10, 'tol': 0.1},\n",
              "  'score': 0.6656064074793748},\n",
              " {'estimator': LinearRegression(copy_X=True, fit_intercept=True, n_jobs=None, normalize=False),\n",
              "  'params': {'copy_X': True, 'fit_intercept': True, 'normalize': False},\n",
              "  'score': 0.6630860662527182},\n",
              " {'estimator': LassoLars(alpha=0, copy_X=True, eps=0.1, fit_intercept=True, fit_path=True,\n",
              "            max_iter=500, normalize=True, positive=False, precompute='auto',\n",
              "            verbose=False),\n",
              "  'params': {'alpha': 0, 'eps': 0.1},\n",
              "  'score': 0.663086066252718},\n",
              " {'estimator': ElasticNet(alpha=0, copy_X=True, fit_intercept=True, l1_ratio=0.5,\n",
              "             max_iter=1000, normalize=False, positive=False, precompute=False,\n",
              "             random_state=None, selection='cyclic', tol=0.1, warm_start=False),\n",
              "  'params': {'alpha': 0, 'tol': 0.1},\n",
              "  'score': 0.6630860662527178},\n",
              " {'estimator': Lasso(alpha=0, copy_X=True, fit_intercept=True, max_iter=1000, normalize=False,\n",
              "        positive=False, precompute=False, random_state=None, selection='cyclic',\n",
              "        tol=0.1, warm_start=False),\n",
              "  'params': {'alpha': 0, 'tol': 0.1},\n",
              "  'score': 0.6630860662527178},\n",
              " {'estimator': SGDRegressor(alpha=0.0001, average=False, early_stopping=False, epsilon=0.1,\n",
              "               eta0=0.01, fit_intercept=True, l1_ratio=0.15,\n",
              "               learning_rate='invscaling', loss='squared_loss', max_iter=1000,\n",
              "               n_iter_no_change=5, penalty='l2', power_t=0.25, random_state=None,\n",
              "               shuffle=True, tol=0.001, validation_fraction=0.1, verbose=0,\n",
              "               warm_start=False),\n",
              "  'params': {'penalty': 'l2', 'tol': 0.001},\n",
              "  'score': 0.6617637546452413},\n",
              " {'estimator': Lars(copy_X=True, eps=0.1, fit_intercept=True, fit_path=True,\n",
              "       n_nonzero_coefs=100, normalize=True, precompute='auto', verbose=False),\n",
              "  'params': {'eps': 0.1, 'n_nonzero_coefs': 100},\n",
              "  'score': 0.6539059907291833}]"
            ]
          },
          "metadata": {
            "tags": []
          },
          "execution_count": 26
        }
      ]
    },
    {
      "cell_type": "code",
      "metadata": {
        "id": "P3iR5WEm8LF3",
        "colab_type": "code",
        "colab": {
          "base_uri": "https://localhost:8080/",
          "height": 252
        },
        "outputId": "2157dbcd-7089-4a8d-da00-013949af08f1"
      },
      "source": [
        "# выведем результаты на тестовой выборке \n",
        "for i in result:\n",
        "  print('accuracy', i['estimator'].score(X_valid, y_valid))\n",
        "  print('mean_squared_error', metrics.mean_squared_error(y_valid, i['estimator'].predict(X_valid)))"
      ],
      "execution_count": 33,
      "outputs": [
        {
          "output_type": "stream",
          "text": [
            "accuracy 0.7919071871753893\n",
            "mean_squared_error 16.40977779340049\n",
            "accuracy 0.7836754149008598\n",
            "mean_squared_error 17.05891868412773\n",
            "accuracy 0.7836754149008609\n",
            "mean_squared_error 17.058918684127633\n",
            "accuracy 0.7836754149008598\n",
            "mean_squared_error 17.05891868412773\n",
            "accuracy 0.7836754149008598\n",
            "mean_squared_error 17.05891868412773\n",
            "accuracy 0.793109127998588\n",
            "mean_squared_error 16.314995174232706\n",
            "accuracy 0.7462126577314228\n",
            "mean_squared_error 20.013155845584734\n"
          ],
          "name": "stdout"
        }
      ]
    },
    {
      "cell_type": "markdown",
      "metadata": {
        "id": "w4gi-YDI9qkw",
        "colab_type": "text"
      },
      "source": [
        "На тестовой выборке лучшие результы показали Ridge и SGDRegressor"
      ]
    }
  ]
}