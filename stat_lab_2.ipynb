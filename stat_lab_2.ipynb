{
  "nbformat": 4,
  "nbformat_minor": 0,
  "metadata": {
    "colab": {
      "name": "Copy of Untitled3.ipynb",
      "provenance": [],
      "collapsed_sections": [],
      "include_colab_link": true
    },
    "kernelspec": {
      "name": "python3",
      "display_name": "Python 3"
    }
  },
  "cells": [
    {
      "cell_type": "markdown",
      "metadata": {
        "id": "view-in-github",
        "colab_type": "text"
      },
      "source": [
        "<a href=\"https://colab.research.google.com/github/StetskoSergey/pida5_stetsko/blob/master/stat_lab_2.ipynb\" target=\"_parent\"><img src=\"https://colab.research.google.com/assets/colab-badge.svg\" alt=\"Open In Colab\"/></a>"
      ]
    },
    {
      "cell_type": "code",
      "metadata": {
        "id": "6Gmel2AEI654",
        "colab_type": "code",
        "colab": {}
      },
      "source": [
        "import numpy as np\n",
        "from scipy.stats import t\n",
        "from scipy.stats import norm\n",
        "import matplotlib.pyplot as plt\n",
        "from scipy import stats\n",
        "import pandas as pd\n",
        "import io\n",
        "import requests\n",
        "import seaborn as sns\n",
        "#import kaggle\n",
        "\n",
        "%matplotlib inline"
      ],
      "execution_count": 0,
      "outputs": []
    },
    {
      "cell_type": "code",
      "metadata": {
        "id": "gV1EsrHZJAmJ",
        "colab_type": "code",
        "outputId": "6bdeecbb-5428-4d31-a306-739f5bd2b023",
        "colab": {
          "base_uri": "https://localhost:8080/",
          "height": 299
        }
      },
      "source": [
        "data=pd.read_csv('auto.csv')\n",
        "data.head()"
      ],
      "execution_count": 4,
      "outputs": [
        {
          "output_type": "execute_result",
          "data": {
            "text/html": [
              "<div>\n",
              "<style scoped>\n",
              "    .dataframe tbody tr th:only-of-type {\n",
              "        vertical-align: middle;\n",
              "    }\n",
              "\n",
              "    .dataframe tbody tr th {\n",
              "        vertical-align: top;\n",
              "    }\n",
              "\n",
              "    .dataframe thead th {\n",
              "        text-align: right;\n",
              "    }\n",
              "</style>\n",
              "<table border=\"1\" class=\"dataframe\">\n",
              "  <thead>\n",
              "    <tr style=\"text-align: right;\">\n",
              "      <th></th>\n",
              "      <th>symboling</th>\n",
              "      <th>normalized-losses</th>\n",
              "      <th>make</th>\n",
              "      <th>fuel-type</th>\n",
              "      <th>aspiration</th>\n",
              "      <th>num-of-doors</th>\n",
              "      <th>body-style</th>\n",
              "      <th>drive-wheels</th>\n",
              "      <th>engine-location</th>\n",
              "      <th>wheel-base</th>\n",
              "      <th>length</th>\n",
              "      <th>width</th>\n",
              "      <th>height</th>\n",
              "      <th>curb-weight</th>\n",
              "      <th>engine-type</th>\n",
              "      <th>num-of-cylinders</th>\n",
              "      <th>engine-size</th>\n",
              "      <th>fuel-system</th>\n",
              "      <th>bore</th>\n",
              "      <th>stroke</th>\n",
              "      <th>compression-ratio</th>\n",
              "      <th>horsepower</th>\n",
              "      <th>peak-rpm</th>\n",
              "      <th>city-mpg</th>\n",
              "      <th>highway-mpg</th>\n",
              "      <th>price</th>\n",
              "    </tr>\n",
              "  </thead>\n",
              "  <tbody>\n",
              "    <tr>\n",
              "      <th>0</th>\n",
              "      <td>3</td>\n",
              "      <td>164</td>\n",
              "      <td>alfa-romero</td>\n",
              "      <td>gas</td>\n",
              "      <td>std</td>\n",
              "      <td>two</td>\n",
              "      <td>convertible</td>\n",
              "      <td>rwd</td>\n",
              "      <td>front</td>\n",
              "      <td>88.6</td>\n",
              "      <td>168.8</td>\n",
              "      <td>64.1</td>\n",
              "      <td>48.8</td>\n",
              "      <td>2548</td>\n",
              "      <td>dohc</td>\n",
              "      <td>four</td>\n",
              "      <td>130</td>\n",
              "      <td>mpfi</td>\n",
              "      <td>3.47</td>\n",
              "      <td>2.68</td>\n",
              "      <td>9.0</td>\n",
              "      <td>111</td>\n",
              "      <td>5000</td>\n",
              "      <td>21</td>\n",
              "      <td>27</td>\n",
              "      <td>13495</td>\n",
              "    </tr>\n",
              "    <tr>\n",
              "      <th>1</th>\n",
              "      <td>3</td>\n",
              "      <td>164</td>\n",
              "      <td>alfa-romero</td>\n",
              "      <td>gas</td>\n",
              "      <td>std</td>\n",
              "      <td>two</td>\n",
              "      <td>convertible</td>\n",
              "      <td>rwd</td>\n",
              "      <td>front</td>\n",
              "      <td>88.6</td>\n",
              "      <td>168.8</td>\n",
              "      <td>64.1</td>\n",
              "      <td>48.8</td>\n",
              "      <td>2548</td>\n",
              "      <td>dohc</td>\n",
              "      <td>four</td>\n",
              "      <td>130</td>\n",
              "      <td>mpfi</td>\n",
              "      <td>3.47</td>\n",
              "      <td>2.68</td>\n",
              "      <td>9.0</td>\n",
              "      <td>111</td>\n",
              "      <td>5000</td>\n",
              "      <td>21</td>\n",
              "      <td>27</td>\n",
              "      <td>16500</td>\n",
              "    </tr>\n",
              "    <tr>\n",
              "      <th>2</th>\n",
              "      <td>1</td>\n",
              "      <td>164</td>\n",
              "      <td>alfa-romero</td>\n",
              "      <td>gas</td>\n",
              "      <td>std</td>\n",
              "      <td>two</td>\n",
              "      <td>hatchback</td>\n",
              "      <td>rwd</td>\n",
              "      <td>front</td>\n",
              "      <td>94.5</td>\n",
              "      <td>171.2</td>\n",
              "      <td>65.5</td>\n",
              "      <td>52.4</td>\n",
              "      <td>2823</td>\n",
              "      <td>ohcv</td>\n",
              "      <td>six</td>\n",
              "      <td>152</td>\n",
              "      <td>mpfi</td>\n",
              "      <td>2.68</td>\n",
              "      <td>3.47</td>\n",
              "      <td>9.0</td>\n",
              "      <td>154</td>\n",
              "      <td>5000</td>\n",
              "      <td>19</td>\n",
              "      <td>26</td>\n",
              "      <td>16500</td>\n",
              "    </tr>\n",
              "    <tr>\n",
              "      <th>3</th>\n",
              "      <td>2</td>\n",
              "      <td>164</td>\n",
              "      <td>audi</td>\n",
              "      <td>gas</td>\n",
              "      <td>std</td>\n",
              "      <td>four</td>\n",
              "      <td>sedan</td>\n",
              "      <td>fwd</td>\n",
              "      <td>front</td>\n",
              "      <td>99.8</td>\n",
              "      <td>176.6</td>\n",
              "      <td>66.2</td>\n",
              "      <td>54.3</td>\n",
              "      <td>2337</td>\n",
              "      <td>ohc</td>\n",
              "      <td>four</td>\n",
              "      <td>109</td>\n",
              "      <td>mpfi</td>\n",
              "      <td>3.19</td>\n",
              "      <td>3.40</td>\n",
              "      <td>10.0</td>\n",
              "      <td>102</td>\n",
              "      <td>5500</td>\n",
              "      <td>24</td>\n",
              "      <td>30</td>\n",
              "      <td>13950</td>\n",
              "    </tr>\n",
              "    <tr>\n",
              "      <th>4</th>\n",
              "      <td>2</td>\n",
              "      <td>164</td>\n",
              "      <td>audi</td>\n",
              "      <td>gas</td>\n",
              "      <td>std</td>\n",
              "      <td>four</td>\n",
              "      <td>sedan</td>\n",
              "      <td>4wd</td>\n",
              "      <td>front</td>\n",
              "      <td>99.4</td>\n",
              "      <td>176.6</td>\n",
              "      <td>66.4</td>\n",
              "      <td>54.3</td>\n",
              "      <td>2824</td>\n",
              "      <td>ohc</td>\n",
              "      <td>five</td>\n",
              "      <td>136</td>\n",
              "      <td>mpfi</td>\n",
              "      <td>3.19</td>\n",
              "      <td>3.40</td>\n",
              "      <td>8.0</td>\n",
              "      <td>115</td>\n",
              "      <td>5500</td>\n",
              "      <td>18</td>\n",
              "      <td>22</td>\n",
              "      <td>17450</td>\n",
              "    </tr>\n",
              "  </tbody>\n",
              "</table>\n",
              "</div>"
            ],
            "text/plain": [
              "   symboling  normalized-losses         make  ... city-mpg highway-mpg  price\n",
              "0          3                164  alfa-romero  ...       21          27  13495\n",
              "1          3                164  alfa-romero  ...       21          27  16500\n",
              "2          1                164  alfa-romero  ...       19          26  16500\n",
              "3          2                164         audi  ...       24          30  13950\n",
              "4          2                164         audi  ...       18          22  17450\n",
              "\n",
              "[5 rows x 26 columns]"
            ]
          },
          "metadata": {
            "tags": []
          },
          "execution_count": 4
        }
      ]
    },
    {
      "cell_type": "code",
      "metadata": {
        "id": "Zuu8HVFyJOI8",
        "colab_type": "code",
        "outputId": "5d6cc7be-148b-473a-9047-a847d4cc4563",
        "colab": {
          "base_uri": "https://localhost:8080/",
          "height": 302
        }
      },
      "source": [
        "print('п.1. среднее значение ', data.mean())"
      ],
      "execution_count": 5,
      "outputs": [
        {
          "output_type": "stream",
          "text": [
            "п.1. среднее значение  symboling                0.834146\n",
            "normalized-losses      126.365854\n",
            "wheel-base              98.756585\n",
            "length                 174.049268\n",
            "width                   65.907805\n",
            "height                  53.724878\n",
            "curb-weight           2555.565854\n",
            "engine-size            126.907317\n",
            "bore                     3.324878\n",
            "stroke                   3.253366\n",
            "compression-ratio       10.142537\n",
            "horsepower             106.048780\n",
            "peak-rpm              5131.463415\n",
            "city-mpg                25.219512\n",
            "highway-mpg             30.751220\n",
            "price                13312.712195\n",
            "dtype: float64\n"
          ],
          "name": "stdout"
        }
      ]
    },
    {
      "cell_type": "code",
      "metadata": {
        "id": "uJ8_chaVJgQx",
        "colab_type": "code",
        "outputId": "a8963f6a-3e77-4c6f-88b5-9ba6fd9da522",
        "colab": {
          "base_uri": "https://localhost:8080/",
          "height": 302
        }
      },
      "source": [
        "print('Медиана ', data.median())"
      ],
      "execution_count": 6,
      "outputs": [
        {
          "output_type": "stream",
          "text": [
            "Медиана  symboling                1.00\n",
            "normalized-losses      122.00\n",
            "wheel-base              97.00\n",
            "length                 173.20\n",
            "width                   65.50\n",
            "height                  54.10\n",
            "curb-weight           2414.00\n",
            "engine-size            120.00\n",
            "bore                     3.31\n",
            "stroke                   3.29\n",
            "compression-ratio        9.00\n",
            "horsepower              95.00\n",
            "peak-rpm              5200.00\n",
            "city-mpg                24.00\n",
            "highway-mpg             30.00\n",
            "price                10295.00\n",
            "dtype: float64\n"
          ],
          "name": "stdout"
        }
      ]
    },
    {
      "cell_type": "code",
      "metadata": {
        "id": "EmAJEpdVJktZ",
        "colab_type": "code",
        "outputId": "d6531189-df7e-4331-e074-769bfa645352",
        "colab": {
          "base_uri": "https://localhost:8080/",
          "height": 101
        }
      },
      "source": [
        "print('Мода', data.mode())"
      ],
      "execution_count": 7,
      "outputs": [
        {
          "output_type": "stream",
          "text": [
            "Мода    symboling  normalized-losses    make  ... city-mpg highway-mpg   price\n",
            "0        0.0              161.0  toyota  ...     31.0        25.0  6785.0\n",
            "1        NaN                NaN     NaN  ...      NaN         NaN     NaN\n",
            "\n",
            "[2 rows x 26 columns]\n"
          ],
          "name": "stdout"
        }
      ]
    },
    {
      "cell_type": "code",
      "metadata": {
        "id": "Z9imaqXZJokK",
        "colab_type": "code",
        "outputId": "6f6a8745-0c2d-4027-c8a6-e1d0f1d3612b",
        "colab": {
          "base_uri": "https://localhost:8080/",
          "height": 470
        }
      },
      "source": [
        "print('Максимальные значения ', data.max())"
      ],
      "execution_count": 8,
      "outputs": [
        {
          "output_type": "stream",
          "text": [
            "Максимальные значения  symboling                3\n",
            "normalized-losses      256\n",
            "make                 volvo\n",
            "fuel-type              gas\n",
            "aspiration           turbo\n",
            "num-of-doors           two\n",
            "body-style           wagon\n",
            "drive-wheels           rwd\n",
            "engine-location       rear\n",
            "wheel-base           120.9\n",
            "length               208.1\n",
            "width                 72.3\n",
            "height                59.8\n",
            "curb-weight           4066\n",
            "engine-type          rotor\n",
            "num-of-cylinders       two\n",
            "engine-size            326\n",
            "fuel-system           spfi\n",
            "bore                  3.94\n",
            "stroke                4.17\n",
            "compression-ratio       23\n",
            "horsepower             288\n",
            "peak-rpm              6600\n",
            "city-mpg                49\n",
            "highway-mpg             54\n",
            "price                45400\n",
            "dtype: object\n"
          ],
          "name": "stdout"
        }
      ]
    },
    {
      "cell_type": "code",
      "metadata": {
        "id": "3kB3piM7JrvY",
        "colab_type": "code",
        "outputId": "ee0b5775-b8f1-4b91-b1f7-a761e8d4d7c1",
        "colab": {
          "base_uri": "https://localhost:8080/",
          "height": 470
        }
      },
      "source": [
        "print('Минимальные значения ', data.min())"
      ],
      "execution_count": 9,
      "outputs": [
        {
          "output_type": "stream",
          "text": [
            "Минимальные значения  symboling                     -2\n",
            "normalized-losses             65\n",
            "make                 alfa-romero\n",
            "fuel-type                 diesel\n",
            "aspiration                   std\n",
            "num-of-doors                four\n",
            "body-style           convertible\n",
            "drive-wheels                 4wd\n",
            "engine-location            front\n",
            "wheel-base                  86.6\n",
            "length                     141.1\n",
            "width                       60.3\n",
            "height                      47.8\n",
            "curb-weight                 1488\n",
            "engine-type                 dohc\n",
            "num-of-cylinders           eight\n",
            "engine-size                   61\n",
            "fuel-system                 1bbl\n",
            "bore                        2.54\n",
            "stroke                      2.07\n",
            "compression-ratio              7\n",
            "horsepower                    48\n",
            "peak-rpm                    4150\n",
            "city-mpg                      13\n",
            "highway-mpg                   16\n",
            "price                       5118\n",
            "dtype: object\n"
          ],
          "name": "stdout"
        }
      ]
    },
    {
      "cell_type": "code",
      "metadata": {
        "id": "f-fow2AlJuzA",
        "colab_type": "code",
        "outputId": "c5c4779d-f11f-47af-e50b-c1eb3ab979f0",
        "colab": {
          "base_uri": "https://localhost:8080/",
          "height": 302
        }
      },
      "source": [
        "print('Стандартное отклонение ', data.std())"
      ],
      "execution_count": 10,
      "outputs": [
        {
          "output_type": "stream",
          "text": [
            "Стандартное отклонение  symboling               1.245307\n",
            "normalized-losses      35.438400\n",
            "wheel-base              6.021776\n",
            "length                 12.337289\n",
            "width                   2.145204\n",
            "height                  2.443522\n",
            "curb-weight           520.680204\n",
            "engine-size            41.642693\n",
            "bore                    0.273049\n",
            "stroke                  0.313937\n",
            "compression-ratio       3.972040\n",
            "horsepower             43.468803\n",
            "peak-rpm              480.933330\n",
            "city-mpg                6.542142\n",
            "highway-mpg             6.886443\n",
            "price                8102.472461\n",
            "dtype: float64\n"
          ],
          "name": "stdout"
        }
      ]
    },
    {
      "cell_type": "markdown",
      "metadata": {
        "id": "U4K0ffjsYVxW",
        "colab_type": "text"
      },
      "source": [
        "***Матрица корреляции***"
      ]
    },
    {
      "cell_type": "code",
      "metadata": {
        "id": "JjdgyE-FJ7R7",
        "colab_type": "code",
        "outputId": "0e11f022-291a-4458-f4a1-3c82598f7b33",
        "colab": {
          "base_uri": "https://localhost:8080/",
          "height": 792
        }
      },
      "source": [
        "f, ax = plt.subplots(figsize=(13, 13))\n",
        "corr = data.corr()\n",
        "sns.heatmap(corr, mask=np.zeros_like(corr, dtype=np.bool), cmap=sns.diverging_palette(220, 10, as_cmap=True),\n",
        "            square=True, ax=ax)"
      ],
      "execution_count": 11,
      "outputs": [
        {
          "output_type": "execute_result",
          "data": {
            "text/plain": [
              "<matplotlib.axes._subplots.AxesSubplot at 0x7f713387cc50>"
            ]
          },
          "metadata": {
            "tags": []
          },
          "execution_count": 11
        },
        {
          "output_type": "display_data",
          "data": {
            "image/png": "[encoded data removed]",
            "text/plain": [
              "<Figure size 936x936 with 2 Axes>"
            ]
          },
          "metadata": {
            "tags": []
          }
        }
      ]
    },
    {
      "cell_type": "markdown",
      "metadata": {
        "id": "2eeyxiAuJUIQ",
        "colab_type": "text"
      },
      "source": [
        " Рассчитать основные статистики для переменных(среднее, медиана, мода, мин/макс, сред. отклонение) 3. Рассчитать и визуализировать корреляционную матрицу для переменных 4. Визуализировать распределение переменной ‘Price’, рассчитать показатели skewness и kurtosis 5. Визуализировать несколько взаимосвязей между переменными 6. Выдвинуть несколько гипотез по набору имеющихся переменных и проверить эти гипотезы с использованием t-test. 7. Загрузить результат (в формате .ipynb ноутбука) в репозиторий. Разместить ссылку на репозиторий в лк на сайте. \n",
        " "
      ]
    },
    {
      "cell_type": "markdown",
      "metadata": {
        "id": "SHD3n_38Yg76",
        "colab_type": "text"
      },
      "source": [
        "***рассчитать показатели skewness и kurtosis***"
      ]
    },
    {
      "cell_type": "code",
      "metadata": {
        "id": "U6RXyYkxN43I",
        "colab_type": "code",
        "outputId": "b09be7ed-e12a-4517-af5d-be9f1eada5b7",
        "colab": {
          "base_uri": "https://localhost:8080/",
          "height": 34
        }
      },
      "source": [
        "x = data['price']\n",
        "kurtosis_scipy = stats.kurtosis(x)\n",
        "kurtosis_pandas = pd.DataFrame(x).kurtosis()[0]\n",
        "\n",
        "print(kurtosis_scipy, kurtosis_pandas)"
      ],
      "execution_count": 0,
      "outputs": [
        {
          "output_type": "stream",
          "text": [
            "2.848082544390688 2.948637293212561\n"
          ],
          "name": "stdout"
        }
      ]
    },
    {
      "cell_type": "markdown",
      "metadata": {
        "id": "ZnXEiJmCYmK6",
        "colab_type": "text"
      },
      "source": [
        "***Графики плотности распределения значений***"
      ]
    },
    {
      "cell_type": "code",
      "metadata": {
        "id": "3KOxC3wzKRui",
        "colab_type": "code",
        "outputId": "8f6b5132-1a7a-4a67-eb2c-0bec20859776",
        "colab": {
          "base_uri": "https://localhost:8080/",
          "height": 311
        }
      },
      "source": [
        "#Графики плотности распределения значений\n",
        "data['price'].hist()\n",
        "plt.tight_layout(pad=0.4, w_pad=0.5, h_pad=5.0)\n",
        "plt.show()"
      ],
      "execution_count": 0,
      "outputs": [
        {
          "output_type": "display_data",
          "data": {
            "image/png": "[encoded data removed]",
            "text/plain": [
              "<Figure size 432x288 with 1 Axes>"
            ]
          },
          "metadata": {
            "tags": []
          }
        }
      ]
    },
    {
      "cell_type": "markdown",
      "metadata": {
        "id": "8oiQUPN1Yrn6",
        "colab_type": "text"
      },
      "source": [
        "***Графики сравнения распределения двух выборок***"
      ]
    },
    {
      "cell_type": "code",
      "metadata": {
        "id": "UhoCgKO4Lh16",
        "colab_type": "code",
        "outputId": "314596b7-8575-4e28-e2e4-f7856c649767",
        "colab": {
          "base_uri": "https://localhost:8080/",
          "height": 189
        }
      },
      "source": [
        "data_an = data[['fuel-type','price']]\n",
        "sns.pairplot(data=data_an,hue='fuel-type',plot_kws={'alpha':0.2},palette='hot')\n",
        "plt.show()\n"
      ],
      "execution_count": 0,
      "outputs": [
        {
          "output_type": "display_data",
          "data": {
            "image/png": "[encoded data removed]",
            "text/plain": [
              "<Figure size 245.625x180 with 2 Axes>"
            ]
          },
          "metadata": {
            "tags": []
          }
        }
      ]
    },
    {
      "cell_type": "markdown",
      "metadata": {
        "id": "6U-b_b5KXMkv",
        "colab_type": "text"
      },
      "source": [
        "***Распределение обоих графиков нормальное, машины на газе имеют меньший разброс***"
      ]
    },
    {
      "cell_type": "markdown",
      "metadata": {
        "id": "VJE8otwQYzsd",
        "colab_type": "text"
      },
      "source": [
        "***Парные графики Мощности двигателя и цена***"
      ]
    },
    {
      "cell_type": "code",
      "metadata": {
        "id": "9xyFR6ciRwFD",
        "colab_type": "code",
        "outputId": "f7e6cef4-cb16-46d9-bf65-cac5c0992b99",
        "colab": {
          "base_uri": "https://localhost:8080/",
          "height": 369
        }
      },
      "source": [
        "data_an = data[['horsepower','price']]\n",
        "sns.pairplot(data=data_an,plot_kws={'alpha':0.2},palette='hot')\n",
        "plt.show()\n"
      ],
      "execution_count": 0,
      "outputs": [
        {
          "output_type": "display_data",
          "data": {
            "image/png": "[encoded data removed]",
            "text/plain": [
              "<Figure size 360x360 with 6 Axes>"
            ]
          },
          "metadata": {
            "tags": []
          }
        }
      ]
    },
    {
      "cell_type": "markdown",
      "metadata": {
        "id": "BkXim3fHSC4m",
        "colab_type": "text"
      },
      "source": [
        "***Видна линейная зависимость мощности двигателя и стоимости***"
      ]
    },
    {
      "cell_type": "code",
      "metadata": {
        "id": "NXOGwRVUOlfh",
        "colab_type": "code",
        "outputId": "b0dd3ec8-d6a3-434f-b0e9-8071ca8a5507",
        "colab": {
          "base_uri": "https://localhost:8080/",
          "height": 34
        }
      },
      "source": [
        "data['fuel-type'].unique()"
      ],
      "execution_count": 0,
      "outputs": [
        {
          "output_type": "execute_result",
          "data": {
            "text/plain": [
              "array(['gas', 'diesel'], dtype=object)"
            ]
          },
          "metadata": {
            "tags": []
          },
          "execution_count": 20
        }
      ]
    },
    {
      "cell_type": "code",
      "metadata": {
        "id": "rk_VQd_qOvqe",
        "colab_type": "code",
        "colab": {}
      },
      "source": [
        "Выдвинем нулевую гипотезу, что машины с топливом газ стоят столько же сколько и на дизеле"
      ],
      "execution_count": 0,
      "outputs": []
    },
    {
      "cell_type": "code",
      "metadata": {
        "id": "DkAmi_9BNDev",
        "colab_type": "code",
        "outputId": "64bef747-e223-4ce9-8538-136bb2d62fd5",
        "colab": {
          "base_uri": "https://localhost:8080/",
          "height": 34
        }
      },
      "source": [
        "gas = data[data['fuel-type']=='gas']['price']\n",
        "\n",
        "dizel = data[data['fuel-type']=='diesel']['price']\n",
        "\n",
        "stats.ttest_ind(gas, dizel)"
      ],
      "execution_count": 0,
      "outputs": [
        {
          "output_type": "execute_result",
          "data": {
            "text/plain": [
              "Ttest_indResult(statistic=-1.4715061487687495, pvalue=0.1427027883743746)"
            ]
          },
          "metadata": {
            "tags": []
          },
          "execution_count": 21
        }
      ]
    },
    {
      "cell_type": "code",
      "metadata": {
        "id": "WJiQh_NLPPvE",
        "colab_type": "code",
        "colab": {}
      },
      "source": [
        "Вывод - гипотеза нулевая гипотеза подтверждается, вероятность p примерно в три раза больше 5%, выборка машин на газе и дизеле статистически значимы"
      ],
      "execution_count": 0,
      "outputs": []
    },
    {
      "cell_type": "code",
      "metadata": {
        "id": "_ZnwEAQsPfrM",
        "colab_type": "code",
        "outputId": "a63b8c43-fbfa-4c25-8e27-da3c1ce92a0b",
        "colab": {
          "base_uri": "https://localhost:8080/",
          "height": 50
        }
      },
      "source": [
        "print('средняя стоимость машин на газе', gas.mean())\n",
        "print('средняя стоимость машин на дизеле', dizel.mean())"
      ],
      "execution_count": 0,
      "outputs": [
        {
          "output_type": "stream",
          "text": [
            "средняя стоимость машин на газе 13039.691891891893\n",
            "средняя стоимость машин на дизеле 15838.15\n"
          ],
          "name": "stdout"
        }
      ]
    }
  ]
}