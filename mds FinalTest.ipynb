{
  "nbformat": 4,
  "nbformat_minor": 0,
  "metadata": {
    "kernelspec": {
      "display_name": "Python 3",
      "language": "python",
      "name": "python3"
    },
    "language_info": {
      "codemirror_mode": {
        "name": "ipython",
        "version": 3
      },
      "file_extension": ".py",
      "mimetype": "text/x-python",
      "name": "python",
      "nbconvert_exporter": "python",
      "pygments_lexer": "ipython3",
      "version": "3.7.5"
    },
    "colab": {
      "name": "FinalTest.ipynb",
      "provenance": [],
      "include_colab_link": true
    }
  },
  "cells": [
    {
      "cell_type": "markdown",
      "metadata": {
        "id": "view-in-github",
        "colab_type": "text"
      },
      "source": [
        "<a href=\"https://colab.research.google.com/github/StetskoSergey/pida5_stetsko/blob/master/mds%20FinalTest.ipynb\" target=\"_parent\"><img src=\"https://colab.research.google.com/assets/colab-badge.svg\" alt=\"Open In Colab\"/></a>"
      ]
    },
    {
      "cell_type": "markdown",
      "metadata": {
        "id": "wbsLMfl-Be4i",
        "colab_type": "text"
      },
      "source": [
        "### Задание 1"
      ]
    },
    {
      "cell_type": "code",
      "metadata": {
        "id": "OMbvAIfkrb57",
        "colab_type": "code",
        "colab": {}
      },
      "source": [
        "import numpy as np\n",
        "from matplotlib import pyplot as plt\n",
        "import math\n"
      ],
      "execution_count": 0,
      "outputs": []
    },
    {
      "cell_type": "markdown",
      "metadata": {
        "id": "pK3uCg9dBe4l",
        "colab_type": "text"
      },
      "source": [
        "Дана матрица рейтингов фильмов (строки - пользователи (10 человек), столбцы - фильмы (15 фильмов))"
      ]
    },
    {
      "cell_type": "code",
      "metadata": {
        "id": "2C0dCo-oBe4m",
        "colab_type": "code",
        "colab": {}
      },
      "source": [
        "raitings = [[ 4,  4,  9,  4,  1,  6, 10,  7,  9,  6,  9,  2,  8,  6,  6],\n",
        "            [ 9,  2,  5, 10,  7,  8, 10,  5,  6,  2,  1,  6,  8,  9,  7],\n",
        "            [ 1,  6,  8,  8,  4,  9,  3,  8, 10,  5,  2,  6,  8,  1,  6],\n",
        "            [ 6,  1,  9,  7,  7,  9,  2,  3,  5,  1,  6,  6,  3,  2,  7],\n",
        "            [ 3,  7,  3,  5,  7,  9,  9,  6,  2,  9,  1,  2,  8, 10,  6],\n",
        "            [ 8,  3,  7,  3,  8,  6,  1,  8,  8,  6,  1,  9,  4, 10,  1],\n",
        "            [ 9,  8,  4,  8,  8, 10,  6,  1,  1,  2,  9,  5,  2,  7,  2],\n",
        "            [ 4,  1,  6,  4,  3, 10,  4,  4,  2,  8,  7,  9,  3,  8,  3],\n",
        "            [ 2,  7,  7,  6, 10,  6,  8,  9,  8,  6, 10,  1,  7, 10,  4],\n",
        "            [ 5, 10,  8,  8,  9,  7,  2,  9,  9, 10,  8,  8,  8,  6, 10]]"
      ],
      "execution_count": 0,
      "outputs": []
    },
    {
      "cell_type": "markdown",
      "metadata": {
        "id": "8yJX985OBe4o",
        "colab_type": "text"
      },
      "source": [
        "<b> a) </b> Необходимо найти наиболее похожего пользователя по косинусной метрике для каждого из (ответ: 10 пар вида (x, y), где y - наиболее похожий пользователь на пользователя x)."
      ]
    },
    {
      "cell_type": "code",
      "metadata": {
        "id": "N_gAax5FqxZo",
        "colab_type": "code",
        "outputId": "ec19f6da-087b-4956-f3c9-b6379a01f51b",
        "colab": {
          "base_uri": "https://localhost:8080/",
          "height": 185
        }
      },
      "source": [
        "#Скалярное произведение векторов, нормированное\n",
        "#np.dot(x,y)/math.sqrt(np.dot(x,x)*np.dot(y,y))\n",
        "# нужно найти максимум по списку\n",
        "sp = [(i,raitings[i]) for i in range(len(raitings))]\n",
        "\n",
        "def scal(x,y):\n",
        "  if x == y: # чтобы вектор сам на себя не оставался в выборке\n",
        "    return 0\n",
        "  return np.dot(x,y)/math.sqrt(np.dot(x,x)*np.dot(y,y))\n",
        "# нужно составить пары значений и взять от них максимум по каждой группе пар\n",
        "def max_sp(n):\n",
        "  return max(sp, key=lambda p: scal(p[1],sp[n][1]))\n",
        "\n",
        "[(i[0] , max_sp(i[0])[0]) for i in sp]\n"
      ],
      "execution_count": 0,
      "outputs": [
        {
          "output_type": "execute_result",
          "data": {
            "text/plain": [
              "[(0, 8),\n",
              " (1, 4),\n",
              " (2, 9),\n",
              " (3, 9),\n",
              " (4, 8),\n",
              " (5, 9),\n",
              " (6, 3),\n",
              " (7, 5),\n",
              " (8, 0),\n",
              " (9, 2)]"
            ]
          },
          "metadata": {
            "tags": []
          },
          "execution_count": 29
        }
      ]
    },
    {
      "cell_type": "markdown",
      "metadata": {
        "id": "IfrxIem3Be4p",
        "colab_type": "text"
      },
      "source": [
        "<b> b) </b>Предположим, вы захотели сжать признаковые описания пользователя с 15 фильмов, до, скажем, 5-ти признаков, как вы это сделаете?"
      ]
    },
    {
      "cell_type": "code",
      "metadata": {
        "id": "jTFDi9U2x9lm",
        "colab_type": "code",
        "outputId": "e236181a-46c2-42aa-81c7-af9cde879f53",
        "colab": {
          "base_uri": "https://localhost:8080/",
          "height": 218
        }
      },
      "source": [
        "#метод svd спектральное разложение матрицы\n",
        "from sklearn.decomposition import TruncatedSVD\n",
        "\n",
        "def TruncClassifier(X, n_components=5):\n",
        "  svd = TruncatedSVD(n_components = n_components)\n",
        "  X_reduced = svd.fit_transform(X)\n",
        "  return X_reduced, svd \n",
        "\n",
        "TruncClassifier(raitings, n_components=5)  "
      ],
      "execution_count": 0,
      "outputs": [
        {
          "output_type": "execute_result",
          "data": {
            "text/plain": [
              "(array([[23.41982063, -5.36092136,  3.83196779, -4.06950174,  1.10267269],\n",
              "        [24.76774917,  4.52188701,  1.35815965,  1.58128545,  8.59912002],\n",
              "        [22.27728589, -6.96492049, -4.84461485, -0.47661647,  3.37152266],\n",
              "        [19.4257757 ,  2.64575227, -6.86014009, -4.76604765,  1.96075707],\n",
              "        [22.8146354 ,  0.51464093,  7.70180188,  4.42379773,  1.29124163],\n",
              "        [21.76961656,  1.94294987, -4.56934779,  8.32306487, -2.21887359],\n",
              "        [21.23427453,  9.78047778,  1.16340271, -4.86074521, -2.60815471],\n",
              "        [19.97476815,  4.00048677, -1.67456316,  1.1512346 , -3.5637169 ],\n",
              "        [26.39306998, -3.03090482,  5.86422753, -1.67503491, -3.71500141],\n",
              "        [29.94016844, -4.82012297, -3.48912415,  0.05527083, -3.62526487]]),\n",
              " TruncatedSVD(algorithm='randomized', n_components=5, n_iter=5,\n",
              "              random_state=None, tol=0.0))"
            ]
          },
          "metadata": {
            "tags": []
          },
          "execution_count": 34
        }
      ]
    },
    {
      "cell_type": "markdown",
      "metadata": {
        "id": "mHBfhhcfBe4r",
        "colab_type": "text"
      },
      "source": [
        "### Задание 2"
      ]
    },
    {
      "cell_type": "markdown",
      "metadata": {
        "id": "zdmoP-NOBe4r",
        "colab_type": "text"
      },
      "source": [
        "Вычислите производную $tg^2(sin(x) + cos(2x+3))$ в точке $x_0=1$ на python и на бумаге (просто подставить точку в производную и ничего не упрощать)."
      ]
    },
    {
      "cell_type": "markdown",
      "metadata": {
        "id": "xnvaUead1Npr",
        "colab_type": "text"
      },
      "source": [
        "$2tg(sin(x)+cos(2x+3))*(1 + tg^2(sin(x)+cos(2x+3)))*(cos(x)-2*sin(2x+3))$"
      ]
    },
    {
      "cell_type": "code",
      "metadata": {
        "id": "Vilip6We0WPt",
        "colab_type": "code",
        "outputId": "f2d6be27-d051-4052-bc14-bdc6ddc4712f",
        "colab": {
          "base_uri": "https://localhost:8080/",
          "height": 34
        }
      },
      "source": [
        "from scipy.misc import derivative\n",
        "\n",
        "def f(x):\n",
        "    return math.tan(math.sin(x) + math.cos(2*x+3))**2\n",
        "derivative(f, 1.0, dx=1e-6)"
      ],
      "execution_count": 0,
      "outputs": [
        {
          "output_type": "execute_result",
          "data": {
            "text/plain": [
              "55.3859176464222"
            ]
          },
          "metadata": {
            "tags": []
          },
          "execution_count": 35
        }
      ]
    },
    {
      "cell_type": "markdown",
      "metadata": {
        "id": "WvlVEGVXBe4s",
        "colab_type": "text"
      },
      "source": [
        "### Задание 3"
      ]
    },
    {
      "cell_type": "markdown",
      "metadata": {
        "id": "z4DSGzsSBe4t",
        "colab_type": "text"
      },
      "source": [
        "Дана функция с неизвестными параметрами a и b, вам также известны значения функции fx в точках x. Найдите оптимальные параметры a, b, минимизирующие абсолютную ошибку <b>error</b>"
      ]
    },
    {
      "cell_type": "code",
      "metadata": {
        "id": "jvRVlOChBe4t",
        "colab_type": "code",
        "colab": {}
      },
      "source": [
        "import matplotlib.pyplot as plt\n",
        "from scipy.optimize import minimize\n",
        "%matplotlib inline"
      ],
      "execution_count": 0,
      "outputs": []
    },
    {
      "cell_type": "code",
      "metadata": {
        "id": "MY4W7vI9Be4w",
        "colab_type": "code",
        "colab": {}
      },
      "source": [
        "def f(x, a, b):\n",
        "    return np.e**a * np.sin(b*x) + x"
      ],
      "execution_count": 0,
      "outputs": []
    },
    {
      "cell_type": "code",
      "metadata": {
        "id": "hyzEwfu4Be4y",
        "colab_type": "code",
        "colab": {}
      },
      "source": [
        "x = [0.        , 0.26315789, 0.52631579, 0.78947368, 1.05263158,\n",
        "       1.31578947, 1.57894737, 1.84210526, 2.10526316, 2.36842105,\n",
        "       2.63157895, 2.89473684, 3.15789474, 3.42105263, 3.68421053,\n",
        "       3.94736842, 4.21052632, 4.47368421, 4.73684211, 5.        ]"
      ],
      "execution_count": 0,
      "outputs": []
    },
    {
      "cell_type": "code",
      "metadata": {
        "id": "7XZJl19UBe41",
        "colab_type": "code",
        "colab": {}
      },
      "source": [
        "fx = [  0.        , -12.01819092, -18.90968634, -17.68786571,\n",
        "        -8.7529108 ,   4.27524517,  16.06801336,  21.81250213,\n",
        "        19.22059845,   9.48411207,  -3.22273056, -13.48576488,\n",
        "       -16.91096359, -11.95866834,  -0.58630088,  12.56873816,\n",
        "        22.12489421,  24.20292139,  18.04522521,   6.33211092]"
      ],
      "execution_count": 0,
      "outputs": []
    },
    {
      "cell_type": "code",
      "metadata": {
        "id": "mQ69yofBBe43",
        "colab_type": "code",
        "outputId": "87e4708a-aad2-4516-f88e-a54927918695",
        "colab": {
          "base_uri": "https://localhost:8080/",
          "height": 265
        }
      },
      "source": [
        "plt.plot(x, fx)\n",
        "plt.show()"
      ],
      "execution_count": 45,
      "outputs": [
        {
          "output_type": "display_data",
          "data": {
            "image/png": "[encoded data removed]",
            "text/plain": [
              "<Figure size 432x288 with 1 Axes>"
            ]
          },
          "metadata": {
            "tags": []
          }
        }
      ]
    },
    {
      "cell_type": "code",
      "metadata": {
        "id": "HOQt86f8Be45",
        "colab_type": "code",
        "colab": {}
      },
      "source": [
        "def error(params):\n",
        "    return np.sum([np.abs(fx[i] - f(x[i], params[0], params[1])) for i in range(len(x))])"
      ],
      "execution_count": 0,
      "outputs": []
    },
    {
      "cell_type": "code",
      "metadata": {
        "id": "xpCS_ya45gPQ",
        "colab_type": "code",
        "outputId": "00b9cae6-a877-4c96-f4db-bc13230d2cd5",
        "colab": {
          "base_uri": "https://localhost:8080/",
          "height": 151
        }
      },
      "source": [
        "from scipy.optimize import dual_annealing\n",
        "from scipy.optimize import differential_evolution\n",
        "from scipy.optimize import basinhopping\n",
        "\n",
        "\n",
        "bounds = [(-10, 10), (-10, 10)]\n",
        "result = differential_evolution(error, bounds, seed=42)\n",
        "print(result)\n",
        "print('Параметры a, b - {}'.format(result.x))"
      ],
      "execution_count": 59,
      "outputs": [
        {
          "output_type": "stream",
          "text": [
            "     fun: 1.5129809911584857e-06\n",
            "     jac: array([133.48417518, 502.62139872])\n",
            " message: 'Optimization terminated successfully.'\n",
            "    nfev: 2073\n",
            "     nit: 66\n",
            " success: True\n",
            "       x: array([ 3. , -2.5])\n",
            "Параметры a, b - [ 3.  -2.5]\n"
          ],
          "name": "stdout"
        }
      ]
    },
    {
      "cell_type": "markdown",
      "metadata": {
        "id": "rlmeN-OMBe48",
        "colab_type": "text"
      },
      "source": [
        "### Задание 4"
      ]
    },
    {
      "cell_type": "markdown",
      "metadata": {
        "id": "rVGlfTO7Be49",
        "colab_type": "text"
      },
      "source": [
        "Создайте собственную дискретную случайную величину с 20 значениями. Сгенерируйте 1000 выборок размера 50. Посчитайте среднее для каждой выборки. Постройте гистограмму распределения средних."
      ]
    },
    {
      "cell_type": "code",
      "metadata": {
        "id": "wm8mayOzWCTX",
        "colab_type": "code",
        "colab": {
          "base_uri": "https://localhost:8080/",
          "height": 296
        },
        "outputId": "9ab72ec7-4ffa-4a65-87c3-221ce4ec822f"
      },
      "source": [
        "n = 20\n",
        "\n",
        "sp = range(n)\n",
        "data = [np.mean([np.random.choice(sp) for i in range(50)]) for j in range(1000)]\n",
        "plt.hist(data, density=True)\n",
        "\n",
        "plt.ylabel('samples means')\n",
        "plt.xlabel('$x$')"
      ],
      "execution_count": 18,
      "outputs": [
        {
          "output_type": "execute_result",
          "data": {
            "text/plain": [
              "Text(0.5, 0, '$x$')"
            ]
          },
          "metadata": {
            "tags": []
          },
          "execution_count": 18
        },
        {
          "output_type": "display_data",
          "data": {
            "image/png": "[encoded data removed]",
            "text/plain": [
              "<Figure size 432x288 with 1 Axes>"
            ]
          },
          "metadata": {
            "tags": []
          }
        }
      ]
    },
    {
      "cell_type": "markdown",
      "metadata": {
        "id": "kfquz6hNBe49",
        "colab_type": "text"
      },
      "source": [
        "### Задание 5"
      ]
    },
    {
      "cell_type": "markdown",
      "metadata": {
        "id": "__U54IWoBe4-",
        "colab_type": "text"
      },
      "source": [
        "Найдите собственные значения и собственные вектора матрицы (на python и на бумаге)\n",
        "\n",
        "[[1, -4],\n",
        "\n",
        " [1, 1]]"
      ]
    },
    {
      "cell_type": "code",
      "metadata": {
        "id": "0ndGzhNCU7Cc",
        "colab_type": "code",
        "colab": {
          "base_uri": "https://localhost:8080/",
          "height": 84
        },
        "outputId": "168d3ea2-9998-4843-b0cd-492e1fb62c9e"
      },
      "source": [
        "#собственные вектора\n",
        "m = [[1,-4],[1,1]]\n",
        "\n",
        "w, v = np.linalg.eig(m)\n",
        "for i in range(len(w)):\n",
        "    print(\"Собственное значение \" + str(w[i]))\n",
        "    print(\"соответствующий ему собственный вектор \" + str(np.transpose(v)[i]))"
      ],
      "execution_count": 3,
      "outputs": [
        {
          "output_type": "stream",
          "text": [
            "Собственное значение (1+2.0000000000000004j)\n",
            "соответствующий ему собственный вектор [0.89442719+0.j        0.        -0.4472136j]\n",
            "Собственное значение (1-2.0000000000000004j)\n",
            "соответствующий ему собственный вектор [0.89442719-0.j        0.        +0.4472136j]\n"
          ],
          "name": "stdout"
        }
      ]
    },
    {
      "cell_type": "markdown",
      "metadata": {
        "id": "dMTKlGjhbder",
        "colab_type": "text"
      },
      "source": [
        ""
      ]
    }
  ]
}