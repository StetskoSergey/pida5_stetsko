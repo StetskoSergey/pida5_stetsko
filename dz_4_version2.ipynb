{
  "nbformat": 4,
  "nbformat_minor": 0,
  "metadata": {
    "colab": {
      "name": "dz_4.version2.ipynb",
      "provenance": [],
      "collapsed_sections": [],
      "include_colab_link": true
    },
    "kernelspec": {
      "name": "python3",
      "display_name": "Python 3"
    }
  },
  "cells": [
    {
      "cell_type": "markdown",
      "metadata": {
        "id": "view-in-github",
        "colab_type": "text"
      },
      "source": [
        "<a href=\"https://colab.research.google.com/github/StetskoSergey/pida5_stetsko/blob/master/dz_4_version2.ipynb\" target=\"_parent\"><img src=\"https://colab.research.google.com/assets/colab-badge.svg\" alt=\"Open In Colab\"/></a>"
      ]
    },
    {
      "cell_type": "markdown",
      "metadata": {
        "id": "eY5OAxFSfZ9j",
        "colab_type": "text"
      },
      "source": [
        "# Домашняя работа №4"
      ]
    },
    {
      "cell_type": "markdown",
      "metadata": {
        "id": "bozSzxpJfgaR",
        "colab_type": "text"
      },
      "source": [
        "Для датасета kaggle, Credit Card Fraud Detection"
      ]
    },
    {
      "cell_type": "code",
      "metadata": {
        "id": "aCIxxZDVeHkv",
        "colab_type": "code",
        "colab": {}
      },
      "source": [
        "import numpy as np\n",
        "from scipy.stats import t\n",
        "from scipy.stats import norm\n",
        "import matplotlib.pyplot as plt\n",
        "from scipy import stats\n",
        "import pandas as pd\n",
        "import io\n",
        "import requests\n",
        "import seaborn as sns\n",
        "#import kaggle\n",
        "\n",
        "%matplotlib inline"
      ],
      "execution_count": 0,
      "outputs": []
    },
    {
      "cell_type": "code",
      "metadata": {
        "id": "EicD5vKlfpPh",
        "colab_type": "code",
        "outputId": "23c1be57-121d-4d9c-ff38-49806210ba10",
        "colab": {
          "base_uri": "https://localhost:8080/",
          "height": 215
        }
      },
      "source": [
        "url='http://yustiks.ru/dataset/creditcard.csv'\n",
        "s=requests.get(url).content\n",
        "data=pd.read_csv(io.StringIO(s.decode('utf-8')))\n",
        "data.head()"
      ],
      "execution_count": 88,
      "outputs": [
        {
          "output_type": "execute_result",
          "data": {
            "text/html": [
              "<div>\n",
              "<style scoped>\n",
              "    .dataframe tbody tr th:only-of-type {\n",
              "        vertical-align: middle;\n",
              "    }\n",
              "\n",
              "    .dataframe tbody tr th {\n",
              "        vertical-align: top;\n",
              "    }\n",
              "\n",
              "    .dataframe thead th {\n",
              "        text-align: right;\n",
              "    }\n",
              "</style>\n",
              "<table border=\"1\" class=\"dataframe\">\n",
              "  <thead>\n",
              "    <tr style=\"text-align: right;\">\n",
              "      <th></th>\n",
              "      <th>Time</th>\n",
              "      <th>V1</th>\n",
              "      <th>V2</th>\n",
              "      <th>V3</th>\n",
              "      <th>V4</th>\n",
              "      <th>V5</th>\n",
              "      <th>V6</th>\n",
              "      <th>V7</th>\n",
              "      <th>V8</th>\n",
              "      <th>V9</th>\n",
              "      <th>V10</th>\n",
              "      <th>V11</th>\n",
              "      <th>V12</th>\n",
              "      <th>V13</th>\n",
              "      <th>V14</th>\n",
              "      <th>V15</th>\n",
              "      <th>V16</th>\n",
              "      <th>V17</th>\n",
              "      <th>V18</th>\n",
              "      <th>V19</th>\n",
              "      <th>V20</th>\n",
              "      <th>V21</th>\n",
              "      <th>V22</th>\n",
              "      <th>V23</th>\n",
              "      <th>V24</th>\n",
              "      <th>V25</th>\n",
              "      <th>V26</th>\n",
              "      <th>V27</th>\n",
              "      <th>V28</th>\n",
              "      <th>Amount</th>\n",
              "      <th>Class</th>\n",
              "    </tr>\n",
              "  </thead>\n",
              "  <tbody>\n",
              "    <tr>\n",
              "      <th>0</th>\n",
              "      <td>0.0</td>\n",
              "      <td>-1.359807</td>\n",
              "      <td>-0.072781</td>\n",
              "      <td>2.536347</td>\n",
              "      <td>1.378155</td>\n",
              "      <td>-0.338321</td>\n",
              "      <td>0.462388</td>\n",
              "      <td>0.239599</td>\n",
              "      <td>0.098698</td>\n",
              "      <td>0.363787</td>\n",
              "      <td>0.090794</td>\n",
              "      <td>-0.551600</td>\n",
              "      <td>-0.617801</td>\n",
              "      <td>-0.991390</td>\n",
              "      <td>-0.311169</td>\n",
              "      <td>1.468177</td>\n",
              "      <td>-0.470401</td>\n",
              "      <td>0.207971</td>\n",
              "      <td>0.025791</td>\n",
              "      <td>0.403993</td>\n",
              "      <td>0.251412</td>\n",
              "      <td>-0.018307</td>\n",
              "      <td>0.277838</td>\n",
              "      <td>-0.110474</td>\n",
              "      <td>0.066928</td>\n",
              "      <td>0.128539</td>\n",
              "      <td>-0.189115</td>\n",
              "      <td>0.133558</td>\n",
              "      <td>-0.021053</td>\n",
              "      <td>149.62</td>\n",
              "      <td>0</td>\n",
              "    </tr>\n",
              "    <tr>\n",
              "      <th>1</th>\n",
              "      <td>0.0</td>\n",
              "      <td>1.191857</td>\n",
              "      <td>0.266151</td>\n",
              "      <td>0.166480</td>\n",
              "      <td>0.448154</td>\n",
              "      <td>0.060018</td>\n",
              "      <td>-0.082361</td>\n",
              "      <td>-0.078803</td>\n",
              "      <td>0.085102</td>\n",
              "      <td>-0.255425</td>\n",
              "      <td>-0.166974</td>\n",
              "      <td>1.612727</td>\n",
              "      <td>1.065235</td>\n",
              "      <td>0.489095</td>\n",
              "      <td>-0.143772</td>\n",
              "      <td>0.635558</td>\n",
              "      <td>0.463917</td>\n",
              "      <td>-0.114805</td>\n",
              "      <td>-0.183361</td>\n",
              "      <td>-0.145783</td>\n",
              "      <td>-0.069083</td>\n",
              "      <td>-0.225775</td>\n",
              "      <td>-0.638672</td>\n",
              "      <td>0.101288</td>\n",
              "      <td>-0.339846</td>\n",
              "      <td>0.167170</td>\n",
              "      <td>0.125895</td>\n",
              "      <td>-0.008983</td>\n",
              "      <td>0.014724</td>\n",
              "      <td>2.69</td>\n",
              "      <td>0</td>\n",
              "    </tr>\n",
              "    <tr>\n",
              "      <th>2</th>\n",
              "      <td>1.0</td>\n",
              "      <td>-1.358354</td>\n",
              "      <td>-1.340163</td>\n",
              "      <td>1.773209</td>\n",
              "      <td>0.379780</td>\n",
              "      <td>-0.503198</td>\n",
              "      <td>1.800499</td>\n",
              "      <td>0.791461</td>\n",
              "      <td>0.247676</td>\n",
              "      <td>-1.514654</td>\n",
              "      <td>0.207643</td>\n",
              "      <td>0.624501</td>\n",
              "      <td>0.066084</td>\n",
              "      <td>0.717293</td>\n",
              "      <td>-0.165946</td>\n",
              "      <td>2.345865</td>\n",
              "      <td>-2.890083</td>\n",
              "      <td>1.109969</td>\n",
              "      <td>-0.121359</td>\n",
              "      <td>-2.261857</td>\n",
              "      <td>0.524980</td>\n",
              "      <td>0.247998</td>\n",
              "      <td>0.771679</td>\n",
              "      <td>0.909412</td>\n",
              "      <td>-0.689281</td>\n",
              "      <td>-0.327642</td>\n",
              "      <td>-0.139097</td>\n",
              "      <td>-0.055353</td>\n",
              "      <td>-0.059752</td>\n",
              "      <td>378.66</td>\n",
              "      <td>0</td>\n",
              "    </tr>\n",
              "    <tr>\n",
              "      <th>3</th>\n",
              "      <td>1.0</td>\n",
              "      <td>-0.966272</td>\n",
              "      <td>-0.185226</td>\n",
              "      <td>1.792993</td>\n",
              "      <td>-0.863291</td>\n",
              "      <td>-0.010309</td>\n",
              "      <td>1.247203</td>\n",
              "      <td>0.237609</td>\n",
              "      <td>0.377436</td>\n",
              "      <td>-1.387024</td>\n",
              "      <td>-0.054952</td>\n",
              "      <td>-0.226487</td>\n",
              "      <td>0.178228</td>\n",
              "      <td>0.507757</td>\n",
              "      <td>-0.287924</td>\n",
              "      <td>-0.631418</td>\n",
              "      <td>-1.059647</td>\n",
              "      <td>-0.684093</td>\n",
              "      <td>1.965775</td>\n",
              "      <td>-1.232622</td>\n",
              "      <td>-0.208038</td>\n",
              "      <td>-0.108300</td>\n",
              "      <td>0.005274</td>\n",
              "      <td>-0.190321</td>\n",
              "      <td>-1.175575</td>\n",
              "      <td>0.647376</td>\n",
              "      <td>-0.221929</td>\n",
              "      <td>0.062723</td>\n",
              "      <td>0.061458</td>\n",
              "      <td>123.50</td>\n",
              "      <td>0</td>\n",
              "    </tr>\n",
              "    <tr>\n",
              "      <th>4</th>\n",
              "      <td>2.0</td>\n",
              "      <td>-1.158233</td>\n",
              "      <td>0.877737</td>\n",
              "      <td>1.548718</td>\n",
              "      <td>0.403034</td>\n",
              "      <td>-0.407193</td>\n",
              "      <td>0.095921</td>\n",
              "      <td>0.592941</td>\n",
              "      <td>-0.270533</td>\n",
              "      <td>0.817739</td>\n",
              "      <td>0.753074</td>\n",
              "      <td>-0.822843</td>\n",
              "      <td>0.538196</td>\n",
              "      <td>1.345852</td>\n",
              "      <td>-1.119670</td>\n",
              "      <td>0.175121</td>\n",
              "      <td>-0.451449</td>\n",
              "      <td>-0.237033</td>\n",
              "      <td>-0.038195</td>\n",
              "      <td>0.803487</td>\n",
              "      <td>0.408542</td>\n",
              "      <td>-0.009431</td>\n",
              "      <td>0.798278</td>\n",
              "      <td>-0.137458</td>\n",
              "      <td>0.141267</td>\n",
              "      <td>-0.206010</td>\n",
              "      <td>0.502292</td>\n",
              "      <td>0.219422</td>\n",
              "      <td>0.215153</td>\n",
              "      <td>69.99</td>\n",
              "      <td>0</td>\n",
              "    </tr>\n",
              "  </tbody>\n",
              "</table>\n",
              "</div>"
            ],
            "text/plain": [
              "   Time        V1        V2        V3  ...       V27       V28  Amount  Class\n",
              "0   0.0 -1.359807 -0.072781  2.536347  ...  0.133558 -0.021053  149.62      0\n",
              "1   0.0  1.191857  0.266151  0.166480  ... -0.008983  0.014724    2.69      0\n",
              "2   1.0 -1.358354 -1.340163  1.773209  ... -0.055353 -0.059752  378.66      0\n",
              "3   1.0 -0.966272 -0.185226  1.792993  ...  0.062723  0.061458  123.50      0\n",
              "4   2.0 -1.158233  0.877737  1.548718  ...  0.219422  0.215153   69.99      0\n",
              "\n",
              "[5 rows x 31 columns]"
            ]
          },
          "metadata": {
            "tags": []
          },
          "execution_count": 88
        }
      ]
    },
    {
      "cell_type": "markdown",
      "metadata": {
        "id": "qvuEya_qflkG",
        "colab_type": "text"
      },
      "source": [
        "**1. Загрузить датасет**"
      ]
    },
    {
      "cell_type": "markdown",
      "metadata": {
        "id": "6gSTHiOJfqb2",
        "colab_type": "text"
      },
      "source": [
        "**2. Посмотреть отсутствующие значения (какое количество Nan элементов).**"
      ]
    },
    {
      "cell_type": "code",
      "metadata": {
        "id": "pUzHxXoPgShQ",
        "colab_type": "code",
        "outputId": "380cc2ac-498c-4610-eb24-27ef4b638ea1",
        "colab": {
          "base_uri": "https://localhost:8080/",
          "height": 554
        }
      },
      "source": [
        "data.isna().sum()"
      ],
      "execution_count": 6,
      "outputs": [
        {
          "output_type": "execute_result",
          "data": {
            "text/plain": [
              "Time      0\n",
              "V1        0\n",
              "V2        0\n",
              "V3        0\n",
              "V4        0\n",
              "V5        0\n",
              "V6        0\n",
              "V7        0\n",
              "V8        0\n",
              "V9        0\n",
              "V10       0\n",
              "V11       0\n",
              "V12       0\n",
              "V13       0\n",
              "V14       0\n",
              "V15       0\n",
              "V16       0\n",
              "V17       0\n",
              "V18       0\n",
              "V19       0\n",
              "V20       0\n",
              "V21       0\n",
              "V22       0\n",
              "V23       0\n",
              "V24       0\n",
              "V25       0\n",
              "V26       0\n",
              "V27       0\n",
              "V28       0\n",
              "Amount    0\n",
              "Class     0\n",
              "dtype: int64"
            ]
          },
          "metadata": {
            "tags": []
          },
          "execution_count": 6
        }
      ]
    },
    {
      "cell_type": "markdown",
      "metadata": {
        "id": "OFDGPbTpf7wn",
        "colab_type": "text"
      },
      "source": [
        "**3. Основное таргет значение: 1 - сделка была обманной, 0 - честной. Сделать график barplot для этих двух классов из колонки 'Class'. Посчитать количество элементов в классе 1 и в классе 2.**"
      ]
    },
    {
      "cell_type": "code",
      "metadata": {
        "id": "dRpwJ3LWVBSf",
        "colab_type": "code",
        "colab": {
          "base_uri": "https://localhost:8080/",
          "height": 237
        },
        "outputId": "151a1117-db9f-463e-b8c2-bd81a21540fe"
      },
      "source": [
        "data['Class'].value_counts(dropna = False).plot.bar(color = 'black', figsize = (5, 3))\n",
        "\n",
        "plt.title('Сравнение операций обманых/честных')\n",
        "plt.xlabel('статус')\n",
        "plt.ylabel('количество')\n",
        "plt.show()"
      ],
      "execution_count": 7,
      "outputs": [
        {
          "output_type": "display_data",
          "data": {
            "image/png": "[encoded data removed]",
            "text/plain": [
              "<Figure size 360x216 with 1 Axes>"
            ]
          },
          "metadata": {
            "tags": []
          }
        }
      ]
    },
    {
      "cell_type": "code",
      "metadata": {
        "id": "RKGdbWE6pb_2",
        "colab_type": "code",
        "outputId": "8c3f83a6-35e1-4ffb-99fb-b33a1d4a4961",
        "colab": {
          "base_uri": "https://localhost:8080/",
          "height": 308
        }
      },
      "source": [
        "set1 = data[data['Class']==1]\n",
        "set2 = data[data['Class']==0]\n",
        "\n",
        "sns.set(style=\"whitegrid\")\n",
        "ax = sns.barplot(x = 'Class', y = 'Amount', data=data)\n",
        "print('количество обманных сделок - ',set1.shape[0] ,', количество честных - ',set2.shape[0])"
      ],
      "execution_count": 8,
      "outputs": [
        {
          "output_type": "stream",
          "text": [
            "количество обманных сделок -  492 , количество честных -  284315\n"
          ],
          "name": "stdout"
        },
        {
          "output_type": "display_data",
          "data": {
            "image/png": "[encoded data removed]",
            "text/plain": [
              "<Figure size 432x288 with 1 Axes>"
            ]
          },
          "metadata": {
            "tags": []
          }
        }
      ]
    },
    {
      "cell_type": "markdown",
      "metadata": {
        "id": "lSsrxdWNhEbt",
        "colab_type": "text"
      },
      "source": [
        "**4. Сколько денег было использовано в обманных операциях, а сколько - в нормальных операциях?** Сделать частотный график по колонке Amount для колонки Class по двум независимым выборкам: обманная операция, нормальная операция"
      ]
    },
    {
      "cell_type": "markdown",
      "metadata": {
        "id": "TE6AAFh2JCVg",
        "colab_type": "text"
      },
      "source": [
        "***Сразу обращем внимание, что Датасет не сбалансированный, так как обманных операций крайне мало !!!***"
      ]
    },
    {
      "cell_type": "code",
      "metadata": {
        "id": "7mZGrQOcIc6w",
        "colab_type": "code",
        "colab": {
          "base_uri": "https://localhost:8080/",
          "height": 291
        },
        "outputId": "613b9b0c-bc64-4d4c-e51d-764b84fbdb0d"
      },
      "source": [
        "fig = plt.figure()\n",
        "\n",
        "subplot = fig.add_subplot(1, 2, 1)\n",
        "x ,y = np.unique(set1['Amount'],return_counts=True)\n",
        "subplot.scatter(x, y, c='DarkBlue')\n",
        "\n",
        "subplot = fig.add_subplot(1, 2, 2)\n",
        "x ,y = np.unique(set2['Amount'],return_counts=True)\n",
        "subplot.scatter(x, y, c='r')\n"
      ],
      "execution_count": 9,
      "outputs": [
        {
          "output_type": "execute_result",
          "data": {
            "text/plain": [
              "<matplotlib.collections.PathCollection at 0x7fa5923ccf60>"
            ]
          },
          "metadata": {
            "tags": []
          },
          "execution_count": 9
        },
        {
          "output_type": "display_data",
          "data": {
            "image/png": "[encoded data removed]",
            "text/plain": [
              "<Figure size 432x288 with 2 Axes>"
            ]
          },
          "metadata": {
            "tags": []
          }
        }
      ]
    },
    {
      "cell_type": "markdown",
      "metadata": {
        "id": "ZvLC_vQXiP0N",
        "colab_type": "text"
      },
      "source": [
        "**5. Построить графики histograms для всех значений**"
      ]
    },
    {
      "cell_type": "code",
      "metadata": {
        "id": "kzjZHXhyNug2",
        "colab_type": "code",
        "colab": {
          "base_uri": "https://localhost:8080/",
          "height": 882
        },
        "outputId": "929ccf3d-1b10-41fd-ebed-180d1b3b6a40"
      },
      "source": [
        "data.hist(figsize=(15,15))\n",
        "plt.show()"
      ],
      "execution_count": 10,
      "outputs": [
        {
          "output_type": "display_data",
          "data": {
            "image/png": "[encoded data removed]",
            "text/plain": [
              "<Figure size 1080x1080 with 36 Axes>"
            ]
          },
          "metadata": {
            "tags": []
          }
        }
      ]
    },
    {
      "cell_type": "markdown",
      "metadata": {
        "id": "APD2wPSpi_eH",
        "colab_type": "text"
      },
      "source": [
        "**6. Построить матрицу корреляций для всех значений**"
      ]
    },
    {
      "cell_type": "code",
      "metadata": {
        "id": "0NVpiU4KOcEq",
        "colab_type": "code",
        "colab": {}
      },
      "source": [
        "headers = list(data.columns.values)\n",
        "from sklearn import preprocessing\n",
        "min_max_scaler = preprocessing.MinMaxScaler(feature_range=(-1,1))\n",
        "\n",
        "np_scaled = min_max_scaler.fit_transform(data)\n",
        "df_norm = pd.DataFrame(np_scaled)\n",
        "df_norm.columns = headers\n"
      ],
      "execution_count": 0,
      "outputs": []
    },
    {
      "cell_type": "code",
      "metadata": {
        "id": "g-B8Arb0N-Sc",
        "colab_type": "code",
        "colab": {
          "base_uri": "https://localhost:8080/",
          "height": 767
        },
        "outputId": "e1a924c6-8c53-4d05-9676-0dab0abec8bd"
      },
      "source": [
        "f, ax = plt.subplots(figsize=(13, 13))\n",
        "corr = df_norm.corr()\n",
        "sns.heatmap(corr, mask=np.zeros_like(corr, dtype=np.bool), cmap=sns.diverging_palette(220, 10, as_cmap=True),\n",
        "            square=True, ax=ax)"
      ],
      "execution_count": 12,
      "outputs": [
        {
          "output_type": "execute_result",
          "data": {
            "text/plain": [
              "<matplotlib.axes._subplots.AxesSubplot at 0x7fa58eca1240>"
            ]
          },
          "metadata": {
            "tags": []
          },
          "execution_count": 12
        },
        {
          "output_type": "display_data",
          "data": {
            "image/png": "[encoded data removed]",
            "text/plain": [
              "<Figure size 936x936 with 2 Axes>"
            ]
          },
          "metadata": {
            "tags": []
          }
        }
      ]
    },
    {
      "cell_type": "markdown",
      "metadata": {
        "id": "FT7rmEloPCWH",
        "colab_type": "text"
      },
      "source": [
        "из матрицы коррелляции видим колонки имеющие самую большую коррелляцию на Class V17      -0.326481\n",
        "V14      -0.302544\n",
        "V12      -0.260593\n",
        "V10      -0.216883\n",
        "V16      -0.196539\n",
        "V3       -0.192961\n",
        "V7       -0.187257\n",
        "V4        0.133447\n",
        "V11       0.154876"
      ]
    },
    {
      "cell_type": "markdown",
      "metadata": {
        "id": "gZwGybULjSUA",
        "colab_type": "text"
      },
      "source": [
        "**7. Выбрать несколько элементов исходя из матрицы корреляций для предсказания таргет значения Class. Построить модель линейной регрессии. Разделить датасет на 80% тренировочных данных и 20% тестовых данных. Для fit метода использовать тренировочные данные, проверить качество модели на тестовых данных. Почему модель дает такой результат?**\n",
        "\n",
        "Для разделения на тренировочный датасет и тестовый датасет можно использовать функцию  из sklearn:\n",
        "\n",
        "from sklearn.cross_validation import train_test_split\n",
        "\n",
        "X_train, X_test, y_train, y_test = train_test_split(X,y,test_size = 0.2, random_state = 0)"
      ]
    },
    {
      "cell_type": "code",
      "metadata": {
        "id": "yxoK05yCRbfr",
        "colab_type": "code",
        "colab": {}
      },
      "source": [
        "col_train = {'V17', 'V14', 'V12', 'V10', 'V3', 'V7','V4', 'V11'}\n",
        "X = df_norm[col_train]\n",
        "y =  df_norm['Class']"
      ],
      "execution_count": 0,
      "outputs": []
    },
    {
      "cell_type": "code",
      "metadata": {
        "id": "-E5iTHuJQhs9",
        "colab_type": "code",
        "colab": {}
      },
      "source": [
        "from sklearn.model_selection import train_test_split\n",
        "X_train, X_test, y_train, y_test = train_test_split(X,y,test_size = 0.2, random_state = 0)"
      ],
      "execution_count": 0,
      "outputs": []
    },
    {
      "cell_type": "code",
      "metadata": {
        "id": "qWOS-L3aw6g-",
        "colab_type": "code",
        "colab": {}
      },
      "source": [
        "def mod_norm(x):\n",
        "  if x < 0:\n",
        "    return -1\n",
        "  else:\n",
        "    return 1"
      ],
      "execution_count": 0,
      "outputs": []
    },
    {
      "cell_type": "markdown",
      "metadata": {
        "id": "1d_LvjvhyoRk",
        "colab_type": "text"
      },
      "source": [
        "Делаем оценку точности модели по Precision and recall так как в неравных классах Accuracy не работает"
      ]
    },
    {
      "cell_type": "code",
      "metadata": {
        "id": "os_qXVatRaGU",
        "colab_type": "code",
        "colab": {
          "base_uri": "https://localhost:8080/",
          "height": 168
        },
        "outputId": "e699a625-d54d-4f04-b653-000a7e19d8d9"
      },
      "source": [
        "from sklearn.linear_model import LinearRegression\n",
        "from sklearn.metrics import classification_report\n",
        "\n",
        "model = LinearRegression()\n",
        "model.fit(X_train, y_train)\n",
        "\n",
        "model_pred = model.predict(X_test)\n",
        "model_norm = [mod_norm(x) for x in model_pred]\n",
        " \n",
        "\n",
        "# переведем данные предикт в ска\n",
        "\n",
        "print(classification_report(y_test, model_norm))\n"
      ],
      "execution_count": 9,
      "outputs": [
        {
          "output_type": "stream",
          "text": [
            "              precision    recall  f1-score   support\n",
            "\n",
            "        -1.0       1.00      1.00      1.00     56861\n",
            "         1.0       0.81      0.30      0.43       101\n",
            "\n",
            "    accuracy                           1.00     56962\n",
            "   macro avg       0.90      0.65      0.72     56962\n",
            "weighted avg       1.00      1.00      1.00     56962\n",
            "\n"
          ],
          "name": "stdout"
        }
      ]
    },
    {
      "cell_type": "code",
      "metadata": {
        "id": "x68fAN8XTOY-",
        "colab_type": "code",
        "colab": {
          "base_uri": "https://localhost:8080/",
          "height": 34
        },
        "outputId": "3e703097-53bf-4e8a-98b6-f4b486724c55"
      },
      "source": [
        "model.score(X_test, y_test)"
      ],
      "execution_count": 38,
      "outputs": [
        {
          "output_type": "execute_result",
          "data": {
            "text/plain": [
              "0.4348809119050092"
            ]
          },
          "metadata": {
            "tags": []
          },
          "execution_count": 38
        }
      ]
    },
    {
      "cell_type": "markdown",
      "metadata": {
        "id": "938Uex2YTYKk",
        "colab_type": "text"
      },
      "source": [
        "***Обманные сделки угадываются с точностью 81%, при этом 70% Обманных сделок на самом деле Честные.Модель дает точность предсказаний 43%, так как мы использовали Линейную регрессию, здесь лучше подойдет Дерево решений и мало данных по обманным операциям***"
      ]
    },
    {
      "cell_type": "code",
      "metadata": {
        "id": "FAxOcgOqT4TQ",
        "colab_type": "code",
        "colab": {
          "base_uri": "https://localhost:8080/",
          "height": 185
        },
        "outputId": "5f9911f1-768e-4837-9d00-5fd909b51b0b"
      },
      "source": [
        "from sklearn.ensemble import RandomForestClassifier\n",
        "\n",
        "# создаем модель деревья решений\n",
        "model_d=RandomForestClassifier(n_estimators=100)\n",
        "\n",
        "# обучаем модель\n",
        "model_d.fit(X_train, y_train)\n",
        "\n",
        "print('score модели  - ', model_d.score(X_test, y_test))\n",
        "model_pred = model_d.predict(X_test)\n",
        "\n",
        "model_norm = [mod_norm(x) for x in model_pred]\n",
        "print(classification_report(y_test, model_norm))"
      ],
      "execution_count": 12,
      "outputs": [
        {
          "output_type": "stream",
          "text": [
            "score модели  -  0.9995435553526912\n",
            "              precision    recall  f1-score   support\n",
            "\n",
            "        -1.0       1.00      1.00      1.00     56861\n",
            "         1.0       0.93      0.80      0.86       101\n",
            "\n",
            "    accuracy                           1.00     56962\n",
            "   macro avg       0.97      0.90      0.93     56962\n",
            "weighted avg       1.00      1.00      1.00     56962\n",
            "\n"
          ],
          "name": "stdout"
        }
      ]
    },
    {
      "cell_type": "markdown",
      "metadata": {
        "id": "uTudFWuGUfqY",
        "colab_type": "text"
      },
      "source": [
        "***Дерево решений дает точность 99%, но только из-за несбалансированного сета. Также точность угадывания Обманных операций значительно выше, 93% обманных операций распознаютс якак обманные, при этои только 20% честных операций предполагаются моделью как обманные.***"
      ]
    },
    {
      "cell_type": "markdown",
      "metadata": {
        "id": "xb79RahXkBlM",
        "colab_type": "text"
      },
      "source": [
        "**8. Чтобы уравновесить датасет по классу Class, выберем одинаковое количество элементов из датасета по классу.** Необходимо посчитать минимальное количество (N) элементов, посчитанное в задаче 3. Выбрать N элементов рандомно из класса, имеющего бОльшее количество элементов, и все элементы из класса имеющего меньшее количество. Таким образом, мы уравновесим датасет по количеству элементов. Смоделировать линейную регрессию на полученном датасете. Посчитать качество модели. Получилось ли улучшить модель? Если да, то засчет чего?"
      ]
    },
    {
      "cell_type": "code",
      "metadata": {
        "id": "HzKAud6ZU4Xw",
        "colab_type": "code",
        "colab": {
          "base_uri": "https://localhost:8080/",
          "height": 104
        },
        "outputId": "9180efce-d555-476c-c374-af291cb9ce73"
      },
      "source": [
        "from imblearn.under_sampling import RandomUnderSampler\n",
        "import seaborn as sns\n",
        "ros = RandomUnderSampler(random_state=0)\n",
        "ros.fit(X, y)\n",
        "X_resampled, y_resampled = ros.fit_sample(X, y)\n",
        "print('Количество элементов до операции:', len(X))\n",
        "print('Количество элементов после операции:', len(X_resampled))"
      ],
      "execution_count": 13,
      "outputs": [
        {
          "output_type": "stream",
          "text": [
            "/usr/local/lib/python3.6/dist-packages/sklearn/externals/six.py:31: DeprecationWarning: The module is deprecated in version 0.21 and will be removed in version 0.23 since we've dropped support for Python 2.7. Please rely on the official version of six (https://pypi.org/project/six/).\n",
            "  \"(https://pypi.org/project/six/).\", DeprecationWarning)\n"
          ],
          "name": "stderr"
        },
        {
          "output_type": "stream",
          "text": [
            "Количество элементов до операции: 284807\n",
            "Количество элементов после операции: 984\n"
          ],
          "name": "stdout"
        }
      ]
    },
    {
      "cell_type": "code",
      "metadata": {
        "id": "n6ycOYOzYeVm",
        "colab_type": "code",
        "colab": {
          "base_uri": "https://localhost:8080/",
          "height": 235
        },
        "outputId": "12721cb0-c5d0-4806-feda-06de3801d3e4"
      },
      "source": [
        "from sklearn.linear_model import LinearRegression\n",
        "\n",
        "from sklearn.model_selection import train_test_split\n",
        "X_train, X_test, y_train, y_test = train_test_split(X_resampled,y_resampled,test_size = 0.2, random_state = 0)\n",
        "\n",
        "model = LinearRegression()\n",
        "result = model.fit(X_train, y_train)\n",
        "\n",
        "print('intercept:', model.intercept_)\n",
        "\n",
        "print('slope:', model.coef_)\n",
        "print('качество модели после ресэмплинга ',model.score(X_test, y_test))\n",
        "\n",
        "model_pred = model.predict(X_test)\n",
        "model_norm = [mod_norm(x) for x in model_pred]\n",
        "print(classification_report(y_test, model_norm))\n"
      ],
      "execution_count": 14,
      "outputs": [
        {
          "output_type": "stream",
          "text": [
            "intercept: 0.38944761503204767\n",
            "slope: [ 0.34477284 -1.92560632  0.42550376 -0.26395596 -0.84653835  1.0354278\n",
            " -0.02069022  0.09491368]\n",
            "качество модели после ресэмплинга  0.5718765910005033\n",
            "              precision    recall  f1-score   support\n",
            "\n",
            "        -1.0       0.78      0.99      0.87        91\n",
            "         1.0       0.99      0.75      0.86       106\n",
            "\n",
            "    accuracy                           0.86       197\n",
            "   macro avg       0.88      0.87      0.86       197\n",
            "weighted avg       0.89      0.86      0.86       197\n",
            "\n"
          ],
          "name": "stdout"
        }
      ]
    },
    {
      "cell_type": "markdown",
      "metadata": {
        "id": "6x4HXhaaZJsi",
        "colab_type": "text"
      },
      "source": [
        "***Качество модели улучшилось на 30%. два сета обманных и честных операций уравновешены. 78% чесных операций предсказываются честными. 99% обманных операций - предсказываются обманными !!!. 25 честных операций предсказываются обманными.*** "
      ]
    },
    {
      "cell_type": "code",
      "metadata": {
        "id": "icodAp1qaykD",
        "colab_type": "code",
        "colab": {
          "base_uri": "https://localhost:8080/",
          "height": 185
        },
        "outputId": "f6c0ba23-d567-41b2-d033-9fb20f98229c"
      },
      "source": [
        "from sklearn.ensemble import RandomForestClassifier\n",
        "\n",
        "model_d=RandomForestClassifier(n_estimators=100)\n",
        "\n",
        "# обучаем модель\n",
        "model_d.fit(X_train, y_train)\n",
        "\n",
        "print('score модели  - ', model_d.score(X_test, y_test))\n",
        "model_pred = model_d.predict(X_test)\n",
        "\n",
        "model_norm = [mod_norm(x) for x in model_pred]\n",
        "print(classification_report(y_test, model_norm))"
      ],
      "execution_count": 15,
      "outputs": [
        {
          "output_type": "stream",
          "text": [
            "score модели  -  0.9137055837563451\n",
            "              precision    recall  f1-score   support\n",
            "\n",
            "        -1.0       0.87      0.96      0.91        91\n",
            "         1.0       0.96      0.88      0.92       106\n",
            "\n",
            "    accuracy                           0.91       197\n",
            "   macro avg       0.91      0.92      0.91       197\n",
            "weighted avg       0.92      0.91      0.91       197\n",
            "\n"
          ],
          "name": "stdout"
        }
      ]
    },
    {
      "cell_type": "markdown",
      "metadata": {
        "id": "3NQwY1GI6zPj",
        "colab_type": "text"
      },
      "source": [
        "***Дерево решений дает все же большую точность ...  ***"
      ]
    },
    {
      "cell_type": "markdown",
      "metadata": {
        "id": "cTJa7iw7nDh7",
        "colab_type": "text"
      },
      "source": [
        "**9. Построить boxplot графики для 4ех негативно коррелирующих элементов и 4 позитивно коррелирующих элементов для полученного в шаге 8 датасете.** Пример boxplot:\n",
        "\n",
        "sns.boxplot(x=\"Class\", y=\"V17\", data=new_df, palette=colors, ax=axes[0])"
      ]
    },
    {
      "cell_type": "code",
      "metadata": {
        "id": "i4GHo_MVZTJU",
        "colab_type": "code",
        "colab": {
          "base_uri": "https://localhost:8080/",
          "height": 1000
        },
        "outputId": "c5015be2-fafd-4671-bba0-49cd56bf881e"
      },
      "source": [
        "# V17 -0.326481 V14 -0.302544 V12 -0.260593 V10 -0.216883 V16 -0.196539 V3 -0.192961 V7 -0.187257 V4 0.133447 V11 0.154876\n",
        "fig = plt.figure()\n",
        "sns.boxplot(x=\"Class\", y=\"V17\", data=data, palette='Pastel1')\n",
        "plt.show()\n",
        "\n",
        "sns.boxplot(x=\"Class\", y=\"V14\", data=data, palette='Pastel1')\n",
        "plt.show()\n",
        "sns.boxplot(x=\"Class\", y=\"V12\", data=data, palette='Pastel1')\n",
        "plt.show()\n",
        "sns.boxplot(x=\"Class\", y=\"V10\", data=data, palette='Pastel1')\n",
        "plt.show()\n",
        "sns.boxplot(x=\"Class\", y=\"V16\", data=data, palette='Pastel1')\n",
        "plt.show()\n",
        "sns.boxplot(x=\"Class\", y=\"V3\", data=data, palette='Pastel1')\n",
        "plt.show()\n",
        "sns.boxplot(x=\"Class\", y=\"V7\", data=data, palette='Pastel1')\n",
        "plt.show()\n",
        "sns.boxplot(x=\"Class\", y=\"V4\", data=data, palette='Pastel1')\n",
        "plt.show()\n",
        "sns.boxplot(x=\"Class\", y=\"V11\", data=data, palette='Pastel1')\n",
        "plt.show()"
      ],
      "execution_count": 34,
      "outputs": [
        {
          "output_type": "display_data",
          "data": {
            "image/png": "[encoded data removed]",
            "text/plain": [
              "<Figure size 432x288 with 1 Axes>"
            ]
          },
          "metadata": {
            "tags": []
          }
        },
        {
          "output_type": "display_data",
          "data": {
            "image/png": "[encoded data removed]",
            "text/plain": [
              "<Figure size 432x288 with 1 Axes>"
            ]
          },
          "metadata": {
            "tags": []
          }
        },
        {
          "output_type": "display_data",
          "data": {
            "image/png": "[encoded data removed]",
            "text/plain": [
              "<Figure size 432x288 with 1 Axes>"
            ]
          },
          "metadata": {
            "tags": []
          }
        },
        {
          "output_type": "display_data",
          "data": {
            "image/png": "[encoded data removed]",
            "text/plain": [
              "<Figure size 432x288 with 1 Axes>"
            ]
          },
          "metadata": {
            "tags": []
          }
        },
        {
          "output_type": "display_data",
          "data": {
            "image/png": "[encoded data removed]",
            "text/plain": [
              "<Figure size 432x288 with 1 Axes>"
            ]
          },
          "metadata": {
            "tags": []
          }
        },
        {
          "output_type": "display_data",
          "data": {
            "image/png": "[encoded data removed]",
            "text/plain": [
              "<Figure size 432x288 with 1 Axes>"
            ]
          },
          "metadata": {
            "tags": []
          }
        },
        {
          "output_type": "display_data",
          "data": {
            "image/png": "[encoded data removed]",
            "text/plain": [
              "<Figure size 432x288 with 1 Axes>"
            ]
          },
          "metadata": {
            "tags": []
          }
        },
        {
          "output_type": "display_data",
          "data": {
            "image/png": "[encoded data removed]",
            "text/plain": [
              "<Figure size 432x288 with 1 Axes>"
            ]
          },
          "metadata": {
            "tags": []
          }
        },
        {
          "output_type": "display_data",
          "data": {
            "image/png": "[encoded data removed]",
            "text/plain": [
              "<Figure size 432x288 with 1 Axes>"
            ]
          },
          "metadata": {
            "tags": []
          }
        }
      ]
    },
    {
      "cell_type": "markdown",
      "metadata": {
        "id": "svlba8m_oDDp",
        "colab_type": "text"
      },
      "source": [
        "**10. Из графиков, полученных на предыдущем шаге, убрать выбросы методом выборки элементов из интерквартильного интервала (взять только те элементы, которые находятся квартилем 0.25 и квартилем 0.75).** Посчитать качество модели и сравнить с предыдущим. Получилось ли улучшить модель? Почему?"
      ]
    },
    {
      "cell_type": "code",
      "metadata": {
        "id": "JsMmOheuN5Jg",
        "colab_type": "code",
        "colab": {}
      },
      "source": [
        "def DeleteVibros( low, high ,data_v, col_res):\n",
        "  filt_df = data_v.loc[:, data_v.columns != col_res]\n",
        "  \n",
        "  # убираем из данных выбросы, все значения не попадающие в квартиль 0,25\n",
        "  quant_df = filt_df.quantile([low, high])\n",
        "  \n",
        "  filt_df = filt_df.apply(lambda x: x[(x>quant_df.loc[low,x.name]) & (x < quant_df.loc[high,x.name])], axis=0)\n",
        "  filt_df = pd.concat([df_norm.loc[:,col_res], filt_df], axis=1)\n",
        "  return filt_df.dropna()\n",
        "  "
      ],
      "execution_count": 0,
      "outputs": []
    },
    {
      "cell_type": "code",
      "metadata": {
        "id": "4q-kieGyOi_5",
        "colab_type": "code",
        "colab": {
          "base_uri": "https://localhost:8080/",
          "height": 212
        },
        "outputId": "7cdb9a78-f51f-44fe-8682-a00b7fd00859"
      },
      "source": [
        "col_train = {'V17', 'V14', 'V12', 'V10', 'V3', 'V7','V4', 'V11', 'Class'}\n",
        "filt_df1 = df_norm[col_train][df_norm['Class'] == -1]\n",
        "filt_df1 = DeleteVibros(0.25, 0.75, filt_df1, 'Class')\n",
        "filt_df2 = df_norm[col_train][df_norm['Class'] == 1]\n",
        "filt_df2 = DeleteVibros(0.25, 0.75, filt_df2, 'Class')\n",
        "filt_df = pd.concat([filt_df1, filt_df2], axis=0)\n",
        "print(filt_df.shape)\n",
        "filt_df.head()"
      ],
      "execution_count": 109,
      "outputs": [
        {
          "output_type": "stream",
          "text": [
            "(3111, 9)\n"
          ],
          "name": "stdout"
        },
        {
          "output_type": "execute_result",
          "data": {
            "text/html": [
              "<div>\n",
              "<style scoped>\n",
              "    .dataframe tbody tr th:only-of-type {\n",
              "        vertical-align: middle;\n",
              "    }\n",
              "\n",
              "    .dataframe tbody tr th {\n",
              "        vertical-align: top;\n",
              "    }\n",
              "\n",
              "    .dataframe thead th {\n",
              "        text-align: right;\n",
              "    }\n",
              "</style>\n",
              "<table border=\"1\" class=\"dataframe\">\n",
              "  <thead>\n",
              "    <tr style=\"text-align: right;\">\n",
              "      <th></th>\n",
              "      <th>Class</th>\n",
              "      <th>V12</th>\n",
              "      <th>V14</th>\n",
              "      <th>V7</th>\n",
              "      <th>V11</th>\n",
              "      <th>V10</th>\n",
              "      <th>V4</th>\n",
              "      <th>V3</th>\n",
              "      <th>V17</th>\n",
              "    </tr>\n",
              "  </thead>\n",
              "  <tbody>\n",
              "    <tr>\n",
              "      <th>54</th>\n",
              "      <td>-1.0</td>\n",
              "      <td>0.412086</td>\n",
              "      <td>0.270806</td>\n",
              "      <td>-0.468398</td>\n",
              "      <td>-0.494786</td>\n",
              "      <td>0.005815</td>\n",
              "      <td>-0.445893</td>\n",
              "      <td>0.677652</td>\n",
              "      <td>0.450651</td>\n",
              "    </tr>\n",
              "    <tr>\n",
              "      <th>71</th>\n",
              "      <td>-1.0</td>\n",
              "      <td>0.399652</td>\n",
              "      <td>0.301551</td>\n",
              "      <td>-0.468569</td>\n",
              "      <td>-0.503721</td>\n",
              "      <td>0.017723</td>\n",
              "      <td>-0.479671</td>\n",
              "      <td>0.670663</td>\n",
              "      <td>0.453871</td>\n",
              "    </tr>\n",
              "    <tr>\n",
              "      <th>80</th>\n",
              "      <td>-1.0</td>\n",
              "      <td>0.438733</td>\n",
              "      <td>0.307380</td>\n",
              "      <td>-0.468480</td>\n",
              "      <td>-0.453704</td>\n",
              "      <td>0.014646</td>\n",
              "      <td>-0.441090</td>\n",
              "      <td>0.692668</td>\n",
              "      <td>0.437501</td>\n",
              "    </tr>\n",
              "    <tr>\n",
              "      <th>84</th>\n",
              "      <td>-1.0</td>\n",
              "      <td>0.451343</td>\n",
              "      <td>0.268486</td>\n",
              "      <td>-0.468699</td>\n",
              "      <td>-0.401467</td>\n",
              "      <td>0.003241</td>\n",
              "      <td>-0.439071</td>\n",
              "      <td>0.684573</td>\n",
              "      <td>0.476579</td>\n",
              "    </tr>\n",
              "    <tr>\n",
              "      <th>99</th>\n",
              "      <td>-1.0</td>\n",
              "      <td>0.427619</td>\n",
              "      <td>0.311250</td>\n",
              "      <td>-0.468482</td>\n",
              "      <td>-0.459845</td>\n",
              "      <td>0.014710</td>\n",
              "      <td>-0.439959</td>\n",
              "      <td>0.691845</td>\n",
              "      <td>0.438321</td>\n",
              "    </tr>\n",
              "  </tbody>\n",
              "</table>\n",
              "</div>"
            ],
            "text/plain": [
              "    Class       V12       V14        V7  ...       V10        V4        V3       V17\n",
              "54   -1.0  0.412086  0.270806 -0.468398  ...  0.005815 -0.445893  0.677652  0.450651\n",
              "71   -1.0  0.399652  0.301551 -0.468569  ...  0.017723 -0.479671  0.670663  0.453871\n",
              "80   -1.0  0.438733  0.307380 -0.468480  ...  0.014646 -0.441090  0.692668  0.437501\n",
              "84   -1.0  0.451343  0.268486 -0.468699  ...  0.003241 -0.439071  0.684573  0.476579\n",
              "99   -1.0  0.427619  0.311250 -0.468482  ...  0.014710 -0.439959  0.691845  0.438321\n",
              "\n",
              "[5 rows x 9 columns]"
            ]
          },
          "metadata": {
            "tags": []
          },
          "execution_count": 109
        }
      ]
    },
    {
      "cell_type": "code",
      "metadata": {
        "id": "oLXNtHfEPvSk",
        "colab_type": "code",
        "colab": {}
      },
      "source": [
        "col_train = {'V17', 'V14', 'V12', 'V10', 'V3', 'V7','V4', 'V11'}\n",
        "X = filt_df[col_train]\n",
        "y =  filt_df['Class']\n",
        "X_train, X_test, y_train, y_test = train_test_split(X,y,test_size = 0.2, random_state = 0)\n"
      ],
      "execution_count": 0,
      "outputs": []
    },
    {
      "cell_type": "code",
      "metadata": {
        "id": "97a5Y7YbP9kM",
        "colab_type": "code",
        "colab": {
          "base_uri": "https://localhost:8080/",
          "height": 185
        },
        "outputId": "13ac883a-ebb8-445e-d448-5d3b155bf7f5"
      },
      "source": [
        "model = LinearRegression()\n",
        "model.fit(X_train, y_train)\n",
        "\n",
        "model_pred = model.predict(X_test)\n",
        "model_norm = [mod_norm(x) for x in model_pred]\n",
        " \n",
        "print('score модели  - ', model_d.score(X_test, y_test))\n",
        "print(classification_report(y_test, model_norm))\n"
      ],
      "execution_count": 111,
      "outputs": [
        {
          "output_type": "stream",
          "text": [
            "score модели  -  1.0\n",
            "              precision    recall  f1-score   support\n",
            "\n",
            "        -1.0       1.00      1.00      1.00       611\n",
            "         1.0       1.00      1.00      1.00        12\n",
            "\n",
            "    accuracy                           1.00       623\n",
            "   macro avg       1.00      1.00      1.00       623\n",
            "weighted avg       1.00      1.00      1.00       623\n",
            "\n"
          ],
          "name": "stdout"
        }
      ]
    },
    {
      "cell_type": "markdown",
      "metadata": {
        "id": "4GrU1hzzaV7z",
        "colab_type": "text"
      },
      "source": [
        "***Если удалить выбросы меньше 0,25 и более 0,75 квантилей, значительная часть данных практически 95% удаляется, оставшийся сет дает 100% предсказание, это объясняется крайне подогнанными данными оставшегося сета.***\n"
      ]
    }
  ]
}