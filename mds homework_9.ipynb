{
  "nbformat": 4,
  "nbformat_minor": 0,
  "metadata": {
    "kernelspec": {
      "display_name": "Python 3",
      "language": "python",
      "name": "python3"
    },
    "language_info": {
      "codemirror_mode": {
        "name": "ipython",
        "version": 3
      },
      "file_extension": ".py",
      "mimetype": "text/x-python",
      "name": "python",
      "nbconvert_exporter": "python",
      "pygments_lexer": "ipython3",
      "version": "3.7.5"
    },
    "colab": {
      "name": "homework-9.ipynb",
      "provenance": [],
      "include_colab_link": true
    }
  },
  "cells": [
    {
      "cell_type": "markdown",
      "metadata": {
        "id": "view-in-github",
        "colab_type": "text"
      },
      "source": [
        "<a href=\"https://colab.research.google.com/github/StetskoSergey/pida5_stetsko/blob/master/mds%20homework_9.ipynb\" target=\"_parent\"><img src=\"https://colab.research.google.com/assets/colab-badge.svg\" alt=\"Open In Colab\"/></a>"
      ]
    },
    {
      "cell_type": "markdown",
      "metadata": {
        "id": "MpMf-FXN92pk",
        "colab_type": "text"
      },
      "source": [
        "### Центральная предельная теорема\n",
        "В этом задании нужно убедиться, что ЦПТ действительно работает"
      ]
    },
    {
      "cell_type": "code",
      "metadata": {
        "id": "hmi1iGZm92pm",
        "colab_type": "code",
        "colab": {}
      },
      "source": [
        "import pandas as pd\n",
        "import numpy as np\n",
        "import matplotlib.pyplot as plt\n",
        "import scipy.stats as sts\n",
        "%matplotlib inline"
      ],
      "execution_count": 0,
      "outputs": []
    },
    {
      "cell_type": "markdown",
      "metadata": {
        "id": "p9JHyihQ92pp",
        "colab_type": "text"
      },
      "source": [
        "Создайте случайную величину из любого выбранного вами распределения, для разных значений n сгенерируйте 1000 выборок размера n и постройте гистрограммы средних этих выборок."
      ]
    },
    {
      "cell_type": "code",
      "metadata": {
        "id": "VPI6DYve92pq",
        "colab_type": "code",
        "colab": {}
      },
      "source": [
        "rv = sts.norm(loc=0, scale=2.0)\n",
        "sample = rv.rvs(size=1000)"
      ],
      "execution_count": 0,
      "outputs": []
    },
    {
      "cell_type": "code",
      "metadata": {
        "id": "7nSX_G0W92pt",
        "colab_type": "code",
        "outputId": "d22bb600-f189-45c7-b57c-c2124db18328",
        "colab": {
          "base_uri": "https://localhost:8080/",
          "height": 279
        }
      },
      "source": [
        "x = np.linspace(0,2,100)\n",
        "pdf = rv.pdf(x)\n",
        "plt.hist(sample, density=True, bins=30, label='sample histogram')\n",
        "plt.plot(x, pdf, label='theoretical pdf', alpha=0.5)\n",
        "plt.legend()\n",
        "plt.ylabel('fraction of samples, $f(x)$')\n",
        "plt.xlabel('$x$')\n",
        "plt.show()"
      ],
      "execution_count": 0,
      "outputs": [
        {
          "output_type": "display_data",
          "data": {
            "image/png": "[encoded data removed]",
            "text/plain": [
              "<Figure size 432x288 with 1 Axes>"
            ]
          },
          "metadata": {
            "tags": []
          }
        }
      ]
    },
    {
      "cell_type": "code",
      "metadata": {
        "id": "Rec2AyWG92pv",
        "colab_type": "code",
        "colab": {}
      },
      "source": [
        "#параметры запуска: размеры выборок и количество повторов генерации\n",
        "list_n = [2, 10, 20, 100]\n",
        "rv = sts.expon(0.1)\n",
        "\n",
        "samples_count = 1000\n",
        "#массивы для сохранения средних по выборкам\n",
        "def get_dat(n):\n",
        "  a1 = np.array([])\n",
        "  for number in range(samples_count):\n",
        "      # на каждом цикле генерируем выборки разных размеров\n",
        "      sample1 = rv.rvs(size=n)\n",
        "      # YOUR CODE HERE\n",
        "      # считаем среднее по каждой выборке и добавляем в массив средних\n",
        "      a1 = np.append(a1, sample1.mean())\n",
        "  return a1"
      ],
      "execution_count": 0,
      "outputs": []
    },
    {
      "cell_type": "code",
      "metadata": {
        "id": "PNrV11PD92px",
        "colab_type": "code",
        "outputId": "7bfc0679-a946-4d21-9714-d06bbea9900b",
        "colab": {
          "base_uri": "https://localhost:8080/",
          "height": 296
        }
      },
      "source": [
        "#строим графики\n",
        "#подписи для графиков\n",
        "for n1 in list_n:\n",
        "  label_1 = 'sample of ' + str(n1) + ' histogram'\n",
        "  plt.hist(get_dat(n1), density=True, label=label_1)\n",
        "\n",
        "plt.legend()\n",
        "plt.ylabel('samples means')\n",
        "plt.xlabel('$x$')"
      ],
      "execution_count": 0,
      "outputs": [
        {
          "output_type": "execute_result",
          "data": {
            "text/plain": [
              "Text(0.5, 0, '$x$')"
            ]
          },
          "metadata": {
            "tags": []
          },
          "execution_count": 17
        },
        {
          "output_type": "display_data",
          "data": {
            "image/png": "[encoded data removed]",
            "text/plain": [
              "<Figure size 432x288 with 1 Axes>"
            ]
          },
          "metadata": {
            "tags": []
          }
        }
      ]
    },
    {
      "cell_type": "markdown",
      "metadata": {
        "id": "ijhCy-m0A_k4",
        "colab_type": "text"
      },
      "source": [
        "наглядно види сходимость !!!"
      ]
    }
  ]
}