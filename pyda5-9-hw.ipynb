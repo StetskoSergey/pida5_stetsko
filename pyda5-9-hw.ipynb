{
 "cells": [
  {
   "cell_type": "markdown",
   "metadata": {},
   "source": [
    "Задание 1\n",
    "Напишите функцию date_range, которая возвращает список дней между датами start_date и end_date. Даты должны вводиться в формате YYYY-MM-DD.\n",
    "\n",
    "Задание 2\n",
    "Дополните функцию из первого задания проверкой на корректность дат. В случае неверного формата или если start_date > end_date должен возвращаться пустой список.\n",
    "\n",
    "Задание 3\n",
    "Дан поток дат в формате YYYY-MM-DD, в которых встречаются некорректные значения:\n",
    "stream = [‘2018-04-02’, ‘2018-02-29’, ‘2018-19-02’]\n",
    "\n",
    "Напишите функцию, которая проверяет эти даты на корректность. Т. е. для каждой даты возвращает True (дата корректна) или False (некорректная дата).\n",
    "\n",
    "Задание 5\n",
    "В последнем примере поиска по словарю мы использовали 3 столбца. Напишите функцию, которая формирует словарь для поиска по n столбцам."
   ]
  },
  {
   "cell_type": "code",
   "execution_count": 6,
   "metadata": {},
   "outputs": [],
   "source": [
    "from datetime import datetime\n",
    "from datetime import timedelta"
   ]
  },
  {
   "cell_type": "code",
   "execution_count": 9,
   "metadata": {},
   "outputs": [
    {
     "data": {
      "text/plain": [
       "[datetime.datetime(2018, 12, 1, 0, 0),\n",
       " datetime.datetime(2018, 12, 2, 0, 0),\n",
       " datetime.datetime(2018, 12, 3, 0, 0),\n",
       " datetime.datetime(2018, 12, 4, 0, 0),\n",
       " datetime.datetime(2018, 12, 5, 0, 0),\n",
       " datetime.datetime(2018, 12, 6, 0, 0),\n",
       " datetime.datetime(2018, 12, 7, 0, 0),\n",
       " datetime.datetime(2018, 12, 8, 0, 0),\n",
       " datetime.datetime(2018, 12, 9, 0, 0),\n",
       " datetime.datetime(2018, 12, 10, 0, 0),\n",
       " datetime.datetime(2018, 12, 11, 0, 0),\n",
       " datetime.datetime(2018, 12, 12, 0, 0),\n",
       " datetime.datetime(2018, 12, 13, 0, 0),\n",
       " datetime.datetime(2018, 12, 14, 0, 0),\n",
       " datetime.datetime(2018, 12, 15, 0, 0),\n",
       " datetime.datetime(2018, 12, 16, 0, 0),\n",
       " datetime.datetime(2018, 12, 17, 0, 0),\n",
       " datetime.datetime(2018, 12, 18, 0, 0),\n",
       " datetime.datetime(2018, 12, 19, 0, 0),\n",
       " datetime.datetime(2018, 12, 20, 0, 0),\n",
       " datetime.datetime(2018, 12, 21, 0, 0),\n",
       " datetime.datetime(2018, 12, 22, 0, 0),\n",
       " datetime.datetime(2018, 12, 23, 0, 0),\n",
       " datetime.datetime(2018, 12, 24, 0, 0),\n",
       " datetime.datetime(2018, 12, 25, 0, 0),\n",
       " datetime.datetime(2018, 12, 26, 0, 0),\n",
       " datetime.datetime(2018, 12, 27, 0, 0),\n",
       " datetime.datetime(2018, 12, 28, 0, 0),\n",
       " datetime.datetime(2018, 12, 29, 0, 0),\n",
       " datetime.datetime(2018, 12, 30, 0, 0),\n",
       " datetime.datetime(2018, 12, 31, 0, 0),\n",
       " datetime.datetime(2019, 1, 1, 0, 0),\n",
       " datetime.datetime(2019, 1, 2, 0, 0),\n",
       " datetime.datetime(2019, 1, 3, 0, 0),\n",
       " datetime.datetime(2019, 1, 4, 0, 0),\n",
       " datetime.datetime(2019, 1, 5, 0, 0),\n",
       " datetime.datetime(2019, 1, 6, 0, 0),\n",
       " datetime.datetime(2019, 1, 7, 0, 0),\n",
       " datetime.datetime(2019, 1, 8, 0, 0),\n",
       " datetime.datetime(2019, 1, 9, 0, 0),\n",
       " datetime.datetime(2019, 1, 10, 0, 0),\n",
       " datetime.datetime(2019, 1, 11, 0, 0),\n",
       " datetime.datetime(2019, 1, 12, 0, 0),\n",
       " datetime.datetime(2019, 1, 13, 0, 0),\n",
       " datetime.datetime(2019, 1, 14, 0, 0),\n",
       " datetime.datetime(2019, 1, 15, 0, 0),\n",
       " datetime.datetime(2019, 1, 16, 0, 0)]"
      ]
     },
     "execution_count": 9,
     "metadata": {},
     "output_type": "execute_result"
    }
   ],
   "source": [
    "def date_range(start_date , end_date ):\n",
    "    \n",
    "    ls = []\n",
    "    start = datetime.strptime(start_date, '%Y-%m-%d')\n",
    "    end = datetime.strptime(end_date, '%Y-%m-%d')\n",
    "   \n",
    "    current_date = start\n",
    "    while current_date <= end:\n",
    "        ls.append(current_date)\n",
    "        current_date = current_date + timedelta(days=1)\n",
    "    return ls\n",
    "    \n",
    "    \n",
    "    \n",
    "start_date = '2018-12-01'\n",
    "end_date  = '2019-01-16'\n",
    "date_range(start_date, end_date)"
   ]
  },
  {
   "cell_type": "code",
   "execution_count": 13,
   "metadata": {},
   "outputs": [
    {
     "data": {
      "text/plain": [
       "[]"
      ]
     },
     "execution_count": 13,
     "metadata": {},
     "output_type": "execute_result"
    }
   ],
   "source": [
    "def date_range(start_date , end_date ):\n",
    "    \n",
    "    ls = []\n",
    "    try:\n",
    "      start = datetime.strptime(start_date, '%Y-%m-%d')\n",
    "      end = datetime.strptime(end_date, '%Y-%m-%d')\n",
    "    except:\n",
    "      return ls    \n",
    "    \n",
    "    current_date = start\n",
    "    while current_date <= end:\n",
    "        ls.append(current_date)\n",
    "        current_date = current_date + timedelta(days=1)\n",
    "    return ls\n",
    "    \n",
    "    \n",
    "    \n",
    "start_date = '2018-13-01'\n",
    "end_date  = '2019-01-16'\n",
    "date_range(end_date, start_date)"
   ]
  },
  {
   "cell_type": "code",
   "execution_count": 21,
   "metadata": {},
   "outputs": [
    {
     "name": "stdout",
     "output_type": "stream",
     "text": [
      "2018-04-02 True\n",
      "2018-02-29 False\n",
      "2018-19-02 False\n"
     ]
    }
   ],
   "source": [
    "def proverka(stream):\n",
    "    for dd in stream:\n",
    "        try:\n",
    "            curr = datetime.strptime(dd, '%Y-%m-%d')\n",
    "            print( dd , True )\n",
    "        except:\n",
    "            print( dd , False )\n",
    "            \n",
    "\n",
    "stream = ['2018-04-02', '2018-02-29', '2018-19-02']\n",
    "proverka(stream)"
   ]
  },
  {
   "cell_type": "code",
   "execution_count": 27,
   "metadata": {},
   "outputs": [],
   "source": []
  },
  {
   "cell_type": "code",
   "execution_count": 37,
   "metadata": {},
   "outputs": [
    {
     "data": {
      "text/plain": [
       "'3'"
      ]
     },
     "execution_count": 37,
     "metadata": {},
     "output_type": "execute_result"
    }
   ],
   "source": [
    "def poisk(file_name, col_number):\n",
    "\n",
    "    stats_dict = {}\n",
    "\n",
    "    with open(file_name) as f:\n",
    "        for line in f:\n",
    "            line = line.strip().split(',')\n",
    "            stats_dict[tuple(line[:col_number])] = line[col_number]\n",
    "    return stats_dict        \n",
    "            \n",
    "poisk('stats.csv', 2)['14', '26376']\n",
    "\n"
   ]
  },
  {
   "cell_type": "code",
   "execution_count": null,
   "metadata": {},
   "outputs": [],
   "source": []
  },
  {
   "cell_type": "code",
   "execution_count": null,
   "metadata": {},
   "outputs": [],
   "source": []
  }
 ],
 "metadata": {
  "kernelspec": {
   "display_name": "Python 3",
   "language": "python",
   "name": "python3"
  },
  "language_info": {
   "codemirror_mode": {
    "name": "ipython",
    "version": 3
   },
   "file_extension": ".py",
   "mimetype": "text/x-python",
   "name": "python",
   "nbconvert_exporter": "python",
   "pygments_lexer": "ipython3",
   "version": "3.7.3"
  }
 },
 "nbformat": 4,
 "nbformat_minor": 2
}
