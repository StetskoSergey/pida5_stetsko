{
  "nbformat": 4,
  "nbformat_minor": 0,
  "metadata": {
    "kernelspec": {
      "name": "python3",
      "display_name": "Python 3"
    },
    "language_info": {
      "codemirror_mode": {
        "name": "ipython",
        "version": 3
      },
      "file_extension": ".py",
      "mimetype": "text/x-python",
      "name": "python",
      "nbconvert_exporter": "python",
      "pygments_lexer": "ipython3",
      "version": "3.6.4"
    },
    "colab": {
      "name": "Copy of 004-classification.ipynb",
      "provenance": [],
      "collapsed_sections": [],
      "machine_shape": "hm",
      "include_colab_link": true
    },
    "accelerator": "TPU"
  },
  "cells": [
    {
      "cell_type": "markdown",
      "metadata": {
        "id": "view-in-github",
        "colab_type": "text"
      },
      "source": [
        "<a href=\"https://colab.research.google.com/github/StetskoSergey/pida5_stetsko/blob/master/Dz2_var2_of_004_classification.ipynb\" target=\"_parent\"><img src=\"https://colab.research.google.com/assets/colab-badge.svg\" alt=\"Open In Colab\"/></a>"
      ]
    },
    {
      "cell_type": "markdown",
      "metadata": {
        "id": "kTHKrkeZqErN",
        "colab_type": "text"
      },
      "source": [
        "# Реализация логистической регрессии в TensorFlow"
      ]
    },
    {
      "cell_type": "code",
      "metadata": {
        "id": "Ut3OZziYqErP",
        "colab_type": "code",
        "colab": {}
      },
      "source": [
        "import numpy as np\n",
        "import tensorflow as tf"
      ],
      "execution_count": 0,
      "outputs": []
    },
    {
      "cell_type": "code",
      "metadata": {
        "id": "0GmHHMcSqErV",
        "colab_type": "code",
        "colab": {}
      },
      "source": [
        "%matplotlib inline\n",
        "from matplotlib import pyplot as plt"
      ],
      "execution_count": 0,
      "outputs": []
    },
    {
      "cell_type": "markdown",
      "metadata": {
        "id": "huH7L57WqErZ",
        "colab_type": "text"
      },
      "source": [
        "## Генерируем данные для задачи регрессии"
      ]
    },
    {
      "cell_type": "code",
      "metadata": {
        "id": "y2sqtdVEqEra",
        "colab_type": "code",
        "colab": {}
      },
      "source": [
        "NUM_FEATURES = 2\n",
        "NUM_SAMPLES = 1000"
      ],
      "execution_count": 0,
      "outputs": []
    },
    {
      "cell_type": "code",
      "metadata": {
        "id": "FexS1rp2qEre",
        "colab_type": "code",
        "outputId": "263f8240-7659-4561-99da-9bd9f604ad1d",
        "colab": {
          "base_uri": "https://localhost:8080/",
          "height": 279
        }
      },
      "source": [
        "from sklearn.datasets import make_classification\n",
        "\n",
        "X, y = make_classification(n_samples = NUM_SAMPLES,\n",
        "                           n_features = NUM_FEATURES,\n",
        "                           n_informative = NUM_FEATURES,\n",
        "                           n_redundant = 0,\n",
        "                           n_classes = 2,\n",
        "                           n_clusters_per_class = 1,\n",
        "                           class_sep = 0.75,\n",
        "                           random_state = 54312)\n",
        "\n",
        "y = y.reshape(-1, 1)\n",
        "\n",
        "ones = np.where(y == 1)   # индексы объектов класса '1'\n",
        "zeros = np.where(y == 0)  # индексы объектов класса '0'\n",
        "\n",
        "plt.xlabel('x')\n",
        "plt.ylabel('y')\n",
        "plt.plot(X[ones, 0], X[ones, 1], 'ob',\n",
        "         X[zeros, 0], X[zeros, 1], 'or');"
      ],
      "execution_count": 0,
      "outputs": [
        {
          "output_type": "display_data",
          "data": {
            "image/png": "[encoded data removed]",
            "text/plain": [
              "<Figure size 432x288 with 1 Axes>"
            ]
          },
          "metadata": {
            "tags": []
          }
        }
      ]
    },
    {
      "cell_type": "markdown",
      "metadata": {
        "id": "3H_GwnCUqErr",
        "colab_type": "text"
      },
      "source": [
        "## Создание графа вычислений и обучение модели"
      ]
    },
    {
      "cell_type": "code",
      "metadata": {
        "id": "NFCQF_TeTpWo",
        "colab_type": "code",
        "colab": {}
      },
      "source": [
        "from tensorflow.keras import layers, models\n",
        "\n",
        "model = models.Sequential()\n",
        "model.add(layers.Flatten())\n",
        "model.add(layers.Dense(NUM_FEATURES, activation='relu'))\n",
        "model.add(layers.Dense(1, activation='sigmoid'))\n",
        "model.compile(optimizer='adam',\n",
        "              loss=tf.keras.losses.BinaryCrossentropy(from_logits=True),\n",
        "              metrics=['accuracy'])\n"
      ],
      "execution_count": 0,
      "outputs": []
    },
    {
      "cell_type": "code",
      "metadata": {
        "id": "yQ2BPvYTYrIP",
        "colab_type": "code",
        "outputId": "e3519a6a-0531-4311-bc52-15b120ceb187",
        "colab": {
          "base_uri": "https://localhost:8080/",
          "height": 353
        }
      },
      "source": [
        "history = model.fit(X, y, epochs=10)"
      ],
      "execution_count": 0,
      "outputs": [
        {
          "output_type": "stream",
          "text": [
            "Epoch 1/10\n",
            "32/32 [==============================] - 0s 979us/step - loss: 0.5340 - accuracy: 0.9780\n",
            "Epoch 2/10\n",
            "32/32 [==============================] - 0s 962us/step - loss: 0.5327 - accuracy: 0.9780\n",
            "Epoch 3/10\n",
            "32/32 [==============================] - 0s 1ms/step - loss: 0.5331 - accuracy: 0.9780\n",
            "Epoch 4/10\n",
            "32/32 [==============================] - 0s 1ms/step - loss: 0.5318 - accuracy: 0.9780\n",
            "Epoch 5/10\n",
            "32/32 [==============================] - 0s 1ms/step - loss: 0.5319 - accuracy: 0.9780\n",
            "Epoch 6/10\n",
            "32/32 [==============================] - 0s 1ms/step - loss: 0.5288 - accuracy: 0.9780\n",
            "Epoch 7/10\n",
            "32/32 [==============================] - 0s 1ms/step - loss: 0.5313 - accuracy: 0.9780\n",
            "Epoch 8/10\n",
            "32/32 [==============================] - 0s 1ms/step - loss: 0.5309 - accuracy: 0.9780\n",
            "Epoch 9/10\n",
            "32/32 [==============================] - 0s 1ms/step - loss: 0.5296 - accuracy: 0.9780\n",
            "Epoch 10/10\n",
            "32/32 [==============================] - 0s 951us/step - loss: 0.5291 - accuracy: 0.9780\n"
          ],
          "name": "stdout"
        }
      ]
    },
    {
      "cell_type": "markdown",
      "metadata": {
        "id": "_wd2woHwqErw",
        "colab_type": "text"
      },
      "source": [
        "## Визуализируем кривую обучения"
      ]
    },
    {
      "cell_type": "code",
      "metadata": {
        "id": "lghuoXypqEr0",
        "colab_type": "code",
        "outputId": "c86b838b-5f11-4f2c-ed07-c6c6d0877616",
        "colab": {
          "base_uri": "https://localhost:8080/",
          "height": 295
        }
      },
      "source": [
        "plt.xlabel('step')\n",
        "plt.ylabel('loss')\n",
        "plt.title('Learning curve')\n",
        "plt.plot(history.history['loss']);"
      ],
      "execution_count": 0,
      "outputs": [
        {
          "output_type": "display_data",
          "data": {
            "image/png": "[encoded data removed]",
            "text/plain": [
              "<Figure size 432x288 with 1 Axes>"
            ]
          },
          "metadata": {
            "tags": []
          }
        }
      ]
    },
    {
      "cell_type": "markdown",
      "metadata": {
        "id": "f-dvzoF4qEr3",
        "colab_type": "text"
      },
      "source": [
        "## Визуализируем разделяющую гиперплоскость"
      ]
    },
    {
      "cell_type": "code",
      "metadata": {
        "id": "Pb_jeDY2qEr4",
        "colab_type": "code",
        "outputId": "37a8f766-799e-49fa-ba18-ab9ecbbfd959",
        "colab": {
          "base_uri": "https://localhost:8080/",
          "height": 279
        }
      },
      "source": [
        "weights = model.get_weights()\n",
        "y_pred =  X[:, 0] * weights[1][0] / weights[1][1]\n",
        "\n",
        "order = np.argsort(X[:, 0])\n",
        "\n",
        "plt.xlabel('x')\n",
        "plt.ylabel('y')\n",
        "plt.plot(X[ones, 0], X[ones, 1], 'ob',\n",
        "         X[zeros, 0], X[zeros, 1], 'or',\n",
        "         X[order, 0], y_pred[order], '-g');"
      ],
      "execution_count": 0,
      "outputs": [
        {
          "output_type": "display_data",
          "data": {
            "image/png": "[encoded data removed]",
            "text/plain": [
              "<Figure size 432x288 with 1 Axes>"
            ]
          },
          "metadata": {
            "tags": []
          }
        }
      ]
    },
    {
      "cell_type": "code",
      "metadata": {
        "id": "hdMek0uvqEr7",
        "colab_type": "code",
        "colab": {}
      },
      "source": [
        ""
      ],
      "execution_count": 0,
      "outputs": []
    }
  ]
}