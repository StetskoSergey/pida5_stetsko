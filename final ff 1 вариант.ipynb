{
 "cells": [
  {
   "cell_type": "markdown",
   "metadata": {
    "colab_type": "text",
    "id": "uXxU165USd57"
   },
   "source": [
    "Итоговая работа\n",
    "=====================\n",
    "\n",
    "Поздравляю вас, теперь вы вооружены знаниями по предобработке данных, и пора применить их на интересном кейсе.\n",
    "\n",
    "Представлены данные такси, по которым мы должны предсказать возьмёт ли таксист заказ или нет(driver_response).\n",
    "\n",
    "Принципы вы знаете, чек-лист аналогичен лабораторной работе.\n",
    "\n",
    "Чек-лист:\n",
    "1. Загрузите датасет taxi.csv.\n",
    "2. Посмотрите на данные. Отобразите общую информацию по признакам (вспомните о describe и info). Напишите в markdown свои наблюдения.\n",
    "3. Выявите пропуски, а также возможные причины их возникновения. Решите, что следует сделать с ними. Напишите в markdown свои наблюдения.\n",
    "4. Оцените зависимости переменных между собой. Используйте корреляции. Будет хорошо, если воспользуетесь profile_report. Напишите в markdown свои наблюдения.\n",
    "5. Определите стратегию преобразования категориальных признаков (т.е. как их сделать адекватными для моделей).\n",
    "6. Найдите признаки, которые можно разделить на другие, или преобразовать в другой тип данных. Удалите лишние, при необходимости.\n",
    "7. Разделите выборку на обучаемую и тестовую.\n",
    "8. Обучите модель. Напишите в markdown свои наблюдения по полученным результатам. Хорошие результаты дают классификаторы RandomForest и XGBoost\n",
    "\n",
    "Если возникнут затруднения, то смотрите на материал практических занятий. Данного там должно хватить для выполнения всех пунктов. Желаю успеха!"
   ]
  },
  {
   "cell_type": "code",
   "execution_count": 1,
   "metadata": {
    "colab": {},
    "colab_type": "code",
    "id": "OKb3VHXySckq"
   },
   "outputs": [],
   "source": [
    "import pandas as pd\n",
    "import numpy as np\n",
    "import seaborn as sns\n",
    "import sys\n",
    "from math import sqrt\n",
    "import math\n",
    "from sklearn.metrics import mean_squared_error, mean_absolute_error, r2_score\n",
    "from sklearn.metrics import accuracy_score\n",
    "from sklearn.model_selection import train_test_split\n",
    "from sklearn.preprocessing import MinMaxScaler\n",
    "import pandas_profiling\n",
    "from sklearn import preprocessing\n",
    "\n",
    "from matplotlib import pyplot as plt"
   ]
  },
  {
   "cell_type": "code",
   "execution_count": 2,
   "metadata": {
    "colab": {
     "base_uri": "https://localhost:8080/",
     "height": 215
    },
    "colab_type": "code",
    "executionInfo": {
     "elapsed": 585,
     "status": "ok",
     "timestamp": 1572600618035,
     "user": {
      "displayName": "Ivan Droba",
      "photoUrl": "",
      "userId": "04075451000500905139"
     },
     "user_tz": -180
    },
    "id": "hga37xS1Stdf",
    "outputId": "0ce57c5c-1243-4531-d0b1-d44bcc8d2e8c"
   },
   "outputs": [
    {
     "data": {
      "text/html": [
       "<div>\n",
       "<style scoped>\n",
       "    .dataframe tbody tr th:only-of-type {\n",
       "        vertical-align: middle;\n",
       "    }\n",
       "\n",
       "    .dataframe tbody tr th {\n",
       "        vertical-align: top;\n",
       "    }\n",
       "\n",
       "    .dataframe thead th {\n",
       "        text-align: right;\n",
       "    }\n",
       "</style>\n",
       "<table border=\"1\" class=\"dataframe\">\n",
       "  <thead>\n",
       "    <tr style=\"text-align: right;\">\n",
       "      <th></th>\n",
       "      <th>offer_gk</th>\n",
       "      <th>weekday_key</th>\n",
       "      <th>hour_key</th>\n",
       "      <th>driver_gk</th>\n",
       "      <th>order_gk</th>\n",
       "      <th>driver_latitude</th>\n",
       "      <th>driver_longitude</th>\n",
       "      <th>origin_order_latitude</th>\n",
       "      <th>origin_order_longitude</th>\n",
       "      <th>distance_km</th>\n",
       "      <th>duration_min</th>\n",
       "      <th>offer_class_group</th>\n",
       "      <th>ride_type_desc</th>\n",
       "      <th>driver_response</th>\n",
       "    </tr>\n",
       "  </thead>\n",
       "  <tbody>\n",
       "    <tr>\n",
       "      <th>0</th>\n",
       "      <td>1105373</td>\n",
       "      <td>5</td>\n",
       "      <td>20</td>\n",
       "      <td>6080</td>\n",
       "      <td>174182</td>\n",
       "      <td>55.818842</td>\n",
       "      <td>37.334562</td>\n",
       "      <td>55.814567</td>\n",
       "      <td>37.355010</td>\n",
       "      <td>-1.000</td>\n",
       "      <td>-1.000</td>\n",
       "      <td>Economy</td>\n",
       "      <td>private</td>\n",
       "      <td>0</td>\n",
       "    </tr>\n",
       "    <tr>\n",
       "      <th>1</th>\n",
       "      <td>759733</td>\n",
       "      <td>5</td>\n",
       "      <td>14</td>\n",
       "      <td>6080</td>\n",
       "      <td>358774</td>\n",
       "      <td>55.805342</td>\n",
       "      <td>37.515023</td>\n",
       "      <td>55.819329</td>\n",
       "      <td>37.466398</td>\n",
       "      <td>18.802</td>\n",
       "      <td>25.217</td>\n",
       "      <td>Standard</td>\n",
       "      <td>private</td>\n",
       "      <td>1</td>\n",
       "    </tr>\n",
       "    <tr>\n",
       "      <th>2</th>\n",
       "      <td>416977</td>\n",
       "      <td>6</td>\n",
       "      <td>14</td>\n",
       "      <td>6080</td>\n",
       "      <td>866260</td>\n",
       "      <td>55.813978</td>\n",
       "      <td>37.347688</td>\n",
       "      <td>55.814827</td>\n",
       "      <td>37.354074</td>\n",
       "      <td>6.747</td>\n",
       "      <td>9.800</td>\n",
       "      <td>Economy</td>\n",
       "      <td>private</td>\n",
       "      <td>0</td>\n",
       "    </tr>\n",
       "    <tr>\n",
       "      <th>3</th>\n",
       "      <td>889660</td>\n",
       "      <td>2</td>\n",
       "      <td>6</td>\n",
       "      <td>6080</td>\n",
       "      <td>163522</td>\n",
       "      <td>55.745922</td>\n",
       "      <td>37.421748</td>\n",
       "      <td>55.743469</td>\n",
       "      <td>37.431130</td>\n",
       "      <td>-1.000</td>\n",
       "      <td>-1.000</td>\n",
       "      <td>Economy</td>\n",
       "      <td>private</td>\n",
       "      <td>1</td>\n",
       "    </tr>\n",
       "    <tr>\n",
       "      <th>4</th>\n",
       "      <td>1120055</td>\n",
       "      <td>4</td>\n",
       "      <td>16</td>\n",
       "      <td>6080</td>\n",
       "      <td>506710</td>\n",
       "      <td>55.803578</td>\n",
       "      <td>37.521602</td>\n",
       "      <td>55.812559</td>\n",
       "      <td>37.527407</td>\n",
       "      <td>12.383</td>\n",
       "      <td>19.250</td>\n",
       "      <td>Economy</td>\n",
       "      <td>private</td>\n",
       "      <td>1</td>\n",
       "    </tr>\n",
       "  </tbody>\n",
       "</table>\n",
       "</div>"
      ],
      "text/plain": [
       "   offer_gk  weekday_key  hour_key  driver_gk  order_gk  driver_latitude  \\\n",
       "0   1105373            5        20       6080    174182        55.818842   \n",
       "1    759733            5        14       6080    358774        55.805342   \n",
       "2    416977            6        14       6080    866260        55.813978   \n",
       "3    889660            2         6       6080    163522        55.745922   \n",
       "4   1120055            4        16       6080    506710        55.803578   \n",
       "\n",
       "   driver_longitude  origin_order_latitude  origin_order_longitude  \\\n",
       "0         37.334562              55.814567               37.355010   \n",
       "1         37.515023              55.819329               37.466398   \n",
       "2         37.347688              55.814827               37.354074   \n",
       "3         37.421748              55.743469               37.431130   \n",
       "4         37.521602              55.812559               37.527407   \n",
       "\n",
       "   distance_km  duration_min offer_class_group ride_type_desc  driver_response  \n",
       "0       -1.000        -1.000           Economy        private                0  \n",
       "1       18.802        25.217          Standard        private                1  \n",
       "2        6.747         9.800           Economy        private                0  \n",
       "3       -1.000        -1.000           Economy        private                1  \n",
       "4       12.383        19.250           Economy        private                1  "
      ]
     },
     "execution_count": 2,
     "metadata": {},
     "output_type": "execute_result"
    }
   ],
   "source": [
    "data = pd.read_csv('taxi.csv')\n",
    "list_c = data.columns\n",
    "data.head()"
   ]
  },
  {
   "cell_type": "code",
   "execution_count": 6,
   "metadata": {
    "colab": {
     "base_uri": "https://localhost:8080/",
     "height": 336
    },
    "colab_type": "code",
    "executionInfo": {
     "elapsed": 613,
     "status": "ok",
     "timestamp": 1572600649236,
     "user": {
      "displayName": "Ivan Droba",
      "photoUrl": "",
      "userId": "04075451000500905139"
     },
     "user_tz": -180
    },
    "id": "5jOJSXcHTXTA",
    "outputId": "2c47a68b-7c7c-4fed-c0b9-abe8f9e67d6d"
   },
   "outputs": [
    {
     "name": "stdout",
     "output_type": "stream",
     "text": [
      "<class 'pandas.core.frame.DataFrame'>\n",
      "RangeIndex: 100000 entries, 0 to 99999\n",
      "Data columns (total 14 columns):\n",
      "offer_gk                  100000 non-null int64\n",
      "weekday_key               100000 non-null int64\n",
      "hour_key                  100000 non-null int64\n",
      "driver_gk                 100000 non-null int64\n",
      "order_gk                  100000 non-null int64\n",
      "driver_latitude           100000 non-null float64\n",
      "driver_longitude          100000 non-null float64\n",
      "origin_order_latitude     100000 non-null float64\n",
      "origin_order_longitude    100000 non-null float64\n",
      "distance_km               100000 non-null float64\n",
      "duration_min              100000 non-null float64\n",
      "offer_class_group         100000 non-null object\n",
      "ride_type_desc            100000 non-null object\n",
      "driver_response           100000 non-null int64\n",
      "dtypes: float64(6), int64(6), object(2)\n",
      "memory usage: 10.7+ MB\n"
     ]
    }
   ],
   "source": [
    "data.info()"
   ]
  },
  {
   "cell_type": "code",
   "execution_count": 35,
   "metadata": {
    "colab": {
     "base_uri": "https://localhost:8080/",
     "height": 304
    },
    "colab_type": "code",
    "executionInfo": {
     "elapsed": 607,
     "status": "ok",
     "timestamp": 1572603769043,
     "user": {
      "displayName": "Ivan Droba",
      "photoUrl": "",
      "userId": "04075451000500905139"
     },
     "user_tz": -180
    },
    "id": "dcDz1tlVUSDj",
    "outputId": "59aeb2ae-4758-4a30-bd09-6c2ca14faeae"
   },
   "outputs": [
    {
     "data": {
      "text/html": [
       "<div>\n",
       "<style scoped>\n",
       "    .dataframe tbody tr th:only-of-type {\n",
       "        vertical-align: middle;\n",
       "    }\n",
       "\n",
       "    .dataframe tbody tr th {\n",
       "        vertical-align: top;\n",
       "    }\n",
       "\n",
       "    .dataframe thead th {\n",
       "        text-align: right;\n",
       "    }\n",
       "</style>\n",
       "<table border=\"1\" class=\"dataframe\">\n",
       "  <thead>\n",
       "    <tr style=\"text-align: right;\">\n",
       "      <th></th>\n",
       "      <th>offer_gk</th>\n",
       "      <th>weekday_key</th>\n",
       "      <th>hour_key</th>\n",
       "      <th>driver_gk</th>\n",
       "      <th>order_gk</th>\n",
       "      <th>driver_latitude</th>\n",
       "      <th>driver_longitude</th>\n",
       "      <th>origin_order_latitude</th>\n",
       "      <th>origin_order_longitude</th>\n",
       "      <th>distance_km</th>\n",
       "      <th>duration_min</th>\n",
       "      <th>driver_response</th>\n",
       "    </tr>\n",
       "  </thead>\n",
       "  <tbody>\n",
       "    <tr>\n",
       "      <th>count</th>\n",
       "      <td>1.000000e+05</td>\n",
       "      <td>100000.000000</td>\n",
       "      <td>100000.000000</td>\n",
       "      <td>100000.000000</td>\n",
       "      <td>100000.00000</td>\n",
       "      <td>100000.000000</td>\n",
       "      <td>100000.000000</td>\n",
       "      <td>100000.000000</td>\n",
       "      <td>100000.000000</td>\n",
       "      <td>100000.000000</td>\n",
       "      <td>100000.000000</td>\n",
       "      <td>100000.000000</td>\n",
       "    </tr>\n",
       "    <tr>\n",
       "      <th>mean</th>\n",
       "      <td>5.662189e+05</td>\n",
       "      <td>3.159860</td>\n",
       "      <td>13.827790</td>\n",
       "      <td>3446.376360</td>\n",
       "      <td>460867.01291</td>\n",
       "      <td>55.700824</td>\n",
       "      <td>37.492292</td>\n",
       "      <td>55.772440</td>\n",
       "      <td>37.541637</td>\n",
       "      <td>18.393518</td>\n",
       "      <td>23.134841</td>\n",
       "      <td>0.492480</td>\n",
       "    </tr>\n",
       "    <tr>\n",
       "      <th>std</th>\n",
       "      <td>3.259360e+05</td>\n",
       "      <td>2.054222</td>\n",
       "      <td>7.306496</td>\n",
       "      <td>2038.738677</td>\n",
       "      <td>266064.98953</td>\n",
       "      <td>2.135903</td>\n",
       "      <td>1.454640</td>\n",
       "      <td>0.665985</td>\n",
       "      <td>0.467758</td>\n",
       "      <td>41.129296</td>\n",
       "      <td>33.890105</td>\n",
       "      <td>0.499946</td>\n",
       "    </tr>\n",
       "    <tr>\n",
       "      <th>min</th>\n",
       "      <td>4.000000e+00</td>\n",
       "      <td>0.000000</td>\n",
       "      <td>0.000000</td>\n",
       "      <td>14.000000</td>\n",
       "      <td>18.00000</td>\n",
       "      <td>-1.000000</td>\n",
       "      <td>-1.000000</td>\n",
       "      <td>-1.000000</td>\n",
       "      <td>-1.000000</td>\n",
       "      <td>-1.000000</td>\n",
       "      <td>-1.000000</td>\n",
       "      <td>0.000000</td>\n",
       "    </tr>\n",
       "    <tr>\n",
       "      <th>25%</th>\n",
       "      <td>2.855552e+05</td>\n",
       "      <td>1.000000</td>\n",
       "      <td>8.000000</td>\n",
       "      <td>1421.000000</td>\n",
       "      <td>229178.50000</td>\n",
       "      <td>55.708651</td>\n",
       "      <td>37.413497</td>\n",
       "      <td>55.708032</td>\n",
       "      <td>37.407117</td>\n",
       "      <td>-1.000000</td>\n",
       "      <td>-1.000000</td>\n",
       "      <td>0.000000</td>\n",
       "    </tr>\n",
       "    <tr>\n",
       "      <th>50%</th>\n",
       "      <td>5.656715e+05</td>\n",
       "      <td>3.000000</td>\n",
       "      <td>16.000000</td>\n",
       "      <td>3506.500000</td>\n",
       "      <td>462420.00000</td>\n",
       "      <td>55.772904</td>\n",
       "      <td>37.533664</td>\n",
       "      <td>55.772561</td>\n",
       "      <td>37.532537</td>\n",
       "      <td>10.411500</td>\n",
       "      <td>19.700000</td>\n",
       "      <td>0.000000</td>\n",
       "    </tr>\n",
       "    <tr>\n",
       "      <th>75%</th>\n",
       "      <td>8.487198e+05</td>\n",
       "      <td>5.000000</td>\n",
       "      <td>20.000000</td>\n",
       "      <td>5242.000000</td>\n",
       "      <td>690894.00000</td>\n",
       "      <td>55.960667</td>\n",
       "      <td>37.624113</td>\n",
       "      <td>55.962000</td>\n",
       "      <td>37.624358</td>\n",
       "      <td>30.665250</td>\n",
       "      <td>37.867000</td>\n",
       "      <td>1.000000</td>\n",
       "    </tr>\n",
       "    <tr>\n",
       "      <th>max</th>\n",
       "      <td>1.130355e+06</td>\n",
       "      <td>6.000000</td>\n",
       "      <td>23.000000</td>\n",
       "      <td>6806.000000</td>\n",
       "      <td>920344.00000</td>\n",
       "      <td>56.174097</td>\n",
       "      <td>38.280547</td>\n",
       "      <td>56.311121</td>\n",
       "      <td>38.243608</td>\n",
       "      <td>5234.283000</td>\n",
       "      <td>3958.283000</td>\n",
       "      <td>1.000000</td>\n",
       "    </tr>\n",
       "  </tbody>\n",
       "</table>\n",
       "</div>"
      ],
      "text/plain": [
       "           offer_gk    weekday_key  ...   duration_min  driver_response\n",
       "count  1.000000e+05  100000.000000  ...  100000.000000    100000.000000\n",
       "mean   5.662189e+05       3.159860  ...      23.134841         0.492480\n",
       "std    3.259360e+05       2.054222  ...      33.890105         0.499946\n",
       "min    4.000000e+00       0.000000  ...      -1.000000         0.000000\n",
       "25%    2.855552e+05       1.000000  ...      -1.000000         0.000000\n",
       "50%    5.656715e+05       3.000000  ...      19.700000         0.000000\n",
       "75%    8.487198e+05       5.000000  ...      37.867000         1.000000\n",
       "max    1.130355e+06       6.000000  ...    3958.283000         1.000000\n",
       "\n",
       "[8 rows x 12 columns]"
      ]
     },
     "execution_count": 35,
     "metadata": {
      "tags": []
     },
     "output_type": "execute_result"
    }
   ],
   "source": [
    "data.describe()"
   ]
  },
  {
   "cell_type": "markdown",
   "metadata": {
    "colab_type": "text",
    "id": "Kptbczoff0TA"
   },
   "source": [
    "offer_gk\tdriver_gk order_gk -колонки которые решаем удалить, так как это ид заказа, водителя и заказчика уникальные"
   ]
  },
  {
   "cell_type": "code",
   "execution_count": 13,
   "metadata": {
    "colab": {},
    "colab_type": "code",
    "id": "4OJOHZGkgI9L"
   },
   "outputs": [],
   "source": [
    "data_t = data.drop(['offer_gk',\t'driver_gk', 'order_gk'], axis = 1)"
   ]
  },
  {
   "cell_type": "markdown",
   "metadata": {
    "colab_type": "text",
    "id": "S5b5kIrjggHf"
   },
   "source": [
    "Это категориальные данные которые нужно будет кодировать"
   ]
  },
  {
   "cell_type": "code",
   "execution_count": 43,
   "metadata": {},
   "outputs": [
    {
     "data": {
      "text/plain": [
       "(99897, 11)"
      ]
     },
     "execution_count": 43,
     "metadata": {},
     "output_type": "execute_result"
    }
   ],
   "source": [
    "Видим значительное количество данных с расстоянием -1. Попробуем понять, что с этим данными ..."
   ]
  },
  {
   "cell_type": "code",
   "execution_count": 45,
   "metadata": {},
   "outputs": [],
   "source": [
    "data_ = data_t.loc[data_t['distance_km'] == -1]"
   ]
  },
  {
   "cell_type": "code",
   "execution_count": 47,
   "metadata": {},
   "outputs": [
    {
     "data": {
      "text/plain": [
       "(26207, 11)"
      ]
     },
     "execution_count": 47,
     "metadata": {},
     "output_type": "execute_result"
    }
   ],
   "source": [
    "data_.shape"
   ]
  },
  {
   "cell_type": "code",
   "execution_count": 5,
   "metadata": {},
   "outputs": [],
   "source": [
    "#таким образом мы оставили все строки где можем рассчитать расстояние по данным широты и долготы\n",
    "def conv_la(row):\n",
    "    #print(row)\n",
    "    if row['distance_km'] == -1: \n",
    "        row['distance_km'] = 0\n",
    "        # print(row['distance_km'])\n",
    "    return row    \n",
    "        "
   ]
  },
  {
   "cell_type": "code",
   "execution_count": 14,
   "metadata": {},
   "outputs": [],
   "source": [
    "data_t = data_t.apply(conv_la, axis = 1)"
   ]
  },
  {
   "cell_type": "code",
   "execution_count": 15,
   "metadata": {},
   "outputs": [
    {
     "data": {
      "text/plain": [
       "(46, 11)"
      ]
     },
     "execution_count": 15,
     "metadata": {},
     "output_type": "execute_result"
    }
   ],
   "source": [
    "data_t.loc[data_t['distance_km'] > 400 ].shape"
   ]
  },
  {
   "cell_type": "code",
   "execution_count": null,
   "metadata": {},
   "outputs": [],
   "source": [
    "Удалим строки, где расстояние получилось более 400 км как выпады, это за пределами 6 сигм"
   ]
  },
  {
   "cell_type": "code",
   "execution_count": 16,
   "metadata": {},
   "outputs": [],
   "source": [
    "data_t = data_t.drop(data_t.loc[data_t['distance_km'] > 400].index)"
   ]
  },
  {
   "cell_type": "code",
   "execution_count": 9,
   "metadata": {},
   "outputs": [
    {
     "data": {
      "text/plain": [
       "<matplotlib.axes._subplots.AxesSubplot at 0x1f5c760ecc0>"
      ]
     },
     "execution_count": 9,
     "metadata": {},
     "output_type": "execute_result"
    },
    {
     "data": {
      "image/png": "[encoded data removed]",
      "text/plain": [
       "<Figure size 432x288 with 1 Axes>"
      ]
     },
     "metadata": {
      "needs_background": "light"
     },
     "output_type": "display_data"
    }
   ],
   "source": [
    "data_t['distance_km'].hist(bins = 100)"
   ]
  },
  {
   "cell_type": "code",
   "execution_count": 17,
   "metadata": {},
   "outputs": [],
   "source": [
    "data_t = data_t.drop(['duration_min','driver_latitude',\t'driver_longitude', 'origin_order_latitude','origin_order_longitude'], axis = 1)"
   ]
  },
  {
   "cell_type": "code",
   "execution_count": 18,
   "metadata": {},
   "outputs": [
    {
     "data": {
      "text/html": [
       "<div>\n",
       "<style scoped>\n",
       "    .dataframe tbody tr th:only-of-type {\n",
       "        vertical-align: middle;\n",
       "    }\n",
       "\n",
       "    .dataframe tbody tr th {\n",
       "        vertical-align: top;\n",
       "    }\n",
       "\n",
       "    .dataframe thead th {\n",
       "        text-align: right;\n",
       "    }\n",
       "</style>\n",
       "<table border=\"1\" class=\"dataframe\">\n",
       "  <thead>\n",
       "    <tr style=\"text-align: right;\">\n",
       "      <th></th>\n",
       "      <th>weekday_key</th>\n",
       "      <th>hour_key</th>\n",
       "      <th>distance_km</th>\n",
       "      <th>offer_class_group</th>\n",
       "      <th>ride_type_desc</th>\n",
       "      <th>driver_response</th>\n",
       "    </tr>\n",
       "  </thead>\n",
       "  <tbody>\n",
       "    <tr>\n",
       "      <th>0</th>\n",
       "      <td>5</td>\n",
       "      <td>20</td>\n",
       "      <td>0.000</td>\n",
       "      <td>Economy</td>\n",
       "      <td>private</td>\n",
       "      <td>0</td>\n",
       "    </tr>\n",
       "    <tr>\n",
       "      <th>1</th>\n",
       "      <td>5</td>\n",
       "      <td>14</td>\n",
       "      <td>18.802</td>\n",
       "      <td>Standard</td>\n",
       "      <td>private</td>\n",
       "      <td>1</td>\n",
       "    </tr>\n",
       "    <tr>\n",
       "      <th>2</th>\n",
       "      <td>6</td>\n",
       "      <td>14</td>\n",
       "      <td>6.747</td>\n",
       "      <td>Economy</td>\n",
       "      <td>private</td>\n",
       "      <td>0</td>\n",
       "    </tr>\n",
       "    <tr>\n",
       "      <th>3</th>\n",
       "      <td>2</td>\n",
       "      <td>6</td>\n",
       "      <td>0.000</td>\n",
       "      <td>Economy</td>\n",
       "      <td>private</td>\n",
       "      <td>1</td>\n",
       "    </tr>\n",
       "    <tr>\n",
       "      <th>4</th>\n",
       "      <td>4</td>\n",
       "      <td>16</td>\n",
       "      <td>12.383</td>\n",
       "      <td>Economy</td>\n",
       "      <td>private</td>\n",
       "      <td>1</td>\n",
       "    </tr>\n",
       "  </tbody>\n",
       "</table>\n",
       "</div>"
      ],
      "text/plain": [
       "   weekday_key  hour_key  distance_km offer_class_group ride_type_desc  \\\n",
       "0            5        20        0.000           Economy        private   \n",
       "1            5        14       18.802          Standard        private   \n",
       "2            6        14        6.747           Economy        private   \n",
       "3            2         6        0.000           Economy        private   \n",
       "4            4        16       12.383           Economy        private   \n",
       "\n",
       "   driver_response  \n",
       "0                0  \n",
       "1                1  \n",
       "2                0  \n",
       "3                1  \n",
       "4                1  "
      ]
     },
     "execution_count": 18,
     "metadata": {},
     "output_type": "execute_result"
    }
   ],
   "source": [
    "data_t.head()"
   ]
  },
  {
   "cell_type": "code",
   "execution_count": 19,
   "metadata": {},
   "outputs": [],
   "source": [
    "#Функция переводит категорийные значения в набор колонок с 0,1\n",
    "def oh_encoder(df, list_col):\n",
    "  \n",
    "  r_df = df.copy()\n",
    "\n",
    "  for col in list_col:\n",
    "    conv = df[col].get_values().reshape(-1, 1)\n",
    "\n",
    "    # One-hot encoding\n",
    "    oh_encoder = preprocessing.OneHotEncoder()\n",
    "    oh_encoder.fit(conv)\n",
    "    oh_result = oh_encoder.transform(conv).toarray()\n",
    "\n",
    "    conv_columns = ['{}_{}'.format(col,i) for i in range(oh_result.shape[1])]\n",
    "    conv_df = pd.DataFrame(oh_result, columns=conv_columns)\n",
    "    conv_df.index = df.index\n",
    "    r_df = pd.concat([r_df, conv_df], axis=1)\n",
    "    r_df = r_df.drop([col], axis=1)\n",
    "\n",
    "  return r_df "
   ]
  },
  {
   "cell_type": "code",
   "execution_count": 20,
   "metadata": {},
   "outputs": [],
   "source": [
    "# колонки которые будем переводить в категорийные через OneHotEncording\n",
    "list_col = 'weekday_key', 'hour_key', 'offer_class_group', 'ride_type_desc'\n",
    "data_t['weekday_key'] =  data_t['weekday_key'].astype(str)\n",
    "data_t['hour_key'] =  data_t['hour_key'].astype(str)\n",
    "#data_t['driver_response'] =  data_t['driver_response'].astype(str)\n"
   ]
  },
  {
   "cell_type": "code",
   "execution_count": 21,
   "metadata": {},
   "outputs": [
    {
     "name": "stdout",
     "output_type": "stream",
     "text": [
      "<class 'pandas.core.frame.DataFrame'>\n",
      "Int64Index: 99954 entries, 0 to 99999\n",
      "Data columns (total 6 columns):\n",
      "weekday_key          99954 non-null object\n",
      "hour_key             99954 non-null object\n",
      "distance_km          99954 non-null float64\n",
      "offer_class_group    99954 non-null object\n",
      "ride_type_desc       99954 non-null object\n",
      "driver_response      99954 non-null int64\n",
      "dtypes: float64(1), int64(1), object(4)\n",
      "memory usage: 5.3+ MB\n"
     ]
    }
   ],
   "source": [
    "data_t.info()"
   ]
  },
  {
   "cell_type": "code",
   "execution_count": 22,
   "metadata": {},
   "outputs": [
    {
     "name": "stderr",
     "output_type": "stream",
     "text": [
      "C:\\ProgramData\\Anaconda3\\lib\\site-packages\\sklearn\\preprocessing\\_encoders.py:371: FutureWarning: The handling of integer data will change in version 0.22. Currently, the categories are determined based on the range [0, max(values)], while in the future they will be determined based on the unique values.\n",
      "If you want the future behaviour and silence this warning, you can specify \"categories='auto'\".\n",
      "In case you used a LabelEncoder before this OneHotEncoder to convert the categories to integers, then you can now use the OneHotEncoder directly.\n",
      "  warnings.warn(msg, FutureWarning)\n",
      "C:\\ProgramData\\Anaconda3\\lib\\site-packages\\sklearn\\preprocessing\\_encoders.py:371: FutureWarning: The handling of integer data will change in version 0.22. Currently, the categories are determined based on the range [0, max(values)], while in the future they will be determined based on the unique values.\n",
      "If you want the future behaviour and silence this warning, you can specify \"categories='auto'\".\n",
      "In case you used a LabelEncoder before this OneHotEncoder to convert the categories to integers, then you can now use the OneHotEncoder directly.\n",
      "  warnings.warn(msg, FutureWarning)\n"
     ]
    }
   ],
   "source": [
    "data_n = oh_encoder(data_t, list_col)"
   ]
  },
  {
   "cell_type": "code",
   "execution_count": 24,
   "metadata": {},
   "outputs": [],
   "source": [
    "data_n = data_n.drop_duplicates()"
   ]
  },
  {
   "cell_type": "code",
   "execution_count": 25,
   "metadata": {},
   "outputs": [
    {
     "data": {
      "text/plain": [
       "(60621, 46)"
      ]
     },
     "execution_count": 25,
     "metadata": {},
     "output_type": "execute_result"
    }
   ],
   "source": [
    "data_n.shape"
   ]
  },
  {
   "cell_type": "code",
   "execution_count": null,
   "metadata": {},
   "outputs": [],
   "source": [
    "убирается 40 тыс строк дубликатов !!!"
   ]
  },
  {
   "cell_type": "code",
   "execution_count": null,
   "metadata": {},
   "outputs": [],
   "source": [
    "Теперь можно проводить обучение"
   ]
  },
  {
   "cell_type": "code",
   "execution_count": 26,
   "metadata": {},
   "outputs": [],
   "source": [
    "list_res = ['driver_response']\n",
    "train_X = data_n.drop(list_res, axis = 1)\n",
    "train_Y = data_n[list_res]\n",
    "\n",
    "X_train,X_test,y_train,y_test = train_test_split(train_X,\n",
    "                                                 train_Y,\n",
    "                                                 test_size = 0.2,#%80 train, 20% test\n",
    "                                                 random_state = 3)"
   ]
  },
  {
   "cell_type": "code",
   "execution_count": 27,
   "metadata": {},
   "outputs": [
    {
     "name": "stderr",
     "output_type": "stream",
     "text": [
      "C:\\ProgramData\\Anaconda3\\lib\\site-packages\\ipykernel_launcher.py:8: DataConversionWarning: A column-vector y was passed when a 1d array was expected. Please change the shape of y to (n_samples,), for example using ravel().\n",
      "  \n"
     ]
    },
    {
     "name": "stdout",
     "output_type": "stream",
     "text": [
      "Точность предсказания модели:  0.5451546391752577\n"
     ]
    }
   ],
   "source": [
    "from sklearn.ensemble import RandomForestClassifier\n",
    "# создаем модель деревья решений\n",
    "model=RandomForestClassifier(n_estimators=100)\n",
    "\n",
    "#from sklearn.linear_model import LogisticRegression\n",
    "#from sklearn.metrics import accuracy_score \n",
    "#model = LogisticRegression()\n",
    "model.fit(X_train, y_train)\n",
    "predicted_classes = model.predict(X_test)\n",
    "accuracy = accuracy_score(y_test,predicted_classes)\n",
    "print('Точность предсказания модели: ', accuracy)"
   ]
  },
  {
   "cell_type": "code",
   "execution_count": 28,
   "metadata": {},
   "outputs": [],
   "source": [
    "list_res = ['driver_response']\n",
    "train_X = data_n.drop(list_res, axis = 1)\n",
    "train_Y = data_n[list_res]\n",
    "\n",
    "X_train,X_test,y_train,y_test = train_test_split(train_X,\n",
    "                                                 train_Y,\n",
    "                                                 test_size = 0.2,#%80 train, 20% test\n",
    "                                                 random_state = 3)"
   ]
  },
  {
   "cell_type": "code",
   "execution_count": 29,
   "metadata": {},
   "outputs": [
    {
     "name": "stderr",
     "output_type": "stream",
     "text": [
      "C:\\ProgramData\\Anaconda3\\lib\\site-packages\\sklearn\\preprocessing\\label.py:219: DataConversionWarning: A column-vector y was passed when a 1d array was expected. Please change the shape of y to (n_samples, ), for example using ravel().\n",
      "  y = column_or_1d(y, warn=True)\n",
      "C:\\ProgramData\\Anaconda3\\lib\\site-packages\\sklearn\\preprocessing\\label.py:252: DataConversionWarning: A column-vector y was passed when a 1d array was expected. Please change the shape of y to (n_samples, ), for example using ravel().\n",
      "  y = column_or_1d(y, warn=True)\n"
     ]
    },
    {
     "name": "stdout",
     "output_type": "stream",
     "text": [
      "Точность предсказания модели:  0.6520412371134021\n"
     ]
    }
   ],
   "source": [
    "import xgboost\n",
    "\n",
    "model=xgboost.XGBClassifier()\n",
    "\n",
    "model.fit(X_train, y_train)\n",
    "predicted_classes = model.predict(X_test)\n",
    "accuracy = accuracy_score(y_test , predicted_classes)\n",
    "print('Точность предсказания модели: ', accuracy)\n"
   ]
  },
  {
   "cell_type": "code",
   "execution_count": null,
   "metadata": {},
   "outputs": [],
   "source": []
  }
 ],
 "metadata": {
  "colab": {
   "collapsed_sections": [],
   "name": "Untitled7.ipynb",
   "provenance": [],
   "toc_visible": true
  },
  "kernelspec": {
   "display_name": "Python 3",
   "language": "python",
   "name": "python3"
  },
  "language_info": {
   "codemirror_mode": {
    "name": "ipython",
    "version": 3
   },
   "file_extension": ".py",
   "mimetype": "text/x-python",
   "name": "python",
   "nbconvert_exporter": "python",
   "pygments_lexer": "ipython3",
   "version": "3.7.3"
  }
 },
 "nbformat": 4,
 "nbformat_minor": 1
}
