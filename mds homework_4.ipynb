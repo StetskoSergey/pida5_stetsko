{
  "nbformat": 4,
  "nbformat_minor": 0,
  "metadata": {
    "kernelspec": {
      "display_name": "Python 3",
      "language": "python",
      "name": "python3"
    },
    "language_info": {
      "codemirror_mode": {
        "name": "ipython",
        "version": 3
      },
      "file_extension": ".py",
      "mimetype": "text/x-python",
      "name": "python",
      "nbconvert_exporter": "python",
      "pygments_lexer": "ipython3",
      "version": "3.7.5"
    },
    "colab": {
      "name": "homework-4.ipynb",
      "provenance": [],
      "include_colab_link": true
    }
  },
  "cells": [
    {
      "cell_type": "markdown",
      "metadata": {
        "id": "view-in-github",
        "colab_type": "text"
      },
      "source": [
        "<a href=\"https://colab.research.google.com/github/StetskoSergey/pida5_stetsko/blob/master/mds%20homework_4.ipynb\" target=\"_parent\"><img src=\"https://colab.research.google.com/assets/colab-badge.svg\" alt=\"Open In Colab\"/></a>"
      ]
    },
    {
      "cell_type": "markdown",
      "metadata": {
        "id": "EtvcDgDJmxEt",
        "colab_type": "text"
      },
      "source": [
        "### Задание 1"
      ]
    },
    {
      "cell_type": "markdown",
      "metadata": {
        "id": "bEh1XFRXmxEw",
        "colab_type": "text"
      },
      "source": [
        "Придумайте функции со следующими свойствами (в a) b) c) область определения X любая, какая вам удобна, главное - функция с нужными свойствами):\n",
        "\n",
        "a) бесконечное количество локальных экстремумов\n",
        "\n",
        "sin(x)\n",
        "\n",
        "b) 2 локальных экстремума\n",
        "x^3 + 20 x^2\n",
        "\n",
        "\n",
        "с) 3 локальных экстремума\n",
        "x^4 - x^3 - x^2\n",
        "d*) область определения функции - 1 точка\n",
        "\n"
      ]
    },
    {
      "cell_type": "code",
      "metadata": {
        "id": "RiQQdhcfnvAj",
        "colab_type": "code",
        "colab": {}
      },
      "source": [
        "import matplotlib.pyplot as plt\n",
        "import numpy as np\n",
        "import pylab\n",
        "\n",
        "from scipy.misc import derivative\n",
        "from scipy.misc import electrocardiogram\n",
        "from scipy.optimize import fmin, brute\n",
        "from scipy.signal import find_peaks"
      ],
      "execution_count": 0,
      "outputs": []
    },
    {
      "cell_type": "code",
      "metadata": {
        "id": "25sHA_kDn3CD",
        "colab_type": "code",
        "outputId": "5f49efff-bccf-4a30-810c-518237ed07c7",
        "colab": {
          "base_uri": "https://localhost:8080/",
          "height": 265
        }
      },
      "source": [
        "def f(x):\n",
        "  return pow(x,4) - 100*pow(x,3) -1000* pow(x,2)\n",
        "\n",
        "x = np.linspace(-30,15,100)\n",
        "y = f(x)\n",
        "plt.plot(x, y)\n",
        "plt.show()"
      ],
      "execution_count": 0,
      "outputs": [
        {
          "output_type": "display_data",
          "data": {
            "image/png": "[encoded data removed]",
            "text/plain": [
              "<Figure size 432x288 with 1 Axes>"
            ]
          },
          "metadata": {
            "tags": []
          }
        }
      ]
    },
    {
      "cell_type": "markdown",
      "metadata": {
        "id": "lIa4uqrgmxEy",
        "colab_type": "text"
      },
      "source": [
        "### Задание 2:"
      ]
    },
    {
      "cell_type": "markdown",
      "metadata": {
        "id": "975Zgq1FmxEz",
        "colab_type": "text"
      },
      "source": [
        "Посчитайте 1-ую и 2-ую производные следующих функций (на бумажке:)):\n",
        "\n",
        "a) $f(x) = sin^2(2x+1)$\n",
        "\n",
        "b) $f(x) = ln(x^3+2sin(x))$ (выражение второй производной упрощать не нужно)"
      ]
    },
    {
      "cell_type": "markdown",
      "metadata": {
        "id": "mZzZdkNrmxE0",
        "colab_type": "text"
      },
      "source": [
        "### Задание 3:"
      ]
    },
    {
      "cell_type": "markdown",
      "metadata": {
        "id": "-sXlEevImxE1",
        "colab_type": "text"
      },
      "source": [
        "Используя numpy, посчитайте значение 3-ей и 4-ой производных функций в точке:\n",
        "\n",
        "$f(x) = x^5+4sin(2x)+cos(3x+3)$ в точке $x=1$\n"
      ]
    },
    {
      "cell_type": "code",
      "metadata": {
        "id": "oHnjNRNfsJZS",
        "colab_type": "code",
        "outputId": "4a42e56c-a90f-4e6d-93a1-48bd658593e4",
        "colab": {
          "base_uri": "https://localhost:8080/",
          "height": 34
        }
      },
      "source": [
        "from scipy.misc import derivative\n",
        "import math\n",
        "\n",
        "def f(x):\n",
        "    return x**5 + 4*math.sin(2*x)  + math.cos(3*x + 3)\n",
        "\n",
        "derivative(f, 1.0, dx=1e-6)"
      ],
      "execution_count": 0,
      "outputs": [
        {
          "output_type": "execute_result",
          "data": {
            "text/plain": [
              "2.509071801881646"
            ]
          },
          "metadata": {
            "tags": []
          },
          "execution_count": 22
        }
      ]
    }
  ]
}