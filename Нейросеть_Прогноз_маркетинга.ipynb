{
  "nbformat": 4,
  "nbformat_minor": 0,
  "metadata": {
    "colab": {
      "name": "Нейросеть Прогноз маркетинга.ipynb",
      "provenance": [],
      "collapsed_sections": [],
      "machine_shape": "hm",
      "authorship_tag": "ABX9TyNFKWBvY1pqWOcVL8hpvz0O",
      "include_colab_link": true
    },
    "kernelspec": {
      "name": "python3",
      "display_name": "Python 3"
    },
    "language_info": {
      "name": "python"
    },
    "accelerator": "GPU"
  },
  "cells": [
    {
      "cell_type": "markdown",
      "metadata": {
        "id": "view-in-github",
        "colab_type": "text"
      },
      "source": [
        "<a href=\"https://colab.research.google.com/github/StetskoSergey/pida5_stetsko/blob/master/%D0%9D%D0%B5%D0%B9%D1%80%D0%BE%D1%81%D0%B5%D1%82%D1%8C_%D0%9F%D1%80%D0%BE%D0%B3%D0%BD%D0%BE%D0%B7_%D0%BC%D0%B0%D1%80%D0%BA%D0%B5%D1%82%D0%B8%D0%BD%D0%B3%D0%B0.ipynb\" target=\"_parent\"><img src=\"https://colab.research.google.com/assets/colab-badge.svg\" alt=\"Open In Colab\"/></a>"
      ]
    },
    {
      "cell_type": "markdown",
      "metadata": {
        "id": "6n1gXX0WflrD"
      },
      "source": [
        ""
      ]
    },
    {
      "cell_type": "code",
      "metadata": {
        "id": "zUx53nLKfgwd"
      },
      "source": [
        "# convlstm model for marketing\n",
        "import numpy as np\n",
        "from numpy import mean\n",
        "from numpy import std\n",
        "from numpy import dstack\n",
        "from pandas import read_csv\n",
        "from keras.models import Sequential\n",
        "from keras.models import load_model\n",
        "from keras.layers import Dense\n",
        "from keras.layers import Flatten\n",
        "from keras.layers import Dropout\n",
        "from keras.layers import ConvLSTM2D\n",
        "from keras.layers import LSTM\n",
        "from keras.layers import TimeDistributed\n",
        "from keras.layers.convolutional import Conv1D\n",
        "from keras.layers.convolutional import MaxPooling1D\n",
        "from sklearn.model_selection import train_test_split\n"
      ],
      "execution_count": 43,
      "outputs": []
    },
    {
      "cell_type": "code",
      "metadata": {
        "id": "7Xx2RF3WfnG1"
      },
      "source": [
        "\n",
        "# load a single file as a numpy array\n",
        "def load_file(filepath):\n",
        "\tdataframe = read_csv(filepath, header=0, sep=';', dtype = {'ЗакупочнаяЦена': np.float32, 'РегулярнаяЦена': np.float32, 'ПродажиНеделя': np.float32, 'АкцияСкидка': np.float32})\n",
        "\treturn dataframe\n"
      ],
      "execution_count": 2,
      "outputs": []
    },
    {
      "cell_type": "code",
      "metadata": {
        "id": "UCWOW8e7c9Gs"
      },
      "source": [
        "df = load_file('ДанныеПродаж.csv')\n",
        "df['id'] = df['НаименованиеОЛАП_id'] + '#'+df['Контрагент_id']+ '#'+df['ДоговорКонтрагента_id']\n",
        "df['СредниеПродажи'] = df['ПродажиНеделя'] / (df['Рабочий'] + df['Предпраздничный'] + df['Суббота'] + df['Праздник'] + df['Воскресенье']) \n",
        "#df = df.loc[df['Контрагент_id'] == 'b65fd636-4af4-11df-ae49-0030487d100c']\n",
        "df = df.drop(['НаименованиеОЛАП', 'НаименованиеОЛАП_id', 'ГруппаДоговоров', 'ГруппаДоговоров_id', 'ДоговорКонтрагента', 'ДоговорКонтрагента_id', 'Контрагент', 'Контрагент_id', 'ПродажиНеделя'],axis = 1)\n",
        "df['por'] = df['Год']*10000 + df['Месяц']*100+ df['Неделя']\n",
        "df['price'] = df['РегулярнаяЦена']/df['ЗакупочнаяЦена']\n",
        "df = df.drop(['Неделя','Месяц','Год','РегулярнаяЦена', 'ЗакупочнаяЦена'] ,axis = 1)"
      ],
      "execution_count": 3,
      "outputs": []
    },
    {
      "cell_type": "code",
      "metadata": {
        "colab": {
          "base_uri": "https://localhost:8080/"
        },
        "id": "PQ8fEvQAdM0t",
        "outputId": "8469df1d-8d01-4248-d7f0-1ca83a375166"
      },
      "source": [
        "df.shape"
      ],
      "execution_count": 4,
      "outputs": [
        {
          "output_type": "execute_result",
          "data": {
            "text/plain": [
              "(95096, 10)"
            ]
          },
          "metadata": {},
          "execution_count": 4
        }
      ]
    },
    {
      "cell_type": "code",
      "metadata": {
        "colab": {
          "base_uri": "https://localhost:8080/",
          "height": 355
        },
        "id": "66qdw3jbifuo",
        "outputId": "bb5b0534-d311-4476-cf98-8d0ded3f6975"
      },
      "source": [
        "df.head(10)"
      ],
      "execution_count": 8,
      "outputs": [
        {
          "output_type": "execute_result",
          "data": {
            "text/html": [
              "<div>\n",
              "<style scoped>\n",
              "    .dataframe tbody tr th:only-of-type {\n",
              "        vertical-align: middle;\n",
              "    }\n",
              "\n",
              "    .dataframe tbody tr th {\n",
              "        vertical-align: top;\n",
              "    }\n",
              "\n",
              "    .dataframe thead th {\n",
              "        text-align: right;\n",
              "    }\n",
              "</style>\n",
              "<table border=\"1\" class=\"dataframe\">\n",
              "  <thead>\n",
              "    <tr style=\"text-align: right;\">\n",
              "      <th></th>\n",
              "      <th>Рабочий</th>\n",
              "      <th>Предпраздничный</th>\n",
              "      <th>Суббота</th>\n",
              "      <th>Воскресенье</th>\n",
              "      <th>Праздник</th>\n",
              "      <th>АкцияСкидка</th>\n",
              "      <th>id</th>\n",
              "      <th>СредниеПродажи</th>\n",
              "      <th>por</th>\n",
              "      <th>price</th>\n",
              "    </tr>\n",
              "  </thead>\n",
              "  <tbody>\n",
              "    <tr>\n",
              "      <th>0</th>\n",
              "      <td>0</td>\n",
              "      <td>0</td>\n",
              "      <td>0</td>\n",
              "      <td>1</td>\n",
              "      <td>5</td>\n",
              "      <td>0.00</td>\n",
              "      <td>0d7f65f2-4eb8-11e8-8103-00155d3c153d#b65fd636-...</td>\n",
              "      <td>0.000000</td>\n",
              "      <td>20190101</td>\n",
              "      <td>0.985173</td>\n",
              "    </tr>\n",
              "    <tr>\n",
              "      <th>1</th>\n",
              "      <td>0</td>\n",
              "      <td>0</td>\n",
              "      <td>0</td>\n",
              "      <td>1</td>\n",
              "      <td>5</td>\n",
              "      <td>0.00</td>\n",
              "      <td>0d7f65f2-4eb8-11e8-8103-00155d3c153d#b65fd636-...</td>\n",
              "      <td>0.000000</td>\n",
              "      <td>20190101</td>\n",
              "      <td>0.985173</td>\n",
              "    </tr>\n",
              "    <tr>\n",
              "      <th>2</th>\n",
              "      <td>0</td>\n",
              "      <td>0</td>\n",
              "      <td>0</td>\n",
              "      <td>1</td>\n",
              "      <td>5</td>\n",
              "      <td>0.00</td>\n",
              "      <td>0d7f65f2-4eb8-11e8-8103-00155d3c153d#ee785bd2-...</td>\n",
              "      <td>6.666667</td>\n",
              "      <td>20190101</td>\n",
              "      <td>1.170889</td>\n",
              "    </tr>\n",
              "    <tr>\n",
              "      <th>3</th>\n",
              "      <td>0</td>\n",
              "      <td>0</td>\n",
              "      <td>0</td>\n",
              "      <td>1</td>\n",
              "      <td>5</td>\n",
              "      <td>0.00</td>\n",
              "      <td>0d7f65f2-4eb8-11e8-8103-00155d3c153d#2a8b5a65-...</td>\n",
              "      <td>2.500000</td>\n",
              "      <td>20190101</td>\n",
              "      <td>1.064052</td>\n",
              "    </tr>\n",
              "    <tr>\n",
              "      <th>4</th>\n",
              "      <td>0</td>\n",
              "      <td>0</td>\n",
              "      <td>0</td>\n",
              "      <td>1</td>\n",
              "      <td>5</td>\n",
              "      <td>0.00</td>\n",
              "      <td>0d7f65f2-4eb8-11e8-8103-00155d3c153d#b65fd636-...</td>\n",
              "      <td>0.000000</td>\n",
              "      <td>20190101</td>\n",
              "      <td>0.985173</td>\n",
              "    </tr>\n",
              "    <tr>\n",
              "      <th>5</th>\n",
              "      <td>0</td>\n",
              "      <td>0</td>\n",
              "      <td>0</td>\n",
              "      <td>1</td>\n",
              "      <td>5</td>\n",
              "      <td>0.00</td>\n",
              "      <td>0d7f65f2-4eb8-11e8-8103-00155d3c153d#b65fd636-...</td>\n",
              "      <td>0.000000</td>\n",
              "      <td>20190101</td>\n",
              "      <td>0.985173</td>\n",
              "    </tr>\n",
              "    <tr>\n",
              "      <th>6</th>\n",
              "      <td>0</td>\n",
              "      <td>0</td>\n",
              "      <td>0</td>\n",
              "      <td>1</td>\n",
              "      <td>5</td>\n",
              "      <td>0.00</td>\n",
              "      <td>0d7f65f2-4eb8-11e8-8103-00155d3c153d#ee785bd2-...</td>\n",
              "      <td>3.333333</td>\n",
              "      <td>20190101</td>\n",
              "      <td>1.170889</td>\n",
              "    </tr>\n",
              "    <tr>\n",
              "      <th>7</th>\n",
              "      <td>0</td>\n",
              "      <td>0</td>\n",
              "      <td>0</td>\n",
              "      <td>1</td>\n",
              "      <td>5</td>\n",
              "      <td>0.15</td>\n",
              "      <td>0d7f65f2-4eb8-11e8-8103-00155d3c153d#64871255-...</td>\n",
              "      <td>0.715000</td>\n",
              "      <td>20190101</td>\n",
              "      <td>1.262815</td>\n",
              "    </tr>\n",
              "    <tr>\n",
              "      <th>8</th>\n",
              "      <td>0</td>\n",
              "      <td>0</td>\n",
              "      <td>0</td>\n",
              "      <td>1</td>\n",
              "      <td>5</td>\n",
              "      <td>0.00</td>\n",
              "      <td>0d7f65f2-4eb8-11e8-8103-00155d3c153d#b65fd636-...</td>\n",
              "      <td>0.000000</td>\n",
              "      <td>20190101</td>\n",
              "      <td>0.985173</td>\n",
              "    </tr>\n",
              "    <tr>\n",
              "      <th>9</th>\n",
              "      <td>0</td>\n",
              "      <td>0</td>\n",
              "      <td>0</td>\n",
              "      <td>1</td>\n",
              "      <td>5</td>\n",
              "      <td>0.00</td>\n",
              "      <td>0d7f65f2-4eb8-11e8-8103-00155d3c153d#b65fd636-...</td>\n",
              "      <td>0.000000</td>\n",
              "      <td>20190101</td>\n",
              "      <td>0.985173</td>\n",
              "    </tr>\n",
              "  </tbody>\n",
              "</table>\n",
              "</div>"
            ],
            "text/plain": [
              "   Рабочий  Предпраздничный  Суббота  ...  СредниеПродажи       por     price\n",
              "0        0                0        0  ...        0.000000  20190101  0.985173\n",
              "1        0                0        0  ...        0.000000  20190101  0.985173\n",
              "2        0                0        0  ...        6.666667  20190101  1.170889\n",
              "3        0                0        0  ...        2.500000  20190101  1.064052\n",
              "4        0                0        0  ...        0.000000  20190101  0.985173\n",
              "5        0                0        0  ...        0.000000  20190101  0.985173\n",
              "6        0                0        0  ...        3.333333  20190101  1.170889\n",
              "7        0                0        0  ...        0.715000  20190101  1.262815\n",
              "8        0                0        0  ...        0.000000  20190101  0.985173\n",
              "9        0                0        0  ...        0.000000  20190101  0.985173\n",
              "\n",
              "[10 rows x 10 columns]"
            ]
          },
          "metadata": {},
          "execution_count": 8
        }
      ]
    },
    {
      "cell_type": "code",
      "metadata": {
        "id": "BJuYBNMVGOU_"
      },
      "source": [
        "def data_convert(df, step = 128):\n",
        "  sp = df.id.unique()\n",
        "  X = list()\n",
        "  Y = list()\n",
        "    \n",
        "  for el in sp:\n",
        "    spl = df.loc[df['id'] == el]\n",
        "    spl.sort_values(by=['por'], inplace=True)\n",
        "    #print(spl)\n",
        "    x = np.array(spl[['СредниеПродажи','Рабочий','Предпраздничный','Суббота','Праздник','Воскресенье','АкцияСкидка','price']])\n",
        "    z = np.array(spl[['Рабочий','Предпраздничный','Суббота','Праздник','Воскресенье','АкцияСкидка','price']])\n",
        "    y = np.array(spl[['СредниеПродажи']])\n",
        "    #print (x[-6:], y[-10:])\n",
        "    for i in range(5, x.shape[0]-step):\n",
        "      st = np.concatenate(( x[i-5:i+step-5], z[i-4:i+step-4] , z[i-3:i+step-3],z[i-2:i+step-2],z[i-1:i+step-1],z[i:i+step] ), axis=1)\n",
        "      X.append(st)\n",
        "      st = np.concatenate((y[i+step-4],y[i+step-3],y[i+step-2],y[i+step-1],y[i+step]), axis=0)\n",
        "      Y.append(st)\n",
        "    #return Y, X  \n",
        "      \n",
        "      \n",
        "  return train_test_split(np.asarray(X).astype(np.float32), np.asarray(Y).astype(np.float32), test_size=0.2, random_state=314)\n"
      ],
      "execution_count": 31,
      "outputs": []
    },
    {
      "cell_type": "code",
      "metadata": {
        "id": "eSLhxJFxfsT9"
      },
      "source": [
        "\n",
        "\n",
        "# fit and evaluate a model\n",
        "def evaluate_model(trainX, trainy, testX, testy, MName):\n",
        "\t# define model\n",
        "  verbose, epochs, batch_size = 1, 100, 25\n",
        "  model = Sequential()\n",
        "  \n",
        "  if MName == 'LSTM':\n",
        "  # для модели LSTM\n",
        "    n_timesteps, n_features, n_outputs = trainX.shape[1], trainX.shape[2], trainy.shape[1]\n",
        "    model.add(LSTM(100, input_shape=(n_timesteps,n_features)))\n",
        "    model.add(Dropout(0.5))\n",
        "    model.add(Dense(100, activation='relu'))\n",
        "    model.add(Dense(n_outputs, activation='relu'))\n",
        "  \n",
        "  elif MName == 'CNNLSTM':\n",
        "  # для модели CNNLSTM точность -   \n",
        "  # reshape into subsequences (samples, time steps, rows, cols, channels)\n",
        "    n_features, n_outputs = trainX.shape[2], trainy.shape[1]\n",
        "    n_steps = 4\n",
        "    n_length = int(trainX.shape[1]/n_steps)\n",
        "    trainX = trainX.reshape((trainX.shape[0], n_steps, n_length, n_features))\n",
        "    testX = testX.reshape((testX.shape[0], n_steps, n_length, n_features))\n",
        "    model.add(TimeDistributed(Conv1D(64, 3, activation='relu'), input_shape=(None, n_length,n_features)))\n",
        "    model.add(TimeDistributed(Conv1D(64, 3, activation='relu')))\n",
        "    model.add(TimeDistributed(Dropout(0.5)))\n",
        "    model.add(TimeDistributed(MaxPooling1D()))\n",
        "    model.add(TimeDistributed(Flatten()))\n",
        "    model.add(LSTM(100, input_shape=(n_steps, n_features)))\n",
        "    model.add(Dropout(0.5))\n",
        "    model.add(Dense(100, activation='relu'))\n",
        "    model.add(Dense(n_outputs, activation='relu')) \n",
        "  \n",
        "  elif MName == 'ConvLSTM2D':\n",
        "    # Модель ConvLSTM2D - 64% точности\n",
        "    n_features, n_outputs = trainX.shape[2], trainy.shape[1]\n",
        "    n_steps = 4\n",
        "    n_length = int(trainX.shape[1]/n_steps)\n",
        "    trainX = trainX.reshape((trainX.shape[0], n_steps, 1, n_length, n_features))\n",
        "    testX = testX.reshape((testX.shape[0], n_steps, 1, n_length, n_features))\n",
        "    model.add(ConvLSTM2D(64, (1,3), activation='relu', input_shape=(n_steps, 1, n_length, n_features)))\n",
        "    model.add(Dropout(0.5))\n",
        "    model.add(Flatten())\n",
        "    model.add(Dense(100, activation='relu'))\n",
        "    model.add(Dense(n_outputs, activation='relu'))\n",
        "  \n",
        "  \n",
        "  \n",
        "  model.compile(loss='mean_squared_error', optimizer='adam', metrics=['MAE'])\n",
        "  print(model.summary())\n",
        "  # fit network\n",
        "  #model.load_weights('marketing_5week_weights')\n",
        "  model.fit(trainX, trainy, epochs=epochs, batch_size=batch_size, verbose=verbose)\n",
        "  model.save_weights('marketing_5week_weights')\n",
        "\t# evaluate model\n",
        "  _, accuracy = model.evaluate(testX, testy, batch_size=batch_size, verbose=verbose)\n",
        "  return accuracy, model, _\n",
        "\n",
        "# summarize scores\n",
        "def summarize_results(scores):\n",
        "\tprint(scores)\n",
        "\tm, s = mean(scores), std(scores)\n",
        "\tprint('Accuracy: %.3f%% (+/-%.3f)' % (m, s))\n",
        "\n",
        "# run an experiment\n",
        "def run_experiment(df, MName, repeats=1):\n",
        "  # load data\n",
        "  trainX, testX, trainy, testy = data_convert(df)\n",
        "\t# repeat experiment\n",
        "  scores = list()\n",
        "  for r in range(repeats):\n",
        "\t  score, model, result = evaluate_model(trainX, trainy, testX, testy, MName)\n",
        "\t  score = 100 - score / np.mean(testy) * 100\n",
        "\t  print('>#%d: %.3f' % (r+1, score))\n",
        "\t  scores.append(score)\n",
        "\t# summarize results\n",
        "  summarize_results(scores)\n",
        "  return model\n",
        "\n",
        "# run the experiment\n"
      ],
      "execution_count": 95,
      "outputs": []
    },
    {
      "cell_type": "code",
      "metadata": {
        "id": "Qu5bGhJsYlCD",
        "colab": {
          "base_uri": "https://localhost:8080/"
        },
        "outputId": "b430b2b9-9686-4829-eaa6-ec26fb4f536d"
      },
      "source": [
        "model = run_experiment(df, 'ConvLSTM2D')"
      ],
      "execution_count": 96,
      "outputs": [
        {
          "output_type": "stream",
          "name": "stderr",
          "text": [
            "/usr/local/lib/python3.7/dist-packages/ipykernel_launcher.py:8: SettingWithCopyWarning: \n",
            "A value is trying to be set on a copy of a slice from a DataFrame\n",
            "\n",
            "See the caveats in the documentation: https://pandas.pydata.org/pandas-docs/stable/user_guide/indexing.html#returning-a-view-versus-a-copy\n",
            "  \n"
          ]
        },
        {
          "output_type": "stream",
          "name": "stdout",
          "text": [
            "Model: \"sequential_29\"\n",
            "_________________________________________________________________\n",
            "Layer (type)                 Output Shape              Param #   \n",
            "=================================================================\n",
            "conv_lst_m2d_9 (ConvLSTM2D)  (None, 1, 30, 64)         82432     \n",
            "_________________________________________________________________\n",
            "dropout_36 (Dropout)         (None, 1, 30, 64)         0         \n",
            "_________________________________________________________________\n",
            "flatten_20 (Flatten)         (None, 1920)              0         \n",
            "_________________________________________________________________\n",
            "dense_40 (Dense)             (None, 100)               192100    \n",
            "_________________________________________________________________\n",
            "dense_41 (Dense)             (None, 5)                 505       \n",
            "=================================================================\n",
            "Total params: 275,037\n",
            "Trainable params: 275,037\n",
            "Non-trainable params: 0\n",
            "_________________________________________________________________\n",
            "None\n",
            "Epoch 1/100\n",
            "WARNING:tensorflow:Unresolved object in checkpoint: (root).layer_with_weights-0.cell\n"
          ]
        },
        {
          "output_type": "stream",
          "name": "stderr",
          "text": [
            "WARNING:tensorflow:Unresolved object in checkpoint: (root).layer_with_weights-0.cell\n"
          ]
        },
        {
          "output_type": "stream",
          "name": "stdout",
          "text": [
            "WARNING:tensorflow:Unresolved object in checkpoint: (root).layer_with_weights-0.state_spec\n"
          ]
        },
        {
          "output_type": "stream",
          "name": "stderr",
          "text": [
            "WARNING:tensorflow:Unresolved object in checkpoint: (root).layer_with_weights-0.state_spec\n"
          ]
        },
        {
          "output_type": "stream",
          "name": "stdout",
          "text": [
            "WARNING:tensorflow:Unresolved object in checkpoint: (root).layer_with_weights-1.kernel\n"
          ]
        },
        {
          "output_type": "stream",
          "name": "stderr",
          "text": [
            "WARNING:tensorflow:Unresolved object in checkpoint: (root).layer_with_weights-1.kernel\n"
          ]
        },
        {
          "output_type": "stream",
          "name": "stdout",
          "text": [
            "WARNING:tensorflow:Unresolved object in checkpoint: (root).layer_with_weights-1.bias\n"
          ]
        },
        {
          "output_type": "stream",
          "name": "stderr",
          "text": [
            "WARNING:tensorflow:Unresolved object in checkpoint: (root).layer_with_weights-1.bias\n"
          ]
        },
        {
          "output_type": "stream",
          "name": "stdout",
          "text": [
            "WARNING:tensorflow:Unresolved object in checkpoint: (root).layer_with_weights-2.kernel\n"
          ]
        },
        {
          "output_type": "stream",
          "name": "stderr",
          "text": [
            "WARNING:tensorflow:Unresolved object in checkpoint: (root).layer_with_weights-2.kernel\n"
          ]
        },
        {
          "output_type": "stream",
          "name": "stdout",
          "text": [
            "WARNING:tensorflow:Unresolved object in checkpoint: (root).layer_with_weights-2.bias\n"
          ]
        },
        {
          "output_type": "stream",
          "name": "stderr",
          "text": [
            "WARNING:tensorflow:Unresolved object in checkpoint: (root).layer_with_weights-2.bias\n"
          ]
        },
        {
          "output_type": "stream",
          "name": "stdout",
          "text": [
            "WARNING:tensorflow:Unresolved object in checkpoint: (root).layer_with_weights-0.cell.state_size\n"
          ]
        },
        {
          "output_type": "stream",
          "name": "stderr",
          "text": [
            "WARNING:tensorflow:Unresolved object in checkpoint: (root).layer_with_weights-0.cell.state_size\n"
          ]
        },
        {
          "output_type": "stream",
          "name": "stdout",
          "text": [
            "WARNING:tensorflow:Unresolved object in checkpoint: (root).layer_with_weights-0.cell.kernel\n"
          ]
        },
        {
          "output_type": "stream",
          "name": "stderr",
          "text": [
            "WARNING:tensorflow:Unresolved object in checkpoint: (root).layer_with_weights-0.cell.kernel\n"
          ]
        },
        {
          "output_type": "stream",
          "name": "stdout",
          "text": [
            "WARNING:tensorflow:Unresolved object in checkpoint: (root).layer_with_weights-0.cell.recurrent_kernel\n"
          ]
        },
        {
          "output_type": "stream",
          "name": "stderr",
          "text": [
            "WARNING:tensorflow:Unresolved object in checkpoint: (root).layer_with_weights-0.cell.recurrent_kernel\n"
          ]
        },
        {
          "output_type": "stream",
          "name": "stdout",
          "text": [
            "WARNING:tensorflow:Unresolved object in checkpoint: (root).layer_with_weights-0.cell.bias\n"
          ]
        },
        {
          "output_type": "stream",
          "name": "stderr",
          "text": [
            "WARNING:tensorflow:Unresolved object in checkpoint: (root).layer_with_weights-0.cell.bias\n"
          ]
        },
        {
          "output_type": "stream",
          "name": "stdout",
          "text": [
            "WARNING:tensorflow:Unresolved object in checkpoint: (root).optimizer's state 'm' for (root).layer_with_weights-1.kernel\n"
          ]
        },
        {
          "output_type": "stream",
          "name": "stderr",
          "text": [
            "WARNING:tensorflow:Unresolved object in checkpoint: (root).optimizer's state 'm' for (root).layer_with_weights-1.kernel\n"
          ]
        },
        {
          "output_type": "stream",
          "name": "stdout",
          "text": [
            "WARNING:tensorflow:Unresolved object in checkpoint: (root).optimizer's state 'm' for (root).layer_with_weights-1.bias\n"
          ]
        },
        {
          "output_type": "stream",
          "name": "stderr",
          "text": [
            "WARNING:tensorflow:Unresolved object in checkpoint: (root).optimizer's state 'm' for (root).layer_with_weights-1.bias\n"
          ]
        },
        {
          "output_type": "stream",
          "name": "stdout",
          "text": [
            "WARNING:tensorflow:Unresolved object in checkpoint: (root).optimizer's state 'm' for (root).layer_with_weights-2.kernel\n"
          ]
        },
        {
          "output_type": "stream",
          "name": "stderr",
          "text": [
            "WARNING:tensorflow:Unresolved object in checkpoint: (root).optimizer's state 'm' for (root).layer_with_weights-2.kernel\n"
          ]
        },
        {
          "output_type": "stream",
          "name": "stdout",
          "text": [
            "WARNING:tensorflow:Unresolved object in checkpoint: (root).optimizer's state 'm' for (root).layer_with_weights-2.bias\n"
          ]
        },
        {
          "output_type": "stream",
          "name": "stderr",
          "text": [
            "WARNING:tensorflow:Unresolved object in checkpoint: (root).optimizer's state 'm' for (root).layer_with_weights-2.bias\n"
          ]
        },
        {
          "output_type": "stream",
          "name": "stdout",
          "text": [
            "WARNING:tensorflow:Unresolved object in checkpoint: (root).optimizer's state 'm' for (root).layer_with_weights-0.cell.kernel\n"
          ]
        },
        {
          "output_type": "stream",
          "name": "stderr",
          "text": [
            "WARNING:tensorflow:Unresolved object in checkpoint: (root).optimizer's state 'm' for (root).layer_with_weights-0.cell.kernel\n"
          ]
        },
        {
          "output_type": "stream",
          "name": "stdout",
          "text": [
            "WARNING:tensorflow:Unresolved object in checkpoint: (root).optimizer's state 'm' for (root).layer_with_weights-0.cell.recurrent_kernel\n"
          ]
        },
        {
          "output_type": "stream",
          "name": "stderr",
          "text": [
            "WARNING:tensorflow:Unresolved object in checkpoint: (root).optimizer's state 'm' for (root).layer_with_weights-0.cell.recurrent_kernel\n"
          ]
        },
        {
          "output_type": "stream",
          "name": "stdout",
          "text": [
            "WARNING:tensorflow:Unresolved object in checkpoint: (root).optimizer's state 'm' for (root).layer_with_weights-0.cell.bias\n"
          ]
        },
        {
          "output_type": "stream",
          "name": "stderr",
          "text": [
            "WARNING:tensorflow:Unresolved object in checkpoint: (root).optimizer's state 'm' for (root).layer_with_weights-0.cell.bias\n"
          ]
        },
        {
          "output_type": "stream",
          "name": "stdout",
          "text": [
            "WARNING:tensorflow:Unresolved object in checkpoint: (root).optimizer's state 'v' for (root).layer_with_weights-1.kernel\n"
          ]
        },
        {
          "output_type": "stream",
          "name": "stderr",
          "text": [
            "WARNING:tensorflow:Unresolved object in checkpoint: (root).optimizer's state 'v' for (root).layer_with_weights-1.kernel\n"
          ]
        },
        {
          "output_type": "stream",
          "name": "stdout",
          "text": [
            "WARNING:tensorflow:Unresolved object in checkpoint: (root).optimizer's state 'v' for (root).layer_with_weights-1.bias\n"
          ]
        },
        {
          "output_type": "stream",
          "name": "stderr",
          "text": [
            "WARNING:tensorflow:Unresolved object in checkpoint: (root).optimizer's state 'v' for (root).layer_with_weights-1.bias\n"
          ]
        },
        {
          "output_type": "stream",
          "name": "stdout",
          "text": [
            "WARNING:tensorflow:Unresolved object in checkpoint: (root).optimizer's state 'v' for (root).layer_with_weights-2.kernel\n"
          ]
        },
        {
          "output_type": "stream",
          "name": "stderr",
          "text": [
            "WARNING:tensorflow:Unresolved object in checkpoint: (root).optimizer's state 'v' for (root).layer_with_weights-2.kernel\n"
          ]
        },
        {
          "output_type": "stream",
          "name": "stdout",
          "text": [
            "WARNING:tensorflow:Unresolved object in checkpoint: (root).optimizer's state 'v' for (root).layer_with_weights-2.bias\n"
          ]
        },
        {
          "output_type": "stream",
          "name": "stderr",
          "text": [
            "WARNING:tensorflow:Unresolved object in checkpoint: (root).optimizer's state 'v' for (root).layer_with_weights-2.bias\n"
          ]
        },
        {
          "output_type": "stream",
          "name": "stdout",
          "text": [
            "WARNING:tensorflow:Unresolved object in checkpoint: (root).optimizer's state 'v' for (root).layer_with_weights-0.cell.kernel\n"
          ]
        },
        {
          "output_type": "stream",
          "name": "stderr",
          "text": [
            "WARNING:tensorflow:Unresolved object in checkpoint: (root).optimizer's state 'v' for (root).layer_with_weights-0.cell.kernel\n"
          ]
        },
        {
          "output_type": "stream",
          "name": "stdout",
          "text": [
            "WARNING:tensorflow:Unresolved object in checkpoint: (root).optimizer's state 'v' for (root).layer_with_weights-0.cell.recurrent_kernel\n"
          ]
        },
        {
          "output_type": "stream",
          "name": "stderr",
          "text": [
            "WARNING:tensorflow:Unresolved object in checkpoint: (root).optimizer's state 'v' for (root).layer_with_weights-0.cell.recurrent_kernel\n"
          ]
        },
        {
          "output_type": "stream",
          "name": "stdout",
          "text": [
            "WARNING:tensorflow:Unresolved object in checkpoint: (root).optimizer's state 'v' for (root).layer_with_weights-0.cell.bias\n"
          ]
        },
        {
          "output_type": "stream",
          "name": "stderr",
          "text": [
            "WARNING:tensorflow:Unresolved object in checkpoint: (root).optimizer's state 'v' for (root).layer_with_weights-0.cell.bias\n"
          ]
        },
        {
          "output_type": "stream",
          "name": "stdout",
          "text": [
            "WARNING:tensorflow:A checkpoint was restored (e.g. tf.train.Checkpoint.restore or tf.keras.Model.load_weights) but not all checkpointed values were used. See above for specific issues. Use expect_partial() on the load status object, e.g. tf.train.Checkpoint.restore(...).expect_partial(), to silence these warnings, or use assert_consumed() to make the check explicit. See https://www.tensorflow.org/guide/checkpoint#loading_mechanics for details.\n"
          ]
        },
        {
          "output_type": "stream",
          "name": "stderr",
          "text": [
            "WARNING:tensorflow:A checkpoint was restored (e.g. tf.train.Checkpoint.restore or tf.keras.Model.load_weights) but not all checkpointed values were used. See above for specific issues. Use expect_partial() on the load status object, e.g. tf.train.Checkpoint.restore(...).expect_partial(), to silence these warnings, or use assert_consumed() to make the check explicit. See https://www.tensorflow.org/guide/checkpoint#loading_mechanics for details.\n"
          ]
        },
        {
          "output_type": "stream",
          "name": "stdout",
          "text": [
            "509/509 [==============================] - 45s 23ms/step - loss: 14963.3643 - MAE: 9.0609\n",
            "Epoch 2/100\n",
            "509/509 [==============================] - 12s 23ms/step - loss: 12593.1592 - MAE: 8.3606\n",
            "Epoch 3/100\n",
            "509/509 [==============================] - 12s 23ms/step - loss: 11124.3916 - MAE: 8.1495\n",
            "Epoch 4/100\n",
            "509/509 [==============================] - 11s 23ms/step - loss: 10947.5908 - MAE: 8.6264\n",
            "Epoch 5/100\n",
            "509/509 [==============================] - 12s 23ms/step - loss: 9960.4375 - MAE: 8.2517\n",
            "Epoch 6/100\n",
            "509/509 [==============================] - 11s 23ms/step - loss: 8375.8457 - MAE: 7.9736\n",
            "Epoch 7/100\n",
            "509/509 [==============================] - 11s 22ms/step - loss: 9512.6758 - MAE: 8.3858\n",
            "Epoch 8/100\n",
            "509/509 [==============================] - 11s 22ms/step - loss: 10349.6992 - MAE: 8.5252\n",
            "Epoch 9/100\n",
            "509/509 [==============================] - 11s 22ms/step - loss: 9103.1035 - MAE: 8.0912\n",
            "Epoch 10/100\n",
            "509/509 [==============================] - 11s 22ms/step - loss: 6823.2139 - MAE: 7.3352\n",
            "Epoch 11/100\n",
            "509/509 [==============================] - 11s 22ms/step - loss: 5998.8042 - MAE: 6.9536\n",
            "Epoch 12/100\n",
            "509/509 [==============================] - 11s 22ms/step - loss: 6230.0537 - MAE: 7.1569\n",
            "Epoch 13/100\n",
            "509/509 [==============================] - 11s 22ms/step - loss: 6535.3618 - MAE: 7.3099\n",
            "Epoch 14/100\n",
            "509/509 [==============================] - 11s 22ms/step - loss: 6398.4331 - MAE: 7.1688\n",
            "Epoch 15/100\n",
            "509/509 [==============================] - 11s 22ms/step - loss: 5131.5088 - MAE: 6.5692\n",
            "Epoch 16/100\n",
            "509/509 [==============================] - 12s 23ms/step - loss: 5464.1392 - MAE: 6.5966\n",
            "Epoch 17/100\n",
            "509/509 [==============================] - 11s 22ms/step - loss: 7078.8491 - MAE: 7.2544\n",
            "Epoch 18/100\n",
            "509/509 [==============================] - 11s 22ms/step - loss: 8264.9893 - MAE: 7.6422\n",
            "Epoch 19/100\n",
            "509/509 [==============================] - 11s 22ms/step - loss: 6629.0479 - MAE: 7.3387\n",
            "Epoch 20/100\n",
            "509/509 [==============================] - 11s 22ms/step - loss: 6021.0635 - MAE: 7.2547\n",
            "Epoch 21/100\n",
            "509/509 [==============================] - 11s 22ms/step - loss: 5728.4395 - MAE: 6.9788\n",
            "Epoch 22/100\n",
            "509/509 [==============================] - 11s 22ms/step - loss: 5427.1831 - MAE: 6.6455\n",
            "Epoch 23/100\n",
            "509/509 [==============================] - 11s 22ms/step - loss: 4754.8008 - MAE: 6.5990\n",
            "Epoch 24/100\n",
            "509/509 [==============================] - 11s 22ms/step - loss: 5699.0122 - MAE: 6.8199\n",
            "Epoch 25/100\n",
            "509/509 [==============================] - 11s 22ms/step - loss: 4865.7437 - MAE: 6.4741\n",
            "Epoch 26/100\n",
            "509/509 [==============================] - 11s 22ms/step - loss: 5593.9609 - MAE: 6.5371\n",
            "Epoch 27/100\n",
            "509/509 [==============================] - 11s 22ms/step - loss: 6305.1792 - MAE: 6.7621\n",
            "Epoch 28/100\n",
            "509/509 [==============================] - 11s 22ms/step - loss: 5470.1084 - MAE: 6.6494\n",
            "Epoch 29/100\n",
            "509/509 [==============================] - 11s 22ms/step - loss: 5758.6807 - MAE: 6.5634\n",
            "Epoch 30/100\n",
            "509/509 [==============================] - 11s 22ms/step - loss: 4445.6641 - MAE: 6.2708\n",
            "Epoch 31/100\n",
            "509/509 [==============================] - 11s 22ms/step - loss: 4376.4238 - MAE: 6.0817\n",
            "Epoch 32/100\n",
            "509/509 [==============================] - 11s 22ms/step - loss: 4575.2808 - MAE: 6.3289\n",
            "Epoch 33/100\n",
            "509/509 [==============================] - 11s 22ms/step - loss: 4253.8828 - MAE: 6.1794\n",
            "Epoch 34/100\n",
            "509/509 [==============================] - 11s 22ms/step - loss: 5208.7485 - MAE: 6.5736\n",
            "Epoch 35/100\n",
            "509/509 [==============================] - 11s 22ms/step - loss: 4426.8530 - MAE: 6.2388\n",
            "Epoch 36/100\n",
            "509/509 [==============================] - 11s 22ms/step - loss: 4544.1772 - MAE: 6.2498\n",
            "Epoch 37/100\n",
            "509/509 [==============================] - 11s 22ms/step - loss: 5567.9385 - MAE: 6.5574\n",
            "Epoch 38/100\n",
            "509/509 [==============================] - 11s 22ms/step - loss: 4908.8037 - MAE: 6.4307\n",
            "Epoch 39/100\n",
            "509/509 [==============================] - 11s 22ms/step - loss: 4679.6104 - MAE: 6.1006\n",
            "Epoch 40/100\n",
            "509/509 [==============================] - 11s 23ms/step - loss: 5468.3589 - MAE: 6.3319\n",
            "Epoch 41/100\n",
            "509/509 [==============================] - 11s 22ms/step - loss: 3929.6589 - MAE: 5.9569\n",
            "Epoch 42/100\n",
            "509/509 [==============================] - 11s 22ms/step - loss: 3755.5544 - MAE: 5.9440\n",
            "Epoch 43/100\n",
            "509/509 [==============================] - 11s 22ms/step - loss: 3665.2024 - MAE: 5.4616\n",
            "Epoch 44/100\n",
            "509/509 [==============================] - 11s 22ms/step - loss: 3343.8635 - MAE: 5.5538\n",
            "Epoch 45/100\n",
            "509/509 [==============================] - 11s 22ms/step - loss: 4282.3677 - MAE: 5.7188\n",
            "Epoch 46/100\n",
            "509/509 [==============================] - 11s 22ms/step - loss: 4867.0522 - MAE: 6.4841\n",
            "Epoch 47/100\n",
            "509/509 [==============================] - 11s 22ms/step - loss: 3570.5481 - MAE: 5.5952\n",
            "Epoch 48/100\n",
            "509/509 [==============================] - 11s 22ms/step - loss: 3592.8884 - MAE: 5.5298\n",
            "Epoch 49/100\n",
            "509/509 [==============================] - 11s 22ms/step - loss: 4322.4985 - MAE: 5.8052\n",
            "Epoch 50/100\n",
            "509/509 [==============================] - 11s 21ms/step - loss: 4695.6870 - MAE: 5.9423\n",
            "Epoch 51/100\n",
            "509/509 [==============================] - 11s 22ms/step - loss: 4005.6162 - MAE: 5.7439\n",
            "Epoch 52/100\n",
            "509/509 [==============================] - 11s 22ms/step - loss: 3280.5684 - MAE: 5.5298\n",
            "Epoch 53/100\n",
            "509/509 [==============================] - 11s 22ms/step - loss: 3864.8914 - MAE: 5.9352\n",
            "Epoch 54/100\n",
            "509/509 [==============================] - 11s 22ms/step - loss: 4002.8320 - MAE: 5.7025\n",
            "Epoch 55/100\n",
            "509/509 [==============================] - 11s 22ms/step - loss: 4239.3091 - MAE: 5.8417\n",
            "Epoch 56/100\n",
            "509/509 [==============================] - 11s 22ms/step - loss: 3264.4531 - MAE: 5.3421\n",
            "Epoch 57/100\n",
            "509/509 [==============================] - 11s 22ms/step - loss: 4141.2012 - MAE: 5.5627\n",
            "Epoch 58/100\n",
            "509/509 [==============================] - 11s 22ms/step - loss: 4497.6909 - MAE: 5.9192\n",
            "Epoch 59/100\n",
            "509/509 [==============================] - 11s 22ms/step - loss: 3528.2832 - MAE: 5.5558\n",
            "Epoch 60/100\n",
            "509/509 [==============================] - 11s 22ms/step - loss: 2909.9905 - MAE: 5.1729\n",
            "Epoch 61/100\n",
            "509/509 [==============================] - 11s 22ms/step - loss: 3387.4199 - MAE: 5.3544\n",
            "Epoch 62/100\n",
            "509/509 [==============================] - 11s 22ms/step - loss: 3769.4299 - MAE: 5.7851\n",
            "Epoch 63/100\n",
            "509/509 [==============================] - 11s 22ms/step - loss: 3137.1404 - MAE: 5.2429\n",
            "Epoch 64/100\n",
            "509/509 [==============================] - 11s 22ms/step - loss: 3006.3733 - MAE: 5.2078\n",
            "Epoch 65/100\n",
            "509/509 [==============================] - 11s 22ms/step - loss: 3230.4905 - MAE: 5.1706\n",
            "Epoch 66/100\n",
            "509/509 [==============================] - 11s 22ms/step - loss: 3429.3804 - MAE: 5.2129\n",
            "Epoch 67/100\n",
            "509/509 [==============================] - 11s 22ms/step - loss: 3238.7085 - MAE: 5.2803\n",
            "Epoch 68/100\n",
            "509/509 [==============================] - 11s 22ms/step - loss: 3866.5371 - MAE: 5.5132\n",
            "Epoch 69/100\n",
            "509/509 [==============================] - 11s 22ms/step - loss: 3524.9941 - MAE: 5.4893\n",
            "Epoch 70/100\n",
            "509/509 [==============================] - 11s 22ms/step - loss: 3515.2034 - MAE: 5.5171\n",
            "Epoch 71/100\n",
            "509/509 [==============================] - 11s 22ms/step - loss: 4421.2188 - MAE: 5.9333\n",
            "Epoch 72/100\n",
            "509/509 [==============================] - 11s 22ms/step - loss: 4335.1616 - MAE: 5.7677\n",
            "Epoch 73/100\n",
            "509/509 [==============================] - 11s 22ms/step - loss: 3582.7219 - MAE: 5.6494\n",
            "Epoch 74/100\n",
            "509/509 [==============================] - 11s 22ms/step - loss: 3058.5737 - MAE: 5.3006\n",
            "Epoch 75/100\n",
            "509/509 [==============================] - 11s 22ms/step - loss: 3501.5596 - MAE: 5.4186\n",
            "Epoch 76/100\n",
            "509/509 [==============================] - 11s 22ms/step - loss: 4219.5605 - MAE: 5.5172\n",
            "Epoch 77/100\n",
            "509/509 [==============================] - 11s 22ms/step - loss: 3617.2705 - MAE: 5.4515\n",
            "Epoch 78/100\n",
            "509/509 [==============================] - 11s 22ms/step - loss: 3466.6016 - MAE: 5.4151\n",
            "Epoch 79/100\n",
            "509/509 [==============================] - 11s 22ms/step - loss: 3196.0784 - MAE: 5.3680\n",
            "Epoch 80/100\n",
            "509/509 [==============================] - 11s 22ms/step - loss: 3227.6038 - MAE: 5.4191\n",
            "Epoch 81/100\n",
            "509/509 [==============================] - 11s 22ms/step - loss: 3313.5657 - MAE: 5.3312\n",
            "Epoch 82/100\n",
            "509/509 [==============================] - 11s 22ms/step - loss: 3474.2639 - MAE: 5.4733\n",
            "Epoch 83/100\n",
            "509/509 [==============================] - 11s 22ms/step - loss: 3201.4229 - MAE: 5.3047\n",
            "Epoch 84/100\n",
            "509/509 [==============================] - 11s 22ms/step - loss: 4106.1055 - MAE: 5.5118\n",
            "Epoch 85/100\n",
            "509/509 [==============================] - 11s 22ms/step - loss: 2761.4739 - MAE: 5.1905\n",
            "Epoch 86/100\n",
            "509/509 [==============================] - 11s 22ms/step - loss: 3756.0359 - MAE: 5.2557\n",
            "Epoch 87/100\n",
            "509/509 [==============================] - 11s 22ms/step - loss: 2919.6140 - MAE: 5.2196\n",
            "Epoch 88/100\n",
            "509/509 [==============================] - 11s 22ms/step - loss: 2737.3020 - MAE: 5.2006\n",
            "Epoch 89/100\n",
            "509/509 [==============================] - 11s 22ms/step - loss: 2929.5454 - MAE: 5.1157\n",
            "Epoch 90/100\n",
            "509/509 [==============================] - 11s 22ms/step - loss: 2319.4363 - MAE: 4.8880\n",
            "Epoch 91/100\n",
            "509/509 [==============================] - 11s 22ms/step - loss: 2370.2659 - MAE: 4.8415\n",
            "Epoch 92/100\n",
            "509/509 [==============================] - 11s 22ms/step - loss: 2167.7788 - MAE: 4.7359\n",
            "Epoch 93/100\n",
            "509/509 [==============================] - 11s 22ms/step - loss: 2306.1992 - MAE: 4.8287\n",
            "Epoch 94/100\n",
            "509/509 [==============================] - 11s 22ms/step - loss: 2358.6038 - MAE: 4.8092\n",
            "Epoch 95/100\n",
            "509/509 [==============================] - 11s 22ms/step - loss: 1824.6124 - MAE: 4.4386\n",
            "Epoch 96/100\n",
            "509/509 [==============================] - 11s 22ms/step - loss: 2388.5383 - MAE: 4.7148\n",
            "Epoch 97/100\n",
            "509/509 [==============================] - 11s 22ms/step - loss: 2320.5259 - MAE: 4.6704\n",
            "Epoch 98/100\n",
            "509/509 [==============================] - 11s 22ms/step - loss: 2600.6907 - MAE: 4.7638\n",
            "Epoch 99/100\n",
            "509/509 [==============================] - 11s 22ms/step - loss: 2739.3608 - MAE: 5.0648\n",
            "Epoch 100/100\n",
            "509/509 [==============================] - 11s 22ms/step - loss: 2526.8767 - MAE: 4.8639\n",
            "128/128 [==============================] - 1s 5ms/step - loss: 4741.4946 - MAE: 5.2909\n",
            ">#1: 37.444\n",
            "[37.44427641424251]\n",
            "Accuracy: 37.444% (+/-0.000)\n"
          ]
        }
      ]
    },
    {
      "cell_type": "code",
      "metadata": {
        "colab": {
          "base_uri": "https://localhost:8080/"
        },
        "id": "hn-W3at1wc3L",
        "outputId": "40f2ef9b-6862-458f-cce8-c884c743f06e"
      },
      "source": [
        "model.save_weights('marketing_5week_weights')\n",
        "model.save('marketing_5week')"
      ],
      "execution_count": 83,
      "outputs": [
        {
          "output_type": "stream",
          "name": "stdout",
          "text": [
            "WARNING:tensorflow:Unresolved object in checkpoint: (root).layer-4\n",
            "WARNING:tensorflow:Unresolved object in checkpoint: (root).layer-6\n",
            "WARNING:tensorflow:Unresolved object in checkpoint: (root).layer_with_weights-3\n",
            "WARNING:tensorflow:Unresolved object in checkpoint: (root).layer_with_weights-4\n",
            "WARNING:tensorflow:Unresolved object in checkpoint: (root).layer_with_weights-0.layer\n",
            "WARNING:tensorflow:Unresolved object in checkpoint: (root).layer_with_weights-1.layer\n",
            "WARNING:tensorflow:Unresolved object in checkpoint: (root).layer-2.layer\n",
            "WARNING:tensorflow:Unresolved object in checkpoint: (root).layer-3.layer\n",
            "WARNING:tensorflow:Unresolved object in checkpoint: (root).layer-4.layer\n",
            "WARNING:tensorflow:Unresolved object in checkpoint: (root).layer_with_weights-2.cell\n",
            "WARNING:tensorflow:Unresolved object in checkpoint: (root).layer_with_weights-2.state_spec\n",
            "WARNING:tensorflow:Unresolved object in checkpoint: (root).layer_with_weights-3.kernel\n",
            "WARNING:tensorflow:Unresolved object in checkpoint: (root).layer_with_weights-3.bias\n",
            "WARNING:tensorflow:Unresolved object in checkpoint: (root).layer_with_weights-4.kernel\n",
            "WARNING:tensorflow:Unresolved object in checkpoint: (root).layer_with_weights-4.bias\n",
            "WARNING:tensorflow:Unresolved object in checkpoint: (root).layer_with_weights-0.layer.kernel\n",
            "WARNING:tensorflow:Unresolved object in checkpoint: (root).layer_with_weights-0.layer.bias\n",
            "WARNING:tensorflow:Unresolved object in checkpoint: (root).layer_with_weights-1.layer.kernel\n",
            "WARNING:tensorflow:Unresolved object in checkpoint: (root).layer_with_weights-1.layer.bias\n",
            "WARNING:tensorflow:Unresolved object in checkpoint: (root).layer_with_weights-2.cell.state_size\n",
            "WARNING:tensorflow:Unresolved object in checkpoint: (root).layer_with_weights-2.cell.kernel\n",
            "WARNING:tensorflow:Unresolved object in checkpoint: (root).layer_with_weights-2.cell.recurrent_kernel\n",
            "WARNING:tensorflow:Unresolved object in checkpoint: (root).layer_with_weights-2.cell.bias\n",
            "WARNING:tensorflow:Unresolved object in checkpoint: (root).optimizer's state 'm' for (root).layer_with_weights-3.kernel\n",
            "WARNING:tensorflow:Unresolved object in checkpoint: (root).optimizer's state 'm' for (root).layer_with_weights-3.bias\n",
            "WARNING:tensorflow:Unresolved object in checkpoint: (root).optimizer's state 'm' for (root).layer_with_weights-4.kernel\n",
            "WARNING:tensorflow:Unresolved object in checkpoint: (root).optimizer's state 'm' for (root).layer_with_weights-4.bias\n",
            "WARNING:tensorflow:Unresolved object in checkpoint: (root).optimizer's state 'm' for (root).layer_with_weights-0.layer.kernel\n",
            "WARNING:tensorflow:Unresolved object in checkpoint: (root).optimizer's state 'm' for (root).layer_with_weights-0.layer.bias\n",
            "WARNING:tensorflow:Unresolved object in checkpoint: (root).optimizer's state 'm' for (root).layer_with_weights-1.layer.kernel\n",
            "WARNING:tensorflow:Unresolved object in checkpoint: (root).optimizer's state 'm' for (root).layer_with_weights-1.layer.bias\n",
            "WARNING:tensorflow:Unresolved object in checkpoint: (root).optimizer's state 'm' for (root).layer_with_weights-2.cell.kernel\n",
            "WARNING:tensorflow:Unresolved object in checkpoint: (root).optimizer's state 'm' for (root).layer_with_weights-2.cell.recurrent_kernel\n",
            "WARNING:tensorflow:Unresolved object in checkpoint: (root).optimizer's state 'm' for (root).layer_with_weights-2.cell.bias\n",
            "WARNING:tensorflow:Unresolved object in checkpoint: (root).optimizer's state 'v' for (root).layer_with_weights-3.kernel\n",
            "WARNING:tensorflow:Unresolved object in checkpoint: (root).optimizer's state 'v' for (root).layer_with_weights-3.bias\n",
            "WARNING:tensorflow:Unresolved object in checkpoint: (root).optimizer's state 'v' for (root).layer_with_weights-4.kernel\n",
            "WARNING:tensorflow:Unresolved object in checkpoint: (root).optimizer's state 'v' for (root).layer_with_weights-4.bias\n",
            "WARNING:tensorflow:Unresolved object in checkpoint: (root).optimizer's state 'v' for (root).layer_with_weights-0.layer.kernel\n",
            "WARNING:tensorflow:Unresolved object in checkpoint: (root).optimizer's state 'v' for (root).layer_with_weights-0.layer.bias\n",
            "WARNING:tensorflow:Unresolved object in checkpoint: (root).optimizer's state 'v' for (root).layer_with_weights-1.layer.kernel\n",
            "WARNING:tensorflow:Unresolved object in checkpoint: (root).optimizer's state 'v' for (root).layer_with_weights-1.layer.bias\n",
            "WARNING:tensorflow:Unresolved object in checkpoint: (root).optimizer's state 'v' for (root).layer_with_weights-2.cell.kernel\n",
            "WARNING:tensorflow:Unresolved object in checkpoint: (root).optimizer's state 'v' for (root).layer_with_weights-2.cell.recurrent_kernel\n",
            "WARNING:tensorflow:Unresolved object in checkpoint: (root).optimizer's state 'v' for (root).layer_with_weights-2.cell.bias\n",
            "WARNING:tensorflow:A checkpoint was restored (e.g. tf.train.Checkpoint.restore or tf.keras.Model.load_weights) but not all checkpointed values were used. See above for specific issues. Use expect_partial() on the load status object, e.g. tf.train.Checkpoint.restore(...).expect_partial(), to silence these warnings, or use assert_consumed() to make the check explicit. See https://www.tensorflow.org/guide/checkpoint#loading_mechanics for details.\n",
            "WARNING:tensorflow:Unresolved object in checkpoint: (root).layer_with_weights-0.cell\n",
            "WARNING:tensorflow:Unresolved object in checkpoint: (root).layer_with_weights-0.state_spec\n",
            "WARNING:tensorflow:Unresolved object in checkpoint: (root).layer_with_weights-1.kernel\n",
            "WARNING:tensorflow:Unresolved object in checkpoint: (root).layer_with_weights-1.bias\n",
            "WARNING:tensorflow:Unresolved object in checkpoint: (root).layer_with_weights-2.kernel\n",
            "WARNING:tensorflow:Unresolved object in checkpoint: (root).layer_with_weights-2.bias\n",
            "WARNING:tensorflow:Unresolved object in checkpoint: (root).layer_with_weights-0.cell.kernel\n",
            "WARNING:tensorflow:Unresolved object in checkpoint: (root).layer_with_weights-0.cell.recurrent_kernel\n",
            "WARNING:tensorflow:Unresolved object in checkpoint: (root).layer_with_weights-0.cell.bias\n",
            "WARNING:tensorflow:Unresolved object in checkpoint: (root).optimizer's state 'm' for (root).layer_with_weights-1.kernel\n",
            "WARNING:tensorflow:Unresolved object in checkpoint: (root).optimizer's state 'm' for (root).layer_with_weights-1.bias\n",
            "WARNING:tensorflow:Unresolved object in checkpoint: (root).optimizer's state 'm' for (root).layer_with_weights-2.kernel\n",
            "WARNING:tensorflow:Unresolved object in checkpoint: (root).optimizer's state 'm' for (root).layer_with_weights-2.bias\n",
            "WARNING:tensorflow:Unresolved object in checkpoint: (root).optimizer's state 'm' for (root).layer_with_weights-0.cell.kernel\n",
            "WARNING:tensorflow:Unresolved object in checkpoint: (root).optimizer's state 'm' for (root).layer_with_weights-0.cell.recurrent_kernel\n",
            "WARNING:tensorflow:Unresolved object in checkpoint: (root).optimizer's state 'm' for (root).layer_with_weights-0.cell.bias\n",
            "WARNING:tensorflow:Unresolved object in checkpoint: (root).optimizer's state 'v' for (root).layer_with_weights-1.kernel\n",
            "WARNING:tensorflow:Unresolved object in checkpoint: (root).optimizer's state 'v' for (root).layer_with_weights-1.bias\n",
            "WARNING:tensorflow:Unresolved object in checkpoint: (root).optimizer's state 'v' for (root).layer_with_weights-2.kernel\n",
            "WARNING:tensorflow:Unresolved object in checkpoint: (root).optimizer's state 'v' for (root).layer_with_weights-2.bias\n",
            "WARNING:tensorflow:Unresolved object in checkpoint: (root).optimizer's state 'v' for (root).layer_with_weights-0.cell.kernel\n",
            "WARNING:tensorflow:Unresolved object in checkpoint: (root).optimizer's state 'v' for (root).layer_with_weights-0.cell.recurrent_kernel\n",
            "WARNING:tensorflow:Unresolved object in checkpoint: (root).optimizer's state 'v' for (root).layer_with_weights-0.cell.bias\n",
            "WARNING:tensorflow:A checkpoint was restored (e.g. tf.train.Checkpoint.restore or tf.keras.Model.load_weights) but not all checkpointed values were used. See above for specific issues. Use expect_partial() on the load status object, e.g. tf.train.Checkpoint.restore(...).expect_partial(), to silence these warnings, or use assert_consumed() to make the check explicit. See https://www.tensorflow.org/guide/checkpoint#loading_mechanics for details.\n"
          ]
        },
        {
          "output_type": "stream",
          "name": "stderr",
          "text": [
            "WARNING:absl:Found untraced functions such as lstm_cell_11_layer_call_and_return_conditional_losses, lstm_cell_11_layer_call_fn, lstm_cell_11_layer_call_fn, lstm_cell_11_layer_call_and_return_conditional_losses, lstm_cell_11_layer_call_and_return_conditional_losses while saving (showing 5 of 5). These functions will not be directly callable after loading.\n"
          ]
        },
        {
          "output_type": "stream",
          "name": "stdout",
          "text": [
            "INFO:tensorflow:Assets written to: marketing_5week/assets\n"
          ]
        },
        {
          "output_type": "stream",
          "name": "stderr",
          "text": [
            "INFO:tensorflow:Assets written to: marketing_5week/assets\n"
          ]
        }
      ]
    },
    {
      "cell_type": "code",
      "metadata": {
        "colab": {
          "base_uri": "https://localhost:8080/"
        },
        "id": "_1UNVQNm61o4",
        "outputId": "0c36410d-7d5f-40c1-d21a-3e98d2700a0a"
      },
      "source": [
        "model.summary()"
      ],
      "execution_count": 40,
      "outputs": [
        {
          "output_type": "stream",
          "name": "stdout",
          "text": [
            "Model: \"sequential_5\"\n",
            "_________________________________________________________________\n",
            "Layer (type)                 Output Shape              Param #   \n",
            "=================================================================\n",
            "conv_lst_m2d_5 (ConvLSTM2D)  (None, 1, 30, 64)         82432     \n",
            "_________________________________________________________________\n",
            "dropout_2 (Dropout)          (None, 1, 30, 64)         0         \n",
            "_________________________________________________________________\n",
            "flatten_2 (Flatten)          (None, 1920)              0         \n",
            "_________________________________________________________________\n",
            "dense_4 (Dense)              (None, 100)               192100    \n",
            "_________________________________________________________________\n",
            "dense_5 (Dense)              (None, 5)                 505       \n",
            "=================================================================\n",
            "Total params: 275,037\n",
            "Trainable params: 275,037\n",
            "Non-trainable params: 0\n",
            "_________________________________________________________________\n"
          ]
        }
      ]
    },
    {
      "cell_type": "code",
      "metadata": {
        "colab": {
          "base_uri": "https://localhost:8080/"
        },
        "id": "Ovp9g5tjgd3k",
        "outputId": "6d56c3cd-7566-4b5a-b740-1bb27459ceb1"
      },
      "source": [
        "trainX, testX, trainy, testy = data_convert(df)"
      ],
      "execution_count": null,
      "outputs": [
        {
          "output_type": "stream",
          "text": [
            "/usr/local/lib/python3.7/dist-packages/ipykernel_launcher.py:8: SettingWithCopyWarning: \n",
            "A value is trying to be set on a copy of a slice from a DataFrame\n",
            "\n",
            "See the caveats in the documentation: https://pandas.pydata.org/pandas-docs/stable/user_guide/indexing.html#returning-a-view-versus-a-copy\n",
            "  \n"
          ],
          "name": "stderr"
        }
      ]
    },
    {
      "cell_type": "code",
      "metadata": {
        "id": "WU70oHUmhUP7"
      },
      "source": [
        "def predict(testX, testy, model):\n",
        "\t# define model\n",
        "  n_features, n_outputs = testX.shape[2], testy.shape[1]\n",
        "\t# reshape into subsequences (samples, time steps, rows, cols, channels)\n",
        "  n_steps, n_length = 4, int(trainX.shape[1]/4)\n",
        "  testX = testX.reshape((testX.shape[0], n_steps, 1, n_length, n_features))\n",
        "\t\n",
        "  return model.predict(testX)"
      ],
      "execution_count": null,
      "outputs": []
    },
    {
      "cell_type": "code",
      "metadata": {
        "id": "pJFE48KBbbEh"
      },
      "source": [
        "predY = predict(testX, testy, model)"
      ],
      "execution_count": null,
      "outputs": []
    },
    {
      "cell_type": "code",
      "metadata": {
        "id": "ZsAEdPbZoE61"
      },
      "source": [
        "x = testX[0]"
      ],
      "execution_count": null,
      "outputs": []
    },
    {
      "cell_type": "code",
      "metadata": {
        "colab": {
          "base_uri": "https://localhost:8080/"
        },
        "id": "JTtP5rCYTG6X",
        "outputId": "560d19ad-353c-4508-ac36-9c3416e9271a"
      },
      "source": [
        "x[0]"
      ],
      "execution_count": null,
      "outputs": [
        {
          "output_type": "execute_result",
          "data": {
            "text/plain": [
              "array([0.14285715, 5.        , 0.        , 1.        , 0.        ,\n",
              "       1.        , 0.15      , 5.        , 0.        , 1.        ,\n",
              "       0.        , 1.        , 0.15      , 5.        , 0.        ,\n",
              "       1.        , 0.        , 1.        , 0.06      , 2.        ,\n",
              "       0.        , 1.        , 0.        , 1.        , 0.        ,\n",
              "       3.        , 0.        , 0.        , 0.        , 0.        ,\n",
              "       0.        , 5.        , 0.        , 1.        , 0.        ,\n",
              "       1.        , 0.        ], dtype=float32)"
            ]
          },
          "metadata": {},
          "execution_count": 187
        }
      ]
    },
    {
      "cell_type": "code",
      "metadata": {
        "id": "Hwive097nkFT"
      },
      "source": [
        "def res(x, ind):\n",
        "  for j in range(0,10):\n",
        "    print(x[ind][j][0], x[ind][j][6])"
      ],
      "execution_count": null,
      "outputs": []
    },
    {
      "cell_type": "code",
      "metadata": {
        "colab": {
          "base_uri": "https://localhost:8080/"
        },
        "id": "E1doVbyCplsz",
        "outputId": "797960b4-ef4d-4ab3-bd49-0a95cd7198c9"
      },
      "source": [
        "res(testX, 150) , predY[150]"
      ],
      "execution_count": null,
      "outputs": [
        {
          "output_type": "stream",
          "text": [
            "0.28285715 0.0\n",
            "0.535 0.0\n",
            "0.71333337 0.0\n",
            "0.51 0.15\n",
            "0.61285716 0.15\n",
            "0.95857143 0.06\n",
            "0.23857142 0.0\n",
            "0.23857142 0.0\n",
            "0.48714286 0.0\n",
            "0.2857143 0.0\n"
          ],
          "name": "stdout"
        },
        {
          "output_type": "execute_result",
          "data": {
            "text/plain": [
              "(None, array([0.2461024 , 0.25892362, 0.21842286, 0.75727165, 0.16739061],\n",
              "       dtype=float32))"
            ]
          },
          "metadata": {},
          "execution_count": 193
        }
      ]
    },
    {
      "cell_type": "code",
      "metadata": {
        "id": "tBEegFjomp9V"
      },
      "source": [
        ""
      ],
      "execution_count": null,
      "outputs": []
    }
  ]
}