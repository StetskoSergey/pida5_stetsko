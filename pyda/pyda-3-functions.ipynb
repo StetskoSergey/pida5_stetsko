{
 "cells": [
  {
   "cell_type": "markdown",
   "metadata": {},
   "source": [
    "# Функции"
   ]
  },
  {
   "cell_type": "code",
   "execution_count": null,
   "metadata": {},
   "outputs": [],
   "source": [
    "# создаем функцию\n",
    "def square(number):\n",
    "    result = number ** 2\n",
    "    return result\n",
    "\n",
    "print(square(10))\n",
    "my_square = square(10)\n",
    "print(my_square)"
   ]
  },
  {
   "cell_type": "code",
   "execution_count": 1,
   "metadata": {},
   "outputs": [
    {
     "name": "stdout",
     "output_type": "stream",
     "text": [
      "Help on built-in function len in module builtins:\n",
      "\n",
      "len(obj, /)\n",
      "    Return the number of items in a container.\n",
      "\n"
     ]
    }
   ],
   "source": [
    "help(len)\n",
    "# ?len"
   ]
  },
  {
   "cell_type": "code",
   "execution_count": 2,
   "metadata": {},
   "outputs": [],
   "source": [
    "# пишем docstring к своей функции\n",
    "def square(number):\n",
    "    \"\"\"\n",
    "    this is my function\n",
    "\n",
    "    \"\"\"\n",
    "    result = number ** 2\n",
    "    return result"
   ]
  },
  {
   "cell_type": "code",
   "execution_count": 3,
   "metadata": {},
   "outputs": [],
   "source": [
    "?square"
   ]
  },
  {
   "cell_type": "code",
   "execution_count": null,
   "metadata": {},
   "outputs": [],
   "source": [
    "# функция без параметров\n",
    "def square_2():\n",
    "    user_input = int(input('Введите число'))\n",
    "    result = user_input ** 2\n",
    "    return result\n",
    "square_2()"
   ]
  },
  {
   "cell_type": "code",
   "execution_count": null,
   "metadata": {},
   "outputs": [],
   "source": [
    "# функция с двумя параметрамим\n",
    "def power(number, number_2):\n",
    "    result = number ** number_2\n",
    "    return result\n",
    "power(4, 2)"
   ]
  },
  {
   "cell_type": "code",
   "execution_count": null,
   "metadata": {},
   "outputs": [],
   "source": [
    "# функция с параметром по умолчанию\n",
    "def power(number, number_2=2):\n",
    "    result = number ** number_2\n",
    "    return result\n",
    "power(4)"
   ]
  },
  {
   "cell_type": "code",
   "execution_count": null,
   "metadata": {},
   "outputs": [],
   "source": [
    "# если не указан return, функция всегда возвращает None!\n",
    "def square_3(number):\n",
    "    result = number ** 2\n",
    "    print(result)\n",
    "#     return None\n",
    "#     return\n",
    "square_3(5)\n",
    "# print(square_3(5))"
   ]
  },
  {
   "cell_type": "code",
   "execution_count": null,
   "metadata": {},
   "outputs": [],
   "source": [
    "# области видимости\n",
    "number = 5\n",
    "power = 3\n",
    "\n",
    "def power_2():\n",
    "    number = 6\n",
    "    power = 2\n",
    "    return number ** power\n",
    "\n",
    "power_2()\n",
    "print(number ** power)"
   ]
  },
  {
   "cell_type": "code",
   "execution_count": null,
   "metadata": {},
   "outputs": [],
   "source": [
    "number = 5\n",
    "power = 3\n",
    "\n",
    "def power_2():\n",
    "    number = 6\n",
    "    return number ** power\n",
    "\n",
    "print(power_2())\n",
    "print(number ** power)"
   ]
  },
  {
   "cell_type": "code",
   "execution_count": null,
   "metadata": {},
   "outputs": [],
   "source": [
    "number = 5\n",
    "power = 3\n",
    "\n",
    "def power_2():\n",
    "    return number ** power\n",
    "\n",
    "power_2()"
   ]
  },
  {
   "cell_type": "code",
   "execution_count": null,
   "metadata": {},
   "outputs": [],
   "source": [
    "def power_2():\n",
    "    number = 6\n",
    "    power = 2\n",
    "    some_number = 1\n",
    "    return number ** power\n",
    "print(some_number)"
   ]
  },
  {
   "cell_type": "code",
   "execution_count": null,
   "metadata": {},
   "outputs": [],
   "source": [
    "# global и nonlocal\n",
    "\n",
    "name = 'James'\n",
    "def say_hi():\n",
    "#     global name\n",
    "    name = 'Oleg'\n",
    "    print('Hello', name)\n",
    "\n",
    "say_hi()\n",
    "\n",
    "print(name)"
   ]
  },
  {
   "cell_type": "code",
   "execution_count": 4,
   "metadata": {},
   "outputs": [
    {
     "name": "stdout",
     "output_type": "stream",
     "text": [
      "Введите имяllll\n",
      "Hello llll\n"
     ]
    }
   ],
   "source": [
    "def say_hi():\n",
    "    name = 'Oleg'\n",
    "    def get_name():\n",
    "        nonlocal name\n",
    "        name = input('Введите имя')\n",
    "        return name\n",
    "    get_name()\n",
    "    print('Hello', name)\n",
    "\n",
    "say_hi()"
   ]
  },
  {
   "cell_type": "code",
   "execution_count": 5,
   "metadata": {},
   "outputs": [
    {
     "name": "stdout",
     "output_type": "stream",
     "text": [
      "3\n"
     ]
    }
   ],
   "source": [
    "# lambda-функции\n",
    "func = lambda x, y: x + y\n",
    "print(func(1, 2))"
   ]
  },
  {
   "cell_type": "code",
   "execution_count": 6,
   "metadata": {},
   "outputs": [],
   "source": [
    "nums = [1, 2, 3, 4, 5]"
   ]
  },
  {
   "cell_type": "code",
   "execution_count": 7,
   "metadata": {},
   "outputs": [],
   "source": [
    "even_numbers = lambda x: x % 2 == 0\n",
    "odd_even_numbers = lambda x: 'even' if x % 2 == 0 else 'odd'"
   ]
  },
  {
   "cell_type": "code",
   "execution_count": 11,
   "metadata": {},
   "outputs": [
    {
     "name": "stdout",
     "output_type": "stream",
     "text": [
      "odd\n",
      "even\n",
      "odd\n",
      "even\n",
      "odd\n",
      "False\n"
     ]
    }
   ],
   "source": [
    "for num in nums:\n",
    "    print(odd_even_numbers(num))\n",
    "print(even_numbers(5))    "
   ]
  },
  {
   "cell_type": "markdown",
   "metadata": {},
   "source": [
    "square"
   ]
  },
  {
   "cell_type": "code",
   "execution_count": 14,
   "metadata": {},
   "outputs": [
    {
     "data": {
      "text/plain": [
       "[2, 4]"
      ]
     },
     "execution_count": 14,
     "metadata": {},
     "output_type": "execute_result"
    }
   ],
   "source": [
    "list(filter(even_numbers, nums))"
   ]
  },
  {
   "cell_type": "code",
   "execution_count": 15,
   "metadata": {},
   "outputs": [],
   "source": [
    "def square(x):\n",
    "    return x**2"
   ]
  },
  {
   "cell_type": "code",
   "execution_count": 16,
   "metadata": {},
   "outputs": [
    {
     "name": "stdout",
     "output_type": "stream",
     "text": [
      "10000\n",
      "10201\n",
      "10404\n",
      "10609\n",
      "10816\n"
     ]
    }
   ],
   "source": [
    "for i in map(square, range(100, 105)):\n",
    "    print(i)\n",
    "    if i==10: break"
   ]
  },
  {
   "cell_type": "markdown",
   "metadata": {},
   "source": [
    "### Если аргументы функции заранее неизвестны"
   ]
  },
  {
   "cell_type": "markdown",
   "metadata": {},
   "source": [
    "args kwargs"
   ]
  },
  {
   "cell_type": "code",
   "execution_count": null,
   "metadata": {},
   "outputs": [],
   "source": [
    "def api_request(*params):\n",
    "    date_start = params[0]\n",
    "    date_end = params[1]\n",
    "    print(params)\n",
    "    print(date_start, date_end)"
   ]
  },
  {
   "cell_type": "code",
   "execution_count": null,
   "metadata": {},
   "outputs": [],
   "source": [
    "api_request('2019-01-01', '2019-01-31')"
   ]
  },
  {
   "cell_type": "code",
   "execution_count": 17,
   "metadata": {},
   "outputs": [],
   "source": [
    "def api_requets(**params):\n",
    "    return params"
   ]
  },
  {
   "cell_type": "code",
   "execution_count": 18,
   "metadata": {
    "scrolled": false
   },
   "outputs": [
    {
     "data": {
      "text/plain": [
       "{'a': 1, 'b': 2, 'c': 3}"
      ]
     },
     "execution_count": 18,
     "metadata": {},
     "output_type": "execute_result"
    }
   ],
   "source": [
    "api_requets(a=1, b=2, c=3)"
   ]
  },
  {
   "cell_type": "code",
   "execution_count": null,
   "metadata": {},
   "outputs": [],
   "source": [
    "def api_request(**params):\n",
    "    date_start = params['date_start']\n",
    "    date_end = params['date_end']\n",
    "    \n",
    "    print(date_start, date_end)"
   ]
  },
  {
   "cell_type": "code",
   "execution_count": null,
   "metadata": {},
   "outputs": [],
   "source": [
    "api_request(date_end='2019-01-31', date_start='2019-01-01')"
   ]
  },
  {
   "cell_type": "markdown",
   "metadata": {},
   "source": [
    "# Чтение и запись в файлы"
   ]
  },
  {
   "cell_type": "code",
   "execution_count": null,
   "metadata": {},
   "outputs": [],
   "source": [
    "# Вариант 1\n",
    "\n",
    "# 'r' - открыть файл для чтения\n",
    "# 'w' - очистить файл и открыть для записи новых данных\n",
    "# 'a' - добавить строчки к концу файла\n",
    "f = open('adult.csv', 'r')\n",
    "for line in f:\n",
    "    print(line)\n",
    "    break\n",
    "    \n",
    "f.close()"
   ]
  },
  {
   "cell_type": "code",
   "execution_count": 19,
   "metadata": {},
   "outputs": [
    {
     "data": {
      "text/plain": [
       "['age,workclass,fnlwgt,education,educational-num,marital-status,occupation,relationship,race,gender,capital-gain,capital-loss,hours-per-week,native-country,income\\n',\n",
       " '25,Private,226802,11th,7,Never-married,Machine-op-inspct,Own-child,Black,Male,0,0,40,United-States,<=50K\\n',\n",
       " '38,Private,89814,HS-grad,9,Married-civ-spouse,Farming-fishing,Husband,White,Male,0,0,50,United-States,<=50K\\n',\n",
       " '28,Local-gov,336951,Assoc-acdm,12,Married-civ-spouse,Protective-serv,Husband,White,Male,0,0,40,United-States,>50K\\n',\n",
       " '44,Private,160323,Some-college,10,Married-civ-spouse,Machine-op-inspct,Husband,Black,Male,7688,0,40,United-States,>50K\\n']"
      ]
     },
     "execution_count": 19,
     "metadata": {},
     "output_type": "execute_result"
    }
   ],
   "source": [
    "# конструкция with автоматически закрывает файл после работы с ним\n",
    "# прочитать содержимое файла в список\n",
    "with open('adult.csv', 'r') as f:\n",
    "    content = f.readlines()\n",
    "\n",
    "content[:5]"
   ]
  },
  {
   "cell_type": "code",
   "execution_count": 20,
   "metadata": {},
   "outputs": [
    {
     "name": "stdout",
     "output_type": "stream",
     "text": [
      "age,workclass,fnlwgt,education,educational-num,marital-status,occupation,relationship,race,gender,capital-gain,capital-loss,hours-per-week,native-country,income\n",
      "\n"
     ]
    }
   ],
   "source": [
    "# прочитать большой файл построчно\n",
    "with open('adult.csv') as f:\n",
    "    for line in f:\n",
    "        print(line)\n",
    "        \n",
    "        break"
   ]
  },
  {
   "cell_type": "code",
   "execution_count": 21,
   "metadata": {},
   "outputs": [
    {
     "name": "stdout",
     "output_type": "stream",
     "text": [
      "['age', 'workclass', 'fnlwgt', 'education', 'educational-num', 'marital-status', 'occupation', 'relationship', 'race', 'gender', 'capital-gain', 'capital-loss', 'hours-per-week', 'native-country', 'income']\n",
      "['25', 'Private', '226802', '11th', '7', 'Never-married', 'Machine-op-inspct', 'Own-child', 'Black', 'Male', '0', '0', '40', 'United-States', '<=50K']\n",
      "['38', 'Private', '89814', 'HS-grad', '9', 'Married-civ-spouse', 'Farming-fishing', 'Husband', 'White', 'Male', '0', '0', '50', 'United-States', '<=50K']\n",
      "['28', 'Local-gov', '336951', 'Assoc-acdm', '12', 'Married-civ-spouse', 'Protective-serv', 'Husband', 'White', 'Male', '0', '0', '40', 'United-States', '>50K']\n",
      "['44', 'Private', '160323', 'Some-college', '10', 'Married-civ-spouse', 'Machine-op-inspct', 'Husband', 'Black', 'Male', '7688', '0', '40', 'United-States', '>50K']\n",
      "['18', '?', '103497', 'Some-college', '10', 'Never-married', '?', 'Own-child', 'White', 'Female', '0', '0', '30', 'United-States', '<=50K']\n"
     ]
    }
   ],
   "source": [
    "# подготовим файл для работы\n",
    "i = 0\n",
    "with open('adult.csv', 'r') as f:\n",
    "    for line in f:\n",
    "        print(line.strip().split(','))\n",
    "        \n",
    "        i = i + 1\n",
    "        if i > 5:\n",
    "            break"
   ]
  },
  {
   "cell_type": "markdown",
   "metadata": {},
   "source": [
    "Хотим классифицировать жителей в файле по возрастам:\n",
    "* до 18 лет - children \n",
    "* 19-65 - young\n",
    "* старше 65 - retiree"
   ]
  },
  {
   "cell_type": "code",
   "execution_count": 22,
   "metadata": {},
   "outputs": [
    {
     "name": "stdout",
     "output_type": "stream",
     "text": [
      "25\n",
      "38\n",
      "28\n",
      "44\n",
      "18\n"
     ]
    }
   ],
   "source": [
    "i = 0\n",
    "with open('adult.csv', 'r') as f:\n",
    "    for line in f:\n",
    "        age, *other_columns = line.strip().split(',')\n",
    "        \n",
    "        if i > 0:\n",
    "            print(age)\n",
    "        \n",
    "        i += 1\n",
    "        if i > 5:\n",
    "            break"
   ]
  },
  {
   "cell_type": "markdown",
   "metadata": {},
   "source": [
    "Добавим классификацию возрастов"
   ]
  },
  {
   "cell_type": "code",
   "execution_count": 23,
   "metadata": {},
   "outputs": [
    {
     "name": "stdout",
     "output_type": "stream",
     "text": [
      "25 young\n",
      "38 young\n",
      "28 young\n",
      "44 young\n",
      "18 children\n",
      "34 young\n",
      "29 young\n",
      "63 retiree\n",
      "24 young\n",
      "55 young\n"
     ]
    }
   ],
   "source": [
    "i = 0\n",
    "with open('adult.csv', 'r') as f:\n",
    "    for line in f:\n",
    "        age, *other_columns = line.strip().split(',')\n",
    "        \n",
    "        if i > 0:\n",
    "            if int(age) <= 18:\n",
    "                age_group = 'children'\n",
    "\n",
    "            elif int(age) <= 60:\n",
    "                age_group = 'young'\n",
    "\n",
    "            else:\n",
    "                age_group = 'retiree'\n",
    "                \n",
    "            print(age, age_group)\n",
    "        \n",
    "        i += 1\n",
    "        if i > 10:\n",
    "            break"
   ]
  },
  {
   "cell_type": "markdown",
   "metadata": {},
   "source": [
    "Что тут нехорошо:\n",
    "* сложно потестировать все случаи (в нашем цикле нужных случаев может и не оказаться)\n",
    "* наш цикл стал довольно громоздким, а мы только начали\n",
    "* эта классификация может потребоваться еще в 100500 местах кода\n",
    "* данные могут быть кривыми и скрипт будет падать с ошибкой"
   ]
  },
  {
   "cell_type": "markdown",
   "metadata": {},
   "source": [
    "Условия вычисления возрастной группы:\n",
    "1. В строке 15 столбцов\n",
    "2. Столбец с возрастом первый по счету\n",
    "3. Возраст должен быть целым числом в адекватных пределах\n",
    "4. Могут добавиться еще требования, о которых мы пока не знаем"
   ]
  },
  {
   "cell_type": "code",
   "execution_count": null,
   "metadata": {},
   "outputs": [],
   "source": [
    "def age_is_correct(age, lower_age=0, upper_age=120):\n",
    "    \"\"\"\n",
    "    Проверка корректности возраста age по следующим правилам:\n",
    "    1. Целое число\n",
    "    2. В адекватных пределах\n",
    "    \n",
    "    Возвращает True или False. Пример\n",
    "    age_is_correct(15)\n",
    "    True\n",
    "    \n",
    "    age_is_correct(121)\n",
    "    False\n",
    "    \n",
    "    age_is_correct(-5)\n",
    "    False\n",
    "    \"\"\"\n",
    "    \n",
    "    if str.isnumeric(age):\n",
    "        if lower_age <= int(age) <= upper_age:\n",
    "            return True\n",
    "    \n",
    "    return False"
   ]
  },
  {
   "cell_type": "code",
   "execution_count": null,
   "metadata": {},
   "outputs": [],
   "source": [
    "def number_of_columns(line, separator=','):\n",
    "    \"\"\"Возвращает количество столбцов в строке line с разделителем separator\"\"\"\n",
    "    \n",
    "    return len(line.split(separator))"
   ]
  },
  {
   "cell_type": "code",
   "execution_count": null,
   "metadata": {},
   "outputs": [],
   "source": [
    "def line_is_correct(line):\n",
    "    \"\"\"\n",
    "    Проверка строки на корректность. Проверяются условия:\n",
    "    1. В строке 15 столбцов (пригодится с упражнения)\n",
    "    2. Столбец с возрастом первый по счету\n",
    "    3. Возраст должен быть целым числом в адекватных пределах\n",
    "    \"\"\"\n",
    "    age = line.strip().split(',')[0]\n",
    "    \n",
    "    if number_of_columns(line) == 15:\n",
    "        if age_is_correct(age):\n",
    "            return True\n",
    "    \n",
    "    return False"
   ]
  },
  {
   "cell_type": "code",
   "execution_count": null,
   "metadata": {},
   "outputs": [],
   "source": [
    "# Добавляем функции проверки в наш цикл"
   ]
  },
  {
   "cell_type": "code",
   "execution_count": null,
   "metadata": {},
   "outputs": [],
   "source": [
    "i = 0\n",
    "with open('adult.csv', 'r') as f:\n",
    "    for line in f:\n",
    "        \n",
    "        if line_is_correct(line):\n",
    "            age, *other_columns = line.strip().split(',')\n",
    "            if int(age) <= 18:\n",
    "                age_group = 'children'\n",
    "\n",
    "            elif int(age) <= 60:\n",
    "                age_group = 'young'\n",
    "\n",
    "            else:\n",
    "                age_group = 'retiree'\n",
    "\n",
    "            print(age, age_group)\n",
    "        \n",
    "        i += 1\n",
    "        if i > 10:\n",
    "            break"
   ]
  },
  {
   "cell_type": "markdown",
   "metadata": {},
   "source": [
    "### Давайте вынесем классификацию возраста в отдельную функцию"
   ]
  },
  {
   "cell_type": "code",
   "execution_count": null,
   "metadata": {},
   "outputs": [],
   "source": [
    "def age_classification(age):\n",
    "    \"\"\"\n",
    "    Возвращает возрастную категорию для возраста age (можно передать как строку).\n",
    "    Классификация категорий:\n",
    "        - до 18 лет - children \n",
    "        - 19-60 - young\n",
    "        - старше 65 - retiree\n",
    "    \n",
    "    Пример\n",
    "    age_classification('18')\n",
    "    'children'\n",
    "    \n",
    "    age_classification(65)\n",
    "    'retiree'\n",
    "    \"\"\"\n",
    "    \n",
    "    if int(age) <= 18:\n",
    "        return 'children'\n",
    "    if int(age) <= 65:\n",
    "        return 'young'\n",
    "    if int(age) > 65:\n",
    "        return 'retiree'\n",
    "    return 'boom'"
   ]
  },
  {
   "cell_type": "code",
   "execution_count": null,
   "metadata": {},
   "outputs": [],
   "source": [
    "age_classification(61)"
   ]
  },
  {
   "cell_type": "code",
   "execution_count": null,
   "metadata": {},
   "outputs": [],
   "source": [
    "def main():\n",
    "    with open('adult.csv', 'r') as f:\n",
    "        for line in f:\n",
    "            if line_is_correct(line):\n",
    "                age, *_ = line.strip().split(',')\n",
    "                print(age, age_classification(age))"
   ]
  },
  {
   "cell_type": "code",
   "execution_count": null,
   "metadata": {},
   "outputs": [],
   "source": [
    "main()"
   ]
  },
  {
   "cell_type": "markdown",
   "metadata": {},
   "source": []
  },
  {
   "cell_type": "markdown",
   "metadata": {},
   "source": [
    "### Модули"
   ]
  },
  {
   "cell_type": "code",
   "execution_count": null,
   "metadata": {},
   "outputs": [],
   "source": [
    "import math"
   ]
  },
  {
   "cell_type": "code",
   "execution_count": null,
   "metadata": {},
   "outputs": [],
   "source": [
    "math.factorial(5)"
   ]
  },
  {
   "cell_type": "code",
   "execution_count": 24,
   "metadata": {},
   "outputs": [],
   "source": [
    "import numpy"
   ]
  },
  {
   "cell_type": "code",
   "execution_count": 25,
   "metadata": {},
   "outputs": [
    {
     "data": {
      "text/plain": [
       "array([0., 0., 0., 0., 0., 0., 0., 0., 0., 0.])"
      ]
     },
     "execution_count": 25,
     "metadata": {},
     "output_type": "execute_result"
    }
   ],
   "source": [
    "numpy.zeros(10)"
   ]
  },
  {
   "cell_type": "code",
   "execution_count": 26,
   "metadata": {},
   "outputs": [
    {
     "data": {
      "text/plain": [
       "array([0., 0., 0., 0., 0., 0., 0., 0., 0., 0.])"
      ]
     },
     "execution_count": 26,
     "metadata": {},
     "output_type": "execute_result"
    }
   ],
   "source": [
    "import numpy as np\n",
    "np.zeros(10)"
   ]
  },
  {
   "cell_type": "code",
   "execution_count": 27,
   "metadata": {},
   "outputs": [
    {
     "data": {
      "text/plain": [
       "array([0., 0., 0., 0., 0., 0., 0., 0., 0., 0.])"
      ]
     },
     "execution_count": 27,
     "metadata": {},
     "output_type": "execute_result"
    }
   ],
   "source": [
    "from numpy import zeros\n",
    "zeros(10)"
   ]
  },
  {
   "cell_type": "code",
   "execution_count": null,
   "metadata": {},
   "outputs": [],
   "source": []
  }
 ],
 "metadata": {
  "kernelspec": {
   "display_name": "Python 3",
   "language": "python",
   "name": "python3"
  },
  "language_info": {
   "codemirror_mode": {
    "name": "ipython",
    "version": 3
   },
   "file_extension": ".py",
   "mimetype": "text/x-python",
   "name": "python",
   "nbconvert_exporter": "python",
   "pygments_lexer": "ipython3",
   "version": "3.7.3"
  }
 },
 "nbformat": 4,
 "nbformat_minor": 2
}
