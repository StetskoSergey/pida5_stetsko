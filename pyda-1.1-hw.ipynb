{
 "cells": [
  {
   "cell_type": "code",
   "execution_count": null,
   "metadata": {},
   "outputs": [],
   "source": [
    "**Задание 1**. Даны 2 строки: *long_phrase* и *short_phrase*. \n",
    "Напишите код, который проверяет действительно ли длинная фраза *long_phrase* длиннее короткой *short_phrase*. И выводит *True* или *False* в зависимости от результата сравнения."
   ]
  },
  {
   "cell_type": "code",
   "execution_count": 7,
   "metadata": {},
   "outputs": [
    {
     "data": {
      "text/plain": [
       "True"
      ]
     },
     "execution_count": 7,
     "metadata": {},
     "output_type": "execute_result"
    }
   ],
   "source": [
    "long_phrase = 'Насколько проще было бы писать программы, если бы не заказчики'\n",
    "short_phrase = '640Кб должно хватить для любых задач. Билл Гейтс (по легенде)'"
   ]
  },
  {
   "cell_type": "code",
   "execution_count": 21,
   "metadata": {},
   "outputs": [
    {
     "data": {
      "text/plain": [
       "True"
      ]
     },
     "execution_count": 21,
     "metadata": {},
     "output_type": "execute_result"
    }
   ],
   "source": [
    "len(long_phrase) > len(short_phrase)"
   ]
  },
  {
   "cell_type": "markdown",
   "metadata": {},
   "source": [
    "**Задание 2**. Дано значение объема файла в байтах. Напишите перевод этого значения в мегабайты в формате: \"*Объем файла равен 213.68Mb*\""
   ]
  },
  {
   "cell_type": "code",
   "execution_count": 12,
   "metadata": {},
   "outputs": [
    {
     "name": "stdin",
     "output_type": "stream",
     "text": [
      "введите размер файла в байтах :  1000000\n"
     ]
    },
    {
     "name": "stdout",
     "output_type": "stream",
     "text": [
      "Объем файла равен 0.95Mb\n"
     ]
    }
   ],
   "source": [
    "print('Объем файла равен {}Mb'.format(round(int(input('введите размер файла в байтах : '))/1024/1024,2)))"
   ]
  },
  {
   "cell_type": "markdown",
   "metadata": {},
   "source": [
    "**Задание 3**. Разработать приложение для определения знака зодиака по дате рождения. Пример:\n",
    "\n",
    "Введите месяц: март\n",
    "\n",
    "Введите число: 6\n",
    "\n",
    "Вывод:\n",
    "Рыбы"
   ]
  },
  {
   "cell_type": "code",
   "execution_count": 17,
   "metadata": {},
   "outputs": [
    {
     "name": "stdin",
     "output_type": "stream",
     "text": [
      "Введите месяц :  май\n",
      "Введите число :  20\n"
     ]
    },
    {
     "name": "stdout",
     "output_type": "stream",
     "text": [
      "Телец\n"
     ]
    }
   ],
   "source": [
    "mm = input('Введите месяц : ')\n",
    "d = int(input('Введите число : '))\n",
    "if mm == 'январь' and d > 19 or mm == 'февраль' and d < 19:\n",
    "    print('Водолей')\n",
    "elif mm == 'февраль' and d > 18 or mm == 'март' and d < 21:\n",
    "    print('Рыбы')\n",
    "elif mm == 'март' and d > 20 or mm == 'апрель' and d < 20:\n",
    "    print('Овен') \n",
    "elif mm == 'апрель' and d > 19 or mm == 'май' and d < 21:\n",
    "    print('Телец') \n",
    "elif mm == 'май' and d > 20 or mm == 'июнь' and d < 21:\n",
    "    print('Близнецы') \n",
    "elif mm == 'июнь' and d > 20 or mm == 'июль' and d < 23:\n",
    "    print('Рак') \n",
    "elif mm == 'июль' and d > 22 or mm == 'август' and d < 23:\n",
    "    print('Лев') \n",
    "elif mm == 'август' and d > 22 or mm == 'сентябрь' and d < 23:\n",
    "    print('Дева')\n",
    "elif mm == 'сентябрь' and d > 22 or mm == 'октябрь' and d < 23:\n",
    "    print('Весы') \n",
    "elif mm == 'октябрь' and d > 22 or mm == 'ноябрь' and d < 22:\n",
    "    print('Скорпион') \n",
    "elif mm == 'ноябрь' and d > 21 or mm == 'декабрь' and d < 22:\n",
    "    print('Стрелец') \n",
    "else :\n",
    "    print('Козерог')\n"
   ]
  },
  {
   "cell_type": "markdown",
   "metadata": {},
   "source": [
    "**Задание 4**. Нужно разработать приложение для финансового планирования.\n",
    "Приложение учитывает сколько уходит на ипотеку, \"на жизнь\" и сколько нужно отложить на пенсию.\n",
    "Пользователь вводит:\n",
    "- заработанную плату в месяц.\n",
    "- сколько процентов от ЗП уходит на ипотеку.\n",
    "- сколько процентов от ЗП уходит \"на жизнь\".\n",
    "- сколько раз приходит премия в год.\n",
    "\n",
    "Остальная часть заработанной платы откладывается на пенсию.\n",
    "\n",
    "Также пользователю приходит премия в размере зарплаты, от которой половина уходит на отпуск, а вторая половина откладывается.\n",
    "\n",
    "Программа должна учитывать сколько премий было в год.\n",
    "\n",
    "Нужно вывести сколько денег тратит пользователь на ипотеку и сколько он накопит за год.\n",
    "\n",
    "Пример:\n",
    "\n",
    "Введите заработанную плату в месяц: 100000\n",
    "\n",
    "Введите сколько процентов уходит на ипотеку: 30\n",
    "\n",
    "Введите сколько процентов уходит на жизнь: 50\n",
    "\n",
    "Введите количество премий за год: 2\n",
    "\n",
    "Вывод:\n",
    "На ипотеку было потрачено: 360000 рублей\n",
    "Было накоплено: 340000 рублей"
   ]
  },
  {
   "cell_type": "code",
   "execution_count": 20,
   "metadata": {},
   "outputs": [
    {
     "name": "stdin",
     "output_type": "stream",
     "text": [
      "Введите зарплату/ в месяц : 100000\n",
      "сколько процентов от ЗП уходит на ипотеку : 30\n",
      "Сколько процентов от ЗП уходит на жизь : 50\n",
      "Сколько раз приходит премия в год  2\n"
     ]
    },
    {
     "name": "stdout",
     "output_type": "stream",
     "text": [
      "На ипотеку было потрачено: 360000 рублей Было накоплено: 340000 рублей\n"
     ]
    }
   ],
   "source": [
    "zp = int(input('Введите зарплату/ в месяц :'))\n",
    "pr_ip = int(input('сколько процентов от ЗП уходит на ипотеку :'))\n",
    "pr_j = int(input('Сколько процентов от ЗП уходит на жизь :'))\n",
    "pr = int(input('Сколько раз приходит премия в год '))\n",
    "\n",
    "print('На ипотеку было потрачено: {} рублей Было накоплено: {} рублей'.format(12*zp*pr_ip//100, 12*zp*(100-pr_ip-pr_j)//100+zp*pr//2))"
   ]
  }
 ],
 "metadata": {
  "kernelspec": {
   "display_name": "Python 3",
   "language": "python",
   "name": "python3"
  },
  "language_info": {
   "codemirror_mode": {
    "name": "ipython",
    "version": 3
   },
   "file_extension": ".py",
   "mimetype": "text/x-python",
   "name": "python",
   "nbconvert_exporter": "python",
   "pygments_lexer": "ipython3",
   "version": "3.7.3"
  }
 },
 "nbformat": 4,
 "nbformat_minor": 2
}
