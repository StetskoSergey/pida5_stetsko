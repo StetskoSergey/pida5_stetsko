{
  "nbformat": 4,
  "nbformat_minor": 0,
  "metadata": {
    "kernelspec": {
      "display_name": "Python 3",
      "language": "python",
      "name": "python3"
    },
    "language_info": {
      "codemirror_mode": {
        "name": "ipython",
        "version": 3
      },
      "file_extension": ".py",
      "mimetype": "text/x-python",
      "name": "python",
      "nbconvert_exporter": "python",
      "pygments_lexer": "ipython3",
      "version": "3.7.5"
    },
    "colab": {
      "name": "homework-7.ipynb",
      "provenance": [],
      "include_colab_link": true
    }
  },
  "cells": [
    {
      "cell_type": "markdown",
      "metadata": {
        "id": "view-in-github",
        "colab_type": "text"
      },
      "source": [
        "<a href=\"https://colab.research.google.com/github/StetskoSergey/pida5_stetsko/blob/master/mds%20homework_7.ipynb\" target=\"_parent\"><img src=\"https://colab.research.google.com/assets/colab-badge.svg\" alt=\"Open In Colab\"/></a>"
      ]
    },
    {
      "cell_type": "markdown",
      "metadata": {
        "id": "h7wLYOgeqKK7",
        "colab_type": "text"
      },
      "source": [
        "### Задание 1"
      ]
    },
    {
      "cell_type": "markdown",
      "metadata": {
        "id": "qRv-iAn0qKK9",
        "colab_type": "text"
      },
      "source": [
        "Монетку подбрасывают 15 раз, найдите вероятность выпадения простого числа (решение на бумажке и на python)."
      ]
    },
    {
      "cell_type": "markdown",
      "metadata": {
        "id": "bLZWD5uxr_0z",
        "colab_type": "text"
      },
      "source": [
        "как я понял если выпадает решка то 0 иначе 1\n",
        "подбрасываем 15 раз - считаем сумму и так несколько раз,\n",
        "смотрим статистику\n",
        "\n"
      ]
    },
    {
      "cell_type": "code",
      "metadata": {
        "id": "Ttd6WYQzqm6R",
        "colab_type": "code",
        "colab": {}
      },
      "source": [
        "import matplotlib.pyplot as plt\n",
        "import numpy as np\n",
        "import random\n",
        "import seaborn\n",
        "import math\n",
        "\n",
        "from numpy.random import choice\n",
        "from scipy.stats import *\n",
        "\n",
        "%matplotlib inline\n",
        "\n",
        "def isPrime(n):\n",
        "  if n % 2 == 0:\n",
        "        return n == 2\n",
        "  d = 3\n",
        "  while d * d <= n and n % d != 0:\n",
        "       d += 2\n",
        "  return d * d > n"
      ],
      "execution_count": 0,
      "outputs": []
    },
    {
      "cell_type": "code",
      "metadata": {
        "id": "fEUTlUGfq2_b",
        "colab_type": "code",
        "outputId": "e24f12c0-96dd-4aac-cb3a-5cb1fef178dd",
        "colab": {
          "base_uri": "https://localhost:8080/",
          "height": 34
        }
      },
      "source": [
        "# расчет перебором\n",
        "def test(num):\n",
        "  varh = 0\n",
        "  for j in range(num):\n",
        "    if isPrime(sum([choice([0,1]) for i in range(15)])):\n",
        "      varh += 1\n",
        "  return varh/num\n",
        "\n",
        "print(test(1000000))    \n"
      ],
      "execution_count": 0,
      "outputs": [
        {
          "output_type": "stream",
          "text": [
            "0.35001\n"
          ],
          "name": "stdout"
        }
      ]
    },
    {
      "cell_type": "markdown",
      "metadata": {
        "id": "xP3LSRuPw4I4",
        "colab_type": "text"
      },
      "source": [
        "Сумма подбросов может быть 0-15 всего из этого списка Простые числа: 0,1,2,3,5,7,11,13\n",
        "Если взять вероятности выпадения каждого из этих Чисел и сложить, то получится вероятность выпадения простого числа\n",
        "Формула выпадения каждого из этих чисел :\n",
        "Формула распределения Бернули\n",
        "$P = (n!/k!/(n-k)!*p^k*(1-p)^(n-k)$\n",
        "\n",
        "где p=0,5 n = 15, k - требуемые числа\n",
        "\n"
      ]
    },
    {
      "cell_type": "code",
      "metadata": {
        "id": "w6tTosL0bkw1",
        "colab_type": "code",
        "outputId": "b317c750-1d61-49ee-d862-8316bebd4c43",
        "colab": {
          "base_uri": "https://localhost:8080/",
          "height": 34
        }
      },
      "source": [
        "# расчет по формуле \"руками\"\n",
        "prime = [0,1,2,3,5,7,11,13]\n",
        "sum([ math.factorial(15)/math.factorial(i)/math.factorial(15-i)*0.5**i*0.5**(15-i) for i in prime])"
      ],
      "execution_count": 0,
      "outputs": [
        {
          "output_type": "execute_result",
          "data": {
            "text/plain": [
              "0.3504638671875"
            ]
          },
          "metadata": {
            "tags": []
          },
          "execution_count": 10
        }
      ]
    },
    {
      "cell_type": "code",
      "metadata": {
        "id": "5kAAMGNiq5Ll",
        "colab_type": "code",
        "outputId": "95e95235-a54c-45e5-aa44-8d09a5bc17b6",
        "colab": {
          "base_uri": "https://localhost:8080/",
          "height": 34
        }
      },
      "source": [
        "# расчет функцией\n",
        "p=0.5\n",
        "n=15\n",
        "prime = [0,1,2,3,5,7,11,13]\n",
        "sum(binom.pmf(prime, n, p))"
      ],
      "execution_count": 0,
      "outputs": [
        {
          "output_type": "execute_result",
          "data": {
            "text/plain": [
              "0.3504638671875009"
            ]
          },
          "metadata": {
            "tags": []
          },
          "execution_count": 6
        }
      ]
    },
    {
      "cell_type": "markdown",
      "metadata": {
        "id": "VUyC2VwKqKK-",
        "colab_type": "text"
      },
      "source": [
        "### Задание 2"
      ]
    },
    {
      "cell_type": "markdown",
      "metadata": {
        "id": "mH5iagjIqKK_",
        "colab_type": "text"
      },
      "source": [
        "Создайте свою дискретную случайную величину с не менее, чем 10 значениями. Просемплируйте 1000 случайных значений, постройте гистограмму плотности распределения по выборке, посчитайте среднее, дисперсию и медиану."
      ]
    },
    {
      "cell_type": "markdown",
      "metadata": {
        "id": "29h03IDtdmhV",
        "colab_type": "text"
      },
      "source": [
        "10 подбрасываний кости с 6 гранями от 1 до 6\n"
      ]
    },
    {
      "cell_type": "code",
      "metadata": {
        "id": "NwfBF1QgfoML",
        "colab_type": "code",
        "outputId": "49d88274-1f24-4917-fe42-ad843a0225ad",
        "colab": {
          "base_uri": "https://localhost:8080/",
          "height": 330
        }
      },
      "source": [
        "data=binom.rvs(n=60,p=1/6,size=1000)\n",
        "ax=seaborn.distplot(data,\n",
        "                kde=True,\n",
        "                color='pink',\n",
        "                hist_kws={\"linewidth\": 22,'alpha':0.77})\n",
        "ax.set(xlabel='Binomial',ylabel='Frequency')\n",
        "print('mean',data.mean())\n",
        "print('std',data.std())\n",
        "print('median',np.median(data))"
      ],
      "execution_count": 0,
      "outputs": [
        {
          "output_type": "stream",
          "text": [
            "mean 9.774\n",
            "std 2.7653072162058234\n",
            "median 10.0\n"
          ],
          "name": "stdout"
        },
        {
          "output_type": "display_data",
          "data": {
            "image/png": "[encoded data removed]",
            "text/plain": [
              "<Figure size 432x288 with 1 Axes>"
            ]
          },
          "metadata": {
            "tags": []
          }
        }
      ]
    },
    {
      "cell_type": "markdown",
      "metadata": {
        "id": "c3-hheHWqKK_",
        "colab_type": "text"
      },
      "source": [
        "### Задание 3"
      ]
    },
    {
      "cell_type": "markdown",
      "metadata": {
        "id": "fiEvpS5uqKLA",
        "colab_type": "text"
      },
      "source": [
        "Задача с 17-го слайда лекции про 3 монеты. Покажите, почему 3 события являются попарно независимыми, но <b>не</b> являются независимыми в совокупности."
      ]
    },
    {
      "cell_type": "markdown",
      "metadata": {
        "id": "q_hjH8x6eQOy",
        "colab_type": "text"
      },
      "source": [
        "$P(A1UA2) = P(A1) * P(A2)$ - каждая пара отдельно независима\n",
        "\n",
        "$P(A2UA3) = P(A2) * P(A3)$\n",
        "\n",
        "$P(A1UA3) = P(A1) * P(A3)$  - но если первые 2 пары определились, то A2 в первой паре должна быть такой же как A2 во второй паре, что разрушает предположение что общая совокупность независима.\n",
        "В совокупности все монеты должны падать только одной стороной\n"
      ]
    },
    {
      "cell_type": "markdown",
      "metadata": {
        "id": "btCKM69kqKLB",
        "colab_type": "text"
      },
      "source": [
        "### Задание 4 (формула полной вероятности)"
      ]
    },
    {
      "cell_type": "markdown",
      "metadata": {
        "id": "TS-SPBn6qKLB",
        "colab_type": "text"
      },
      "source": [
        "В магазин привезли устройства с 3-х разных предприятий. Соотношение устройств следующее: 20% - продукция первого предприятия, 30% - продукция второго предприятия, 50% - продукция третьего предприятия; далее, 10% продукции первого предприятия высшего сорта, на втором предприятии - 5% и на третьем - 20% продукции высшего сорта. Найти вероятность того, что случайно купленная новая продукция окажется высшего сорта."
      ]
    },
    {
      "cell_type": "markdown",
      "metadata": {
        "id": "wPo4OenVA0Dl",
        "colab_type": "text"
      },
      "source": [
        "вероятность купить деталь первого завода 20%, а деталь первого завода и хороего качества - 20%*10% - 2%\n",
        "вероятность купить детать второго завода 30%, а деталь второго завода и хорошего качества - 30%*5% - 1,5%\n",
        "вероятность купить деталь третьего завода 50%, а деталь третьего завода и хороего качества - 50%*20% - 10%\n",
        "вероятность купить деталь хорошего качества - 2+ 1,5 + 10 = 13,5%\n",
        "Формула полной вероятности  \n",
        "и все вместе - это полная группа событий 11 слайд презентации\n"
      ]
    }
  ]
}